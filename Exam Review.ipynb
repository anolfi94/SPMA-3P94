{
 "cells": [
  {
   "cell_type": "code",
   "execution_count": 9,
   "id": "3a9af353",
   "metadata": {},
   "outputs": [
    {
     "data": {
      "text/html": [
       "<table>\n",
       "<thead><tr><th scope=col>Price</th><th scope=col>BoatType</th><th scope=col>Manufacturer</th><th scope=col>Type</th><th scope=col>YearBuilt</th><th scope=col>Length</th><th scope=col>Width</th><th scope=col>Material</th><th scope=col>ViewsLast7Days</th></tr></thead>\n",
       "<tbody>\n",
       "\t<tr><td>CHF 3337            </td><td>Motor Yacht         </td><td>Rigiflex power boats</td><td>new boat from stock </td><td>2017                </td><td>4.00                </td><td>1.90                </td><td>                    </td><td>226                 </td></tr>\n",
       "\t<tr><td>EUR 3490            </td><td>Center console boat </td><td>Terhi power boats   </td><td>new boat from stock </td><td>2020                </td><td>4.00                </td><td>1.50                </td><td>Thermoplastic       </td><td> 75                 </td></tr>\n",
       "\t<tr><td>CHF 3770            </td><td>Sport Boat          </td><td>Marine power boats  </td><td>new boat from stock </td><td>   0                </td><td>3.69                </td><td>1.42                </td><td>Aluminium           </td><td>124                 </td></tr>\n",
       "\t<tr><td>DKK 25900           </td><td>Sport Boat          </td><td>Pioner power boats  </td><td>new boat from stock </td><td>2020                </td><td>3.00                </td><td>1.00                </td><td>                    </td><td> 64                 </td></tr>\n",
       "\t<tr><td>EUR 3399            </td><td>Fishing Boat        </td><td>Linder power boats  </td><td>new boat from stock </td><td>2019                </td><td>3.55                </td><td>1.46                </td><td>Aluminium           </td><td> 58                 </td></tr>\n",
       "\t<tr><td>CHF 3650            </td><td>Sport Boat          </td><td>Linder power boats  </td><td>new boat from stock </td><td>   0                </td><td>4.03                </td><td>1.56                </td><td>Aluminium           </td><td>132                 </td></tr>\n",
       "</tbody>\n",
       "</table>\n"
      ],
      "text/latex": [
       "\\begin{tabular}{r|lllllllll}\n",
       " Price & BoatType & Manufacturer & Type & YearBuilt & Length & Width & Material & ViewsLast7Days\\\\\n",
       "\\hline\n",
       "\t CHF 3337             & Motor Yacht          & Rigiflex power boats & new boat from stock  & 2017                 & 4.00                 & 1.90                 &                      & 226                 \\\\\n",
       "\t EUR 3490             & Center console boat  & Terhi power boats    & new boat from stock  & 2020                 & 4.00                 & 1.50                 & Thermoplastic        &  75                 \\\\\n",
       "\t CHF 3770             & Sport Boat           & Marine power boats   & new boat from stock  &    0                 & 3.69                 & 1.42                 & Aluminium            & 124                 \\\\\n",
       "\t DKK 25900            & Sport Boat           & Pioner power boats   & new boat from stock  & 2020                 & 3.00                 & 1.00                 &                      &  64                 \\\\\n",
       "\t EUR 3399             & Fishing Boat         & Linder power boats   & new boat from stock  & 2019                 & 3.55                 & 1.46                 & Aluminium            &  58                 \\\\\n",
       "\t CHF 3650             & Sport Boat           & Linder power boats   & new boat from stock  &    0                 & 4.03                 & 1.56                 & Aluminium            & 132                 \\\\\n",
       "\\end{tabular}\n"
      ],
      "text/markdown": [
       "\n",
       "| Price | BoatType | Manufacturer | Type | YearBuilt | Length | Width | Material | ViewsLast7Days |\n",
       "|---|---|---|---|---|---|---|---|---|\n",
       "| CHF 3337             | Motor Yacht          | Rigiflex power boats | new boat from stock  | 2017                 | 4.00                 | 1.90                 |                      | 226                  |\n",
       "| EUR 3490             | Center console boat  | Terhi power boats    | new boat from stock  | 2020                 | 4.00                 | 1.50                 | Thermoplastic        |  75                  |\n",
       "| CHF 3770             | Sport Boat           | Marine power boats   | new boat from stock  |    0                 | 3.69                 | 1.42                 | Aluminium            | 124                  |\n",
       "| DKK 25900            | Sport Boat           | Pioner power boats   | new boat from stock  | 2020                 | 3.00                 | 1.00                 |                      |  64                  |\n",
       "| EUR 3399             | Fishing Boat         | Linder power boats   | new boat from stock  | 2019                 | 3.55                 | 1.46                 | Aluminium            |  58                  |\n",
       "| CHF 3650             | Sport Boat           | Linder power boats   | new boat from stock  |    0                 | 4.03                 | 1.56                 | Aluminium            | 132                  |\n",
       "\n"
      ],
      "text/plain": [
       "  Price     BoatType            Manufacturer         Type               \n",
       "1 CHF 3337  Motor Yacht         Rigiflex power boats new boat from stock\n",
       "2 EUR 3490  Center console boat Terhi power boats    new boat from stock\n",
       "3 CHF 3770  Sport Boat          Marine power boats   new boat from stock\n",
       "4 DKK 25900 Sport Boat          Pioner power boats   new boat from stock\n",
       "5 EUR 3399  Fishing Boat        Linder power boats   new boat from stock\n",
       "6 CHF 3650  Sport Boat          Linder power boats   new boat from stock\n",
       "  YearBuilt Length Width Material      ViewsLast7Days\n",
       "1 2017      4.00   1.90                226           \n",
       "2 2020      4.00   1.50  Thermoplastic  75           \n",
       "3    0      3.69   1.42  Aluminium     124           \n",
       "4 2020      3.00   1.00                 64           \n",
       "5 2019      3.55   1.46  Aluminium      58           \n",
       "6    0      4.03   1.56  Aluminium     132           "
      ]
     },
     "metadata": {},
     "output_type": "display_data"
    }
   ],
   "source": [
    "#Import data\n",
    "df <- read.csv(\"PracticeData.csv\", stringsAsFactors=FALSE)\n",
    "head(df)"
   ]
  },
  {
   "cell_type": "code",
   "execution_count": null,
   "id": "57737d04",
   "metadata": {},
   "outputs": [],
   "source": [
    "#Subsetting Data Frame Examples"
   ]
  },
  {
   "cell_type": "code",
   "execution_count": 10,
   "id": "f17bf3c8",
   "metadata": {},
   "outputs": [
    {
     "data": {
      "text/html": [
       "<table>\n",
       "<thead><tr><th scope=col>YearBuilt</th><th scope=col>BoatType</th><th scope=col>ViewsLast7Days</th></tr></thead>\n",
       "<tbody>\n",
       "\t<tr><td>2017               </td><td>Motor Yacht        </td><td>226                </td></tr>\n",
       "\t<tr><td>2020               </td><td>Center console boat</td><td> 75                </td></tr>\n",
       "\t<tr><td>   0               </td><td>Sport Boat         </td><td>124                </td></tr>\n",
       "\t<tr><td>2020               </td><td>Sport Boat         </td><td> 64                </td></tr>\n",
       "\t<tr><td>2019               </td><td>Fishing Boat       </td><td> 58                </td></tr>\n",
       "\t<tr><td>   0               </td><td>Sport Boat         </td><td>132                </td></tr>\n",
       "</tbody>\n",
       "</table>\n"
      ],
      "text/latex": [
       "\\begin{tabular}{r|lll}\n",
       " YearBuilt & BoatType & ViewsLast7Days\\\\\n",
       "\\hline\n",
       "\t 2017                & Motor Yacht         & 226                \\\\\n",
       "\t 2020                & Center console boat &  75                \\\\\n",
       "\t    0                & Sport Boat          & 124                \\\\\n",
       "\t 2020                & Sport Boat          &  64                \\\\\n",
       "\t 2019                & Fishing Boat        &  58                \\\\\n",
       "\t    0                & Sport Boat          & 132                \\\\\n",
       "\\end{tabular}\n"
      ],
      "text/markdown": [
       "\n",
       "| YearBuilt | BoatType | ViewsLast7Days |\n",
       "|---|---|---|\n",
       "| 2017                | Motor Yacht         | 226                 |\n",
       "| 2020                | Center console boat |  75                 |\n",
       "|    0                | Sport Boat          | 124                 |\n",
       "| 2020                | Sport Boat          |  64                 |\n",
       "| 2019                | Fishing Boat        |  58                 |\n",
       "|    0                | Sport Boat          | 132                 |\n",
       "\n"
      ],
      "text/plain": [
       "  YearBuilt BoatType            ViewsLast7Days\n",
       "1 2017      Motor Yacht         226           \n",
       "2 2020      Center console boat  75           \n",
       "3    0      Sport Boat          124           \n",
       "4 2020      Sport Boat           64           \n",
       "5 2019      Fishing Boat         58           \n",
       "6    0      Sport Boat          132           "
      ]
     },
     "metadata": {},
     "output_type": "display_data"
    }
   ],
   "source": [
    "#Example 1, Method 1\n",
    "new_df <- df[ , c(\"YearBuilt\", \"BoatType\", \"ViewsLast7Days\")]\n",
    "head(new_df)"
   ]
  },
  {
   "cell_type": "code",
   "execution_count": 11,
   "id": "81cf1d03",
   "metadata": {},
   "outputs": [
    {
     "data": {
      "text/html": [
       "<table>\n",
       "<thead><tr><th scope=col>YearBuilt</th><th scope=col>BoatType</th><th scope=col>ViewsLast7Days</th></tr></thead>\n",
       "<tbody>\n",
       "\t<tr><td>2017               </td><td>Motor Yacht        </td><td>226                </td></tr>\n",
       "\t<tr><td>2020               </td><td>Center console boat</td><td> 75                </td></tr>\n",
       "\t<tr><td>   0               </td><td>Sport Boat         </td><td>124                </td></tr>\n",
       "\t<tr><td>2020               </td><td>Sport Boat         </td><td> 64                </td></tr>\n",
       "\t<tr><td>2019               </td><td>Fishing Boat       </td><td> 58                </td></tr>\n",
       "\t<tr><td>   0               </td><td>Sport Boat         </td><td>132                </td></tr>\n",
       "</tbody>\n",
       "</table>\n"
      ],
      "text/latex": [
       "\\begin{tabular}{r|lll}\n",
       " YearBuilt & BoatType & ViewsLast7Days\\\\\n",
       "\\hline\n",
       "\t 2017                & Motor Yacht         & 226                \\\\\n",
       "\t 2020                & Center console boat &  75                \\\\\n",
       "\t    0                & Sport Boat          & 124                \\\\\n",
       "\t 2020                & Sport Boat          &  64                \\\\\n",
       "\t 2019                & Fishing Boat        &  58                \\\\\n",
       "\t    0                & Sport Boat          & 132                \\\\\n",
       "\\end{tabular}\n"
      ],
      "text/markdown": [
       "\n",
       "| YearBuilt | BoatType | ViewsLast7Days |\n",
       "|---|---|---|\n",
       "| 2017                | Motor Yacht         | 226                 |\n",
       "| 2020                | Center console boat |  75                 |\n",
       "|    0                | Sport Boat          | 124                 |\n",
       "| 2020                | Sport Boat          |  64                 |\n",
       "| 2019                | Fishing Boat        |  58                 |\n",
       "|    0                | Sport Boat          | 132                 |\n",
       "\n"
      ],
      "text/plain": [
       "  YearBuilt BoatType            ViewsLast7Days\n",
       "1 2017      Motor Yacht         226           \n",
       "2 2020      Center console boat  75           \n",
       "3    0      Sport Boat          124           \n",
       "4 2020      Sport Boat           64           \n",
       "5 2019      Fishing Boat         58           \n",
       "6    0      Sport Boat          132           "
      ]
     },
     "metadata": {},
     "output_type": "display_data"
    }
   ],
   "source": [
    "#Example 1, Method 2\n",
    "new_df <- df[ , c(5, 2, 9)]\n",
    "head(new_df)"
   ]
  },
  {
   "cell_type": "code",
   "execution_count": 13,
   "id": "e18d2ff3",
   "metadata": {},
   "outputs": [
    {
     "data": {
      "text/html": [
       "'Terhi power boats'"
      ],
      "text/latex": [
       "'Terhi power boats'"
      ],
      "text/markdown": [
       "'Terhi power boats'"
      ],
      "text/plain": [
       "[1] \"Terhi power boats\""
      ]
     },
     "metadata": {},
     "output_type": "display_data"
    }
   ],
   "source": [
    "#Example 2\n",
    "my_df <- df[2, 3]\n",
    "my_df"
   ]
  },
  {
   "cell_type": "code",
   "execution_count": 16,
   "id": "521c2cdc",
   "metadata": {},
   "outputs": [
    {
     "data": {
      "text/html": [
       "<table>\n",
       "<thead><tr><th></th><th scope=col>Price</th><th scope=col>BoatType</th><th scope=col>Manufacturer</th><th scope=col>Type</th><th scope=col>YearBuilt</th><th scope=col>Length</th><th scope=col>Width</th><th scope=col>Material</th><th scope=col>ViewsLast7Days</th></tr></thead>\n",
       "<tbody>\n",
       "\t<tr><th scope=row>1</th><td>CHF 3337              </td><td>Motor Yacht           </td><td>Rigiflex power boats  </td><td>new boat from stock   </td><td>2017                  </td><td>4.00                  </td><td>1.90                  </td><td>                      </td><td>226                   </td></tr>\n",
       "\t<tr><th scope=row>3</th><td>CHF 3770              </td><td>Sport Boat            </td><td>Marine power boats    </td><td>new boat from stock   </td><td>   0                  </td><td>3.69                  </td><td>1.42                  </td><td>Aluminium             </td><td>124                   </td></tr>\n",
       "\t<tr><th scope=row>4</th><td>DKK 25900             </td><td>Sport Boat            </td><td>Pioner power boats    </td><td>new boat from stock   </td><td>2020                  </td><td>3.00                  </td><td>1.00                  </td><td>                      </td><td> 64                   </td></tr>\n",
       "\t<tr><th scope=row>6</th><td>CHF 3650              </td><td>Sport Boat            </td><td>Linder power boats    </td><td>new boat from stock   </td><td>   0                  </td><td>4.03                  </td><td>1.56                  </td><td>Aluminium             </td><td>132                   </td></tr>\n",
       "\t<tr><th scope=row>8</th><td>DKK 24800             </td><td>Sport Boat            </td><td>                      </td><td>Used boat             </td><td>   0                  </td><td>3.00                  </td><td>  NA                  </td><td>                      </td><td>134                   </td></tr>\n",
       "\t<tr><th scope=row>13</th><td>EUR 3500              </td><td>Sport Boat            </td><td>GS Nautica power boats</td><td>Used boat             </td><td>2004                  </td><td>4.70                  </td><td>2.00                  </td><td>GRP                   </td><td> 69                   </td></tr>\n",
       "</tbody>\n",
       "</table>\n"
      ],
      "text/latex": [
       "\\begin{tabular}{r|lllllllll}\n",
       "  & Price & BoatType & Manufacturer & Type & YearBuilt & Length & Width & Material & ViewsLast7Days\\\\\n",
       "\\hline\n",
       "\t1 & CHF 3337               & Motor Yacht            & Rigiflex power boats   & new boat from stock    & 2017                   & 4.00                   & 1.90                   &                        & 226                   \\\\\n",
       "\t3 & CHF 3770               & Sport Boat             & Marine power boats     & new boat from stock    &    0                   & 3.69                   & 1.42                   & Aluminium              & 124                   \\\\\n",
       "\t4 & DKK 25900              & Sport Boat             & Pioner power boats     & new boat from stock    & 2020                   & 3.00                   & 1.00                   &                        &  64                   \\\\\n",
       "\t6 & CHF 3650               & Sport Boat             & Linder power boats     & new boat from stock    &    0                   & 4.03                   & 1.56                   & Aluminium              & 132                   \\\\\n",
       "\t8 & DKK 24800              & Sport Boat             &                        & Used boat              &    0                   & 3.00                   &   NA                   &                        & 134                   \\\\\n",
       "\t13 & EUR 3500               & Sport Boat             & GS Nautica power boats & Used boat              & 2004                   & 4.70                   & 2.00                   & GRP                    &  69                   \\\\\n",
       "\\end{tabular}\n"
      ],
      "text/markdown": [
       "\n",
       "| <!--/--> | Price | BoatType | Manufacturer | Type | YearBuilt | Length | Width | Material | ViewsLast7Days |\n",
       "|---|---|---|---|---|---|---|---|---|---|\n",
       "| 1 | CHF 3337               | Motor Yacht            | Rigiflex power boats   | new boat from stock    | 2017                   | 4.00                   | 1.90                   |                        | 226                    |\n",
       "| 3 | CHF 3770               | Sport Boat             | Marine power boats     | new boat from stock    |    0                   | 3.69                   | 1.42                   | Aluminium              | 124                    |\n",
       "| 4 | DKK 25900              | Sport Boat             | Pioner power boats     | new boat from stock    | 2020                   | 3.00                   | 1.00                   |                        |  64                    |\n",
       "| 6 | CHF 3650               | Sport Boat             | Linder power boats     | new boat from stock    |    0                   | 4.03                   | 1.56                   | Aluminium              | 132                    |\n",
       "| 8 | DKK 24800              | Sport Boat             |                        | Used boat              |    0                   | 3.00                   |   NA                   |                        | 134                    |\n",
       "| 13 | EUR 3500               | Sport Boat             | GS Nautica power boats | Used boat              | 2004                   | 4.70                   | 2.00                   | GRP                    |  69                    |\n",
       "\n"
      ],
      "text/plain": [
       "   Price     BoatType    Manufacturer           Type                YearBuilt\n",
       "1  CHF 3337  Motor Yacht Rigiflex power boats   new boat from stock 2017     \n",
       "3  CHF 3770  Sport Boat  Marine power boats     new boat from stock    0     \n",
       "4  DKK 25900 Sport Boat  Pioner power boats     new boat from stock 2020     \n",
       "6  CHF 3650  Sport Boat  Linder power boats     new boat from stock    0     \n",
       "8  DKK 24800 Sport Boat                         Used boat              0     \n",
       "13 EUR 3500  Sport Boat  GS Nautica power boats Used boat           2004     \n",
       "   Length Width Material  ViewsLast7Days\n",
       "1  4.00   1.90            226           \n",
       "3  3.69   1.42  Aluminium 124           \n",
       "4  3.00   1.00             64           \n",
       "6  4.03   1.56  Aluminium 132           \n",
       "8  3.00     NA            134           \n",
       "13 4.70   2.00  GRP        69           "
      ]
     },
     "metadata": {},
     "output_type": "display_data"
    }
   ],
   "source": [
    "#Example 3\n",
    "df_3 <- df[df$BoatType==\"Motor Yacht\" | df$BoatType==\"Sport Boat\", ]\n",
    "head(df_3)"
   ]
  },
  {
   "cell_type": "code",
   "execution_count": 18,
   "id": "6a3310c1",
   "metadata": {},
   "outputs": [
    {
     "data": {
      "text/html": [
       "<ol class=list-inline>\n",
       "\t<li>'Motor Yacht'</li>\n",
       "\t<li>'Sport Boat'</li>\n",
       "</ol>\n"
      ],
      "text/latex": [
       "\\begin{enumerate*}\n",
       "\\item 'Motor Yacht'\n",
       "\\item 'Sport Boat'\n",
       "\\end{enumerate*}\n"
      ],
      "text/markdown": [
       "1. 'Motor Yacht'\n",
       "2. 'Sport Boat'\n",
       "\n",
       "\n"
      ],
      "text/plain": [
       "[1] \"Motor Yacht\" \"Sport Boat\" "
      ]
     },
     "metadata": {},
     "output_type": "display_data"
    }
   ],
   "source": [
    "#Confirm that df_3 contains only \"Motor Yacht\" and \"Sport Boat\"\n",
    "unique(df_3$BoatType)"
   ]
  },
  {
   "cell_type": "code",
   "execution_count": 22,
   "id": "3149191c",
   "metadata": {},
   "outputs": [
    {
     "data": {
      "text/html": [
       "<table>\n",
       "<thead><tr><th></th><th scope=col>Price</th><th scope=col>BoatType</th><th scope=col>Manufacturer</th><th scope=col>Type</th><th scope=col>YearBuilt</th><th scope=col>Length</th><th scope=col>Width</th><th scope=col>Material</th><th scope=col>ViewsLast7Days</th></tr></thead>\n",
       "<tbody>\n",
       "\t<tr><th scope=row>1</th><td>CHF 3337              </td><td>Motor Yacht           </td><td>Rigiflex power boats  </td><td>new boat from stock   </td><td>2017                  </td><td>4.00                  </td><td>1.90                  </td><td>                      </td><td>226                   </td></tr>\n",
       "\t<tr><th scope=row>17</th><td>CHF 4380              </td><td>Sport Boat            </td><td>Linder power boats    </td><td>new boat from stock   </td><td>   0                  </td><td>4.31                  </td><td>1.64                  </td><td>Aluminium             </td><td>462                   </td></tr>\n",
       "\t<tr><th scope=row>31</th><td>CHF 3950              </td><td>Sport Boat            </td><td>MÃƒÂ¤ndli power boats </td><td>Used boat             </td><td>1996                  </td><td>4.84                  </td><td>1.58                  </td><td>GRP                   </td><td>202                   </td></tr>\n",
       "\t<tr><th scope=row>32</th><td>CHF 3900              </td><td>Sport Boat            </td><td>                      </td><td>Used boat,Unleaded    </td><td>1972                  </td><td>5.05                  </td><td>1.90                  </td><td>GRP                   </td><td>423                   </td></tr>\n",
       "\t<tr><th scope=row>47</th><td>CHF 5900              </td><td>Sport Boat            </td><td>Skibsplast power boats</td><td>Used boat             </td><td>1980                  </td><td>5.85                  </td><td>2.23                  </td><td>GRP                   </td><td>543                   </td></tr>\n",
       "\t<tr><th scope=row>49</th><td>CHF 5850              </td><td>Sport Boat            </td><td>Marine power boats    </td><td>new boat from stock   </td><td>   0                  </td><td>4.45                  </td><td>1.67                  </td><td>Aluminium             </td><td>219                   </td></tr>\n",
       "</tbody>\n",
       "</table>\n"
      ],
      "text/latex": [
       "\\begin{tabular}{r|lllllllll}\n",
       "  & Price & BoatType & Manufacturer & Type & YearBuilt & Length & Width & Material & ViewsLast7Days\\\\\n",
       "\\hline\n",
       "\t1 & CHF 3337               & Motor Yacht            & Rigiflex power boats   & new boat from stock    & 2017                   & 4.00                   & 1.90                   &                        & 226                   \\\\\n",
       "\t17 & CHF 4380               & Sport Boat             & Linder power boats     & new boat from stock    &    0                   & 4.31                   & 1.64                   & Aluminium              & 462                   \\\\\n",
       "\t31 & CHF 3950               & Sport Boat             & MÃƒÂ¤ndli power boats  & Used boat              & 1996                   & 4.84                   & 1.58                   & GRP                    & 202                   \\\\\n",
       "\t32 & CHF 3900               & Sport Boat             &                        & Used boat,Unleaded     & 1972                   & 5.05                   & 1.90                   & GRP                    & 423                   \\\\\n",
       "\t47 & CHF 5900               & Sport Boat             & Skibsplast power boats & Used boat              & 1980                   & 5.85                   & 2.23                   & GRP                    & 543                   \\\\\n",
       "\t49 & CHF 5850               & Sport Boat             & Marine power boats     & new boat from stock    &    0                   & 4.45                   & 1.67                   & Aluminium              & 219                   \\\\\n",
       "\\end{tabular}\n"
      ],
      "text/markdown": [
       "\n",
       "| <!--/--> | Price | BoatType | Manufacturer | Type | YearBuilt | Length | Width | Material | ViewsLast7Days |\n",
       "|---|---|---|---|---|---|---|---|---|---|\n",
       "| 1 | CHF 3337               | Motor Yacht            | Rigiflex power boats   | new boat from stock    | 2017                   | 4.00                   | 1.90                   |                        | 226                    |\n",
       "| 17 | CHF 4380               | Sport Boat             | Linder power boats     | new boat from stock    |    0                   | 4.31                   | 1.64                   | Aluminium              | 462                    |\n",
       "| 31 | CHF 3950               | Sport Boat             | MÃƒÂ¤ndli power boats  | Used boat              | 1996                   | 4.84                   | 1.58                   | GRP                    | 202                    |\n",
       "| 32 | CHF 3900               | Sport Boat             |                        | Used boat,Unleaded     | 1972                   | 5.05                   | 1.90                   | GRP                    | 423                    |\n",
       "| 47 | CHF 5900               | Sport Boat             | Skibsplast power boats | Used boat              | 1980                   | 5.85                   | 2.23                   | GRP                    | 543                    |\n",
       "| 49 | CHF 5850               | Sport Boat             | Marine power boats     | new boat from stock    |    0                   | 4.45                   | 1.67                   | Aluminium              | 219                    |\n",
       "\n"
      ],
      "text/plain": [
       "   Price    BoatType    Manufacturer           Type                YearBuilt\n",
       "1  CHF 3337 Motor Yacht Rigiflex power boats   new boat from stock 2017     \n",
       "17 CHF 4380 Sport Boat  Linder power boats     new boat from stock    0     \n",
       "31 CHF 3950 Sport Boat  MÃƒÂ¤ndli power boats  Used boat           1996     \n",
       "32 CHF 3900 Sport Boat                         Used boat,Unleaded  1972     \n",
       "47 CHF 5900 Sport Boat  Skibsplast power boats Used boat           1980     \n",
       "49 CHF 5850 Sport Boat  Marine power boats     new boat from stock    0     \n",
       "   Length Width Material  ViewsLast7Days\n",
       "1  4.00   1.90            226           \n",
       "17 4.31   1.64  Aluminium 462           \n",
       "31 4.84   1.58  GRP       202           \n",
       "32 5.05   1.90  GRP       423           \n",
       "47 5.85   2.23  GRP       543           \n",
       "49 4.45   1.67  Aluminium 219           "
      ]
     },
     "metadata": {},
     "output_type": "display_data"
    }
   ],
   "source": [
    "#Example 4\n",
    "df_4 <- df[(df$BoatType==\"Motor Yacht\" | df$BoatType==\"Sport Boat\")&(df$ViewsLast7Days >= 200), ]\n",
    "head(df_4)"
   ]
  },
  {
   "cell_type": "code",
   "execution_count": 23,
   "id": "22c32484",
   "metadata": {},
   "outputs": [
    {
     "data": {
      "text/html": [
       "<ol class=list-inline>\n",
       "\t<li>'Motor Yacht'</li>\n",
       "\t<li>'Sport Boat'</li>\n",
       "</ol>\n"
      ],
      "text/latex": [
       "\\begin{enumerate*}\n",
       "\\item 'Motor Yacht'\n",
       "\\item 'Sport Boat'\n",
       "\\end{enumerate*}\n"
      ],
      "text/markdown": [
       "1. 'Motor Yacht'\n",
       "2. 'Sport Boat'\n",
       "\n",
       "\n"
      ],
      "text/plain": [
       "[1] \"Motor Yacht\" \"Sport Boat\" "
      ]
     },
     "metadata": {},
     "output_type": "display_data"
    }
   ],
   "source": [
    "#Confirm that df_4 contains only \"Motor Yacht\" and \"Sport Boat\"\n",
    "unique(df_4$BoatType)"
   ]
  },
  {
   "cell_type": "code",
   "execution_count": 24,
   "id": "b9d02e70",
   "metadata": {},
   "outputs": [
    {
     "data": {
      "text/html": [
       "200"
      ],
      "text/latex": [
       "200"
      ],
      "text/markdown": [
       "200"
      ],
      "text/plain": [
       "[1] 200"
      ]
     },
     "metadata": {},
     "output_type": "display_data"
    }
   ],
   "source": [
    "#Confirm that df_4 contains only rows with views >= 200\n",
    "min(df_4$ViewsLast7Days)"
   ]
  },
  {
   "cell_type": "code",
   "execution_count": 25,
   "id": "a359b958",
   "metadata": {},
   "outputs": [
    {
     "data": {
      "text/html": [
       "<table>\n",
       "<thead><tr><th></th><th scope=col>Price</th><th scope=col>BoatType</th><th scope=col>Manufacturer</th><th scope=col>Type</th><th scope=col>YearBuilt</th><th scope=col>Length</th><th scope=col>Width</th><th scope=col>Material</th><th scope=col>ViewsLast7Days</th></tr></thead>\n",
       "<tbody>\n",
       "\t<tr><th scope=row>1</th><td>CHF 3337             </td><td>Motor Yacht          </td><td>Rigiflex power boats </td><td>new boat from stock  </td><td>2017                 </td><td>4.00                 </td><td>1.90                 </td><td>                     </td><td>226                  </td></tr>\n",
       "\t<tr><th scope=row>31</th><td>CHF 3950             </td><td>Sport Boat           </td><td>MÃƒÂ¤ndli power boats</td><td>Used boat            </td><td>1996                 </td><td>4.84                 </td><td>1.58                 </td><td>GRP                  </td><td>202                  </td></tr>\n",
       "\t<tr><th scope=row>44</th><td>EUR 5500             </td><td>Sport Boat           </td><td>Corsiva power boats  </td><td>new boat from stock  </td><td>2018                 </td><td>5.20                 </td><td>2.20                 </td><td>GRP                  </td><td>186                  </td></tr>\n",
       "\t<tr><th scope=row>49</th><td>CHF 5850             </td><td>Sport Boat           </td><td>Marine power boats   </td><td>new boat from stock  </td><td>   0                 </td><td>4.45                 </td><td>1.67                 </td><td>Aluminium            </td><td>219                  </td></tr>\n",
       "\t<tr><th scope=row>53</th><td>EUR 5250             </td><td>Sport Boat           </td><td>                     </td><td>Used boat,Unleaded   </td><td>1993                 </td><td>4.50                 </td><td>1.90                 </td><td>GRP                  </td><td>178                  </td></tr>\n",
       "\t<tr><th scope=row>57</th><td>CHF 7290             </td><td>Sport Boat           </td><td>Linder power boats   </td><td>new boat from stock  </td><td>   0                 </td><td>4.51                 </td><td>1.75                 </td><td>Aluminium            </td><td>195                  </td></tr>\n",
       "</tbody>\n",
       "</table>\n"
      ],
      "text/latex": [
       "\\begin{tabular}{r|lllllllll}\n",
       "  & Price & BoatType & Manufacturer & Type & YearBuilt & Length & Width & Material & ViewsLast7Days\\\\\n",
       "\\hline\n",
       "\t1 & CHF 3337              & Motor Yacht           & Rigiflex power boats  & new boat from stock   & 2017                  & 4.00                  & 1.90                  &                       & 226                  \\\\\n",
       "\t31 & CHF 3950              & Sport Boat            & MÃƒÂ¤ndli power boats & Used boat             & 1996                  & 4.84                  & 1.58                  & GRP                   & 202                  \\\\\n",
       "\t44 & EUR 5500              & Sport Boat            & Corsiva power boats   & new boat from stock   & 2018                  & 5.20                  & 2.20                  & GRP                   & 186                  \\\\\n",
       "\t49 & CHF 5850              & Sport Boat            & Marine power boats    & new boat from stock   &    0                  & 4.45                  & 1.67                  & Aluminium             & 219                  \\\\\n",
       "\t53 & EUR 5250              & Sport Boat            &                       & Used boat,Unleaded    & 1993                  & 4.50                  & 1.90                  & GRP                   & 178                  \\\\\n",
       "\t57 & CHF 7290              & Sport Boat            & Linder power boats    & new boat from stock   &    0                  & 4.51                  & 1.75                  & Aluminium             & 195                  \\\\\n",
       "\\end{tabular}\n"
      ],
      "text/markdown": [
       "\n",
       "| <!--/--> | Price | BoatType | Manufacturer | Type | YearBuilt | Length | Width | Material | ViewsLast7Days |\n",
       "|---|---|---|---|---|---|---|---|---|---|\n",
       "| 1 | CHF 3337              | Motor Yacht           | Rigiflex power boats  | new boat from stock   | 2017                  | 4.00                  | 1.90                  |                       | 226                   |\n",
       "| 31 | CHF 3950              | Sport Boat            | MÃƒÂ¤ndli power boats | Used boat             | 1996                  | 4.84                  | 1.58                  | GRP                   | 202                   |\n",
       "| 44 | EUR 5500              | Sport Boat            | Corsiva power boats   | new boat from stock   | 2018                  | 5.20                  | 2.20                  | GRP                   | 186                   |\n",
       "| 49 | CHF 5850              | Sport Boat            | Marine power boats    | new boat from stock   |    0                  | 4.45                  | 1.67                  | Aluminium             | 219                   |\n",
       "| 53 | EUR 5250              | Sport Boat            |                       | Used boat,Unleaded    | 1993                  | 4.50                  | 1.90                  | GRP                   | 178                   |\n",
       "| 57 | CHF 7290              | Sport Boat            | Linder power boats    | new boat from stock   |    0                  | 4.51                  | 1.75                  | Aluminium             | 195                   |\n",
       "\n"
      ],
      "text/plain": [
       "   Price    BoatType    Manufacturer          Type                YearBuilt\n",
       "1  CHF 3337 Motor Yacht Rigiflex power boats  new boat from stock 2017     \n",
       "31 CHF 3950 Sport Boat  MÃƒÂ¤ndli power boats Used boat           1996     \n",
       "44 EUR 5500 Sport Boat  Corsiva power boats   new boat from stock 2018     \n",
       "49 CHF 5850 Sport Boat  Marine power boats    new boat from stock    0     \n",
       "53 EUR 5250 Sport Boat                        Used boat,Unleaded  1993     \n",
       "57 CHF 7290 Sport Boat  Linder power boats    new boat from stock    0     \n",
       "   Length Width Material  ViewsLast7Days\n",
       "1  4.00   1.90            226           \n",
       "31 4.84   1.58  GRP       202           \n",
       "44 5.20   2.20  GRP       186           \n",
       "49 4.45   1.67  Aluminium 219           \n",
       "53 4.50   1.90  GRP       178           \n",
       "57 4.51   1.75  Aluminium 195           "
      ]
     },
     "metadata": {},
     "output_type": "display_data"
    }
   ],
   "source": [
    "#Example 5\n",
    "df_5 <- df[(df$BoatType==\"Motor Yacht\" | df$BoatType==\"Sport Boat\")&(df$ViewsLast7Days>=150 & df$ViewsLast7Days<=250), ]\n",
    "head(df_5)"
   ]
  },
  {
   "cell_type": "code",
   "execution_count": 27,
   "id": "47b4d62f",
   "metadata": {},
   "outputs": [
    {
     "name": "stdout",
     "output_type": "stream",
     "text": [
      "[1] \"150 250\"\n"
     ]
    }
   ],
   "source": [
    "#Confirm that the new condition worked\n",
    "print(paste(min(df_5$ViewsLast7Days), max(df_5$ViewsLast7Days)))"
   ]
  },
  {
   "cell_type": "code",
   "execution_count": null,
   "id": "2b4e7fcb",
   "metadata": {},
   "outputs": [],
   "source": [
    "#Coumn Creation Examples"
   ]
  },
  {
   "cell_type": "code",
   "execution_count": 28,
   "id": "3e686267",
   "metadata": {},
   "outputs": [
    {
     "data": {
      "text/html": [
       "<table>\n",
       "<thead><tr><th scope=col>Price</th><th scope=col>BoatType</th><th scope=col>Manufacturer</th><th scope=col>Type</th><th scope=col>YearBuilt</th><th scope=col>Length</th><th scope=col>Width</th><th scope=col>Material</th><th scope=col>ViewsLast7Days</th><th scope=col>TypeCopy</th></tr></thead>\n",
       "<tbody>\n",
       "\t<tr><td>CHF 3337            </td><td>Motor Yacht         </td><td>Rigiflex power boats</td><td>new boat from stock </td><td>2017                </td><td>4.00                </td><td>1.90                </td><td>                    </td><td>226                 </td><td>new boat from stock </td></tr>\n",
       "\t<tr><td>EUR 3490            </td><td>Center console boat </td><td>Terhi power boats   </td><td>new boat from stock </td><td>2020                </td><td>4.00                </td><td>1.50                </td><td>Thermoplastic       </td><td> 75                 </td><td>new boat from stock </td></tr>\n",
       "\t<tr><td>CHF 3770            </td><td>Sport Boat          </td><td>Marine power boats  </td><td>new boat from stock </td><td>   0                </td><td>3.69                </td><td>1.42                </td><td>Aluminium           </td><td>124                 </td><td>new boat from stock </td></tr>\n",
       "\t<tr><td>DKK 25900           </td><td>Sport Boat          </td><td>Pioner power boats  </td><td>new boat from stock </td><td>2020                </td><td>3.00                </td><td>1.00                </td><td>                    </td><td> 64                 </td><td>new boat from stock </td></tr>\n",
       "\t<tr><td>EUR 3399            </td><td>Fishing Boat        </td><td>Linder power boats  </td><td>new boat from stock </td><td>2019                </td><td>3.55                </td><td>1.46                </td><td>Aluminium           </td><td> 58                 </td><td>new boat from stock </td></tr>\n",
       "\t<tr><td>CHF 3650            </td><td>Sport Boat          </td><td>Linder power boats  </td><td>new boat from stock </td><td>   0                </td><td>4.03                </td><td>1.56                </td><td>Aluminium           </td><td>132                 </td><td>new boat from stock </td></tr>\n",
       "</tbody>\n",
       "</table>\n"
      ],
      "text/latex": [
       "\\begin{tabular}{r|llllllllll}\n",
       " Price & BoatType & Manufacturer & Type & YearBuilt & Length & Width & Material & ViewsLast7Days & TypeCopy\\\\\n",
       "\\hline\n",
       "\t CHF 3337             & Motor Yacht          & Rigiflex power boats & new boat from stock  & 2017                 & 4.00                 & 1.90                 &                      & 226                  & new boat from stock \\\\\n",
       "\t EUR 3490             & Center console boat  & Terhi power boats    & new boat from stock  & 2020                 & 4.00                 & 1.50                 & Thermoplastic        &  75                  & new boat from stock \\\\\n",
       "\t CHF 3770             & Sport Boat           & Marine power boats   & new boat from stock  &    0                 & 3.69                 & 1.42                 & Aluminium            & 124                  & new boat from stock \\\\\n",
       "\t DKK 25900            & Sport Boat           & Pioner power boats   & new boat from stock  & 2020                 & 3.00                 & 1.00                 &                      &  64                  & new boat from stock \\\\\n",
       "\t EUR 3399             & Fishing Boat         & Linder power boats   & new boat from stock  & 2019                 & 3.55                 & 1.46                 & Aluminium            &  58                  & new boat from stock \\\\\n",
       "\t CHF 3650             & Sport Boat           & Linder power boats   & new boat from stock  &    0                 & 4.03                 & 1.56                 & Aluminium            & 132                  & new boat from stock \\\\\n",
       "\\end{tabular}\n"
      ],
      "text/markdown": [
       "\n",
       "| Price | BoatType | Manufacturer | Type | YearBuilt | Length | Width | Material | ViewsLast7Days | TypeCopy |\n",
       "|---|---|---|---|---|---|---|---|---|---|\n",
       "| CHF 3337             | Motor Yacht          | Rigiflex power boats | new boat from stock  | 2017                 | 4.00                 | 1.90                 |                      | 226                  | new boat from stock  |\n",
       "| EUR 3490             | Center console boat  | Terhi power boats    | new boat from stock  | 2020                 | 4.00                 | 1.50                 | Thermoplastic        |  75                  | new boat from stock  |\n",
       "| CHF 3770             | Sport Boat           | Marine power boats   | new boat from stock  |    0                 | 3.69                 | 1.42                 | Aluminium            | 124                  | new boat from stock  |\n",
       "| DKK 25900            | Sport Boat           | Pioner power boats   | new boat from stock  | 2020                 | 3.00                 | 1.00                 |                      |  64                  | new boat from stock  |\n",
       "| EUR 3399             | Fishing Boat         | Linder power boats   | new boat from stock  | 2019                 | 3.55                 | 1.46                 | Aluminium            |  58                  | new boat from stock  |\n",
       "| CHF 3650             | Sport Boat           | Linder power boats   | new boat from stock  |    0                 | 4.03                 | 1.56                 | Aluminium            | 132                  | new boat from stock  |\n",
       "\n"
      ],
      "text/plain": [
       "  Price     BoatType            Manufacturer         Type               \n",
       "1 CHF 3337  Motor Yacht         Rigiflex power boats new boat from stock\n",
       "2 EUR 3490  Center console boat Terhi power boats    new boat from stock\n",
       "3 CHF 3770  Sport Boat          Marine power boats   new boat from stock\n",
       "4 DKK 25900 Sport Boat          Pioner power boats   new boat from stock\n",
       "5 EUR 3399  Fishing Boat        Linder power boats   new boat from stock\n",
       "6 CHF 3650  Sport Boat          Linder power boats   new boat from stock\n",
       "  YearBuilt Length Width Material      ViewsLast7Days TypeCopy           \n",
       "1 2017      4.00   1.90                226            new boat from stock\n",
       "2 2020      4.00   1.50  Thermoplastic  75            new boat from stock\n",
       "3    0      3.69   1.42  Aluminium     124            new boat from stock\n",
       "4 2020      3.00   1.00                 64            new boat from stock\n",
       "5 2019      3.55   1.46  Aluminium      58            new boat from stock\n",
       "6    0      4.03   1.56  Aluminium     132            new boat from stock"
      ]
     },
     "metadata": {},
     "output_type": "display_data"
    }
   ],
   "source": [
    "#Example 1\n",
    "df$TypeCopy <- df$Type\n",
    "head(df)"
   ]
  },
  {
   "cell_type": "code",
   "execution_count": 29,
   "id": "d36831e1",
   "metadata": {},
   "outputs": [
    {
     "data": {
      "text/html": [
       "<table>\n",
       "<thead><tr><th scope=col>Price</th><th scope=col>BoatType</th><th scope=col>Manufacturer</th><th scope=col>Type</th><th scope=col>YearBuilt</th><th scope=col>Length</th><th scope=col>Width</th><th scope=col>Material</th><th scope=col>ViewsLast7Days</th><th scope=col>TypeCopy</th><th scope=col>ViewsTimes2</th></tr></thead>\n",
       "<tbody>\n",
       "\t<tr><td>CHF 3337            </td><td>Motor Yacht         </td><td>Rigiflex power boats</td><td>new boat from stock </td><td>2017                </td><td>4.00                </td><td>1.90                </td><td>                    </td><td>226                 </td><td>new boat from stock </td><td>452                 </td></tr>\n",
       "\t<tr><td>EUR 3490            </td><td>Center console boat </td><td>Terhi power boats   </td><td>new boat from stock </td><td>2020                </td><td>4.00                </td><td>1.50                </td><td>Thermoplastic       </td><td> 75                 </td><td>new boat from stock </td><td>150                 </td></tr>\n",
       "\t<tr><td>CHF 3770            </td><td>Sport Boat          </td><td>Marine power boats  </td><td>new boat from stock </td><td>   0                </td><td>3.69                </td><td>1.42                </td><td>Aluminium           </td><td>124                 </td><td>new boat from stock </td><td>248                 </td></tr>\n",
       "\t<tr><td>DKK 25900           </td><td>Sport Boat          </td><td>Pioner power boats  </td><td>new boat from stock </td><td>2020                </td><td>3.00                </td><td>1.00                </td><td>                    </td><td> 64                 </td><td>new boat from stock </td><td>128                 </td></tr>\n",
       "\t<tr><td>EUR 3399            </td><td>Fishing Boat        </td><td>Linder power boats  </td><td>new boat from stock </td><td>2019                </td><td>3.55                </td><td>1.46                </td><td>Aluminium           </td><td> 58                 </td><td>new boat from stock </td><td>116                 </td></tr>\n",
       "\t<tr><td>CHF 3650            </td><td>Sport Boat          </td><td>Linder power boats  </td><td>new boat from stock </td><td>   0                </td><td>4.03                </td><td>1.56                </td><td>Aluminium           </td><td>132                 </td><td>new boat from stock </td><td>264                 </td></tr>\n",
       "</tbody>\n",
       "</table>\n"
      ],
      "text/latex": [
       "\\begin{tabular}{r|lllllllllll}\n",
       " Price & BoatType & Manufacturer & Type & YearBuilt & Length & Width & Material & ViewsLast7Days & TypeCopy & ViewsTimes2\\\\\n",
       "\\hline\n",
       "\t CHF 3337             & Motor Yacht          & Rigiflex power boats & new boat from stock  & 2017                 & 4.00                 & 1.90                 &                      & 226                  & new boat from stock  & 452                 \\\\\n",
       "\t EUR 3490             & Center console boat  & Terhi power boats    & new boat from stock  & 2020                 & 4.00                 & 1.50                 & Thermoplastic        &  75                  & new boat from stock  & 150                 \\\\\n",
       "\t CHF 3770             & Sport Boat           & Marine power boats   & new boat from stock  &    0                 & 3.69                 & 1.42                 & Aluminium            & 124                  & new boat from stock  & 248                 \\\\\n",
       "\t DKK 25900            & Sport Boat           & Pioner power boats   & new boat from stock  & 2020                 & 3.00                 & 1.00                 &                      &  64                  & new boat from stock  & 128                 \\\\\n",
       "\t EUR 3399             & Fishing Boat         & Linder power boats   & new boat from stock  & 2019                 & 3.55                 & 1.46                 & Aluminium            &  58                  & new boat from stock  & 116                 \\\\\n",
       "\t CHF 3650             & Sport Boat           & Linder power boats   & new boat from stock  &    0                 & 4.03                 & 1.56                 & Aluminium            & 132                  & new boat from stock  & 264                 \\\\\n",
       "\\end{tabular}\n"
      ],
      "text/markdown": [
       "\n",
       "| Price | BoatType | Manufacturer | Type | YearBuilt | Length | Width | Material | ViewsLast7Days | TypeCopy | ViewsTimes2 |\n",
       "|---|---|---|---|---|---|---|---|---|---|---|\n",
       "| CHF 3337             | Motor Yacht          | Rigiflex power boats | new boat from stock  | 2017                 | 4.00                 | 1.90                 |                      | 226                  | new boat from stock  | 452                  |\n",
       "| EUR 3490             | Center console boat  | Terhi power boats    | new boat from stock  | 2020                 | 4.00                 | 1.50                 | Thermoplastic        |  75                  | new boat from stock  | 150                  |\n",
       "| CHF 3770             | Sport Boat           | Marine power boats   | new boat from stock  |    0                 | 3.69                 | 1.42                 | Aluminium            | 124                  | new boat from stock  | 248                  |\n",
       "| DKK 25900            | Sport Boat           | Pioner power boats   | new boat from stock  | 2020                 | 3.00                 | 1.00                 |                      |  64                  | new boat from stock  | 128                  |\n",
       "| EUR 3399             | Fishing Boat         | Linder power boats   | new boat from stock  | 2019                 | 3.55                 | 1.46                 | Aluminium            |  58                  | new boat from stock  | 116                  |\n",
       "| CHF 3650             | Sport Boat           | Linder power boats   | new boat from stock  |    0                 | 4.03                 | 1.56                 | Aluminium            | 132                  | new boat from stock  | 264                  |\n",
       "\n"
      ],
      "text/plain": [
       "  Price     BoatType            Manufacturer         Type               \n",
       "1 CHF 3337  Motor Yacht         Rigiflex power boats new boat from stock\n",
       "2 EUR 3490  Center console boat Terhi power boats    new boat from stock\n",
       "3 CHF 3770  Sport Boat          Marine power boats   new boat from stock\n",
       "4 DKK 25900 Sport Boat          Pioner power boats   new boat from stock\n",
       "5 EUR 3399  Fishing Boat        Linder power boats   new boat from stock\n",
       "6 CHF 3650  Sport Boat          Linder power boats   new boat from stock\n",
       "  YearBuilt Length Width Material      ViewsLast7Days TypeCopy           \n",
       "1 2017      4.00   1.90                226            new boat from stock\n",
       "2 2020      4.00   1.50  Thermoplastic  75            new boat from stock\n",
       "3    0      3.69   1.42  Aluminium     124            new boat from stock\n",
       "4 2020      3.00   1.00                 64            new boat from stock\n",
       "5 2019      3.55   1.46  Aluminium      58            new boat from stock\n",
       "6    0      4.03   1.56  Aluminium     132            new boat from stock\n",
       "  ViewsTimes2\n",
       "1 452        \n",
       "2 150        \n",
       "3 248        \n",
       "4 128        \n",
       "5 116        \n",
       "6 264        "
      ]
     },
     "metadata": {},
     "output_type": "display_data"
    }
   ],
   "source": [
    "#Example 2\n",
    "df$ViewsTimes2 <- df$ViewsLast7Days*2\n",
    "head(df)"
   ]
  },
  {
   "cell_type": "code",
   "execution_count": 37,
   "id": "c5d0fb93",
   "metadata": {},
   "outputs": [
    {
     "data": {
      "text/html": [
       "<table>\n",
       "<thead><tr><th scope=col>Price</th><th scope=col>BoatType</th><th scope=col>Manufacturer</th><th scope=col>Type</th><th scope=col>YearBuilt</th><th scope=col>Length</th><th scope=col>Width</th><th scope=col>Material</th><th scope=col>ViewsLast7Days</th><th scope=col>TypeCopy</th><th scope=col>ViewsTimes2</th><th scope=col>NewAndPopular</th></tr></thead>\n",
       "<tbody>\n",
       "\t<tr><td>CHF 3337            </td><td>Motor Yacht         </td><td>Rigiflex power boats</td><td>new boat from stock </td><td>2017                </td><td>4.00                </td><td>1.90                </td><td>                    </td><td>226                 </td><td>new boat from stock </td><td>452                 </td><td>1                   </td></tr>\n",
       "\t<tr><td>EUR 3490            </td><td>Center console boat </td><td>Terhi power boats   </td><td>new boat from stock </td><td>2020                </td><td>4.00                </td><td>1.50                </td><td>Thermoplastic       </td><td> 75                 </td><td>new boat from stock </td><td>150                 </td><td>0                   </td></tr>\n",
       "\t<tr><td>CHF 3770            </td><td>Sport Boat          </td><td>Marine power boats  </td><td>new boat from stock </td><td>   0                </td><td>3.69                </td><td>1.42                </td><td>Aluminium           </td><td>124                 </td><td>new boat from stock </td><td>248                 </td><td>0                   </td></tr>\n",
       "\t<tr><td>DKK 25900           </td><td>Sport Boat          </td><td>Pioner power boats  </td><td>new boat from stock </td><td>2020                </td><td>3.00                </td><td>1.00                </td><td>                    </td><td> 64                 </td><td>new boat from stock </td><td>128                 </td><td>0                   </td></tr>\n",
       "\t<tr><td>EUR 3399            </td><td>Fishing Boat        </td><td>Linder power boats  </td><td>new boat from stock </td><td>2019                </td><td>3.55                </td><td>1.46                </td><td>Aluminium           </td><td> 58                 </td><td>new boat from stock </td><td>116                 </td><td>0                   </td></tr>\n",
       "\t<tr><td>CHF 3650            </td><td>Sport Boat          </td><td>Linder power boats  </td><td>new boat from stock </td><td>   0                </td><td>4.03                </td><td>1.56                </td><td>Aluminium           </td><td>132                 </td><td>new boat from stock </td><td>264                 </td><td>0                   </td></tr>\n",
       "</tbody>\n",
       "</table>\n"
      ],
      "text/latex": [
       "\\begin{tabular}{r|llllllllllll}\n",
       " Price & BoatType & Manufacturer & Type & YearBuilt & Length & Width & Material & ViewsLast7Days & TypeCopy & ViewsTimes2 & NewAndPopular\\\\\n",
       "\\hline\n",
       "\t CHF 3337             & Motor Yacht          & Rigiflex power boats & new boat from stock  & 2017                 & 4.00                 & 1.90                 &                      & 226                  & new boat from stock  & 452                  & 1                   \\\\\n",
       "\t EUR 3490             & Center console boat  & Terhi power boats    & new boat from stock  & 2020                 & 4.00                 & 1.50                 & Thermoplastic        &  75                  & new boat from stock  & 150                  & 0                   \\\\\n",
       "\t CHF 3770             & Sport Boat           & Marine power boats   & new boat from stock  &    0                 & 3.69                 & 1.42                 & Aluminium            & 124                  & new boat from stock  & 248                  & 0                   \\\\\n",
       "\t DKK 25900            & Sport Boat           & Pioner power boats   & new boat from stock  & 2020                 & 3.00                 & 1.00                 &                      &  64                  & new boat from stock  & 128                  & 0                   \\\\\n",
       "\t EUR 3399             & Fishing Boat         & Linder power boats   & new boat from stock  & 2019                 & 3.55                 & 1.46                 & Aluminium            &  58                  & new boat from stock  & 116                  & 0                   \\\\\n",
       "\t CHF 3650             & Sport Boat           & Linder power boats   & new boat from stock  &    0                 & 4.03                 & 1.56                 & Aluminium            & 132                  & new boat from stock  & 264                  & 0                   \\\\\n",
       "\\end{tabular}\n"
      ],
      "text/markdown": [
       "\n",
       "| Price | BoatType | Manufacturer | Type | YearBuilt | Length | Width | Material | ViewsLast7Days | TypeCopy | ViewsTimes2 | NewAndPopular |\n",
       "|---|---|---|---|---|---|---|---|---|---|---|---|\n",
       "| CHF 3337             | Motor Yacht          | Rigiflex power boats | new boat from stock  | 2017                 | 4.00                 | 1.90                 |                      | 226                  | new boat from stock  | 452                  | 1                    |\n",
       "| EUR 3490             | Center console boat  | Terhi power boats    | new boat from stock  | 2020                 | 4.00                 | 1.50                 | Thermoplastic        |  75                  | new boat from stock  | 150                  | 0                    |\n",
       "| CHF 3770             | Sport Boat           | Marine power boats   | new boat from stock  |    0                 | 3.69                 | 1.42                 | Aluminium            | 124                  | new boat from stock  | 248                  | 0                    |\n",
       "| DKK 25900            | Sport Boat           | Pioner power boats   | new boat from stock  | 2020                 | 3.00                 | 1.00                 |                      |  64                  | new boat from stock  | 128                  | 0                    |\n",
       "| EUR 3399             | Fishing Boat         | Linder power boats   | new boat from stock  | 2019                 | 3.55                 | 1.46                 | Aluminium            |  58                  | new boat from stock  | 116                  | 0                    |\n",
       "| CHF 3650             | Sport Boat           | Linder power boats   | new boat from stock  |    0                 | 4.03                 | 1.56                 | Aluminium            | 132                  | new boat from stock  | 264                  | 0                    |\n",
       "\n"
      ],
      "text/plain": [
       "  Price     BoatType            Manufacturer         Type               \n",
       "1 CHF 3337  Motor Yacht         Rigiflex power boats new boat from stock\n",
       "2 EUR 3490  Center console boat Terhi power boats    new boat from stock\n",
       "3 CHF 3770  Sport Boat          Marine power boats   new boat from stock\n",
       "4 DKK 25900 Sport Boat          Pioner power boats   new boat from stock\n",
       "5 EUR 3399  Fishing Boat        Linder power boats   new boat from stock\n",
       "6 CHF 3650  Sport Boat          Linder power boats   new boat from stock\n",
       "  YearBuilt Length Width Material      ViewsLast7Days TypeCopy           \n",
       "1 2017      4.00   1.90                226            new boat from stock\n",
       "2 2020      4.00   1.50  Thermoplastic  75            new boat from stock\n",
       "3    0      3.69   1.42  Aluminium     124            new boat from stock\n",
       "4 2020      3.00   1.00                 64            new boat from stock\n",
       "5 2019      3.55   1.46  Aluminium      58            new boat from stock\n",
       "6    0      4.03   1.56  Aluminium     132            new boat from stock\n",
       "  ViewsTimes2 NewAndPopular\n",
       "1 452         1            \n",
       "2 150         0            \n",
       "3 248         0            \n",
       "4 128         0            \n",
       "5 116         0            \n",
       "6 264         0            "
      ]
     },
     "metadata": {},
     "output_type": "display_data"
    }
   ],
   "source": [
    "#Example 3\n",
    "df$NewAndPopular <- ifelse(df$YearBuilt > 2015 & df$ViewsLast7Days > 100, 1, 0)\n",
    "head(df)"
   ]
  },
  {
   "cell_type": "code",
   "execution_count": null,
   "id": "3d14041c",
   "metadata": {},
   "outputs": [],
   "source": [
    "#Calculating Summary Statistic Examples"
   ]
  },
  {
   "cell_type": "code",
   "execution_count": 39,
   "id": "b3b0d041",
   "metadata": {},
   "outputs": [
    {
     "name": "stdout",
     "output_type": "stream",
     "text": [
      "[1] \"149.160800970874 2021\"\n"
     ]
    }
   ],
   "source": [
    "#Example 1\n",
    "meanViews <- mean(df$ViewsLast7Days)\n",
    "maxYear <- max(df$YearBuilt)\n",
    "print(paste(meanViews, maxYear))"
   ]
  },
  {
   "cell_type": "code",
   "execution_count": 40,
   "id": "33294cd2",
   "metadata": {},
   "outputs": [
    {
     "data": {
      "text/html": [
       "<table>\n",
       "<thead><tr><th scope=col>Group.1</th><th scope=col>x</th></tr></thead>\n",
       "<tbody>\n",
       "\t<tr><td>Bowrider                               </td><td> 47183                                 </td></tr>\n",
       "\t<tr><td>Bowrider,Cabin Boat,Deck Boat          </td><td>   435                                 </td></tr>\n",
       "\t<tr><td>Bowrider,Center console boat,Sport Boat</td><td>   389                                 </td></tr>\n",
       "\t<tr><td>Bowrider,Classic                       </td><td>    87                                 </td></tr>\n",
       "\t<tr><td>Bowrider,Deck Boat,Water ski           </td><td>   888                                 </td></tr>\n",
       "\t<tr><td>Bowrider,Motor Yacht,Sport Boat        </td><td>  2261                                 </td></tr>\n",
       "\t<tr><td>Bowrider,Motor Yacht,Wakeboard/Wakesurf</td><td>   508                                 </td></tr>\n",
       "\t<tr><td>Bowrider,Sport Boat,Wakeboard/Wakesurf </td><td>   628                                 </td></tr>\n",
       "\t<tr><td>Bowrider,Wakeboard/Wakesurf            </td><td>   879                                 </td></tr>\n",
       "\t<tr><td>Cabin Boat                             </td><td>131700                                 </td></tr>\n",
       "\t<tr><td>Cabin Boat,Classic                     </td><td>  2474                                 </td></tr>\n",
       "\t<tr><td>Cabin Boat,Classic,Flybridge           </td><td>   398                                 </td></tr>\n",
       "\t<tr><td>Cabin Boat,Classic,Motor Yacht         </td><td>  2160                                 </td></tr>\n",
       "\t<tr><td>Cabin Boat,Classic,Passenger boat      </td><td>   248                                 </td></tr>\n",
       "\t<tr><td>Cabin Boat,Classic,Trawler             </td><td>   260                                 </td></tr>\n",
       "\t<tr><td>Cabin Boat,Fishing Boat                </td><td>   978                                 </td></tr>\n",
       "\t<tr><td>Cabin Boat,Fishing Boat,House Boat     </td><td>   475                                 </td></tr>\n",
       "\t<tr><td>Cabin Boat,Fishing Boat,Pilothouse     </td><td>   214                                 </td></tr>\n",
       "\t<tr><td>Cabin Boat,Fishing Boat,Sport Boat     </td><td>  1049                                 </td></tr>\n",
       "\t<tr><td>Cabin Boat,Flybridge                   </td><td>   751                                 </td></tr>\n",
       "\t<tr><td>Cabin Boat,Flybridge,Motor Yacht       </td><td>   812                                 </td></tr>\n",
       "\t<tr><td>Cabin Boat,Hardtop                     </td><td>   367                                 </td></tr>\n",
       "\t<tr><td>Cabin Boat,Hardtop,Motor Yacht         </td><td>   141                                 </td></tr>\n",
       "\t<tr><td>Cabin Boat,Hardtop,Sport Boat          </td><td>   461                                 </td></tr>\n",
       "\t<tr><td>Cabin Boat,Hardtop,Trawler             </td><td>   506                                 </td></tr>\n",
       "\t<tr><td>Cabin Boat,House Boat                  </td><td>  2015                                 </td></tr>\n",
       "\t<tr><td>Cabin Boat,House Boat,Trawler          </td><td>   651                                 </td></tr>\n",
       "\t<tr><td>Cabin Boat,Motor Yacht                 </td><td>  5356                                 </td></tr>\n",
       "\t<tr><td>Cabin Boat,Motor Yacht,Offshore Boat   </td><td>   345                                 </td></tr>\n",
       "\t<tr><td>Cabin Boat,Motor Yacht,Sport Boat      </td><td>  3246                                 </td></tr>\n",
       "\t<tr><td>...</td><td>...</td></tr>\n",
       "\t<tr><td>Motor Yacht                            </td><td>351659                                 </td></tr>\n",
       "\t<tr><td>Motor Yacht,Sport Boat                 </td><td>  4160                                 </td></tr>\n",
       "\t<tr><td>Motor Yacht,Sport Boat,Trawler         </td><td>   605                                 </td></tr>\n",
       "\t<tr><td>Motor Yacht,Sport Boat,Water ski       </td><td>   296                                 </td></tr>\n",
       "\t<tr><td>Motor Yacht,Trawler                    </td><td>  1472                                 </td></tr>\n",
       "\t<tr><td>Motor Yacht,Wakeboard/Wakesurf         </td><td>   826                                 </td></tr>\n",
       "\t<tr><td>Motorsailer                            </td><td>   287                                 </td></tr>\n",
       "\t<tr><td>Offshore Boat                          </td><td> 12180                                 </td></tr>\n",
       "\t<tr><td>Offshore Boat,Pilothouse               </td><td>   194                                 </td></tr>\n",
       "\t<tr><td>Offshore Boat,Sport Boat               </td><td>   494                                 </td></tr>\n",
       "\t<tr><td>Passenger boat                         </td><td>  3834                                 </td></tr>\n",
       "\t<tr><td>Passenger boat,Runabout,Sport Boat     </td><td>   279                                 </td></tr>\n",
       "\t<tr><td>Passenger boat,Working Boat            </td><td>   390                                 </td></tr>\n",
       "\t<tr><td>Pilothouse                             </td><td> 74730                                 </td></tr>\n",
       "\t<tr><td>Pilothouse,Sport Boat                  </td><td>   267                                 </td></tr>\n",
       "\t<tr><td>Pontoon Boat                           </td><td> 15122                                 </td></tr>\n",
       "\t<tr><td>RIB                                    </td><td>    43                                 </td></tr>\n",
       "\t<tr><td>Runabout                               </td><td> 13991                                 </td></tr>\n",
       "\t<tr><td>Runabout,Sport Boat                    </td><td>   555                                 </td></tr>\n",
       "\t<tr><td>Runabout,Sport Boat,Water ski          </td><td>   898                                 </td></tr>\n",
       "\t<tr><td>Sport Boat                             </td><td>251418                                 </td></tr>\n",
       "\t<tr><td>Sport Boat,Wakeboard/Wakesurf          </td><td>  1553                                 </td></tr>\n",
       "\t<tr><td>Sport Boat,Wakeboard/Wakesurf,Water ski</td><td>  3285                                 </td></tr>\n",
       "\t<tr><td>Sport Boat,Water ski                   </td><td>   563                                 </td></tr>\n",
       "\t<tr><td>Sport Boat,Working Boat                </td><td>   205                                 </td></tr>\n",
       "\t<tr><td>Trawler                                </td><td> 75456                                 </td></tr>\n",
       "\t<tr><td>Wakeboard/Wakesurf                     </td><td> 21823                                 </td></tr>\n",
       "\t<tr><td>Wakeboard/Wakesurf,Water ski           </td><td>   584                                 </td></tr>\n",
       "\t<tr><td>Water ski                              </td><td>  2979                                 </td></tr>\n",
       "\t<tr><td>Working Boat                           </td><td>  6313                                 </td></tr>\n",
       "</tbody>\n",
       "</table>\n"
      ],
      "text/latex": [
       "\\begin{tabular}{r|ll}\n",
       " Group.1 & x\\\\\n",
       "\\hline\n",
       "\t Bowrider                                &  47183                                 \\\\\n",
       "\t Bowrider,Cabin Boat,Deck Boat           &    435                                 \\\\\n",
       "\t Bowrider,Center console boat,Sport Boat &    389                                 \\\\\n",
       "\t Bowrider,Classic                        &     87                                 \\\\\n",
       "\t Bowrider,Deck Boat,Water ski            &    888                                 \\\\\n",
       "\t Bowrider,Motor Yacht,Sport Boat         &   2261                                 \\\\\n",
       "\t Bowrider,Motor Yacht,Wakeboard/Wakesurf &    508                                 \\\\\n",
       "\t Bowrider,Sport Boat,Wakeboard/Wakesurf  &    628                                 \\\\\n",
       "\t Bowrider,Wakeboard/Wakesurf             &    879                                 \\\\\n",
       "\t Cabin Boat                              & 131700                                 \\\\\n",
       "\t Cabin Boat,Classic                      &   2474                                 \\\\\n",
       "\t Cabin Boat,Classic,Flybridge            &    398                                 \\\\\n",
       "\t Cabin Boat,Classic,Motor Yacht          &   2160                                 \\\\\n",
       "\t Cabin Boat,Classic,Passenger boat       &    248                                 \\\\\n",
       "\t Cabin Boat,Classic,Trawler              &    260                                 \\\\\n",
       "\t Cabin Boat,Fishing Boat                 &    978                                 \\\\\n",
       "\t Cabin Boat,Fishing Boat,House Boat      &    475                                 \\\\\n",
       "\t Cabin Boat,Fishing Boat,Pilothouse      &    214                                 \\\\\n",
       "\t Cabin Boat,Fishing Boat,Sport Boat      &   1049                                 \\\\\n",
       "\t Cabin Boat,Flybridge                    &    751                                 \\\\\n",
       "\t Cabin Boat,Flybridge,Motor Yacht        &    812                                 \\\\\n",
       "\t Cabin Boat,Hardtop                      &    367                                 \\\\\n",
       "\t Cabin Boat,Hardtop,Motor Yacht          &    141                                 \\\\\n",
       "\t Cabin Boat,Hardtop,Sport Boat           &    461                                 \\\\\n",
       "\t Cabin Boat,Hardtop,Trawler              &    506                                 \\\\\n",
       "\t Cabin Boat,House Boat                   &   2015                                 \\\\\n",
       "\t Cabin Boat,House Boat,Trawler           &    651                                 \\\\\n",
       "\t Cabin Boat,Motor Yacht                  &   5356                                 \\\\\n",
       "\t Cabin Boat,Motor Yacht,Offshore Boat    &    345                                 \\\\\n",
       "\t Cabin Boat,Motor Yacht,Sport Boat       &   3246                                 \\\\\n",
       "\t ... & ...\\\\\n",
       "\t Motor Yacht                             & 351659                                 \\\\\n",
       "\t Motor Yacht,Sport Boat                  &   4160                                 \\\\\n",
       "\t Motor Yacht,Sport Boat,Trawler          &    605                                 \\\\\n",
       "\t Motor Yacht,Sport Boat,Water ski        &    296                                 \\\\\n",
       "\t Motor Yacht,Trawler                     &   1472                                 \\\\\n",
       "\t Motor Yacht,Wakeboard/Wakesurf          &    826                                 \\\\\n",
       "\t Motorsailer                             &    287                                 \\\\\n",
       "\t Offshore Boat                           &  12180                                 \\\\\n",
       "\t Offshore Boat,Pilothouse                &    194                                 \\\\\n",
       "\t Offshore Boat,Sport Boat                &    494                                 \\\\\n",
       "\t Passenger boat                          &   3834                                 \\\\\n",
       "\t Passenger boat,Runabout,Sport Boat      &    279                                 \\\\\n",
       "\t Passenger boat,Working Boat             &    390                                 \\\\\n",
       "\t Pilothouse                              &  74730                                 \\\\\n",
       "\t Pilothouse,Sport Boat                   &    267                                 \\\\\n",
       "\t Pontoon Boat                            &  15122                                 \\\\\n",
       "\t RIB                                     &     43                                 \\\\\n",
       "\t Runabout                                &  13991                                 \\\\\n",
       "\t Runabout,Sport Boat                     &    555                                 \\\\\n",
       "\t Runabout,Sport Boat,Water ski           &    898                                 \\\\\n",
       "\t Sport Boat                              & 251418                                 \\\\\n",
       "\t Sport Boat,Wakeboard/Wakesurf           &   1553                                 \\\\\n",
       "\t Sport Boat,Wakeboard/Wakesurf,Water ski &   3285                                 \\\\\n",
       "\t Sport Boat,Water ski                    &    563                                 \\\\\n",
       "\t Sport Boat,Working Boat                 &    205                                 \\\\\n",
       "\t Trawler                                 &  75456                                 \\\\\n",
       "\t Wakeboard/Wakesurf                      &  21823                                 \\\\\n",
       "\t Wakeboard/Wakesurf,Water ski            &    584                                 \\\\\n",
       "\t Water ski                               &   2979                                 \\\\\n",
       "\t Working Boat                            &   6313                                 \\\\\n",
       "\\end{tabular}\n"
      ],
      "text/markdown": [
       "\n",
       "| Group.1 | x |\n",
       "|---|---|\n",
       "| Bowrider                                |  47183                                  |\n",
       "| Bowrider,Cabin Boat,Deck Boat           |    435                                  |\n",
       "| Bowrider,Center console boat,Sport Boat |    389                                  |\n",
       "| Bowrider,Classic                        |     87                                  |\n",
       "| Bowrider,Deck Boat,Water ski            |    888                                  |\n",
       "| Bowrider,Motor Yacht,Sport Boat         |   2261                                  |\n",
       "| Bowrider,Motor Yacht,Wakeboard/Wakesurf |    508                                  |\n",
       "| Bowrider,Sport Boat,Wakeboard/Wakesurf  |    628                                  |\n",
       "| Bowrider,Wakeboard/Wakesurf             |    879                                  |\n",
       "| Cabin Boat                              | 131700                                  |\n",
       "| Cabin Boat,Classic                      |   2474                                  |\n",
       "| Cabin Boat,Classic,Flybridge            |    398                                  |\n",
       "| Cabin Boat,Classic,Motor Yacht          |   2160                                  |\n",
       "| Cabin Boat,Classic,Passenger boat       |    248                                  |\n",
       "| Cabin Boat,Classic,Trawler              |    260                                  |\n",
       "| Cabin Boat,Fishing Boat                 |    978                                  |\n",
       "| Cabin Boat,Fishing Boat,House Boat      |    475                                  |\n",
       "| Cabin Boat,Fishing Boat,Pilothouse      |    214                                  |\n",
       "| Cabin Boat,Fishing Boat,Sport Boat      |   1049                                  |\n",
       "| Cabin Boat,Flybridge                    |    751                                  |\n",
       "| Cabin Boat,Flybridge,Motor Yacht        |    812                                  |\n",
       "| Cabin Boat,Hardtop                      |    367                                  |\n",
       "| Cabin Boat,Hardtop,Motor Yacht          |    141                                  |\n",
       "| Cabin Boat,Hardtop,Sport Boat           |    461                                  |\n",
       "| Cabin Boat,Hardtop,Trawler              |    506                                  |\n",
       "| Cabin Boat,House Boat                   |   2015                                  |\n",
       "| Cabin Boat,House Boat,Trawler           |    651                                  |\n",
       "| Cabin Boat,Motor Yacht                  |   5356                                  |\n",
       "| Cabin Boat,Motor Yacht,Offshore Boat    |    345                                  |\n",
       "| Cabin Boat,Motor Yacht,Sport Boat       |   3246                                  |\n",
       "| ... | ... |\n",
       "| Motor Yacht                             | 351659                                  |\n",
       "| Motor Yacht,Sport Boat                  |   4160                                  |\n",
       "| Motor Yacht,Sport Boat,Trawler          |    605                                  |\n",
       "| Motor Yacht,Sport Boat,Water ski        |    296                                  |\n",
       "| Motor Yacht,Trawler                     |   1472                                  |\n",
       "| Motor Yacht,Wakeboard/Wakesurf          |    826                                  |\n",
       "| Motorsailer                             |    287                                  |\n",
       "| Offshore Boat                           |  12180                                  |\n",
       "| Offshore Boat,Pilothouse                |    194                                  |\n",
       "| Offshore Boat,Sport Boat                |    494                                  |\n",
       "| Passenger boat                          |   3834                                  |\n",
       "| Passenger boat,Runabout,Sport Boat      |    279                                  |\n",
       "| Passenger boat,Working Boat             |    390                                  |\n",
       "| Pilothouse                              |  74730                                  |\n",
       "| Pilothouse,Sport Boat                   |    267                                  |\n",
       "| Pontoon Boat                            |  15122                                  |\n",
       "| RIB                                     |     43                                  |\n",
       "| Runabout                                |  13991                                  |\n",
       "| Runabout,Sport Boat                     |    555                                  |\n",
       "| Runabout,Sport Boat,Water ski           |    898                                  |\n",
       "| Sport Boat                              | 251418                                  |\n",
       "| Sport Boat,Wakeboard/Wakesurf           |   1553                                  |\n",
       "| Sport Boat,Wakeboard/Wakesurf,Water ski |   3285                                  |\n",
       "| Sport Boat,Water ski                    |    563                                  |\n",
       "| Sport Boat,Working Boat                 |    205                                  |\n",
       "| Trawler                                 |  75456                                  |\n",
       "| Wakeboard/Wakesurf                      |  21823                                  |\n",
       "| Wakeboard/Wakesurf,Water ski            |    584                                  |\n",
       "| Water ski                               |   2979                                  |\n",
       "| Working Boat                            |   6313                                  |\n",
       "\n"
      ],
      "text/plain": [
       "    Group.1                                 x     \n",
       "1   Bowrider                                 47183\n",
       "2   Bowrider,Cabin Boat,Deck Boat              435\n",
       "3   Bowrider,Center console boat,Sport Boat    389\n",
       "4   Bowrider,Classic                            87\n",
       "5   Bowrider,Deck Boat,Water ski               888\n",
       "6   Bowrider,Motor Yacht,Sport Boat           2261\n",
       "7   Bowrider,Motor Yacht,Wakeboard/Wakesurf    508\n",
       "8   Bowrider,Sport Boat,Wakeboard/Wakesurf     628\n",
       "9   Bowrider,Wakeboard/Wakesurf                879\n",
       "10  Cabin Boat                              131700\n",
       "11  Cabin Boat,Classic                        2474\n",
       "12  Cabin Boat,Classic,Flybridge               398\n",
       "13  Cabin Boat,Classic,Motor Yacht            2160\n",
       "14  Cabin Boat,Classic,Passenger boat          248\n",
       "15  Cabin Boat,Classic,Trawler                 260\n",
       "16  Cabin Boat,Fishing Boat                    978\n",
       "17  Cabin Boat,Fishing Boat,House Boat         475\n",
       "18  Cabin Boat,Fishing Boat,Pilothouse         214\n",
       "19  Cabin Boat,Fishing Boat,Sport Boat        1049\n",
       "20  Cabin Boat,Flybridge                       751\n",
       "21  Cabin Boat,Flybridge,Motor Yacht           812\n",
       "22  Cabin Boat,Hardtop                         367\n",
       "23  Cabin Boat,Hardtop,Motor Yacht             141\n",
       "24  Cabin Boat,Hardtop,Sport Boat              461\n",
       "25  Cabin Boat,Hardtop,Trawler                 506\n",
       "26  Cabin Boat,House Boat                     2015\n",
       "27  Cabin Boat,House Boat,Trawler              651\n",
       "28  Cabin Boat,Motor Yacht                    5356\n",
       "29  Cabin Boat,Motor Yacht,Offshore Boat       345\n",
       "30  Cabin Boat,Motor Yacht,Sport Boat         3246\n",
       "... ...                                     ...   \n",
       "97  Motor Yacht                             351659\n",
       "98  Motor Yacht,Sport Boat                    4160\n",
       "99  Motor Yacht,Sport Boat,Trawler             605\n",
       "100 Motor Yacht,Sport Boat,Water ski           296\n",
       "101 Motor Yacht,Trawler                       1472\n",
       "102 Motor Yacht,Wakeboard/Wakesurf             826\n",
       "103 Motorsailer                                287\n",
       "104 Offshore Boat                            12180\n",
       "105 Offshore Boat,Pilothouse                   194\n",
       "106 Offshore Boat,Sport Boat                   494\n",
       "107 Passenger boat                            3834\n",
       "108 Passenger boat,Runabout,Sport Boat         279\n",
       "109 Passenger boat,Working Boat                390\n",
       "110 Pilothouse                               74730\n",
       "111 Pilothouse,Sport Boat                      267\n",
       "112 Pontoon Boat                             15122\n",
       "113 RIB                                         43\n",
       "114 Runabout                                 13991\n",
       "115 Runabout,Sport Boat                        555\n",
       "116 Runabout,Sport Boat,Water ski              898\n",
       "117 Sport Boat                              251418\n",
       "118 Sport Boat,Wakeboard/Wakesurf             1553\n",
       "119 Sport Boat,Wakeboard/Wakesurf,Water ski   3285\n",
       "120 Sport Boat,Water ski                       563\n",
       "121 Sport Boat,Working Boat                    205\n",
       "122 Trawler                                  75456\n",
       "123 Wakeboard/Wakesurf                       21823\n",
       "124 Wakeboard/Wakesurf,Water ski               584\n",
       "125 Water ski                                 2979\n",
       "126 Working Boat                              6313"
      ]
     },
     "metadata": {},
     "output_type": "display_data"
    }
   ],
   "source": [
    "#Example 2\n",
    "aggregate(df$ViewsLast7Days, by=list(df$BoatType), FUN=sum)"
   ]
  },
  {
   "cell_type": "code",
   "execution_count": 41,
   "id": "b5131920",
   "metadata": {},
   "outputs": [
    {
     "data": {
      "text/html": [
       "<table>\n",
       "<thead><tr><th scope=col>Group.1</th><th scope=col>x</th></tr></thead>\n",
       "<tbody>\n",
       "\t<tr><td>Bowrider                               </td><td>       NA                              </td></tr>\n",
       "\t<tr><td>Bowrider,Cabin Boat,Deck Boat          </td><td> 8.300000                              </td></tr>\n",
       "\t<tr><td>Bowrider,Center console boat,Sport Boat</td><td> 6.810000                              </td></tr>\n",
       "\t<tr><td>Bowrider,Classic                       </td><td> 5.790000                              </td></tr>\n",
       "\t<tr><td>Bowrider,Deck Boat,Water ski           </td><td> 6.140000                              </td></tr>\n",
       "\t<tr><td>Bowrider,Motor Yacht,Sport Boat        </td><td>12.350000                              </td></tr>\n",
       "\t<tr><td>Bowrider,Motor Yacht,Wakeboard/Wakesurf</td><td>10.500000                              </td></tr>\n",
       "\t<tr><td>Bowrider,Sport Boat,Wakeboard/Wakesurf </td><td> 6.400000                              </td></tr>\n",
       "\t<tr><td>Bowrider,Wakeboard/Wakesurf            </td><td> 6.250000                              </td></tr>\n",
       "\t<tr><td>Cabin Boat                             </td><td>       NA                              </td></tr>\n",
       "\t<tr><td>Cabin Boat,Classic                     </td><td> 8.268889                              </td></tr>\n",
       "\t<tr><td>Cabin Boat,Classic,Flybridge           </td><td> 7.850000                              </td></tr>\n",
       "\t<tr><td>Cabin Boat,Classic,Motor Yacht         </td><td> 9.766667                              </td></tr>\n",
       "\t<tr><td>Cabin Boat,Classic,Passenger boat      </td><td> 8.000000                              </td></tr>\n",
       "\t<tr><td>Cabin Boat,Classic,Trawler             </td><td> 7.320000                              </td></tr>\n",
       "\t<tr><td>Cabin Boat,Fishing Boat                </td><td> 6.410000                              </td></tr>\n",
       "\t<tr><td>Cabin Boat,Fishing Boat,House Boat     </td><td> 7.250000                              </td></tr>\n",
       "\t<tr><td>Cabin Boat,Fishing Boat,Pilothouse     </td><td> 6.550000                              </td></tr>\n",
       "\t<tr><td>Cabin Boat,Fishing Boat,Sport Boat     </td><td> 5.500000                              </td></tr>\n",
       "\t<tr><td>Cabin Boat,Flybridge                   </td><td> 8.903333                              </td></tr>\n",
       "\t<tr><td>Cabin Boat,Flybridge,Motor Yacht       </td><td>12.100000                              </td></tr>\n",
       "\t<tr><td>Cabin Boat,Hardtop                     </td><td>10.010000                              </td></tr>\n",
       "\t<tr><td>Cabin Boat,Hardtop,Motor Yacht         </td><td>10.900000                              </td></tr>\n",
       "\t<tr><td>Cabin Boat,Hardtop,Sport Boat          </td><td> 9.200000                              </td></tr>\n",
       "\t<tr><td>Cabin Boat,Hardtop,Trawler             </td><td> 9.990000                              </td></tr>\n",
       "\t<tr><td>Cabin Boat,House Boat                  </td><td>11.570000                              </td></tr>\n",
       "\t<tr><td>Cabin Boat,House Boat,Trawler          </td><td> 9.000000                              </td></tr>\n",
       "\t<tr><td>Cabin Boat,Motor Yacht                 </td><td> 8.600000                              </td></tr>\n",
       "\t<tr><td>Cabin Boat,Motor Yacht,Offshore Boat   </td><td>13.330000                              </td></tr>\n",
       "\t<tr><td>Cabin Boat,Motor Yacht,Sport Boat      </td><td>10.974286                              </td></tr>\n",
       "\t<tr><td>...</td><td>...</td></tr>\n",
       "\t<tr><td>Motor Yacht                            </td><td>14.041301                              </td></tr>\n",
       "\t<tr><td>Motor Yacht,Sport Boat                 </td><td> 9.024444                              </td></tr>\n",
       "\t<tr><td>Motor Yacht,Sport Boat,Trawler         </td><td> 8.900000                              </td></tr>\n",
       "\t<tr><td>Motor Yacht,Sport Boat,Water ski       </td><td> 9.000000                              </td></tr>\n",
       "\t<tr><td>Motor Yacht,Trawler                    </td><td>11.570000                              </td></tr>\n",
       "\t<tr><td>Motor Yacht,Wakeboard/Wakesurf         </td><td> 7.010000                              </td></tr>\n",
       "\t<tr><td>Motorsailer                            </td><td>20.923333                              </td></tr>\n",
       "\t<tr><td>Offshore Boat                          </td><td>10.930000                              </td></tr>\n",
       "\t<tr><td>Offshore Boat,Pilothouse               </td><td> 9.170000                              </td></tr>\n",
       "\t<tr><td>Offshore Boat,Sport Boat               </td><td> 8.100000                              </td></tr>\n",
       "\t<tr><td>Passenger boat                         </td><td>28.258485                              </td></tr>\n",
       "\t<tr><td>Passenger boat,Runabout,Sport Boat     </td><td>12.000000                              </td></tr>\n",
       "\t<tr><td>Passenger boat,Working Boat            </td><td>10.250000                              </td></tr>\n",
       "\t<tr><td>Pilothouse                             </td><td> 7.789184                              </td></tr>\n",
       "\t<tr><td>Pilothouse,Sport Boat                  </td><td> 7.300000                              </td></tr>\n",
       "\t<tr><td>Pontoon Boat                           </td><td> 7.585495                              </td></tr>\n",
       "\t<tr><td>RIB                                    </td><td> 3.000000                              </td></tr>\n",
       "\t<tr><td>Runabout                               </td><td>       NA                              </td></tr>\n",
       "\t<tr><td>Runabout,Sport Boat                    </td><td> 7.050000                              </td></tr>\n",
       "\t<tr><td>Runabout,Sport Boat,Water ski          </td><td>       NA                              </td></tr>\n",
       "\t<tr><td>Sport Boat                             </td><td>       NA                              </td></tr>\n",
       "\t<tr><td>Sport Boat,Wakeboard/Wakesurf          </td><td> 6.565000                              </td></tr>\n",
       "\t<tr><td>Sport Boat,Wakeboard/Wakesurf,Water ski</td><td> 6.616667                              </td></tr>\n",
       "\t<tr><td>Sport Boat,Water ski                   </td><td> 6.905000                              </td></tr>\n",
       "\t<tr><td>Sport Boat,Working Boat                </td><td> 4.280000                              </td></tr>\n",
       "\t<tr><td>Trawler                                </td><td>13.095523                              </td></tr>\n",
       "\t<tr><td>Wakeboard/Wakesurf                     </td><td>       NA                              </td></tr>\n",
       "\t<tr><td>Wakeboard/Wakesurf,Water ski           </td><td> 6.350000                              </td></tr>\n",
       "\t<tr><td>Water ski                              </td><td>       NA                              </td></tr>\n",
       "\t<tr><td>Working Boat                           </td><td>13.862727                              </td></tr>\n",
       "</tbody>\n",
       "</table>\n"
      ],
      "text/latex": [
       "\\begin{tabular}{r|ll}\n",
       " Group.1 & x\\\\\n",
       "\\hline\n",
       "\t Bowrider                                &        NA                              \\\\\n",
       "\t Bowrider,Cabin Boat,Deck Boat           &  8.300000                              \\\\\n",
       "\t Bowrider,Center console boat,Sport Boat &  6.810000                              \\\\\n",
       "\t Bowrider,Classic                        &  5.790000                              \\\\\n",
       "\t Bowrider,Deck Boat,Water ski            &  6.140000                              \\\\\n",
       "\t Bowrider,Motor Yacht,Sport Boat         & 12.350000                              \\\\\n",
       "\t Bowrider,Motor Yacht,Wakeboard/Wakesurf & 10.500000                              \\\\\n",
       "\t Bowrider,Sport Boat,Wakeboard/Wakesurf  &  6.400000                              \\\\\n",
       "\t Bowrider,Wakeboard/Wakesurf             &  6.250000                              \\\\\n",
       "\t Cabin Boat                              &        NA                              \\\\\n",
       "\t Cabin Boat,Classic                      &  8.268889                              \\\\\n",
       "\t Cabin Boat,Classic,Flybridge            &  7.850000                              \\\\\n",
       "\t Cabin Boat,Classic,Motor Yacht          &  9.766667                              \\\\\n",
       "\t Cabin Boat,Classic,Passenger boat       &  8.000000                              \\\\\n",
       "\t Cabin Boat,Classic,Trawler              &  7.320000                              \\\\\n",
       "\t Cabin Boat,Fishing Boat                 &  6.410000                              \\\\\n",
       "\t Cabin Boat,Fishing Boat,House Boat      &  7.250000                              \\\\\n",
       "\t Cabin Boat,Fishing Boat,Pilothouse      &  6.550000                              \\\\\n",
       "\t Cabin Boat,Fishing Boat,Sport Boat      &  5.500000                              \\\\\n",
       "\t Cabin Boat,Flybridge                    &  8.903333                              \\\\\n",
       "\t Cabin Boat,Flybridge,Motor Yacht        & 12.100000                              \\\\\n",
       "\t Cabin Boat,Hardtop                      & 10.010000                              \\\\\n",
       "\t Cabin Boat,Hardtop,Motor Yacht          & 10.900000                              \\\\\n",
       "\t Cabin Boat,Hardtop,Sport Boat           &  9.200000                              \\\\\n",
       "\t Cabin Boat,Hardtop,Trawler              &  9.990000                              \\\\\n",
       "\t Cabin Boat,House Boat                   & 11.570000                              \\\\\n",
       "\t Cabin Boat,House Boat,Trawler           &  9.000000                              \\\\\n",
       "\t Cabin Boat,Motor Yacht                  &  8.600000                              \\\\\n",
       "\t Cabin Boat,Motor Yacht,Offshore Boat    & 13.330000                              \\\\\n",
       "\t Cabin Boat,Motor Yacht,Sport Boat       & 10.974286                              \\\\\n",
       "\t ... & ...\\\\\n",
       "\t Motor Yacht                             & 14.041301                              \\\\\n",
       "\t Motor Yacht,Sport Boat                  &  9.024444                              \\\\\n",
       "\t Motor Yacht,Sport Boat,Trawler          &  8.900000                              \\\\\n",
       "\t Motor Yacht,Sport Boat,Water ski        &  9.000000                              \\\\\n",
       "\t Motor Yacht,Trawler                     & 11.570000                              \\\\\n",
       "\t Motor Yacht,Wakeboard/Wakesurf          &  7.010000                              \\\\\n",
       "\t Motorsailer                             & 20.923333                              \\\\\n",
       "\t Offshore Boat                           & 10.930000                              \\\\\n",
       "\t Offshore Boat,Pilothouse                &  9.170000                              \\\\\n",
       "\t Offshore Boat,Sport Boat                &  8.100000                              \\\\\n",
       "\t Passenger boat                          & 28.258485                              \\\\\n",
       "\t Passenger boat,Runabout,Sport Boat      & 12.000000                              \\\\\n",
       "\t Passenger boat,Working Boat             & 10.250000                              \\\\\n",
       "\t Pilothouse                              &  7.789184                              \\\\\n",
       "\t Pilothouse,Sport Boat                   &  7.300000                              \\\\\n",
       "\t Pontoon Boat                            &  7.585495                              \\\\\n",
       "\t RIB                                     &  3.000000                              \\\\\n",
       "\t Runabout                                &        NA                              \\\\\n",
       "\t Runabout,Sport Boat                     &  7.050000                              \\\\\n",
       "\t Runabout,Sport Boat,Water ski           &        NA                              \\\\\n",
       "\t Sport Boat                              &        NA                              \\\\\n",
       "\t Sport Boat,Wakeboard/Wakesurf           &  6.565000                              \\\\\n",
       "\t Sport Boat,Wakeboard/Wakesurf,Water ski &  6.616667                              \\\\\n",
       "\t Sport Boat,Water ski                    &  6.905000                              \\\\\n",
       "\t Sport Boat,Working Boat                 &  4.280000                              \\\\\n",
       "\t Trawler                                 & 13.095523                              \\\\\n",
       "\t Wakeboard/Wakesurf                      &        NA                              \\\\\n",
       "\t Wakeboard/Wakesurf,Water ski            &  6.350000                              \\\\\n",
       "\t Water ski                               &        NA                              \\\\\n",
       "\t Working Boat                            & 13.862727                              \\\\\n",
       "\\end{tabular}\n"
      ],
      "text/markdown": [
       "\n",
       "| Group.1 | x |\n",
       "|---|---|\n",
       "| Bowrider                                |        NA                               |\n",
       "| Bowrider,Cabin Boat,Deck Boat           |  8.300000                               |\n",
       "| Bowrider,Center console boat,Sport Boat |  6.810000                               |\n",
       "| Bowrider,Classic                        |  5.790000                               |\n",
       "| Bowrider,Deck Boat,Water ski            |  6.140000                               |\n",
       "| Bowrider,Motor Yacht,Sport Boat         | 12.350000                               |\n",
       "| Bowrider,Motor Yacht,Wakeboard/Wakesurf | 10.500000                               |\n",
       "| Bowrider,Sport Boat,Wakeboard/Wakesurf  |  6.400000                               |\n",
       "| Bowrider,Wakeboard/Wakesurf             |  6.250000                               |\n",
       "| Cabin Boat                              |        NA                               |\n",
       "| Cabin Boat,Classic                      |  8.268889                               |\n",
       "| Cabin Boat,Classic,Flybridge            |  7.850000                               |\n",
       "| Cabin Boat,Classic,Motor Yacht          |  9.766667                               |\n",
       "| Cabin Boat,Classic,Passenger boat       |  8.000000                               |\n",
       "| Cabin Boat,Classic,Trawler              |  7.320000                               |\n",
       "| Cabin Boat,Fishing Boat                 |  6.410000                               |\n",
       "| Cabin Boat,Fishing Boat,House Boat      |  7.250000                               |\n",
       "| Cabin Boat,Fishing Boat,Pilothouse      |  6.550000                               |\n",
       "| Cabin Boat,Fishing Boat,Sport Boat      |  5.500000                               |\n",
       "| Cabin Boat,Flybridge                    |  8.903333                               |\n",
       "| Cabin Boat,Flybridge,Motor Yacht        | 12.100000                               |\n",
       "| Cabin Boat,Hardtop                      | 10.010000                               |\n",
       "| Cabin Boat,Hardtop,Motor Yacht          | 10.900000                               |\n",
       "| Cabin Boat,Hardtop,Sport Boat           |  9.200000                               |\n",
       "| Cabin Boat,Hardtop,Trawler              |  9.990000                               |\n",
       "| Cabin Boat,House Boat                   | 11.570000                               |\n",
       "| Cabin Boat,House Boat,Trawler           |  9.000000                               |\n",
       "| Cabin Boat,Motor Yacht                  |  8.600000                               |\n",
       "| Cabin Boat,Motor Yacht,Offshore Boat    | 13.330000                               |\n",
       "| Cabin Boat,Motor Yacht,Sport Boat       | 10.974286                               |\n",
       "| ... | ... |\n",
       "| Motor Yacht                             | 14.041301                               |\n",
       "| Motor Yacht,Sport Boat                  |  9.024444                               |\n",
       "| Motor Yacht,Sport Boat,Trawler          |  8.900000                               |\n",
       "| Motor Yacht,Sport Boat,Water ski        |  9.000000                               |\n",
       "| Motor Yacht,Trawler                     | 11.570000                               |\n",
       "| Motor Yacht,Wakeboard/Wakesurf          |  7.010000                               |\n",
       "| Motorsailer                             | 20.923333                               |\n",
       "| Offshore Boat                           | 10.930000                               |\n",
       "| Offshore Boat,Pilothouse                |  9.170000                               |\n",
       "| Offshore Boat,Sport Boat                |  8.100000                               |\n",
       "| Passenger boat                          | 28.258485                               |\n",
       "| Passenger boat,Runabout,Sport Boat      | 12.000000                               |\n",
       "| Passenger boat,Working Boat             | 10.250000                               |\n",
       "| Pilothouse                              |  7.789184                               |\n",
       "| Pilothouse,Sport Boat                   |  7.300000                               |\n",
       "| Pontoon Boat                            |  7.585495                               |\n",
       "| RIB                                     |  3.000000                               |\n",
       "| Runabout                                |        NA                               |\n",
       "| Runabout,Sport Boat                     |  7.050000                               |\n",
       "| Runabout,Sport Boat,Water ski           |        NA                               |\n",
       "| Sport Boat                              |        NA                               |\n",
       "| Sport Boat,Wakeboard/Wakesurf           |  6.565000                               |\n",
       "| Sport Boat,Wakeboard/Wakesurf,Water ski |  6.616667                               |\n",
       "| Sport Boat,Water ski                    |  6.905000                               |\n",
       "| Sport Boat,Working Boat                 |  4.280000                               |\n",
       "| Trawler                                 | 13.095523                               |\n",
       "| Wakeboard/Wakesurf                      |        NA                               |\n",
       "| Wakeboard/Wakesurf,Water ski            |  6.350000                               |\n",
       "| Water ski                               |        NA                               |\n",
       "| Working Boat                            | 13.862727                               |\n",
       "\n"
      ],
      "text/plain": [
       "    Group.1                                 x        \n",
       "1   Bowrider                                       NA\n",
       "2   Bowrider,Cabin Boat,Deck Boat            8.300000\n",
       "3   Bowrider,Center console boat,Sport Boat  6.810000\n",
       "4   Bowrider,Classic                         5.790000\n",
       "5   Bowrider,Deck Boat,Water ski             6.140000\n",
       "6   Bowrider,Motor Yacht,Sport Boat         12.350000\n",
       "7   Bowrider,Motor Yacht,Wakeboard/Wakesurf 10.500000\n",
       "8   Bowrider,Sport Boat,Wakeboard/Wakesurf   6.400000\n",
       "9   Bowrider,Wakeboard/Wakesurf              6.250000\n",
       "10  Cabin Boat                                     NA\n",
       "11  Cabin Boat,Classic                       8.268889\n",
       "12  Cabin Boat,Classic,Flybridge             7.850000\n",
       "13  Cabin Boat,Classic,Motor Yacht           9.766667\n",
       "14  Cabin Boat,Classic,Passenger boat        8.000000\n",
       "15  Cabin Boat,Classic,Trawler               7.320000\n",
       "16  Cabin Boat,Fishing Boat                  6.410000\n",
       "17  Cabin Boat,Fishing Boat,House Boat       7.250000\n",
       "18  Cabin Boat,Fishing Boat,Pilothouse       6.550000\n",
       "19  Cabin Boat,Fishing Boat,Sport Boat       5.500000\n",
       "20  Cabin Boat,Flybridge                     8.903333\n",
       "21  Cabin Boat,Flybridge,Motor Yacht        12.100000\n",
       "22  Cabin Boat,Hardtop                      10.010000\n",
       "23  Cabin Boat,Hardtop,Motor Yacht          10.900000\n",
       "24  Cabin Boat,Hardtop,Sport Boat            9.200000\n",
       "25  Cabin Boat,Hardtop,Trawler               9.990000\n",
       "26  Cabin Boat,House Boat                   11.570000\n",
       "27  Cabin Boat,House Boat,Trawler            9.000000\n",
       "28  Cabin Boat,Motor Yacht                   8.600000\n",
       "29  Cabin Boat,Motor Yacht,Offshore Boat    13.330000\n",
       "30  Cabin Boat,Motor Yacht,Sport Boat       10.974286\n",
       "... ...                                     ...      \n",
       "97  Motor Yacht                             14.041301\n",
       "98  Motor Yacht,Sport Boat                   9.024444\n",
       "99  Motor Yacht,Sport Boat,Trawler           8.900000\n",
       "100 Motor Yacht,Sport Boat,Water ski         9.000000\n",
       "101 Motor Yacht,Trawler                     11.570000\n",
       "102 Motor Yacht,Wakeboard/Wakesurf           7.010000\n",
       "103 Motorsailer                             20.923333\n",
       "104 Offshore Boat                           10.930000\n",
       "105 Offshore Boat,Pilothouse                 9.170000\n",
       "106 Offshore Boat,Sport Boat                 8.100000\n",
       "107 Passenger boat                          28.258485\n",
       "108 Passenger boat,Runabout,Sport Boat      12.000000\n",
       "109 Passenger boat,Working Boat             10.250000\n",
       "110 Pilothouse                               7.789184\n",
       "111 Pilothouse,Sport Boat                    7.300000\n",
       "112 Pontoon Boat                             7.585495\n",
       "113 RIB                                      3.000000\n",
       "114 Runabout                                       NA\n",
       "115 Runabout,Sport Boat                      7.050000\n",
       "116 Runabout,Sport Boat,Water ski                  NA\n",
       "117 Sport Boat                                     NA\n",
       "118 Sport Boat,Wakeboard/Wakesurf            6.565000\n",
       "119 Sport Boat,Wakeboard/Wakesurf,Water ski  6.616667\n",
       "120 Sport Boat,Water ski                     6.905000\n",
       "121 Sport Boat,Working Boat                  4.280000\n",
       "122 Trawler                                 13.095523\n",
       "123 Wakeboard/Wakesurf                             NA\n",
       "124 Wakeboard/Wakesurf,Water ski             6.350000\n",
       "125 Water ski                                      NA\n",
       "126 Working Boat                            13.862727"
      ]
     },
     "metadata": {},
     "output_type": "display_data"
    }
   ],
   "source": [
    "#Example 3\n",
    "aggregate(df$Length, by=list(df$BoatType), FUN=mean)"
   ]
  },
  {
   "cell_type": "code",
   "execution_count": 42,
   "id": "acdc3242",
   "metadata": {},
   "outputs": [
    {
     "data": {
      "text/html": [
       "<table>\n",
       "<thead><tr><th scope=col>Group.1</th><th scope=col>x</th></tr></thead>\n",
       "<tbody>\n",
       "\t<tr><td>                               </td><td>1338                           </td></tr>\n",
       "\t<tr><td>2 emme marine power boats      </td><td>   1                           </td></tr>\n",
       "\t<tr><td>3B Craft power boats           </td><td>   2                           </td></tr>\n",
       "\t<tr><td>A. Mostes power boats          </td><td>   6                           </td></tr>\n",
       "\t<tr><td>AB Yachts power boats          </td><td>   1                           </td></tr>\n",
       "\t<tr><td>Abacus power boats             </td><td>   4                           </td></tr>\n",
       "\t<tr><td>Abati Yachts power boats       </td><td>   1                           </td></tr>\n",
       "\t<tr><td>Abeking &amp; Rasmussen power boats         </td><td><span style=white-space:pre-wrap>   1</span></td></tr>\n",
       "\t<tr><td>Absolute power boats           </td><td>  34                           </td></tr>\n",
       "\t<tr><td>ACM Dufour power boats         </td><td>  10                           </td></tr>\n",
       "\t<tr><td>Acquaviva (IT) power boats     </td><td>   1                           </td></tr>\n",
       "\t<tr><td>Acroplast power boats          </td><td>   1                           </td></tr>\n",
       "\t<tr><td>Adagio Yachts power boats      </td><td>   2                           </td></tr>\n",
       "\t<tr><td>Adec power boats               </td><td>   1                           </td></tr>\n",
       "\t<tr><td>Adex Nautica power boats       </td><td>   1                           </td></tr>\n",
       "\t<tr><td>Adler power boats              </td><td>   1                           </td></tr>\n",
       "\t<tr><td>Admiral power boats            </td><td>   2                           </td></tr>\n",
       "\t<tr><td>Adventure power boats          </td><td>   1                           </td></tr>\n",
       "\t<tr><td>Aegean Yachts power boats      </td><td>   1                           </td></tr>\n",
       "\t<tr><td>ÃƒÂ–chsner power boats         </td><td>   1                           </td></tr>\n",
       "\t<tr><td>AGA-Marine power boats         </td><td>   1                           </td></tr>\n",
       "\t<tr><td>Agder power boats              </td><td>   1                           </td></tr>\n",
       "\t<tr><td>Aicon power boats              </td><td>  15                           </td></tr>\n",
       "\t<tr><td>AICON Yachts power boats       </td><td>   5                           </td></tr>\n",
       "\t<tr><td>Airon Marine power boats       </td><td>  29                           </td></tr>\n",
       "\t<tr><td>Akerboom power boats           </td><td>   1                           </td></tr>\n",
       "\t<tr><td>AL Custom power boats          </td><td>   1                           </td></tr>\n",
       "\t<tr><td>Ala Blu power boats            </td><td>   3                           </td></tr>\n",
       "\t<tr><td>Alalunga power boats           </td><td>   3                           </td></tr>\n",
       "\t<tr><td>Albatro power boats            </td><td>   3                           </td></tr>\n",
       "\t<tr><td>...</td><td>...</td></tr>\n",
       "\t<tr><td>Werner  power boats                  </td><td> 1                                   </td></tr>\n",
       "\t<tr><td>West Bay power boats                 </td><td> 1                                   </td></tr>\n",
       "\t<tr><td>Westwind power boats                 </td><td> 1                                   </td></tr>\n",
       "\t<tr><td>Whaly power boats                    </td><td> 3                                   </td></tr>\n",
       "\t<tr><td>White Shark power boats              </td><td> 2                                   </td></tr>\n",
       "\t<tr><td>Wicabo power boats                   </td><td> 2                                   </td></tr>\n",
       "\t<tr><td>Wider power boats                    </td><td> 1                                   </td></tr>\n",
       "\t<tr><td>Wiking power boats                   </td><td> 1                                   </td></tr>\n",
       "\t<tr><td>Williams power boats                 </td><td> 1                                   </td></tr>\n",
       "\t<tr><td>Wim van der Valk power boats         </td><td> 5                                   </td></tr>\n",
       "\t<tr><td>Windy Oceancraft power boats         </td><td> 2                                   </td></tr>\n",
       "\t<tr><td>Windy power boats                    </td><td>64                                   </td></tr>\n",
       "\t<tr><td>Winga power boats                    </td><td> 1                                   </td></tr>\n",
       "\t<tr><td>Witti power boats                    </td><td> 1                                   </td></tr>\n",
       "\t<tr><td>XL Marine power boats                </td><td> 3                                   </td></tr>\n",
       "\t<tr><td>XO Boats power boats                 </td><td>10                                   </td></tr>\n",
       "\t<tr><td>Yacht Service SP. z o.o.  power boats</td><td> 1                                   </td></tr>\n",
       "\t<tr><td>Yachting France power boats          </td><td> 1                                   </td></tr>\n",
       "\t<tr><td>Yachtwerft Berlin power boats        </td><td> 1                                   </td></tr>\n",
       "\t<tr><td>Yamaha power boats                   </td><td> 2                                   </td></tr>\n",
       "\t<tr><td>Yamarin power boats                  </td><td>42                                   </td></tr>\n",
       "\t<tr><td>Yaretti power boats                  </td><td> 5                                   </td></tr>\n",
       "\t<tr><td>Z-Yacht power boats                  </td><td> 1                                   </td></tr>\n",
       "\t<tr><td>ZAR Formenti power boats             </td><td> 2                                   </td></tr>\n",
       "\t<tr><td>Zeeland Jachtbouw power boats        </td><td> 1                                   </td></tr>\n",
       "\t<tr><td>Zeta Group power boats               </td><td> 1                                   </td></tr>\n",
       "\t<tr><td>Zetacraft power boats                </td><td> 1                                   </td></tr>\n",
       "\t<tr><td>Zijlmans power boats                 </td><td> 6                                   </td></tr>\n",
       "\t<tr><td>Zodiac power boats                   </td><td> 1                                   </td></tr>\n",
       "\t<tr><td>Zuiderzee power boats                </td><td> 1                                   </td></tr>\n",
       "</tbody>\n",
       "</table>\n"
      ],
      "text/latex": [
       "\\begin{tabular}{r|ll}\n",
       " Group.1 & x\\\\\n",
       "\\hline\n",
       "\t                                 & 1338                           \\\\\n",
       "\t 2 emme marine power boats       &    1                           \\\\\n",
       "\t 3B Craft power boats            &    2                           \\\\\n",
       "\t A. Mostes power boats           &    6                           \\\\\n",
       "\t AB Yachts power boats           &    1                           \\\\\n",
       "\t Abacus power boats              &    4                           \\\\\n",
       "\t Abati Yachts power boats        &    1                           \\\\\n",
       "\t Abeking \\& Rasmussen power boats &    1                             \\\\\n",
       "\t Absolute power boats            &   34                           \\\\\n",
       "\t ACM Dufour power boats          &   10                           \\\\\n",
       "\t Acquaviva (IT) power boats      &    1                           \\\\\n",
       "\t Acroplast power boats           &    1                           \\\\\n",
       "\t Adagio Yachts power boats       &    2                           \\\\\n",
       "\t Adec power boats                &    1                           \\\\\n",
       "\t Adex Nautica power boats        &    1                           \\\\\n",
       "\t Adler power boats               &    1                           \\\\\n",
       "\t Admiral power boats             &    2                           \\\\\n",
       "\t Adventure power boats           &    1                           \\\\\n",
       "\t Aegean Yachts power boats       &    1                           \\\\\n",
       "\t ÃƒÂ–chsner power boats          &    1                           \\\\\n",
       "\t AGA-Marine power boats          &    1                           \\\\\n",
       "\t Agder power boats               &    1                           \\\\\n",
       "\t Aicon power boats               &   15                           \\\\\n",
       "\t AICON Yachts power boats        &    5                           \\\\\n",
       "\t Airon Marine power boats        &   29                           \\\\\n",
       "\t Akerboom power boats            &    1                           \\\\\n",
       "\t AL Custom power boats           &    1                           \\\\\n",
       "\t Ala Blu power boats             &    3                           \\\\\n",
       "\t Alalunga power boats            &    3                           \\\\\n",
       "\t Albatro power boats             &    3                           \\\\\n",
       "\t ... & ...\\\\\n",
       "\t Werner  power boats                   &  1                                   \\\\\n",
       "\t West Bay power boats                  &  1                                   \\\\\n",
       "\t Westwind power boats                  &  1                                   \\\\\n",
       "\t Whaly power boats                     &  3                                   \\\\\n",
       "\t White Shark power boats               &  2                                   \\\\\n",
       "\t Wicabo power boats                    &  2                                   \\\\\n",
       "\t Wider power boats                     &  1                                   \\\\\n",
       "\t Wiking power boats                    &  1                                   \\\\\n",
       "\t Williams power boats                  &  1                                   \\\\\n",
       "\t Wim van der Valk power boats          &  5                                   \\\\\n",
       "\t Windy Oceancraft power boats          &  2                                   \\\\\n",
       "\t Windy power boats                     & 64                                   \\\\\n",
       "\t Winga power boats                     &  1                                   \\\\\n",
       "\t Witti power boats                     &  1                                   \\\\\n",
       "\t XL Marine power boats                 &  3                                   \\\\\n",
       "\t XO Boats power boats                  & 10                                   \\\\\n",
       "\t Yacht Service SP. z o.o.  power boats &  1                                   \\\\\n",
       "\t Yachting France power boats           &  1                                   \\\\\n",
       "\t Yachtwerft Berlin power boats         &  1                                   \\\\\n",
       "\t Yamaha power boats                    &  2                                   \\\\\n",
       "\t Yamarin power boats                   & 42                                   \\\\\n",
       "\t Yaretti power boats                   &  5                                   \\\\\n",
       "\t Z-Yacht power boats                   &  1                                   \\\\\n",
       "\t ZAR Formenti power boats              &  2                                   \\\\\n",
       "\t Zeeland Jachtbouw power boats         &  1                                   \\\\\n",
       "\t Zeta Group power boats                &  1                                   \\\\\n",
       "\t Zetacraft power boats                 &  1                                   \\\\\n",
       "\t Zijlmans power boats                  &  6                                   \\\\\n",
       "\t Zodiac power boats                    &  1                                   \\\\\n",
       "\t Zuiderzee power boats                 &  1                                   \\\\\n",
       "\\end{tabular}\n"
      ],
      "text/markdown": [
       "\n",
       "| Group.1 | x |\n",
       "|---|---|\n",
       "|                                 | 1338                            |\n",
       "| 2 emme marine power boats       |    1                            |\n",
       "| 3B Craft power boats            |    2                            |\n",
       "| A. Mostes power boats           |    6                            |\n",
       "| AB Yachts power boats           |    1                            |\n",
       "| Abacus power boats              |    4                            |\n",
       "| Abati Yachts power boats        |    1                            |\n",
       "| Abeking & Rasmussen power boats |    1                            |\n",
       "| Absolute power boats            |   34                            |\n",
       "| ACM Dufour power boats          |   10                            |\n",
       "| Acquaviva (IT) power boats      |    1                            |\n",
       "| Acroplast power boats           |    1                            |\n",
       "| Adagio Yachts power boats       |    2                            |\n",
       "| Adec power boats                |    1                            |\n",
       "| Adex Nautica power boats        |    1                            |\n",
       "| Adler power boats               |    1                            |\n",
       "| Admiral power boats             |    2                            |\n",
       "| Adventure power boats           |    1                            |\n",
       "| Aegean Yachts power boats       |    1                            |\n",
       "| ÃƒÂ–chsner power boats          |    1                            |\n",
       "| AGA-Marine power boats          |    1                            |\n",
       "| Agder power boats               |    1                            |\n",
       "| Aicon power boats               |   15                            |\n",
       "| AICON Yachts power boats        |    5                            |\n",
       "| Airon Marine power boats        |   29                            |\n",
       "| Akerboom power boats            |    1                            |\n",
       "| AL Custom power boats           |    1                            |\n",
       "| Ala Blu power boats             |    3                            |\n",
       "| Alalunga power boats            |    3                            |\n",
       "| Albatro power boats             |    3                            |\n",
       "| ... | ... |\n",
       "| Werner  power boats                   |  1                                    |\n",
       "| West Bay power boats                  |  1                                    |\n",
       "| Westwind power boats                  |  1                                    |\n",
       "| Whaly power boats                     |  3                                    |\n",
       "| White Shark power boats               |  2                                    |\n",
       "| Wicabo power boats                    |  2                                    |\n",
       "| Wider power boats                     |  1                                    |\n",
       "| Wiking power boats                    |  1                                    |\n",
       "| Williams power boats                  |  1                                    |\n",
       "| Wim van der Valk power boats          |  5                                    |\n",
       "| Windy Oceancraft power boats          |  2                                    |\n",
       "| Windy power boats                     | 64                                    |\n",
       "| Winga power boats                     |  1                                    |\n",
       "| Witti power boats                     |  1                                    |\n",
       "| XL Marine power boats                 |  3                                    |\n",
       "| XO Boats power boats                  | 10                                    |\n",
       "| Yacht Service SP. z o.o.  power boats |  1                                    |\n",
       "| Yachting France power boats           |  1                                    |\n",
       "| Yachtwerft Berlin power boats         |  1                                    |\n",
       "| Yamaha power boats                    |  2                                    |\n",
       "| Yamarin power boats                   | 42                                    |\n",
       "| Yaretti power boats                   |  5                                    |\n",
       "| Z-Yacht power boats                   |  1                                    |\n",
       "| ZAR Formenti power boats              |  2                                    |\n",
       "| Zeeland Jachtbouw power boats         |  1                                    |\n",
       "| Zeta Group power boats                |  1                                    |\n",
       "| Zetacraft power boats                 |  1                                    |\n",
       "| Zijlmans power boats                  |  6                                    |\n",
       "| Zodiac power boats                    |  1                                    |\n",
       "| Zuiderzee power boats                 |  1                                    |\n",
       "\n"
      ],
      "text/plain": [
       "    Group.1                               x   \n",
       "1                                         1338\n",
       "2   2 emme marine power boats                1\n",
       "3   3B Craft power boats                     2\n",
       "4   A. Mostes power boats                    6\n",
       "5   AB Yachts power boats                    1\n",
       "6   Abacus power boats                       4\n",
       "7   Abati Yachts power boats                 1\n",
       "8   Abeking & Rasmussen power boats          1\n",
       "9   Absolute power boats                    34\n",
       "10  ACM Dufour power boats                  10\n",
       "11  Acquaviva (IT) power boats               1\n",
       "12  Acroplast power boats                    1\n",
       "13  Adagio Yachts power boats                2\n",
       "14  Adec power boats                         1\n",
       "15  Adex Nautica power boats                 1\n",
       "16  Adler power boats                        1\n",
       "17  Admiral power boats                      2\n",
       "18  Adventure power boats                    1\n",
       "19  Aegean Yachts power boats                1\n",
       "20  ÃƒÂ–chsner power boats                   1\n",
       "21  AGA-Marine power boats                   1\n",
       "22  Agder power boats                        1\n",
       "23  Aicon power boats                       15\n",
       "24  AICON Yachts power boats                 5\n",
       "25  Airon Marine power boats                29\n",
       "26  Akerboom power boats                     1\n",
       "27  AL Custom power boats                    1\n",
       "28  Ala Blu power boats                      3\n",
       "29  Alalunga power boats                     3\n",
       "30  Albatro power boats                      3\n",
       "... ...                                   ... \n",
       "882 Werner  power boats                    1  \n",
       "883 West Bay power boats                   1  \n",
       "884 Westwind power boats                   1  \n",
       "885 Whaly power boats                      3  \n",
       "886 White Shark power boats                2  \n",
       "887 Wicabo power boats                     2  \n",
       "888 Wider power boats                      1  \n",
       "889 Wiking power boats                     1  \n",
       "890 Williams power boats                   1  \n",
       "891 Wim van der Valk power boats           5  \n",
       "892 Windy Oceancraft power boats           2  \n",
       "893 Windy power boats                     64  \n",
       "894 Winga power boats                      1  \n",
       "895 Witti power boats                      1  \n",
       "896 XL Marine power boats                  3  \n",
       "897 XO Boats power boats                  10  \n",
       "898 Yacht Service SP. z o.o.  power boats  1  \n",
       "899 Yachting France power boats            1  \n",
       "900 Yachtwerft Berlin power boats          1  \n",
       "901 Yamaha power boats                     2  \n",
       "902 Yamarin power boats                   42  \n",
       "903 Yaretti power boats                    5  \n",
       "904 Z-Yacht power boats                    1  \n",
       "905 ZAR Formenti power boats               2  \n",
       "906 Zeeland Jachtbouw power boats          1  \n",
       "907 Zeta Group power boats                 1  \n",
       "908 Zetacraft power boats                  1  \n",
       "909 Zijlmans power boats                   6  \n",
       "910 Zodiac power boats                     1  \n",
       "911 Zuiderzee power boats                  1  "
      ]
     },
     "metadata": {},
     "output_type": "display_data"
    }
   ],
   "source": [
    "#Example 4\n",
    "aggregate(df$Manufacturer, by=list(df$Manufacturer), FUN=length)"
   ]
  },
  {
   "cell_type": "code",
   "execution_count": 44,
   "id": "94b3c737",
   "metadata": {},
   "outputs": [
    {
     "data": {
      "text/html": [
       "<table>\n",
       "<thead><tr><th scope=col>Price</th><th scope=col>BoatType</th><th scope=col>Manufacturer</th><th scope=col>Type</th><th scope=col>YearBuilt</th><th scope=col>Length</th><th scope=col>Width</th><th scope=col>Material</th><th scope=col>ViewsLast7Days</th><th scope=col>TypeCopy</th><th scope=col>ViewsTimes2</th><th scope=col>NewAndPopular</th></tr></thead>\n",
       "<tbody>\n",
       "\t<tr><td>CHF 3337            </td><td>Motor Yacht         </td><td>Rigiflex power boats</td><td>new boat from stock </td><td>2017                </td><td>4.00                </td><td>1.90                </td><td>                    </td><td>226                 </td><td>new boat from stock </td><td>452                 </td><td>1                   </td></tr>\n",
       "\t<tr><td>EUR 3490            </td><td>Center console boat </td><td>Terhi power boats   </td><td>new boat from stock </td><td>2020                </td><td>4.00                </td><td>1.50                </td><td>Thermoplastic       </td><td> 75                 </td><td>new boat from stock </td><td>150                 </td><td>0                   </td></tr>\n",
       "\t<tr><td>CHF 3770            </td><td>Sport Boat          </td><td>Marine power boats  </td><td>new boat from stock </td><td>   0                </td><td>3.69                </td><td>1.42                </td><td>Aluminium           </td><td>124                 </td><td>new boat from stock </td><td>248                 </td><td>0                   </td></tr>\n",
       "\t<tr><td>DKK 25900           </td><td>Sport Boat          </td><td>Pioner power boats  </td><td>new boat from stock </td><td>2020                </td><td>3.00                </td><td>1.00                </td><td>                    </td><td> 64                 </td><td>new boat from stock </td><td>128                 </td><td>0                   </td></tr>\n",
       "\t<tr><td>EUR 3399            </td><td>Fishing Boat        </td><td>Linder power boats  </td><td>new boat from stock </td><td>2019                </td><td>3.55                </td><td>1.46                </td><td>Aluminium           </td><td> 58                 </td><td>new boat from stock </td><td>116                 </td><td>0                   </td></tr>\n",
       "\t<tr><td>CHF 3650            </td><td>Sport Boat          </td><td>Linder power boats  </td><td>new boat from stock </td><td>   0                </td><td>4.03                </td><td>1.56                </td><td>Aluminium           </td><td>132                 </td><td>new boat from stock </td><td>264                 </td><td>0                   </td></tr>\n",
       "</tbody>\n",
       "</table>\n"
      ],
      "text/latex": [
       "\\begin{tabular}{r|llllllllllll}\n",
       " Price & BoatType & Manufacturer & Type & YearBuilt & Length & Width & Material & ViewsLast7Days & TypeCopy & ViewsTimes2 & NewAndPopular\\\\\n",
       "\\hline\n",
       "\t CHF 3337             & Motor Yacht          & Rigiflex power boats & new boat from stock  & 2017                 & 4.00                 & 1.90                 &                      & 226                  & new boat from stock  & 452                  & 1                   \\\\\n",
       "\t EUR 3490             & Center console boat  & Terhi power boats    & new boat from stock  & 2020                 & 4.00                 & 1.50                 & Thermoplastic        &  75                  & new boat from stock  & 150                  & 0                   \\\\\n",
       "\t CHF 3770             & Sport Boat           & Marine power boats   & new boat from stock  &    0                 & 3.69                 & 1.42                 & Aluminium            & 124                  & new boat from stock  & 248                  & 0                   \\\\\n",
       "\t DKK 25900            & Sport Boat           & Pioner power boats   & new boat from stock  & 2020                 & 3.00                 & 1.00                 &                      &  64                  & new boat from stock  & 128                  & 0                   \\\\\n",
       "\t EUR 3399             & Fishing Boat         & Linder power boats   & new boat from stock  & 2019                 & 3.55                 & 1.46                 & Aluminium            &  58                  & new boat from stock  & 116                  & 0                   \\\\\n",
       "\t CHF 3650             & Sport Boat           & Linder power boats   & new boat from stock  &    0                 & 4.03                 & 1.56                 & Aluminium            & 132                  & new boat from stock  & 264                  & 0                   \\\\\n",
       "\\end{tabular}\n"
      ],
      "text/markdown": [
       "\n",
       "| Price | BoatType | Manufacturer | Type | YearBuilt | Length | Width | Material | ViewsLast7Days | TypeCopy | ViewsTimes2 | NewAndPopular |\n",
       "|---|---|---|---|---|---|---|---|---|---|---|---|\n",
       "| CHF 3337             | Motor Yacht          | Rigiflex power boats | new boat from stock  | 2017                 | 4.00                 | 1.90                 |                      | 226                  | new boat from stock  | 452                  | 1                    |\n",
       "| EUR 3490             | Center console boat  | Terhi power boats    | new boat from stock  | 2020                 | 4.00                 | 1.50                 | Thermoplastic        |  75                  | new boat from stock  | 150                  | 0                    |\n",
       "| CHF 3770             | Sport Boat           | Marine power boats   | new boat from stock  |    0                 | 3.69                 | 1.42                 | Aluminium            | 124                  | new boat from stock  | 248                  | 0                    |\n",
       "| DKK 25900            | Sport Boat           | Pioner power boats   | new boat from stock  | 2020                 | 3.00                 | 1.00                 |                      |  64                  | new boat from stock  | 128                  | 0                    |\n",
       "| EUR 3399             | Fishing Boat         | Linder power boats   | new boat from stock  | 2019                 | 3.55                 | 1.46                 | Aluminium            |  58                  | new boat from stock  | 116                  | 0                    |\n",
       "| CHF 3650             | Sport Boat           | Linder power boats   | new boat from stock  |    0                 | 4.03                 | 1.56                 | Aluminium            | 132                  | new boat from stock  | 264                  | 0                    |\n",
       "\n"
      ],
      "text/plain": [
       "  Price     BoatType            Manufacturer         Type               \n",
       "1 CHF 3337  Motor Yacht         Rigiflex power boats new boat from stock\n",
       "2 EUR 3490  Center console boat Terhi power boats    new boat from stock\n",
       "3 CHF 3770  Sport Boat          Marine power boats   new boat from stock\n",
       "4 DKK 25900 Sport Boat          Pioner power boats   new boat from stock\n",
       "5 EUR 3399  Fishing Boat        Linder power boats   new boat from stock\n",
       "6 CHF 3650  Sport Boat          Linder power boats   new boat from stock\n",
       "  YearBuilt Length Width Material      ViewsLast7Days TypeCopy           \n",
       "1 2017      4.00   1.90                226            new boat from stock\n",
       "2 2020      4.00   1.50  Thermoplastic  75            new boat from stock\n",
       "3    0      3.69   1.42  Aluminium     124            new boat from stock\n",
       "4 2020      3.00   1.00                 64            new boat from stock\n",
       "5 2019      3.55   1.46  Aluminium      58            new boat from stock\n",
       "6    0      4.03   1.56  Aluminium     132            new boat from stock\n",
       "  ViewsTimes2 NewAndPopular\n",
       "1 452         1            \n",
       "2 150         0            \n",
       "3 248         0            \n",
       "4 128         0            \n",
       "5 116         0            \n",
       "6 264         0            "
      ]
     },
     "metadata": {},
     "output_type": "display_data"
    }
   ],
   "source": [
    "head(df)"
   ]
  },
  {
   "cell_type": "code",
   "execution_count": 58,
   "id": "e608f1ab",
   "metadata": {},
   "outputs": [],
   "source": [
    "#Creating PLots Examples"
   ]
  },
  {
   "cell_type": "code",
   "execution_count": 63,
   "id": "88b67737",
   "metadata": {},
   "outputs": [
    {
     "data": {
      "image/png": "[encoded data removed]",
      "text/plain": [
       "Plot with title \"Boat Width vs. Length\""
      ]
     },
     "metadata": {},
     "output_type": "display_data"
    }
   ],
   "source": [
    "#Example 1\n",
    "plot(df$Length, df$Width, main=\"Boat Width vs. Length\", xlab=\"Length\", ylab=\"Width\", col=\"blue\")"
   ]
  },
  {
   "cell_type": "code",
   "execution_count": 67,
   "id": "190323a3",
   "metadata": {},
   "outputs": [
    {
     "data": {
      "image/png": "[encoded data removed]",
      "text/plain": [
       "Plot with title \"Boat Width vs. Length\""
      ]
     },
     "metadata": {},
     "output_type": "display_data"
    }
   ],
   "source": [
    "#Example 2\n",
    "plot(df$Length, df$Width, main=\"Boat Width vs. Length\", xlab=\"Height\", ylab=\"Width\", col=\"blue\")\n",
    "abline(lm(df$Width~df$Length), col=\"red\")"
   ]
  },
  {
   "cell_type": "code",
   "execution_count": 68,
   "id": "74147010",
   "metadata": {},
   "outputs": [
    {
     "data": {
      "text/html": [
       "<table>\n",
       "<thead><tr><th scope=col>Price</th><th scope=col>BoatType</th><th scope=col>Manufacturer</th><th scope=col>Type</th><th scope=col>YearBuilt</th><th scope=col>Length</th><th scope=col>Width</th><th scope=col>Material</th><th scope=col>ViewsLast7Days</th><th scope=col>TypeCopy</th><th scope=col>ViewsTimes2</th><th scope=col>NewAndPopular</th></tr></thead>\n",
       "<tbody>\n",
       "\t<tr><td>CHF 3337            </td><td>Motor Yacht         </td><td>Rigiflex power boats</td><td>new boat from stock </td><td>2017                </td><td>4.00                </td><td>1.90                </td><td>                    </td><td>226                 </td><td>new boat from stock </td><td>452                 </td><td>1                   </td></tr>\n",
       "\t<tr><td>EUR 3490            </td><td>Center console boat </td><td>Terhi power boats   </td><td>new boat from stock </td><td>2020                </td><td>4.00                </td><td>1.50                </td><td>Thermoplastic       </td><td> 75                 </td><td>new boat from stock </td><td>150                 </td><td>0                   </td></tr>\n",
       "\t<tr><td>CHF 3770            </td><td>Sport Boat          </td><td>Marine power boats  </td><td>new boat from stock </td><td>   0                </td><td>3.69                </td><td>1.42                </td><td>Aluminium           </td><td>124                 </td><td>new boat from stock </td><td>248                 </td><td>0                   </td></tr>\n",
       "\t<tr><td>DKK 25900           </td><td>Sport Boat          </td><td>Pioner power boats  </td><td>new boat from stock </td><td>2020                </td><td>3.00                </td><td>1.00                </td><td>                    </td><td> 64                 </td><td>new boat from stock </td><td>128                 </td><td>0                   </td></tr>\n",
       "\t<tr><td>EUR 3399            </td><td>Fishing Boat        </td><td>Linder power boats  </td><td>new boat from stock </td><td>2019                </td><td>3.55                </td><td>1.46                </td><td>Aluminium           </td><td> 58                 </td><td>new boat from stock </td><td>116                 </td><td>0                   </td></tr>\n",
       "\t<tr><td>CHF 3650            </td><td>Sport Boat          </td><td>Linder power boats  </td><td>new boat from stock </td><td>   0                </td><td>4.03                </td><td>1.56                </td><td>Aluminium           </td><td>132                 </td><td>new boat from stock </td><td>264                 </td><td>0                   </td></tr>\n",
       "</tbody>\n",
       "</table>\n"
      ],
      "text/latex": [
       "\\begin{tabular}{r|llllllllllll}\n",
       " Price & BoatType & Manufacturer & Type & YearBuilt & Length & Width & Material & ViewsLast7Days & TypeCopy & ViewsTimes2 & NewAndPopular\\\\\n",
       "\\hline\n",
       "\t CHF 3337             & Motor Yacht          & Rigiflex power boats & new boat from stock  & 2017                 & 4.00                 & 1.90                 &                      & 226                  & new boat from stock  & 452                  & 1                   \\\\\n",
       "\t EUR 3490             & Center console boat  & Terhi power boats    & new boat from stock  & 2020                 & 4.00                 & 1.50                 & Thermoplastic        &  75                  & new boat from stock  & 150                  & 0                   \\\\\n",
       "\t CHF 3770             & Sport Boat           & Marine power boats   & new boat from stock  &    0                 & 3.69                 & 1.42                 & Aluminium            & 124                  & new boat from stock  & 248                  & 0                   \\\\\n",
       "\t DKK 25900            & Sport Boat           & Pioner power boats   & new boat from stock  & 2020                 & 3.00                 & 1.00                 &                      &  64                  & new boat from stock  & 128                  & 0                   \\\\\n",
       "\t EUR 3399             & Fishing Boat         & Linder power boats   & new boat from stock  & 2019                 & 3.55                 & 1.46                 & Aluminium            &  58                  & new boat from stock  & 116                  & 0                   \\\\\n",
       "\t CHF 3650             & Sport Boat           & Linder power boats   & new boat from stock  &    0                 & 4.03                 & 1.56                 & Aluminium            & 132                  & new boat from stock  & 264                  & 0                   \\\\\n",
       "\\end{tabular}\n"
      ],
      "text/markdown": [
       "\n",
       "| Price | BoatType | Manufacturer | Type | YearBuilt | Length | Width | Material | ViewsLast7Days | TypeCopy | ViewsTimes2 | NewAndPopular |\n",
       "|---|---|---|---|---|---|---|---|---|---|---|---|\n",
       "| CHF 3337             | Motor Yacht          | Rigiflex power boats | new boat from stock  | 2017                 | 4.00                 | 1.90                 |                      | 226                  | new boat from stock  | 452                  | 1                    |\n",
       "| EUR 3490             | Center console boat  | Terhi power boats    | new boat from stock  | 2020                 | 4.00                 | 1.50                 | Thermoplastic        |  75                  | new boat from stock  | 150                  | 0                    |\n",
       "| CHF 3770             | Sport Boat           | Marine power boats   | new boat from stock  |    0                 | 3.69                 | 1.42                 | Aluminium            | 124                  | new boat from stock  | 248                  | 0                    |\n",
       "| DKK 25900            | Sport Boat           | Pioner power boats   | new boat from stock  | 2020                 | 3.00                 | 1.00                 |                      |  64                  | new boat from stock  | 128                  | 0                    |\n",
       "| EUR 3399             | Fishing Boat         | Linder power boats   | new boat from stock  | 2019                 | 3.55                 | 1.46                 | Aluminium            |  58                  | new boat from stock  | 116                  | 0                    |\n",
       "| CHF 3650             | Sport Boat           | Linder power boats   | new boat from stock  |    0                 | 4.03                 | 1.56                 | Aluminium            | 132                  | new boat from stock  | 264                  | 0                    |\n",
       "\n"
      ],
      "text/plain": [
       "  Price     BoatType            Manufacturer         Type               \n",
       "1 CHF 3337  Motor Yacht         Rigiflex power boats new boat from stock\n",
       "2 EUR 3490  Center console boat Terhi power boats    new boat from stock\n",
       "3 CHF 3770  Sport Boat          Marine power boats   new boat from stock\n",
       "4 DKK 25900 Sport Boat          Pioner power boats   new boat from stock\n",
       "5 EUR 3399  Fishing Boat        Linder power boats   new boat from stock\n",
       "6 CHF 3650  Sport Boat          Linder power boats   new boat from stock\n",
       "  YearBuilt Length Width Material      ViewsLast7Days TypeCopy           \n",
       "1 2017      4.00   1.90                226            new boat from stock\n",
       "2 2020      4.00   1.50  Thermoplastic  75            new boat from stock\n",
       "3    0      3.69   1.42  Aluminium     124            new boat from stock\n",
       "4 2020      3.00   1.00                 64            new boat from stock\n",
       "5 2019      3.55   1.46  Aluminium      58            new boat from stock\n",
       "6    0      4.03   1.56  Aluminium     132            new boat from stock\n",
       "  ViewsTimes2 NewAndPopular\n",
       "1 452         1            \n",
       "2 150         0            \n",
       "3 248         0            \n",
       "4 128         0            \n",
       "5 116         0            \n",
       "6 264         0            "
      ]
     },
     "metadata": {},
     "output_type": "display_data"
    }
   ],
   "source": [
    "#Example 3\n",
    "head(df)"
   ]
  },
  {
   "cell_type": "code",
   "execution_count": 87,
   "id": "e502e5f4",
   "metadata": {},
   "outputs": [],
   "source": [
    "#Create temp df for aggregation\n",
    "temp_df <- aggregate(df$Width, list(df$Type), mean)\n",
    "\n",
    "#Rename columns\n",
    "colnames(temp_df) <- c(\"Type\", \"AvgWidth\")\n",
    "\n",
    "#Remove missing values\n",
    "temp_df <- na.omit(temp_df)\n",
    "\n",
    "#Remove outlier\n",
    "temp_df <- temp_df[temp_df$Type!='Used boat,Hybrid', ]\n",
    "\n",
    "#Get data into proper format\n",
    "data_bar <- temp_df$AvgWidth                      \n",
    "names(data_bar) <- temp_df$Type              "
   ]
  },
  {
   "cell_type": "code",
   "execution_count": 86,
   "id": "2e3fb80b",
   "metadata": {},
   "outputs": [
    {
     "data": {
      "image/png": "[encoded data removed]",
      "text/plain": [
       "Plot with title \"Average Width By Type\""
      ]
     },
     "metadata": {},
     "output_type": "display_data"
    }
   ],
   "source": [
    "#Create plot\n",
    "barplot(data_bar, main=\"Average Width By Type\", ylab=\"Average Width\", xlab=\"Type\", col=\"purple\")"
   ]
  },
  {
   "cell_type": "code",
   "execution_count": 91,
   "id": "595f0b06",
   "metadata": {},
   "outputs": [
    {
     "data": {
      "image/png": "[encoded data removed]",
      "text/plain": [
       "Plot with title \"Histogram of Views\""
      ]
     },
     "metadata": {},
     "output_type": "display_data"
    }
   ],
   "source": [
    "#Example 4\n",
    "hist(df$ViewsLast7Days, col=\"skyblue3\", main=\"Histogram of Views\", xlab=\"Number of Views\")"
   ]
  },
  {
   "cell_type": "code",
   "execution_count": 94,
   "id": "748a6ef2",
   "metadata": {},
   "outputs": [
    {
     "data": {
      "image/png": "[encoded data removed]",
      "text/plain": [
       "Plot with title \"Boxplot of Views\""
      ]
     },
     "metadata": {},
     "output_type": "display_data"
    }
   ],
   "source": [
    "#Example 5\n",
    "boxplot(df$ViewsLast7Days, col=\"dodgerblue\", main=\"Boxplot of Views\")"
   ]
  },
  {
   "cell_type": "code",
   "execution_count": 110,
   "id": "6d46e761",
   "metadata": {},
   "outputs": [],
   "source": [
    "#Create new data frame \"corr_df\" for illustration purposes\n",
    "col1 <- sample(0:100, replace=TRUE)\n",
    "col2 <- sample(-100:0, replace=TRUE)\n",
    "col3 <- sample(250:350, replace=TRUE)\n",
    "col4 <- sample(500:600, replace=TRUE)"
   ]
  },
  {
   "cell_type": "code",
   "execution_count": 116,
   "id": "cb65baff",
   "metadata": {},
   "outputs": [
    {
     "data": {
      "text/html": [
       "<table>\n",
       "<thead><tr><th scope=col>col1</th><th scope=col>col2</th><th scope=col>col3</th><th scope=col>col4</th></tr></thead>\n",
       "<tbody>\n",
       "\t<tr><td>77 </td><td>-66</td><td>332</td><td>530</td></tr>\n",
       "\t<tr><td> 7 </td><td>-75</td><td>346</td><td>501</td></tr>\n",
       "\t<tr><td>15 </td><td> -3</td><td>314</td><td>541</td></tr>\n",
       "\t<tr><td>66 </td><td>-15</td><td>326</td><td>529</td></tr>\n",
       "\t<tr><td>92 </td><td>-91</td><td>301</td><td>586</td></tr>\n",
       "\t<tr><td>99 </td><td>-33</td><td>307</td><td>523</td></tr>\n",
       "</tbody>\n",
       "</table>\n"
      ],
      "text/latex": [
       "\\begin{tabular}{r|llll}\n",
       " col1 & col2 & col3 & col4\\\\\n",
       "\\hline\n",
       "\t 77  & -66 & 332 & 530\\\\\n",
       "\t  7  & -75 & 346 & 501\\\\\n",
       "\t 15  &  -3 & 314 & 541\\\\\n",
       "\t 66  & -15 & 326 & 529\\\\\n",
       "\t 92  & -91 & 301 & 586\\\\\n",
       "\t 99  & -33 & 307 & 523\\\\\n",
       "\\end{tabular}\n"
      ],
      "text/markdown": [
       "\n",
       "| col1 | col2 | col3 | col4 |\n",
       "|---|---|---|---|\n",
       "| 77  | -66 | 332 | 530 |\n",
       "|  7  | -75 | 346 | 501 |\n",
       "| 15  |  -3 | 314 | 541 |\n",
       "| 66  | -15 | 326 | 529 |\n",
       "| 92  | -91 | 301 | 586 |\n",
       "| 99  | -33 | 307 | 523 |\n",
       "\n"
      ],
      "text/plain": [
       "  col1 col2 col3 col4\n",
       "1 77   -66  332  530 \n",
       "2  7   -75  346  501 \n",
       "3 15    -3  314  541 \n",
       "4 66   -15  326  529 \n",
       "5 92   -91  301  586 \n",
       "6 99   -33  307  523 "
      ]
     },
     "metadata": {},
     "output_type": "display_data"
    }
   ],
   "source": [
    "#Create data frame using data.frame function\n",
    "corr_df <- data.frame(col1, col2, col3, col4)\n",
    "head(corr_df)"
   ]
  },
  {
   "cell_type": "code",
   "execution_count": 117,
   "id": "41edd46c",
   "metadata": {},
   "outputs": [
    {
     "data": {
      "text/html": [
       "0.0512830007752541"
      ],
      "text/latex": [
       "0.0512830007752541"
      ],
      "text/markdown": [
       "0.0512830007752541"
      ],
      "text/plain": [
       "[1] 0.051283"
      ]
     },
     "metadata": {},
     "output_type": "display_data"
    }
   ],
   "source": [
    "#Compute correlation between col1 and col2\n",
    "cor(corr_df$col1, corr_df$col2)"
   ]
  },
  {
   "cell_type": "code",
   "execution_count": 118,
   "id": "3a881504",
   "metadata": {},
   "outputs": [
    {
     "data": {
      "text/html": [
       "<table>\n",
       "<thead><tr><th></th><th scope=col>col1</th><th scope=col>col2</th><th scope=col>col3</th><th scope=col>col4</th></tr></thead>\n",
       "<tbody>\n",
       "\t<tr><th scope=row>col1</th><td> 1.00000000</td><td> 0.0512830 </td><td>-0.07196761</td><td> 0.03118215</td></tr>\n",
       "\t<tr><th scope=row>col2</th><td> 0.05128300</td><td> 1.0000000 </td><td> 0.15199847</td><td>-0.11419788</td></tr>\n",
       "\t<tr><th scope=row>col3</th><td>-0.07196761</td><td> 0.1519985 </td><td> 1.00000000</td><td>-0.17733635</td></tr>\n",
       "\t<tr><th scope=row>col4</th><td> 0.03118215</td><td>-0.1141979 </td><td>-0.17733635</td><td> 1.00000000</td></tr>\n",
       "</tbody>\n",
       "</table>\n"
      ],
      "text/latex": [
       "\\begin{tabular}{r|llll}\n",
       "  & col1 & col2 & col3 & col4\\\\\n",
       "\\hline\n",
       "\tcol1 &  1.00000000 &  0.0512830  & -0.07196761 &  0.03118215\\\\\n",
       "\tcol2 &  0.05128300 &  1.0000000  &  0.15199847 & -0.11419788\\\\\n",
       "\tcol3 & -0.07196761 &  0.1519985  &  1.00000000 & -0.17733635\\\\\n",
       "\tcol4 &  0.03118215 & -0.1141979  & -0.17733635 &  1.00000000\\\\\n",
       "\\end{tabular}\n"
      ],
      "text/markdown": [
       "\n",
       "| <!--/--> | col1 | col2 | col3 | col4 |\n",
       "|---|---|---|---|---|\n",
       "| col1 |  1.00000000 |  0.0512830  | -0.07196761 |  0.03118215 |\n",
       "| col2 |  0.05128300 |  1.0000000  |  0.15199847 | -0.11419788 |\n",
       "| col3 | -0.07196761 |  0.1519985  |  1.00000000 | -0.17733635 |\n",
       "| col4 |  0.03118215 | -0.1141979  | -0.17733635 |  1.00000000 |\n",
       "\n"
      ],
      "text/plain": [
       "     col1        col2       col3        col4       \n",
       "col1  1.00000000  0.0512830 -0.07196761  0.03118215\n",
       "col2  0.05128300  1.0000000  0.15199847 -0.11419788\n",
       "col3 -0.07196761  0.1519985  1.00000000 -0.17733635\n",
       "col4  0.03118215 -0.1141979 -0.17733635  1.00000000"
      ]
     },
     "metadata": {},
     "output_type": "display_data"
    }
   ],
   "source": [
    "#Create correlation matrix for entire data frame\n",
    "cor(corr_df)"
   ]
  },
  {
   "cell_type": "code",
   "execution_count": null,
   "id": "bac0cf77",
   "metadata": {},
   "outputs": [],
   "source": []
  }
 ],
 "metadata": {
  "kernelspec": {
   "display_name": "R",
   "language": "R",
   "name": "ir"
  },
  "language_info": {
   "codemirror_mode": "r",
   "file_extension": ".r",
   "mimetype": "text/x-r-source",
   "name": "R",
   "pygments_lexer": "r",
   "version": "3.6.1"
  }
 },
 "nbformat": 4,
 "nbformat_minor": 5
}
