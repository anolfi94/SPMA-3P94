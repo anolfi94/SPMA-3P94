{
 "cells": [
  {
   "cell_type": "code",
   "execution_count": 1,
   "id": "6a5de5b6",
   "metadata": {},
   "outputs": [
    {
     "name": "stdout",
     "output_type": "stream",
     "text": [
      "package 'Metrics' successfully unpacked and MD5 sums checked\n",
      "\n",
      "The downloaded binary packages are in\n",
      "\tC:\\Users\\User\\AppData\\Local\\Temp\\RtmpkJuwyu\\downloaded_packages\n"
     ]
    },
    {
     "name": "stderr",
     "output_type": "stream",
     "text": [
      "Warning message:\n",
      "\"package 'Metrics' was built under R version 3.6.3\""
     ]
    }
   ],
   "source": [
    "#Import the data and import/install metrics package\n",
    "install.packages(\"Metrics\")\n",
    "library(Metrics)"
   ]
  },
  {
   "cell_type": "code",
   "execution_count": 3,
   "id": "a67514b7",
   "metadata": {},
   "outputs": [
    {
     "data": {
      "text/html": [
       "<table>\n",
       "<thead><tr><th scope=col>X</th><th scope=col>Y</th></tr></thead>\n",
       "<tbody>\n",
       "\t<tr><td>11</td><td>42</td></tr>\n",
       "\t<tr><td>26</td><td>87</td></tr>\n",
       "\t<tr><td>25</td><td>61</td></tr>\n",
       "\t<tr><td>28</td><td>63</td></tr>\n",
       "\t<tr><td>24</td><td>83</td></tr>\n",
       "\t<tr><td>15</td><td>70</td></tr>\n",
       "\t<tr><td>22</td><td>53</td></tr>\n",
       "\t<tr><td>21</td><td>70</td></tr>\n",
       "\t<tr><td>19</td><td>52</td></tr>\n",
       "\t<tr><td>18</td><td>85</td></tr>\n",
       "</tbody>\n",
       "</table>\n"
      ],
      "text/latex": [
       "\\begin{tabular}{r|ll}\n",
       " X & Y\\\\\n",
       "\\hline\n",
       "\t 11 & 42\\\\\n",
       "\t 26 & 87\\\\\n",
       "\t 25 & 61\\\\\n",
       "\t 28 & 63\\\\\n",
       "\t 24 & 83\\\\\n",
       "\t 15 & 70\\\\\n",
       "\t 22 & 53\\\\\n",
       "\t 21 & 70\\\\\n",
       "\t 19 & 52\\\\\n",
       "\t 18 & 85\\\\\n",
       "\\end{tabular}\n"
      ],
      "text/markdown": [
       "\n",
       "| X | Y |\n",
       "|---|---|\n",
       "| 11 | 42 |\n",
       "| 26 | 87 |\n",
       "| 25 | 61 |\n",
       "| 28 | 63 |\n",
       "| 24 | 83 |\n",
       "| 15 | 70 |\n",
       "| 22 | 53 |\n",
       "| 21 | 70 |\n",
       "| 19 | 52 |\n",
       "| 18 | 85 |\n",
       "\n"
      ],
      "text/plain": [
       "   X  Y \n",
       "1  11 42\n",
       "2  26 87\n",
       "3  25 61\n",
       "4  28 63\n",
       "5  24 83\n",
       "6  15 70\n",
       "7  22 53\n",
       "8  21 70\n",
       "9  19 52\n",
       "10 18 85"
      ]
     },
     "metadata": {},
     "output_type": "display_data"
    }
   ],
   "source": [
    "#Import data\n",
    "reg_example <- read.csv(\"Simple_Regression.csv\")\n",
    "reg_example"
   ]
  },
  {
   "cell_type": "code",
   "execution_count": 4,
   "id": "292a555b",
   "metadata": {},
   "outputs": [
    {
     "data": {
      "text/plain": [
       "\n",
       "Call:\n",
       "lm(formula = Y ~ X, data = reg_example)\n",
       "\n",
       "Residuals:\n",
       "    Min      1Q  Median      3Q     Max \n",
       "-14.880 -12.257  -3.543  12.161  21.774 \n",
       "\n",
       "Coefficients:\n",
       "            Estimate Std. Error t value Pr(>|t|)  \n",
       "(Intercept)  42.2824    20.1866   2.095   0.0695 .\n",
       "X             1.1635     0.9395   1.238   0.2506  \n",
       "---\n",
       "Signif. codes:  0 '***' 0.001 '**' 0.01 '*' 0.05 '.' 0.1 ' ' 1\n",
       "\n",
       "Residual standard error: 14.82 on 8 degrees of freedom\n",
       "Multiple R-squared:  0.1609,\tAdjusted R-squared:  0.05599 \n",
       "F-statistic: 1.534 on 1 and 8 DF,  p-value: 0.2506\n"
      ]
     },
     "metadata": {},
     "output_type": "display_data"
    }
   ],
   "source": [
    "#Model 1 - Use all 10 observations to train and test model\n",
    "model1 <- lm(Y~X, data=reg_example)\n",
    "summary(model1)"
   ]
  },
  {
   "cell_type": "code",
   "execution_count": 5,
   "id": "3d53b548",
   "metadata": {},
   "outputs": [
    {
     "data": {
      "text/html": [
       "<dl class=dl-horizontal>\n",
       "\t<dt>1</dt>\n",
       "\t\t<dd>55.0811570912013</dd>\n",
       "\t<dt>2</dt>\n",
       "\t\t<dd>72.5339493772599</dd>\n",
       "\t<dt>3</dt>\n",
       "\t\t<dd>71.3704298915227</dd>\n",
       "\t<dt>4</dt>\n",
       "\t\t<dd>74.8609883487344</dd>\n",
       "\t<dt>5</dt>\n",
       "\t\t<dd>70.2069104057855</dd>\n",
       "\t<dt>6</dt>\n",
       "\t\t<dd>59.7352350341503</dd>\n",
       "\t<dt>7</dt>\n",
       "\t\t<dd>67.879871434311</dd>\n",
       "\t<dt>8</dt>\n",
       "\t\t<dd>66.7163519485737</dd>\n",
       "\t<dt>9</dt>\n",
       "\t\t<dd>64.3893129770993</dd>\n",
       "\t<dt>10</dt>\n",
       "\t\t<dd>63.225793491362</dd>\n",
       "</dl>\n"
      ],
      "text/latex": [
       "\\begin{description*}\n",
       "\\item[1] 55.0811570912013\n",
       "\\item[2] 72.5339493772599\n",
       "\\item[3] 71.3704298915227\n",
       "\\item[4] 74.8609883487344\n",
       "\\item[5] 70.2069104057855\n",
       "\\item[6] 59.7352350341503\n",
       "\\item[7] 67.879871434311\n",
       "\\item[8] 66.7163519485737\n",
       "\\item[9] 64.3893129770993\n",
       "\\item[10] 63.225793491362\n",
       "\\end{description*}\n"
      ],
      "text/markdown": [
       "1\n",
       ":   55.08115709120132\n",
       ":   72.53394937725993\n",
       ":   71.37042989152274\n",
       ":   74.86098834873445\n",
       ":   70.20691040578556\n",
       ":   59.73523503415037\n",
       ":   67.8798714343118\n",
       ":   66.71635194857379\n",
       ":   64.389312977099310\n",
       ":   63.225793491362\n",
       "\n"
      ],
      "text/plain": [
       "       1        2        3        4        5        6        7        8 \n",
       "55.08116 72.53395 71.37043 74.86099 70.20691 59.73524 67.87987 66.71635 \n",
       "       9       10 \n",
       "64.38931 63.22579 "
      ]
     },
     "metadata": {},
     "output_type": "display_data"
    }
   ],
   "source": [
    "#Make predictions and calculate model evaluation metrics\n",
    "predictions <- predict(model1, model1$X)\n",
    "predictions"
   ]
  },
  {
   "cell_type": "code",
   "execution_count": 6,
   "id": "a3fa5ab0",
   "metadata": {},
   "outputs": [
    {
     "data": {
      "text/html": [
       "12.5163519485737"
      ],
      "text/latex": [
       "12.5163519485737"
      ],
      "text/markdown": [
       "12.5163519485737"
      ],
      "text/plain": [
       "[1] 12.51635"
      ]
     },
     "metadata": {},
     "output_type": "display_data"
    }
   ],
   "source": [
    "#Calculate MAE\n",
    "mae <- mae(data$Y, predictions)\n",
    "mae"
   ]
  },
  {
   "cell_type": "code",
   "execution_count": 9,
   "id": "2b2291dc",
   "metadata": {},
   "outputs": [
    {
     "data": {
      "text/html": [
       "175.744475693049"
      ],
      "text/latex": [
       "175.744475693049"
      ],
      "text/markdown": [
       "175.744475693049"
      ],
      "text/plain": [
       "[1] 175.7445"
      ]
     },
     "metadata": {},
     "output_type": "display_data"
    }
   ],
   "source": [
    "#Calculate MSE\n",
    "mse <- mse(data$Y, predictions)\n",
    "mse"
   ]
  },
  {
   "cell_type": "code",
   "execution_count": 10,
   "id": "1a6e78f1",
   "metadata": {},
   "outputs": [
    {
     "data": {
      "text/html": [
       "13.2568652287428"
      ],
      "text/latex": [
       "13.2568652287428"
      ],
      "text/markdown": [
       "13.2568652287428"
      ],
      "text/plain": [
       "[1] 13.25687"
      ]
     },
     "metadata": {},
     "output_type": "display_data"
    }
   ],
   "source": [
    "#Calculate RMSE\n",
    "rmse <- rmse(data$Y, predictions)\n",
    "rmse"
   ]
  },
  {
   "cell_type": "code",
   "execution_count": 14,
   "id": "23260afa",
   "metadata": {},
   "outputs": [],
   "source": [
    "#Model 2 - Use 80% of data as training, 20% as testing\n",
    "train <- reg_example[c(1:6, 9, 10), ]\n",
    "test <- reg_example[c(7, 8), ]"
   ]
  },
  {
   "cell_type": "code",
   "execution_count": 15,
   "id": "8699409d",
   "metadata": {},
   "outputs": [
    {
     "data": {
      "text/plain": [
       "\n",
       "Call:\n",
       "lm(formula = Y ~ X, data = train)\n",
       "\n",
       "Residuals:\n",
       "    Min      1Q  Median      3Q     Max \n",
       "-13.831 -13.742  -1.448  11.492  20.522 \n",
       "\n",
       "Coefficients:\n",
       "            Estimate Std. Error t value Pr(>|t|)  \n",
       "(Intercept)   42.241     21.642   1.952   0.0988 .\n",
       "X              1.235      1.007   1.226   0.2660  \n",
       "---\n",
       "Signif. codes:  0 '***' 0.001 '**' 0.01 '*' 0.05 '.' 0.1 ' ' 1\n",
       "\n",
       "Residual standard error: 15.85 on 6 degrees of freedom\n",
       "Multiple R-squared:  0.2004,\tAdjusted R-squared:  0.06712 \n",
       "F-statistic: 1.504 on 1 and 6 DF,  p-value: 0.266\n"
      ]
     },
     "metadata": {},
     "output_type": "display_data"
    }
   ],
   "source": [
    "#Model 2\n",
    "model2 <- lm(Y~X, data=train)\n",
    "summary(model2)"
   ]
  },
  {
   "cell_type": "code",
   "execution_count": 16,
   "id": "36acf924",
   "metadata": {},
   "outputs": [
    {
     "data": {
      "text/html": [
       "<dl class=dl-horizontal>\n",
       "\t<dt>1</dt>\n",
       "\t\t<dd>69.4191919191919</dd>\n",
       "\t<dt>2</dt>\n",
       "\t\t<dd>68.1838383838384</dd>\n",
       "</dl>\n"
      ],
      "text/latex": [
       "\\begin{description*}\n",
       "\\item[1] 69.4191919191919\n",
       "\\item[2] 68.1838383838384\n",
       "\\end{description*}\n"
      ],
      "text/markdown": [
       "1\n",
       ":   69.41919191919192\n",
       ":   68.1838383838384\n",
       "\n"
      ],
      "text/plain": [
       "       1        2 \n",
       "69.41919 68.18384 "
      ]
     },
     "metadata": {},
     "output_type": "display_data"
    }
   ],
   "source": [
    "#Make predictions on test set\n",
    "predictions2 <- predict(model2, data.frame(X=test$X))\n",
    "predictions2"
   ]
  },
  {
   "cell_type": "code",
   "execution_count": 17,
   "id": "bea74284",
   "metadata": {},
   "outputs": [
    {
     "data": {
      "text/html": [
       "9.11767676767677"
      ],
      "text/latex": [
       "9.11767676767677"
      ],
      "text/markdown": [
       "9.11767676767677"
      ],
      "text/plain": [
       "[1] 9.117677"
      ]
     },
     "metadata": {},
     "output_type": "display_data"
    }
   ],
   "source": [
    "#Calculate mae\n",
    "mae2 <- mae(test$Y, predictions2)\n",
    "mae2"
   ]
  },
  {
   "cell_type": "code",
   "execution_count": 20,
   "id": "2d600229",
   "metadata": {},
   "outputs": [
    {
     "data": {
      "text/html": [
       "136.444153147638"
      ],
      "text/latex": [
       "136.444153147638"
      ],
      "text/markdown": [
       "136.444153147638"
      ],
      "text/plain": [
       "[1] 136.4442"
      ]
     },
     "metadata": {},
     "output_type": "display_data"
    }
   ],
   "source": [
    "#Calculate mse\n",
    "mse2 <- mse(test$Y, predictions2)\n",
    "mse2"
   ]
  },
  {
   "cell_type": "code",
   "execution_count": 22,
   "id": "3b3434f9",
   "metadata": {},
   "outputs": [
    {
     "data": {
      "text/html": [
       "11.6809311763933"
      ],
      "text/latex": [
       "11.6809311763933"
      ],
      "text/markdown": [
       "11.6809311763933"
      ],
      "text/plain": [
       "[1] 11.68093"
      ]
     },
     "metadata": {},
     "output_type": "display_data"
    }
   ],
   "source": [
    "#Calculate rmse\n",
    "rmse2 <- rmse(test$Y, predictions2)\n",
    "rmse2"
   ]
  },
  {
   "cell_type": "code",
   "execution_count": 23,
   "id": "26a2effe",
   "metadata": {},
   "outputs": [
    {
     "data": {
      "text/html": [
       "<dl class=dl-horizontal>\n",
       "\t<dt>1</dt>\n",
       "\t\t<dd>55.830303030303</dd>\n",
       "\t<dt>2</dt>\n",
       "\t\t<dd>74.3606060606061</dd>\n",
       "\t<dt>3</dt>\n",
       "\t\t<dd>73.1252525252525</dd>\n",
       "\t<dt>4</dt>\n",
       "\t\t<dd>76.8313131313131</dd>\n",
       "\t<dt>5</dt>\n",
       "\t\t<dd>71.889898989899</dd>\n",
       "\t<dt>6</dt>\n",
       "\t\t<dd>60.7717171717172</dd>\n",
       "\t<dt>7</dt>\n",
       "\t\t<dd>65.7131313131313</dd>\n",
       "\t<dt>8</dt>\n",
       "\t\t<dd>64.4777777777778</dd>\n",
       "</dl>\n"
      ],
      "text/latex": [
       "\\begin{description*}\n",
       "\\item[1] 55.830303030303\n",
       "\\item[2] 74.3606060606061\n",
       "\\item[3] 73.1252525252525\n",
       "\\item[4] 76.8313131313131\n",
       "\\item[5] 71.889898989899\n",
       "\\item[6] 60.7717171717172\n",
       "\\item[7] 65.7131313131313\n",
       "\\item[8] 64.4777777777778\n",
       "\\end{description*}\n"
      ],
      "text/markdown": [
       "1\n",
       ":   55.8303030303032\n",
       ":   74.36060606060613\n",
       ":   73.12525252525254\n",
       ":   76.83131313131315\n",
       ":   71.8898989898996\n",
       ":   60.77171717171727\n",
       ":   65.71313131313138\n",
       ":   64.4777777777778\n",
       "\n"
      ],
      "text/plain": [
       "       1        2        3        4        5        6        7        8 \n",
       "55.83030 74.36061 73.12525 76.83131 71.88990 60.77172 65.71313 64.47778 "
      ]
     },
     "metadata": {},
     "output_type": "display_data"
    }
   ],
   "source": [
    "#Addendum: Individual residuals for model2 training data\n",
    "\n",
    "#Make predictions on TRAINING set (to obtain residuals)\n",
    "predictions3 <- predict(model2, data.frame(X=train$X))\n",
    "predictions3"
   ]
  },
  {
   "cell_type": "code",
   "execution_count": 24,
   "id": "0b5685af",
   "metadata": {},
   "outputs": [
    {
     "data": {
      "text/html": [
       "<dl class=dl-horizontal>\n",
       "\t<dt>1</dt>\n",
       "\t\t<dd>-13.830303030303</dd>\n",
       "\t<dt>2</dt>\n",
       "\t\t<dd>12.6393939393939</dd>\n",
       "\t<dt>3</dt>\n",
       "\t\t<dd>-12.1252525252525</dd>\n",
       "\t<dt>4</dt>\n",
       "\t\t<dd>-13.8313131313131</dd>\n",
       "\t<dt>5</dt>\n",
       "\t\t<dd>11.110101010101</dd>\n",
       "\t<dt>6</dt>\n",
       "\t\t<dd>9.22828282828283</dd>\n",
       "\t<dt>7</dt>\n",
       "\t\t<dd>-13.7131313131313</dd>\n",
       "\t<dt>8</dt>\n",
       "\t\t<dd>20.5222222222222</dd>\n",
       "</dl>\n"
      ],
      "text/latex": [
       "\\begin{description*}\n",
       "\\item[1] -13.830303030303\n",
       "\\item[2] 12.6393939393939\n",
       "\\item[3] -12.1252525252525\n",
       "\\item[4] -13.8313131313131\n",
       "\\item[5] 11.110101010101\n",
       "\\item[6] 9.22828282828283\n",
       "\\item[7] -13.7131313131313\n",
       "\\item[8] 20.5222222222222\n",
       "\\end{description*}\n"
      ],
      "text/markdown": [
       "1\n",
       ":   -13.8303030303032\n",
       ":   12.63939393939393\n",
       ":   -12.12525252525254\n",
       ":   -13.83131313131315\n",
       ":   11.1101010101016\n",
       ":   9.228282828282837\n",
       ":   -13.71313131313138\n",
       ":   20.5222222222222\n",
       "\n"
      ],
      "text/plain": [
       "         1          2          3          4          5          6          7 \n",
       "-13.830303  12.639394 -12.125253 -13.831313  11.110101   9.228283 -13.713131 \n",
       "         8 \n",
       " 20.522222 "
      ]
     },
     "metadata": {},
     "output_type": "display_data"
    }
   ],
   "source": [
    "#The residuals can then be found as follows:\n",
    "resid <- train$Y - predictions3\n",
    "resid"
   ]
  },
  {
   "cell_type": "code",
   "execution_count": 25,
   "id": "47c0c1f3",
   "metadata": {},
   "outputs": [
    {
     "data": {
      "text/html": [
       "-13.8313131313131"
      ],
      "text/latex": [
       "-13.8313131313131"
      ],
      "text/markdown": [
       "-13.8313131313131"
      ],
      "text/plain": [
       "[1] -13.83131"
      ]
     },
     "metadata": {},
     "output_type": "display_data"
    }
   ],
   "source": [
    "#Let's confirm the residual summary from the regression output\n",
    "min(resid)"
   ]
  },
  {
   "cell_type": "code",
   "execution_count": 26,
   "id": "42f0e1f8",
   "metadata": {},
   "outputs": [
    {
     "data": {
      "text/html": [
       "20.5222222222222"
      ],
      "text/latex": [
       "20.5222222222222"
      ],
      "text/markdown": [
       "20.5222222222222"
      ],
      "text/plain": [
       "[1] 20.52222"
      ]
     },
     "metadata": {},
     "output_type": "display_data"
    }
   ],
   "source": [
    "max(resid)"
   ]
  },
  {
   "cell_type": "code",
   "execution_count": 27,
   "id": "d89d63a2",
   "metadata": {},
   "outputs": [
    {
     "data": {
      "text/html": [
       "-1.44848484848485"
      ],
      "text/latex": [
       "-1.44848484848485"
      ],
      "text/markdown": [
       "-1.44848484848485"
      ],
      "text/plain": [
       "[1] -1.448485"
      ]
     },
     "metadata": {},
     "output_type": "display_data"
    }
   ],
   "source": [
    "median(resid)"
   ]
  },
  {
   "cell_type": "code",
   "execution_count": 28,
   "id": "8cc145eb",
   "metadata": {},
   "outputs": [
    {
     "data": {
      "text/html": [
       "<dl class=dl-horizontal>\n",
       "\t<dt>0%</dt>\n",
       "\t\t<dd>-13.8313131313131</dd>\n",
       "\t<dt>25%</dt>\n",
       "\t\t<dd>-13.7424242424242</dd>\n",
       "\t<dt>50%</dt>\n",
       "\t\t<dd>-1.44848484848485</dd>\n",
       "\t<dt>75%</dt>\n",
       "\t\t<dd>11.4924242424242</dd>\n",
       "\t<dt>100%</dt>\n",
       "\t\t<dd>20.5222222222222</dd>\n",
       "</dl>\n"
      ],
      "text/latex": [
       "\\begin{description*}\n",
       "\\item[0\\textbackslash{}\\%] -13.8313131313131\n",
       "\\item[25\\textbackslash{}\\%] -13.7424242424242\n",
       "\\item[50\\textbackslash{}\\%] -1.44848484848485\n",
       "\\item[75\\textbackslash{}\\%] 11.4924242424242\n",
       "\\item[100\\textbackslash{}\\%] 20.5222222222222\n",
       "\\end{description*}\n"
      ],
      "text/markdown": [
       "0%\n",
       ":   -13.831313131313125%\n",
       ":   -13.742424242424250%\n",
       ":   -1.4484848484848575%\n",
       ":   11.4924242424242100%\n",
       ":   20.5222222222222\n",
       "\n"
      ],
      "text/plain": [
       "        0%        25%        50%        75%       100% \n",
       "-13.831313 -13.742424  -1.448485  11.492424  20.522222 "
      ]
     },
     "metadata": {},
     "output_type": "display_data"
    }
   ],
   "source": [
    "quantile(resid) #Look at the 25% and 75% values (first and third quartiles respectively)"
   ]
  }
 ],
 "metadata": {
  "kernelspec": {
   "display_name": "R",
   "language": "R",
   "name": "ir"
  },
  "language_info": {
   "codemirror_mode": "r",
   "file_extension": ".r",
   "mimetype": "text/x-r-source",
   "name": "R",
   "pygments_lexer": "r",
   "version": "3.6.1"
  }
 },
 "nbformat": 4,
 "nbformat_minor": 5
}
