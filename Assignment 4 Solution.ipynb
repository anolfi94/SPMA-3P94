{
 "cells": [
  {
   "cell_type": "code",
   "execution_count": 1,
   "id": "177b0034-4868-40b3-a0ee-1c365905d91a",
   "metadata": {},
   "outputs": [],
   "source": [
    "#Assignment 4 Solutions"
   ]
  },
  {
   "cell_type": "code",
   "execution_count": 2,
   "id": "8d1224eb-67ee-4f55-a654-76ea098fa42f",
   "metadata": {},
   "outputs": [
    {
     "name": "stderr",
     "output_type": "stream",
     "text": [
      "\n",
      "Attaching package: ‘dplyr’\n",
      "\n",
      "\n",
      "The following objects are masked from ‘package:stats’:\n",
      "\n",
      "    filter, lag\n",
      "\n",
      "\n",
      "The following objects are masked from ‘package:base’:\n",
      "\n",
      "    intersect, setdiff, setequal, union\n",
      "\n",
      "\n"
     ]
    }
   ],
   "source": [
    "#Import libraries\n",
    "library(bigrquery)\n",
    "library(dplyr)\n",
    "library(DBI)"
   ]
  },
  {
   "cell_type": "code",
   "execution_count": 3,
   "id": "079fd8b7-1572-4af5-86b1-e44bf2eefed2",
   "metadata": {},
   "outputs": [],
   "source": [
    "#Establish connection with big query baseball dataset\n",
    "con <- dbConnect(\n",
    "    bigrquery::bigquery(),\n",
    "    project=\"bigquery-public-data\",\n",
    "    dataset=\"baseball\",\n",
    "    billing=\"upheld-modem-331422\")"
   ]
  },
  {
   "cell_type": "code",
   "execution_count": 4,
   "id": "c14705f7-02f9-4772-a39d-c073c8437207",
   "metadata": {},
   "outputs": [
    {
     "data": {
      "text/html": [
       "<style>\n",
       ".list-inline {list-style: none; margin:0; padding: 0}\n",
       ".list-inline>li {display: inline-block}\n",
       ".list-inline>li:not(:last-child)::after {content: \"\\00b7\"; padding: 0 .5ex}\n",
       "</style>\n",
       "<ol class=list-inline><li>'games_post_wide'</li><li>'games_wide'</li><li>'schedules'</li></ol>\n"
      ],
      "text/latex": [
       "\\begin{enumerate*}\n",
       "\\item 'games\\_post\\_wide'\n",
       "\\item 'games\\_wide'\n",
       "\\item 'schedules'\n",
       "\\end{enumerate*}\n"
      ],
      "text/markdown": [
       "1. 'games_post_wide'\n",
       "2. 'games_wide'\n",
       "3. 'schedules'\n",
       "\n",
       "\n"
      ],
      "text/plain": [
       "[1] \"games_post_wide\" \"games_wide\"      \"schedules\"      "
      ]
     },
     "metadata": {},
     "output_type": "display_data"
    }
   ],
   "source": [
    "#List database tables as connection test\n",
    "dbListTables(con)"
   ]
  },
  {
   "cell_type": "code",
   "execution_count": 5,
   "id": "1e3189a4-8df2-4ed8-9891-726bf975218f",
   "metadata": {},
   "outputs": [
    {
     "data": {
      "text/html": [
       "<table class=\"dataframe\">\n",
       "<caption>A tibble: 2 × 2</caption>\n",
       "<thead>\n",
       "\t<tr><th scope=col>dayNight</th><th scope=col>avg_duration</th></tr>\n",
       "\t<tr><th scope=col>&lt;chr&gt;</th><th scope=col>&lt;dbl&gt;</th></tr>\n",
       "</thead>\n",
       "<tbody>\n",
       "\t<tr><td>D</td><td>184.9798</td></tr>\n",
       "\t<tr><td>N</td><td>184.5040</td></tr>\n",
       "</tbody>\n",
       "</table>\n"
      ],
      "text/latex": [
       "A tibble: 2 × 2\n",
       "\\begin{tabular}{ll}\n",
       " dayNight & avg\\_duration\\\\\n",
       " <chr> & <dbl>\\\\\n",
       "\\hline\n",
       "\t D & 184.9798\\\\\n",
       "\t N & 184.5040\\\\\n",
       "\\end{tabular}\n"
      ],
      "text/markdown": [
       "\n",
       "A tibble: 2 × 2\n",
       "\n",
       "| dayNight &lt;chr&gt; | avg_duration &lt;dbl&gt; |\n",
       "|---|---|\n",
       "| D | 184.9798 |\n",
       "| N | 184.5040 |\n",
       "\n"
      ],
      "text/plain": [
       "  dayNight avg_duration\n",
       "1 D        184.9798    \n",
       "2 N        184.5040    "
      ]
     },
     "metadata": {},
     "output_type": "display_data"
    }
   ],
   "source": [
    "#Question 1\n",
    "dbGetQuery(con, \"SELECT dayNight, avg(duration_minutes) as avg_duration FROM bigquery-public-data.baseball.schedules \n",
    "GROUP BY dayNight\")"
   ]
  },
  {
   "cell_type": "code",
   "execution_count": 7,
   "id": "e6576eb7-a755-4467-98ee-0853b5ef5ce7",
   "metadata": {},
   "outputs": [
    {
     "data": {
      "text/html": [
       "<table class=\"dataframe\">\n",
       "<caption>A tibble: 30 × 2</caption>\n",
       "<thead>\n",
       "\t<tr><th scope=col>homeTeamName</th><th scope=col>avg_attendance</th></tr>\n",
       "\t<tr><th scope=col>&lt;chr&gt;</th><th scope=col>&lt;dbl&gt;</th></tr>\n",
       "</thead>\n",
       "<tbody>\n",
       "\t<tr><td>Dodgers     </td><td>45719.90</td></tr>\n",
       "\t<tr><td>Cardinals   </td><td>42524.57</td></tr>\n",
       "\t<tr><td>Blue Jays   </td><td>41880.36</td></tr>\n",
       "\t<tr><td>Giants      </td><td>41550.81</td></tr>\n",
       "\t<tr><td>Cubs        </td><td>39906.42</td></tr>\n",
       "\t<tr><td>Yankees     </td><td>37801.91</td></tr>\n",
       "\t<tr><td>Angels      </td><td>37236.30</td></tr>\n",
       "\t<tr><td>Red Sox     </td><td>36486.84</td></tr>\n",
       "\t<tr><td>Mets        </td><td>34900.22</td></tr>\n",
       "\t<tr><td>Rangers     </td><td>33461.75</td></tr>\n",
       "\t<tr><td>Rockies     </td><td>32129.93</td></tr>\n",
       "\t<tr><td>Royals      </td><td>31576.69</td></tr>\n",
       "\t<tr><td>Tigers      </td><td>30788.38</td></tr>\n",
       "\t<tr><td>Nationals   </td><td>30641.21</td></tr>\n",
       "\t<tr><td>Padres      </td><td>29026.62</td></tr>\n",
       "\t<tr><td>Brewers     </td><td>28583.26</td></tr>\n",
       "\t<tr><td>Astros      </td><td>28476.83</td></tr>\n",
       "\t<tr><td>Pirates     </td><td>28094.15</td></tr>\n",
       "\t<tr><td>Mariners    </td><td>27993.56</td></tr>\n",
       "\t<tr><td>Orioles     </td><td>26819.06</td></tr>\n",
       "\t<tr><td>Diamondbacks</td><td>25138.47</td></tr>\n",
       "\t<tr><td>Braves      </td><td>24949.56</td></tr>\n",
       "\t<tr><td>Twins       </td><td>24245.83</td></tr>\n",
       "\t<tr><td>Phillies    </td><td>23644.99</td></tr>\n",
       "\t<tr><td>Reds        </td><td>23383.77</td></tr>\n",
       "\t<tr><td>White Sox   </td><td>21782.05</td></tr>\n",
       "\t<tr><td>Marlins     </td><td>21140.84</td></tr>\n",
       "\t<tr><td>Indians     </td><td>19650.21</td></tr>\n",
       "\t<tr><td>Athletics   </td><td>18785.26</td></tr>\n",
       "\t<tr><td>Rays        </td><td>15878.56</td></tr>\n",
       "</tbody>\n",
       "</table>\n"
      ],
      "text/latex": [
       "A tibble: 30 × 2\n",
       "\\begin{tabular}{ll}\n",
       " homeTeamName & avg\\_attendance\\\\\n",
       " <chr> & <dbl>\\\\\n",
       "\\hline\n",
       "\t Dodgers      & 45719.90\\\\\n",
       "\t Cardinals    & 42524.57\\\\\n",
       "\t Blue Jays    & 41880.36\\\\\n",
       "\t Giants       & 41550.81\\\\\n",
       "\t Cubs         & 39906.42\\\\\n",
       "\t Yankees      & 37801.91\\\\\n",
       "\t Angels       & 37236.30\\\\\n",
       "\t Red Sox      & 36486.84\\\\\n",
       "\t Mets         & 34900.22\\\\\n",
       "\t Rangers      & 33461.75\\\\\n",
       "\t Rockies      & 32129.93\\\\\n",
       "\t Royals       & 31576.69\\\\\n",
       "\t Tigers       & 30788.38\\\\\n",
       "\t Nationals    & 30641.21\\\\\n",
       "\t Padres       & 29026.62\\\\\n",
       "\t Brewers      & 28583.26\\\\\n",
       "\t Astros       & 28476.83\\\\\n",
       "\t Pirates      & 28094.15\\\\\n",
       "\t Mariners     & 27993.56\\\\\n",
       "\t Orioles      & 26819.06\\\\\n",
       "\t Diamondbacks & 25138.47\\\\\n",
       "\t Braves       & 24949.56\\\\\n",
       "\t Twins        & 24245.83\\\\\n",
       "\t Phillies     & 23644.99\\\\\n",
       "\t Reds         & 23383.77\\\\\n",
       "\t White Sox    & 21782.05\\\\\n",
       "\t Marlins      & 21140.84\\\\\n",
       "\t Indians      & 19650.21\\\\\n",
       "\t Athletics    & 18785.26\\\\\n",
       "\t Rays         & 15878.56\\\\\n",
       "\\end{tabular}\n"
      ],
      "text/markdown": [
       "\n",
       "A tibble: 30 × 2\n",
       "\n",
       "| homeTeamName &lt;chr&gt; | avg_attendance &lt;dbl&gt; |\n",
       "|---|---|\n",
       "| Dodgers      | 45719.90 |\n",
       "| Cardinals    | 42524.57 |\n",
       "| Blue Jays    | 41880.36 |\n",
       "| Giants       | 41550.81 |\n",
       "| Cubs         | 39906.42 |\n",
       "| Yankees      | 37801.91 |\n",
       "| Angels       | 37236.30 |\n",
       "| Red Sox      | 36486.84 |\n",
       "| Mets         | 34900.22 |\n",
       "| Rangers      | 33461.75 |\n",
       "| Rockies      | 32129.93 |\n",
       "| Royals       | 31576.69 |\n",
       "| Tigers       | 30788.38 |\n",
       "| Nationals    | 30641.21 |\n",
       "| Padres       | 29026.62 |\n",
       "| Brewers      | 28583.26 |\n",
       "| Astros       | 28476.83 |\n",
       "| Pirates      | 28094.15 |\n",
       "| Mariners     | 27993.56 |\n",
       "| Orioles      | 26819.06 |\n",
       "| Diamondbacks | 25138.47 |\n",
       "| Braves       | 24949.56 |\n",
       "| Twins        | 24245.83 |\n",
       "| Phillies     | 23644.99 |\n",
       "| Reds         | 23383.77 |\n",
       "| White Sox    | 21782.05 |\n",
       "| Marlins      | 21140.84 |\n",
       "| Indians      | 19650.21 |\n",
       "| Athletics    | 18785.26 |\n",
       "| Rays         | 15878.56 |\n",
       "\n"
      ],
      "text/plain": [
       "   homeTeamName avg_attendance\n",
       "1  Dodgers      45719.90      \n",
       "2  Cardinals    42524.57      \n",
       "3  Blue Jays    41880.36      \n",
       "4  Giants       41550.81      \n",
       "5  Cubs         39906.42      \n",
       "6  Yankees      37801.91      \n",
       "7  Angels       37236.30      \n",
       "8  Red Sox      36486.84      \n",
       "9  Mets         34900.22      \n",
       "10 Rangers      33461.75      \n",
       "11 Rockies      32129.93      \n",
       "12 Royals       31576.69      \n",
       "13 Tigers       30788.38      \n",
       "14 Nationals    30641.21      \n",
       "15 Padres       29026.62      \n",
       "16 Brewers      28583.26      \n",
       "17 Astros       28476.83      \n",
       "18 Pirates      28094.15      \n",
       "19 Mariners     27993.56      \n",
       "20 Orioles      26819.06      \n",
       "21 Diamondbacks 25138.47      \n",
       "22 Braves       24949.56      \n",
       "23 Twins        24245.83      \n",
       "24 Phillies     23644.99      \n",
       "25 Reds         23383.77      \n",
       "26 White Sox    21782.05      \n",
       "27 Marlins      21140.84      \n",
       "28 Indians      19650.21      \n",
       "29 Athletics    18785.26      \n",
       "30 Rays         15878.56      "
      ]
     },
     "metadata": {},
     "output_type": "display_data"
    }
   ],
   "source": [
    "#Question 2\n",
    "dbGetQuery(con, \"SELECT homeTeamName, avg(attendance) as avg_attendance FROM bigquery-public-data.baseball.schedules \n",
    "WHERE homeTeamName != 'American League' GROUP BY homeTeamName ORDER BY avg_attendance DESC\")"
   ]
  },
  {
   "cell_type": "code",
   "execution_count": 9,
   "id": "3feaa163-7322-4d4e-afa2-c1a6aa84fdde",
   "metadata": {},
   "outputs": [
    {
     "data": {
      "text/html": [
       "<table class=\"dataframe\">\n",
       "<caption>A tibble: 5 × 4</caption>\n",
       "<thead>\n",
       "\t<tr><th scope=col>hitterId</th><th scope=col>hitterFirstName</th><th scope=col>hitterLastName</th><th scope=col>HR</th></tr>\n",
       "\t<tr><th scope=col>&lt;chr&gt;</th><th scope=col>&lt;chr&gt;</th><th scope=col>&lt;chr&gt;</th><th scope=col>&lt;int&gt;</th></tr>\n",
       "</thead>\n",
       "<tbody>\n",
       "\t<tr><td>aff8ce97-4a84-43db-bdaf-3517b6b5fa88</td><td>Mark  </td><td>Trumbo     </td><td>47</td></tr>\n",
       "\t<tr><td>01eaff59-9b34-47fd-af64-54b2e6f22628</td><td>Nelson</td><td>Cruz       </td><td>44</td></tr>\n",
       "\t<tr><td>8a3eae26-3aa7-42fb-92c3-273f5004e4f1</td><td>Khris </td><td>Davis      </td><td>42</td></tr>\n",
       "\t<tr><td>8ec56596-5b8b-41f8-88a7-384f20b8b6a7</td><td>Edwin </td><td>Encarnacion</td><td>42</td></tr>\n",
       "\t<tr><td>29a80d91-946d-4701-af7d-034850bdef00</td><td>James </td><td>Dozier     </td><td>42</td></tr>\n",
       "</tbody>\n",
       "</table>\n"
      ],
      "text/latex": [
       "A tibble: 5 × 4\n",
       "\\begin{tabular}{llll}\n",
       " hitterId & hitterFirstName & hitterLastName & HR\\\\\n",
       " <chr> & <chr> & <chr> & <int>\\\\\n",
       "\\hline\n",
       "\t aff8ce97-4a84-43db-bdaf-3517b6b5fa88 & Mark   & Trumbo      & 47\\\\\n",
       "\t 01eaff59-9b34-47fd-af64-54b2e6f22628 & Nelson & Cruz        & 44\\\\\n",
       "\t 8a3eae26-3aa7-42fb-92c3-273f5004e4f1 & Khris  & Davis       & 42\\\\\n",
       "\t 8ec56596-5b8b-41f8-88a7-384f20b8b6a7 & Edwin  & Encarnacion & 42\\\\\n",
       "\t 29a80d91-946d-4701-af7d-034850bdef00 & James  & Dozier      & 42\\\\\n",
       "\\end{tabular}\n"
      ],
      "text/markdown": [
       "\n",
       "A tibble: 5 × 4\n",
       "\n",
       "| hitterId &lt;chr&gt; | hitterFirstName &lt;chr&gt; | hitterLastName &lt;chr&gt; | HR &lt;int&gt; |\n",
       "|---|---|---|---|\n",
       "| aff8ce97-4a84-43db-bdaf-3517b6b5fa88 | Mark   | Trumbo      | 47 |\n",
       "| 01eaff59-9b34-47fd-af64-54b2e6f22628 | Nelson | Cruz        | 44 |\n",
       "| 8a3eae26-3aa7-42fb-92c3-273f5004e4f1 | Khris  | Davis       | 42 |\n",
       "| 8ec56596-5b8b-41f8-88a7-384f20b8b6a7 | Edwin  | Encarnacion | 42 |\n",
       "| 29a80d91-946d-4701-af7d-034850bdef00 | James  | Dozier      | 42 |\n",
       "\n"
      ],
      "text/plain": [
       "  hitterId                             hitterFirstName hitterLastName HR\n",
       "1 aff8ce97-4a84-43db-bdaf-3517b6b5fa88 Mark            Trumbo         47\n",
       "2 01eaff59-9b34-47fd-af64-54b2e6f22628 Nelson          Cruz           44\n",
       "3 8a3eae26-3aa7-42fb-92c3-273f5004e4f1 Khris           Davis          42\n",
       "4 8ec56596-5b8b-41f8-88a7-384f20b8b6a7 Edwin           Encarnacion    42\n",
       "5 29a80d91-946d-4701-af7d-034850bdef00 James           Dozier         42"
      ]
     },
     "metadata": {},
     "output_type": "display_data"
    }
   ],
   "source": [
    "#Question 3\n",
    "dbGetQuery(con, \"SELECT hitterId, hitterFirstName, hitterLastName, count(*) AS HR FROM bigquery-public-data.baseball.games_wide \n",
    "WHERE outcomeDescription='Homerun' GROUP BY hitterId, hitterFirstName, hitterLastName ORDER BY HR DESC LIMIT 5\")"
   ]
  },
  {
   "cell_type": "code",
   "execution_count": 10,
   "id": "77f55371-68d4-4e2f-b7c3-8d5cecbb6021",
   "metadata": {},
   "outputs": [
    {
     "data": {
      "text/html": [
       "<table class=\"dataframe\">\n",
       "<caption>A tibble: 6 × 5</caption>\n",
       "<thead>\n",
       "\t<tr><th scope=col>gameId</th><th scope=col>homeTeamName</th><th scope=col>awayTeamName</th><th scope=col>homeFinalRuns</th><th scope=col>awayFinalRuns</th></tr>\n",
       "\t<tr><th scope=col>&lt;chr&gt;</th><th scope=col>&lt;chr&gt;</th><th scope=col>&lt;chr&gt;</th><th scope=col>&lt;int&gt;</th><th scope=col>&lt;int&gt;</th></tr>\n",
       "</thead>\n",
       "<tbody>\n",
       "\t<tr><td>252e4911-b809-48b1-8a53-6fcfd1f4c26c</td><td>Rays     </td><td>Blue Jays</td><td>8</td><td> 3</td></tr>\n",
       "\t<tr><td>50e37133-01e3-4080-a6b2-4f08e79c160f</td><td>Rays     </td><td>Blue Jays</td><td>7</td><td> 5</td></tr>\n",
       "\t<tr><td>94dc70b6-3018-46ab-8775-defa223fcefa</td><td>Rays     </td><td>Blue Jays</td><td>3</td><td> 5</td></tr>\n",
       "\t<tr><td>e32d51d3-ac70-41fc-8963-7adc012fef8d</td><td>Rangers  </td><td>Blue Jays</td><td>7</td><td> 6</td></tr>\n",
       "\t<tr><td>223768a6-a3b0-4a47-ba0e-5c64f8df7d59</td><td>Blue Jays</td><td>Angels   </td><td>2</td><td> 8</td></tr>\n",
       "\t<tr><td>6827fa1a-7708-4cb6-bdc2-d697d84c31f4</td><td>Blue Jays</td><td>Red Sox  </td><td>3</td><td>13</td></tr>\n",
       "</tbody>\n",
       "</table>\n"
      ],
      "text/latex": [
       "A tibble: 6 × 5\n",
       "\\begin{tabular}{lllll}\n",
       " gameId & homeTeamName & awayTeamName & homeFinalRuns & awayFinalRuns\\\\\n",
       " <chr> & <chr> & <chr> & <int> & <int>\\\\\n",
       "\\hline\n",
       "\t 252e4911-b809-48b1-8a53-6fcfd1f4c26c & Rays      & Blue Jays & 8 &  3\\\\\n",
       "\t 50e37133-01e3-4080-a6b2-4f08e79c160f & Rays      & Blue Jays & 7 &  5\\\\\n",
       "\t 94dc70b6-3018-46ab-8775-defa223fcefa & Rays      & Blue Jays & 3 &  5\\\\\n",
       "\t e32d51d3-ac70-41fc-8963-7adc012fef8d & Rangers   & Blue Jays & 7 &  6\\\\\n",
       "\t 223768a6-a3b0-4a47-ba0e-5c64f8df7d59 & Blue Jays & Angels    & 2 &  8\\\\\n",
       "\t 6827fa1a-7708-4cb6-bdc2-d697d84c31f4 & Blue Jays & Red Sox   & 3 & 13\\\\\n",
       "\\end{tabular}\n"
      ],
      "text/markdown": [
       "\n",
       "A tibble: 6 × 5\n",
       "\n",
       "| gameId &lt;chr&gt; | homeTeamName &lt;chr&gt; | awayTeamName &lt;chr&gt; | homeFinalRuns &lt;int&gt; | awayFinalRuns &lt;int&gt; |\n",
       "|---|---|---|---|---|\n",
       "| 252e4911-b809-48b1-8a53-6fcfd1f4c26c | Rays      | Blue Jays | 8 |  3 |\n",
       "| 50e37133-01e3-4080-a6b2-4f08e79c160f | Rays      | Blue Jays | 7 |  5 |\n",
       "| 94dc70b6-3018-46ab-8775-defa223fcefa | Rays      | Blue Jays | 3 |  5 |\n",
       "| e32d51d3-ac70-41fc-8963-7adc012fef8d | Rangers   | Blue Jays | 7 |  6 |\n",
       "| 223768a6-a3b0-4a47-ba0e-5c64f8df7d59 | Blue Jays | Angels    | 2 |  8 |\n",
       "| 6827fa1a-7708-4cb6-bdc2-d697d84c31f4 | Blue Jays | Red Sox   | 3 | 13 |\n",
       "\n"
      ],
      "text/plain": [
       "  gameId                               homeTeamName awayTeamName homeFinalRuns\n",
       "1 252e4911-b809-48b1-8a53-6fcfd1f4c26c Rays         Blue Jays    8            \n",
       "2 50e37133-01e3-4080-a6b2-4f08e79c160f Rays         Blue Jays    7            \n",
       "3 94dc70b6-3018-46ab-8775-defa223fcefa Rays         Blue Jays    3            \n",
       "4 e32d51d3-ac70-41fc-8963-7adc012fef8d Rangers      Blue Jays    7            \n",
       "5 223768a6-a3b0-4a47-ba0e-5c64f8df7d59 Blue Jays    Angels       2            \n",
       "6 6827fa1a-7708-4cb6-bdc2-d697d84c31f4 Blue Jays    Red Sox      3            \n",
       "  awayFinalRuns\n",
       "1  3           \n",
       "2  5           \n",
       "3  5           \n",
       "4  6           \n",
       "5  8           \n",
       "6 13           "
      ]
     },
     "metadata": {},
     "output_type": "display_data"
    }
   ],
   "source": [
    "#Question 4\n",
    "\n",
    "#Part A\n",
    "reg_season <- dbGetQuery(con, \"SELECT DISTINCT(gameId), homeTeamName, awayTeamName, homeFinalRuns, awayFinalRuns \n",
    "FROM bigquery-public-data.baseball.games_wide WHERE homeTeamName='Blue Jays' OR awayTeamName='Blue Jays'\")\n",
    "head(reg_season)"
   ]
  },
  {
   "cell_type": "code",
   "execution_count": 12,
   "id": "451b5b14-1725-4189-afc3-3923104f7c7b",
   "metadata": {},
   "outputs": [
    {
     "data": {
      "text/html": [
       "<table class=\"dataframe\">\n",
       "<caption>A tibble: 6 × 5</caption>\n",
       "<thead>\n",
       "\t<tr><th scope=col>gameId</th><th scope=col>homeTeamName</th><th scope=col>awayTeamName</th><th scope=col>homeFinalRuns</th><th scope=col>awayFinalRuns</th></tr>\n",
       "\t<tr><th scope=col>&lt;chr&gt;</th><th scope=col>&lt;chr&gt;</th><th scope=col>&lt;chr&gt;</th><th scope=col>&lt;int&gt;</th><th scope=col>&lt;int&gt;</th></tr>\n",
       "</thead>\n",
       "<tbody>\n",
       "\t<tr><td>04a6af00-7df7-49d0-9bd0-1ffbb76b8e22</td><td>Rangers  </td><td>Blue Jays</td><td>1</td><td>10</td></tr>\n",
       "\t<tr><td>4ad2de69-467a-4755-bad1-2362425ca6dd</td><td>Indians  </td><td>Blue Jays</td><td>2</td><td> 1</td></tr>\n",
       "\t<tr><td>4da8ee8a-ea2c-4625-8ef4-584a5302cf24</td><td>Indians  </td><td>Blue Jays</td><td>2</td><td> 0</td></tr>\n",
       "\t<tr><td>50599fd0-e5a8-4330-b185-cf99db1f5b89</td><td>Blue Jays</td><td>Indians  </td><td>5</td><td> 1</td></tr>\n",
       "\t<tr><td>6d62f75d-2021-46d8-8c8c-f27006914cff</td><td>Blue Jays</td><td>Rangers  </td><td>7</td><td> 6</td></tr>\n",
       "\t<tr><td>909aaaf2-63c7-4a47-8c01-24fd06a9a7bb</td><td>Blue Jays</td><td>Indians  </td><td>2</td><td> 4</td></tr>\n",
       "</tbody>\n",
       "</table>\n"
      ],
      "text/latex": [
       "A tibble: 6 × 5\n",
       "\\begin{tabular}{lllll}\n",
       " gameId & homeTeamName & awayTeamName & homeFinalRuns & awayFinalRuns\\\\\n",
       " <chr> & <chr> & <chr> & <int> & <int>\\\\\n",
       "\\hline\n",
       "\t 04a6af00-7df7-49d0-9bd0-1ffbb76b8e22 & Rangers   & Blue Jays & 1 & 10\\\\\n",
       "\t 4ad2de69-467a-4755-bad1-2362425ca6dd & Indians   & Blue Jays & 2 &  1\\\\\n",
       "\t 4da8ee8a-ea2c-4625-8ef4-584a5302cf24 & Indians   & Blue Jays & 2 &  0\\\\\n",
       "\t 50599fd0-e5a8-4330-b185-cf99db1f5b89 & Blue Jays & Indians   & 5 &  1\\\\\n",
       "\t 6d62f75d-2021-46d8-8c8c-f27006914cff & Blue Jays & Rangers   & 7 &  6\\\\\n",
       "\t 909aaaf2-63c7-4a47-8c01-24fd06a9a7bb & Blue Jays & Indians   & 2 &  4\\\\\n",
       "\\end{tabular}\n"
      ],
      "text/markdown": [
       "\n",
       "A tibble: 6 × 5\n",
       "\n",
       "| gameId &lt;chr&gt; | homeTeamName &lt;chr&gt; | awayTeamName &lt;chr&gt; | homeFinalRuns &lt;int&gt; | awayFinalRuns &lt;int&gt; |\n",
       "|---|---|---|---|---|\n",
       "| 04a6af00-7df7-49d0-9bd0-1ffbb76b8e22 | Rangers   | Blue Jays | 1 | 10 |\n",
       "| 4ad2de69-467a-4755-bad1-2362425ca6dd | Indians   | Blue Jays | 2 |  1 |\n",
       "| 4da8ee8a-ea2c-4625-8ef4-584a5302cf24 | Indians   | Blue Jays | 2 |  0 |\n",
       "| 50599fd0-e5a8-4330-b185-cf99db1f5b89 | Blue Jays | Indians   | 5 |  1 |\n",
       "| 6d62f75d-2021-46d8-8c8c-f27006914cff | Blue Jays | Rangers   | 7 |  6 |\n",
       "| 909aaaf2-63c7-4a47-8c01-24fd06a9a7bb | Blue Jays | Indians   | 2 |  4 |\n",
       "\n"
      ],
      "text/plain": [
       "  gameId                               homeTeamName awayTeamName homeFinalRuns\n",
       "1 04a6af00-7df7-49d0-9bd0-1ffbb76b8e22 Rangers      Blue Jays    1            \n",
       "2 4ad2de69-467a-4755-bad1-2362425ca6dd Indians      Blue Jays    2            \n",
       "3 4da8ee8a-ea2c-4625-8ef4-584a5302cf24 Indians      Blue Jays    2            \n",
       "4 50599fd0-e5a8-4330-b185-cf99db1f5b89 Blue Jays    Indians      5            \n",
       "5 6d62f75d-2021-46d8-8c8c-f27006914cff Blue Jays    Rangers      7            \n",
       "6 909aaaf2-63c7-4a47-8c01-24fd06a9a7bb Blue Jays    Indians      2            \n",
       "  awayFinalRuns\n",
       "1 10           \n",
       "2  1           \n",
       "3  0           \n",
       "4  1           \n",
       "5  6           \n",
       "6  4           "
      ]
     },
     "metadata": {},
     "output_type": "display_data"
    }
   ],
   "source": [
    "#Part B\n",
    "post_season <- dbGetQuery(con, \"SELECT DISTINCT(gameId), homeTeamName, awayTeamName, homeFinalRuns, awayFinalRuns \n",
    "FROM bigquery-public-data.baseball.games_post_wide WHERE homeTeamName='Blue Jays' OR awayTeamName='Blue Jays'\")\n",
    "head(post_season)"
   ]
  },
  {
   "cell_type": "code",
   "execution_count": 14,
   "id": "f08664ca-2772-4544-9abf-407f58e1a74f",
   "metadata": {},
   "outputs": [
    {
     "data": {
      "text/html": [
       "<table class=\"dataframe\">\n",
       "<caption>A tibble: 6 × 7</caption>\n",
       "<thead>\n",
       "\t<tr><th scope=col>gameId</th><th scope=col>homeTeamName</th><th scope=col>awayTeamName</th><th scope=col>homeFinalRuns</th><th scope=col>awayFinalRuns</th><th scope=col>Home</th><th scope=col>Win</th></tr>\n",
       "\t<tr><th scope=col>&lt;chr&gt;</th><th scope=col>&lt;chr&gt;</th><th scope=col>&lt;chr&gt;</th><th scope=col>&lt;int&gt;</th><th scope=col>&lt;int&gt;</th><th scope=col>&lt;dbl&gt;</th><th scope=col>&lt;dbl&gt;</th></tr>\n",
       "</thead>\n",
       "<tbody>\n",
       "\t<tr><td>252e4911-b809-48b1-8a53-6fcfd1f4c26c</td><td>Rays     </td><td>Blue Jays</td><td>8</td><td> 3</td><td>0</td><td>0</td></tr>\n",
       "\t<tr><td>50e37133-01e3-4080-a6b2-4f08e79c160f</td><td>Rays     </td><td>Blue Jays</td><td>7</td><td> 5</td><td>0</td><td>0</td></tr>\n",
       "\t<tr><td>94dc70b6-3018-46ab-8775-defa223fcefa</td><td>Rays     </td><td>Blue Jays</td><td>3</td><td> 5</td><td>0</td><td>1</td></tr>\n",
       "\t<tr><td>e32d51d3-ac70-41fc-8963-7adc012fef8d</td><td>Rangers  </td><td>Blue Jays</td><td>7</td><td> 6</td><td>0</td><td>0</td></tr>\n",
       "\t<tr><td>223768a6-a3b0-4a47-ba0e-5c64f8df7d59</td><td>Blue Jays</td><td>Angels   </td><td>2</td><td> 8</td><td>1</td><td>0</td></tr>\n",
       "\t<tr><td>6827fa1a-7708-4cb6-bdc2-d697d84c31f4</td><td>Blue Jays</td><td>Red Sox  </td><td>3</td><td>13</td><td>1</td><td>0</td></tr>\n",
       "</tbody>\n",
       "</table>\n"
      ],
      "text/latex": [
       "A tibble: 6 × 7\n",
       "\\begin{tabular}{lllllll}\n",
       " gameId & homeTeamName & awayTeamName & homeFinalRuns & awayFinalRuns & Home & Win\\\\\n",
       " <chr> & <chr> & <chr> & <int> & <int> & <dbl> & <dbl>\\\\\n",
       "\\hline\n",
       "\t 252e4911-b809-48b1-8a53-6fcfd1f4c26c & Rays      & Blue Jays & 8 &  3 & 0 & 0\\\\\n",
       "\t 50e37133-01e3-4080-a6b2-4f08e79c160f & Rays      & Blue Jays & 7 &  5 & 0 & 0\\\\\n",
       "\t 94dc70b6-3018-46ab-8775-defa223fcefa & Rays      & Blue Jays & 3 &  5 & 0 & 1\\\\\n",
       "\t e32d51d3-ac70-41fc-8963-7adc012fef8d & Rangers   & Blue Jays & 7 &  6 & 0 & 0\\\\\n",
       "\t 223768a6-a3b0-4a47-ba0e-5c64f8df7d59 & Blue Jays & Angels    & 2 &  8 & 1 & 0\\\\\n",
       "\t 6827fa1a-7708-4cb6-bdc2-d697d84c31f4 & Blue Jays & Red Sox   & 3 & 13 & 1 & 0\\\\\n",
       "\\end{tabular}\n"
      ],
      "text/markdown": [
       "\n",
       "A tibble: 6 × 7\n",
       "\n",
       "| gameId &lt;chr&gt; | homeTeamName &lt;chr&gt; | awayTeamName &lt;chr&gt; | homeFinalRuns &lt;int&gt; | awayFinalRuns &lt;int&gt; | Home &lt;dbl&gt; | Win &lt;dbl&gt; |\n",
       "|---|---|---|---|---|---|---|\n",
       "| 252e4911-b809-48b1-8a53-6fcfd1f4c26c | Rays      | Blue Jays | 8 |  3 | 0 | 0 |\n",
       "| 50e37133-01e3-4080-a6b2-4f08e79c160f | Rays      | Blue Jays | 7 |  5 | 0 | 0 |\n",
       "| 94dc70b6-3018-46ab-8775-defa223fcefa | Rays      | Blue Jays | 3 |  5 | 0 | 1 |\n",
       "| e32d51d3-ac70-41fc-8963-7adc012fef8d | Rangers   | Blue Jays | 7 |  6 | 0 | 0 |\n",
       "| 223768a6-a3b0-4a47-ba0e-5c64f8df7d59 | Blue Jays | Angels    | 2 |  8 | 1 | 0 |\n",
       "| 6827fa1a-7708-4cb6-bdc2-d697d84c31f4 | Blue Jays | Red Sox   | 3 | 13 | 1 | 0 |\n",
       "\n"
      ],
      "text/plain": [
       "  gameId                               homeTeamName awayTeamName homeFinalRuns\n",
       "1 252e4911-b809-48b1-8a53-6fcfd1f4c26c Rays         Blue Jays    8            \n",
       "2 50e37133-01e3-4080-a6b2-4f08e79c160f Rays         Blue Jays    7            \n",
       "3 94dc70b6-3018-46ab-8775-defa223fcefa Rays         Blue Jays    3            \n",
       "4 e32d51d3-ac70-41fc-8963-7adc012fef8d Rangers      Blue Jays    7            \n",
       "5 223768a6-a3b0-4a47-ba0e-5c64f8df7d59 Blue Jays    Angels       2            \n",
       "6 6827fa1a-7708-4cb6-bdc2-d697d84c31f4 Blue Jays    Red Sox      3            \n",
       "  awayFinalRuns Home Win\n",
       "1  3            0    0  \n",
       "2  5            0    0  \n",
       "3  5            0    1  \n",
       "4  6            0    0  \n",
       "5  8            1    0  \n",
       "6 13            1    0  "
      ]
     },
     "metadata": {},
     "output_type": "display_data"
    }
   ],
   "source": [
    "#Part C\n",
    "blue_jays_combined <- rbind(reg_season, post_season)\n",
    "\n",
    "#Create home binary helper column\n",
    "blue_jays_combined$Home <- ifelse(blue_jays_combined$homeTeamName==\"Blue Jays\", 1, 0)\n",
    "\n",
    "#Create win column\n",
    "blue_jays_combined$Win <- ifelse((blue_jays_combined$Home==1 & \n",
    "                                  (blue_jays_combined$homeFinalRuns > blue_jays_combined$awayFinalRuns)) | \n",
    "                                 (blue_jays_combined$Home==0 & \n",
    "                                  (blue_jays_combined$homeFinalRuns < blue_jays_combined$awayFinalRuns)), 1, 0)\n",
    "#Preview new col\n",
    "head(blue_jays_combined)"
   ]
  },
  {
   "cell_type": "code",
   "execution_count": 15,
   "id": "099df0fc-f915-414a-a087-cde241703334",
   "metadata": {},
   "outputs": [
    {
     "data": {
      "text/html": [
       "94"
      ],
      "text/latex": [
       "94"
      ],
      "text/markdown": [
       "94"
      ],
      "text/plain": [
       "[1] 94"
      ]
     },
     "metadata": {},
     "output_type": "display_data"
    }
   ],
   "source": [
    "#Part C - Continued\n",
    "sum(blue_jays_combined$Win)"
   ]
  },
  {
   "cell_type": "code",
   "execution_count": 17,
   "id": "dee3cb31-b3cc-4d67-b9a0-8a9ecfa223d5",
   "metadata": {},
   "outputs": [
    {
     "data": {
      "text/html": [
       "<table class=\"dataframe\">\n",
       "<caption>A tibble: 7 × 2</caption>\n",
       "<thead>\n",
       "\t<tr><th scope=col>pitchType</th><th scope=col>Num_Pitches</th></tr>\n",
       "\t<tr><th scope=col>&lt;chr&gt;</th><th scope=col>&lt;int&gt;</th></tr>\n",
       "</thead>\n",
       "<tbody>\n",
       "\t<tr><td>FA</td><td>1049</td></tr>\n",
       "\t<tr><td>SL</td><td> 679</td></tr>\n",
       "\t<tr><td>CU</td><td> 321</td></tr>\n",
       "\t<tr><td>  </td><td>  43</td></tr>\n",
       "\t<tr><td>IB</td><td>   4</td></tr>\n",
       "\t<tr><td>CH</td><td>   9</td></tr>\n",
       "\t<tr><td>CT</td><td>   1</td></tr>\n",
       "</tbody>\n",
       "</table>\n"
      ],
      "text/latex": [
       "A tibble: 7 × 2\n",
       "\\begin{tabular}{ll}\n",
       " pitchType & Num\\_Pitches\\\\\n",
       " <chr> & <int>\\\\\n",
       "\\hline\n",
       "\t FA & 1049\\\\\n",
       "\t SL &  679\\\\\n",
       "\t CU &  321\\\\\n",
       "\t    &   43\\\\\n",
       "\t IB &    4\\\\\n",
       "\t CH &    9\\\\\n",
       "\t CT &    1\\\\\n",
       "\\end{tabular}\n"
      ],
      "text/markdown": [
       "\n",
       "A tibble: 7 × 2\n",
       "\n",
       "| pitchType &lt;chr&gt; | Num_Pitches &lt;int&gt; |\n",
       "|---|---|\n",
       "| FA | 1049 |\n",
       "| SL |  679 |\n",
       "| CU |  321 |\n",
       "| <!----> |   43 |\n",
       "| IB |    4 |\n",
       "| CH |    9 |\n",
       "| CT |    1 |\n",
       "\n"
      ],
      "text/plain": [
       "  pitchType Num_Pitches\n",
       "1 FA        1049       \n",
       "2 SL         679       \n",
       "3 CU         321       \n",
       "4             43       \n",
       "5 IB           4       \n",
       "6 CH           9       \n",
       "7 CT           1       "
      ]
     },
     "metadata": {},
     "output_type": "display_data"
    }
   ],
   "source": [
    "#Question 5\n",
    "\n",
    "#Part A\n",
    "kershaw_arsenal <- dbGetQuery(con, \"SELECT pitchType, COUNT(*) as Num_Pitches FROM bigquery-public-data.baseball.games_wide \n",
    "WHERE pitcherLastName='Kershaw' AND pitcherFirstName='Clayton' GROUP BY pitchType\")\n",
    "kershaw_arsenal"
   ]
  },
  {
   "cell_type": "code",
   "execution_count": 25,
   "id": "45e5c9f3-7a2e-4b82-af40-f2b6bd39f1eb",
   "metadata": {},
   "outputs": [
    {
     "data": {
      "text/html": [
       "<table class=\"dataframe\">\n",
       "<caption>A tibble: 6 × 3</caption>\n",
       "<thead>\n",
       "\t<tr><th scope=col>pitchType</th><th scope=col>Num_Pitches</th><th scope=col>Percentage</th></tr>\n",
       "\t<tr><th scope=col>&lt;chr&gt;</th><th scope=col>&lt;int&gt;</th><th scope=col>&lt;dbl&gt;</th></tr>\n",
       "</thead>\n",
       "<tbody>\n",
       "\t<tr><td>FA</td><td>1049</td><td>0.508</td></tr>\n",
       "\t<tr><td>SL</td><td> 679</td><td>0.329</td></tr>\n",
       "\t<tr><td>CU</td><td> 321</td><td>0.156</td></tr>\n",
       "\t<tr><td>IB</td><td>   4</td><td>0.002</td></tr>\n",
       "\t<tr><td>CH</td><td>   9</td><td>0.004</td></tr>\n",
       "\t<tr><td>CT</td><td>   1</td><td>0.000</td></tr>\n",
       "</tbody>\n",
       "</table>\n"
      ],
      "text/latex": [
       "A tibble: 6 × 3\n",
       "\\begin{tabular}{lll}\n",
       " pitchType & Num\\_Pitches & Percentage\\\\\n",
       " <chr> & <int> & <dbl>\\\\\n",
       "\\hline\n",
       "\t FA & 1049 & 0.508\\\\\n",
       "\t SL &  679 & 0.329\\\\\n",
       "\t CU &  321 & 0.156\\\\\n",
       "\t IB &    4 & 0.002\\\\\n",
       "\t CH &    9 & 0.004\\\\\n",
       "\t CT &    1 & 0.000\\\\\n",
       "\\end{tabular}\n"
      ],
      "text/markdown": [
       "\n",
       "A tibble: 6 × 3\n",
       "\n",
       "| pitchType &lt;chr&gt; | Num_Pitches &lt;int&gt; | Percentage &lt;dbl&gt; |\n",
       "|---|---|---|\n",
       "| FA | 1049 | 0.508 |\n",
       "| SL |  679 | 0.329 |\n",
       "| CU |  321 | 0.156 |\n",
       "| IB |    4 | 0.002 |\n",
       "| CH |    9 | 0.004 |\n",
       "| CT |    1 | 0.000 |\n",
       "\n"
      ],
      "text/plain": [
       "  pitchType Num_Pitches Percentage\n",
       "1 FA        1049        0.508     \n",
       "2 SL         679        0.329     \n",
       "3 CU         321        0.156     \n",
       "4 IB           4        0.002     \n",
       "5 CH           9        0.004     \n",
       "6 CT           1        0.000     "
      ]
     },
     "metadata": {},
     "output_type": "display_data"
    }
   ],
   "source": [
    "#Part B\n",
    "kershaw_final <- kershaw_arsenal[-4, ]\n",
    "kershaw_final$Percentage <- round((kershaw_final$Num_Pitches/sum(kershaw_final$Num_Pitches)), 3)\n",
    "kershaw_final"
   ]
  },
  {
   "cell_type": "code",
   "execution_count": null,
   "id": "d1d88067-5d9a-4057-9193-cbf9f4508a17",
   "metadata": {},
   "outputs": [],
   "source": [
    "#Question 6\n",
    "\n",
    "#SQL, also known as structured query language, is the language used to interact with relational databases. \n",
    "#DBMS's, on the other hand, are wholistic systems used to interact with relational databases. The most common \n",
    "#DBMS's like MySQL, PostgreSQL, and SQL Server all use the SQL language."
   ]
  },
  {
   "cell_type": "code",
   "execution_count": null,
   "id": "3225ccb2-e215-492d-ad50-46b43b1a00c0",
   "metadata": {},
   "outputs": [],
   "source": [
    "#Question 7\n",
    "\n",
    "#Joins are used to combine data columnwise (i.e. adding new columns to a table), while unions are used to combine data rowwise. \n",
    "#Joins are similar to VLOOKUP in Excel while unions are analagous to extending an Excel table by adding new rows to it. \n",
    "#Joins require at least one common column between the tables while unions require all columns in both tables to be the same."
   ]
  }
 ],
 "metadata": {
  "environment": {
   "kernel": "ir",
   "name": "r-cpu.4-1.m82",
   "type": "gcloud",
   "uri": "gcr.io/deeplearning-platform-release/r-cpu.4-1:m82"
  },
  "kernelspec": {
   "display_name": "R",
   "language": "R",
   "name": "ir"
  },
  "language_info": {
   "codemirror_mode": "r",
   "file_extension": ".r",
   "mimetype": "text/x-r-source",
   "name": "R",
   "pygments_lexer": "r",
   "version": "3.6.1"
  }
 },
 "nbformat": 4,
 "nbformat_minor": 5
}
