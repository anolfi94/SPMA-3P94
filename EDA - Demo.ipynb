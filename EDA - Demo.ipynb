{
 "cells": [
  {
   "cell_type": "code",
   "execution_count": 3,
   "id": "0d5506f7",
   "metadata": {},
   "outputs": [
    {
     "data": {
      "text/html": [
       "<table>\n",
       "<thead><tr><th scope=col>id</th><th scope=col>date</th><th scope=col>price</th><th scope=col>bedrooms</th><th scope=col>bathrooms</th><th scope=col>sqft_living</th><th scope=col>sqft_lot</th><th scope=col>floors</th><th scope=col>waterfront</th><th scope=col>view</th><th scope=col>...</th><th scope=col>grade</th><th scope=col>sqft_above</th><th scope=col>sqft_basement</th><th scope=col>yr_built</th><th scope=col>yr_renovated</th><th scope=col>zipcode</th><th scope=col>lat</th><th scope=col>long</th><th scope=col>sqft_living15</th><th scope=col>sqft_lot15</th></tr></thead>\n",
       "<tbody>\n",
       "\t<tr><td>7129300520     </td><td>20141013T000000</td><td> 221900        </td><td>3              </td><td>1.00           </td><td>1180           </td><td>  5650         </td><td>1              </td><td>0              </td><td>0              </td><td>...            </td><td> 7             </td><td>1180           </td><td>   0           </td><td>1955           </td><td>   0           </td><td>98178          </td><td>47.5112        </td><td>-122.257       </td><td>1340           </td><td>  5650         </td></tr>\n",
       "\t<tr><td>6414100192     </td><td>20141209T000000</td><td> 538000        </td><td>3              </td><td>2.25           </td><td>2570           </td><td>  7242         </td><td>2              </td><td>0              </td><td>0              </td><td>...            </td><td> 7             </td><td>2170           </td><td> 400           </td><td>1951           </td><td>1991           </td><td>98125          </td><td>47.7210        </td><td>-122.319       </td><td>1690           </td><td>  7639         </td></tr>\n",
       "\t<tr><td>5631500400     </td><td>20150225T000000</td><td> 180000        </td><td>2              </td><td>1.00           </td><td> 770           </td><td> 10000         </td><td>1              </td><td>0              </td><td>0              </td><td>...            </td><td> 6             </td><td> 770           </td><td>   0           </td><td>1933           </td><td>   0           </td><td>98028          </td><td>47.7379        </td><td>-122.233       </td><td>2720           </td><td>  8062         </td></tr>\n",
       "\t<tr><td>2487200875     </td><td>20141209T000000</td><td> 604000        </td><td>4              </td><td>3.00           </td><td>1960           </td><td>  5000         </td><td>1              </td><td>0              </td><td>0              </td><td>...            </td><td> 7             </td><td>1050           </td><td> 910           </td><td>1965           </td><td>   0           </td><td>98136          </td><td>47.5208        </td><td>-122.393       </td><td>1360           </td><td>  5000         </td></tr>\n",
       "\t<tr><td>1954400510     </td><td>20150218T000000</td><td> 510000        </td><td>3              </td><td>2.00           </td><td>1680           </td><td>  8080         </td><td>1              </td><td>0              </td><td>0              </td><td>...            </td><td> 8             </td><td>1680           </td><td>   0           </td><td>1987           </td><td>   0           </td><td>98074          </td><td>47.6168        </td><td>-122.045       </td><td>1800           </td><td>  7503         </td></tr>\n",
       "\t<tr><td>7237550310     </td><td>20140512T000000</td><td>1225000        </td><td>4              </td><td>4.50           </td><td>5420           </td><td>101930         </td><td>1              </td><td>0              </td><td>0              </td><td>...            </td><td>11             </td><td>3890           </td><td>1530           </td><td>2001           </td><td>   0           </td><td>98053          </td><td>47.6561        </td><td>-122.005       </td><td>4760           </td><td>101930         </td></tr>\n",
       "</tbody>\n",
       "</table>\n"
      ],
      "text/latex": [
       "\\begin{tabular}{r|lllllllllllllllllllll}\n",
       " id & date & price & bedrooms & bathrooms & sqft\\_living & sqft\\_lot & floors & waterfront & view & ... & grade & sqft\\_above & sqft\\_basement & yr\\_built & yr\\_renovated & zipcode & lat & long & sqft\\_living15 & sqft\\_lot15\\\\\n",
       "\\hline\n",
       "\t 7129300520      & 20141013T000000 &  221900         & 3               & 1.00            & 1180            &   5650          & 1               & 0               & 0               & ...             &  7              & 1180            &    0            & 1955            &    0            & 98178           & 47.5112         & -122.257        & 1340            &   5650         \\\\\n",
       "\t 6414100192      & 20141209T000000 &  538000         & 3               & 2.25            & 2570            &   7242          & 2               & 0               & 0               & ...             &  7              & 2170            &  400            & 1951            & 1991            & 98125           & 47.7210         & -122.319        & 1690            &   7639         \\\\\n",
       "\t 5631500400      & 20150225T000000 &  180000         & 2               & 1.00            &  770            &  10000          & 1               & 0               & 0               & ...             &  6              &  770            &    0            & 1933            &    0            & 98028           & 47.7379         & -122.233        & 2720            &   8062         \\\\\n",
       "\t 2487200875      & 20141209T000000 &  604000         & 4               & 3.00            & 1960            &   5000          & 1               & 0               & 0               & ...             &  7              & 1050            &  910            & 1965            &    0            & 98136           & 47.5208         & -122.393        & 1360            &   5000         \\\\\n",
       "\t 1954400510      & 20150218T000000 &  510000         & 3               & 2.00            & 1680            &   8080          & 1               & 0               & 0               & ...             &  8              & 1680            &    0            & 1987            &    0            & 98074           & 47.6168         & -122.045        & 1800            &   7503         \\\\\n",
       "\t 7237550310      & 20140512T000000 & 1225000         & 4               & 4.50            & 5420            & 101930          & 1               & 0               & 0               & ...             & 11              & 3890            & 1530            & 2001            &    0            & 98053           & 47.6561         & -122.005        & 4760            & 101930         \\\\\n",
       "\\end{tabular}\n"
      ],
      "text/markdown": [
       "\n",
       "| id | date | price | bedrooms | bathrooms | sqft_living | sqft_lot | floors | waterfront | view | ... | grade | sqft_above | sqft_basement | yr_built | yr_renovated | zipcode | lat | long | sqft_living15 | sqft_lot15 |\n",
       "|---|---|---|---|---|---|---|---|---|---|---|---|---|---|---|---|---|---|---|---|---|\n",
       "| 7129300520      | 20141013T000000 |  221900         | 3               | 1.00            | 1180            |   5650          | 1               | 0               | 0               | ...             |  7              | 1180            |    0            | 1955            |    0            | 98178           | 47.5112         | -122.257        | 1340            |   5650          |\n",
       "| 6414100192      | 20141209T000000 |  538000         | 3               | 2.25            | 2570            |   7242          | 2               | 0               | 0               | ...             |  7              | 2170            |  400            | 1951            | 1991            | 98125           | 47.7210         | -122.319        | 1690            |   7639          |\n",
       "| 5631500400      | 20150225T000000 |  180000         | 2               | 1.00            |  770            |  10000          | 1               | 0               | 0               | ...             |  6              |  770            |    0            | 1933            |    0            | 98028           | 47.7379         | -122.233        | 2720            |   8062          |\n",
       "| 2487200875      | 20141209T000000 |  604000         | 4               | 3.00            | 1960            |   5000          | 1               | 0               | 0               | ...             |  7              | 1050            |  910            | 1965            |    0            | 98136           | 47.5208         | -122.393        | 1360            |   5000          |\n",
       "| 1954400510      | 20150218T000000 |  510000         | 3               | 2.00            | 1680            |   8080          | 1               | 0               | 0               | ...             |  8              | 1680            |    0            | 1987            |    0            | 98074           | 47.6168         | -122.045        | 1800            |   7503          |\n",
       "| 7237550310      | 20140512T000000 | 1225000         | 4               | 4.50            | 5420            | 101930          | 1               | 0               | 0               | ...             | 11              | 3890            | 1530            | 2001            |    0            | 98053           | 47.6561         | -122.005        | 4760            | 101930          |\n",
       "\n"
      ],
      "text/plain": [
       "  id         date            price   bedrooms bathrooms sqft_living sqft_lot\n",
       "1 7129300520 20141013T000000  221900 3        1.00      1180          5650  \n",
       "2 6414100192 20141209T000000  538000 3        2.25      2570          7242  \n",
       "3 5631500400 20150225T000000  180000 2        1.00       770         10000  \n",
       "4 2487200875 20141209T000000  604000 4        3.00      1960          5000  \n",
       "5 1954400510 20150218T000000  510000 3        2.00      1680          8080  \n",
       "6 7237550310 20140512T000000 1225000 4        4.50      5420        101930  \n",
       "  floors waterfront view ... grade sqft_above sqft_basement yr_built\n",
       "1 1      0          0    ...  7    1180          0          1955    \n",
       "2 2      0          0    ...  7    2170        400          1951    \n",
       "3 1      0          0    ...  6     770          0          1933    \n",
       "4 1      0          0    ...  7    1050        910          1965    \n",
       "5 1      0          0    ...  8    1680          0          1987    \n",
       "6 1      0          0    ... 11    3890       1530          2001    \n",
       "  yr_renovated zipcode lat     long     sqft_living15 sqft_lot15\n",
       "1    0         98178   47.5112 -122.257 1340            5650    \n",
       "2 1991         98125   47.7210 -122.319 1690            7639    \n",
       "3    0         98028   47.7379 -122.233 2720            8062    \n",
       "4    0         98136   47.5208 -122.393 1360            5000    \n",
       "5    0         98074   47.6168 -122.045 1800            7503    \n",
       "6    0         98053   47.6561 -122.005 4760          101930    "
      ]
     },
     "metadata": {},
     "output_type": "display_data"
    }
   ],
   "source": [
    "#Import data\n",
    "og_data <- read.csv(\"house_prices_modified.csv\")\n",
    "head(og_data)"
   ]
  },
  {
   "cell_type": "code",
   "execution_count": 2,
   "id": "e7737799",
   "metadata": {},
   "outputs": [
    {
     "name": "stdout",
     "output_type": "stream",
     "text": [
      "package 'scales' successfully unpacked and MD5 sums checked\n",
      "\n",
      "The downloaded binary packages are in\n",
      "\tC:\\Users\\User\\AppData\\Local\\Temp\\RtmpWUNWLu\\downloaded_packages\n"
     ]
    },
    {
     "name": "stderr",
     "output_type": "stream",
     "text": [
      "Warning message:\n",
      "\"package 'scales' was built under R version 3.6.3\""
     ]
    },
    {
     "name": "stdout",
     "output_type": "stream",
     "text": [
      "\n",
      "  There is a binary version available but the source version is later:\n",
      "      binary source needs_compilation\n",
      "Hmisc  4.5-0  4.6-0              TRUE\n",
      "\n",
      "  Binaries will be installed\n",
      "package 'Hmisc' successfully unpacked and MD5 sums checked\n"
     ]
    },
    {
     "name": "stderr",
     "output_type": "stream",
     "text": [
      "Warning message:\n",
      "\"cannot remove prior installation of package 'Hmisc'\"Warning message in file.copy(savedcopy, lib, recursive = TRUE):\n",
      "\"problem copying C:\\Users\\User\\anaconda3_\\envs\\R\\Lib\\R\\library\\00LOCK\\Hmisc\\libs\\x64\\Hmisc.dll to C:\\Users\\User\\anaconda3_\\envs\\R\\Lib\\R\\library\\Hmisc\\libs\\x64\\Hmisc.dll: Permission denied\"Warning message:\n",
      "\"restored 'Hmisc'\""
     ]
    },
    {
     "name": "stdout",
     "output_type": "stream",
     "text": [
      "\n",
      "The downloaded binary packages are in\n",
      "\tC:\\Users\\User\\AppData\\Local\\Temp\\RtmpWUNWLu\\downloaded_packages\n"
     ]
    },
    {
     "name": "stderr",
     "output_type": "stream",
     "text": [
      "Warning message:\n",
      "\"package 'Hmisc' was built under R version 3.6.3\"Loading required package: lattice\n",
      "Loading required package: survival\n",
      "Warning message:\n",
      "\"package 'survival' was built under R version 3.6.3\"Loading required package: Formula\n",
      "Warning message:\n",
      "\"package 'Formula' was built under R version 3.6.3\"Loading required package: ggplot2\n",
      "\n",
      "Attaching package: 'Hmisc'\n",
      "\n",
      "The following objects are masked from 'package:base':\n",
      "\n",
      "    format.pval, units\n",
      "\n"
     ]
    },
    {
     "name": "stdout",
     "output_type": "stream",
     "text": [
      "package 'Metrics' successfully unpacked and MD5 sums checked\n",
      "\n",
      "The downloaded binary packages are in\n",
      "\tC:\\Users\\User\\AppData\\Local\\Temp\\RtmpWUNWLu\\downloaded_packages\n"
     ]
    },
    {
     "name": "stderr",
     "output_type": "stream",
     "text": [
      "Warning message:\n",
      "\"package 'Metrics' was built under R version 3.6.3\"also installing the dependencies 'cli', 'glue', 'broom', 'googledrive', 'googlesheets4', 'jsonlite'\n",
      "\n"
     ]
    },
    {
     "name": "stdout",
     "output_type": "stream",
     "text": [
      "\n",
      "  There are binary versions available but the source versions are later:\n",
      "              binary source needs_compilation\n",
      "cli            2.5.0  3.1.0              TRUE\n",
      "broom          0.7.6 0.7.10             FALSE\n",
      "googledrive    1.0.1  2.0.0             FALSE\n",
      "googlesheets4  0.3.0  1.0.0             FALSE\n",
      "\n",
      "  Binaries will be installed\n",
      "package 'cli' successfully unpacked and MD5 sums checked\n",
      "package 'glue' successfully unpacked and MD5 sums checked\n"
     ]
    },
    {
     "name": "stderr",
     "output_type": "stream",
     "text": [
      "Warning message:\n",
      "\"cannot remove prior installation of package 'glue'\"Warning message in file.copy(savedcopy, lib, recursive = TRUE):\n",
      "\"problem copying C:\\Users\\User\\anaconda3_\\envs\\R\\Lib\\R\\library\\00LOCK\\glue\\libs\\x64\\glue.dll to C:\\Users\\User\\anaconda3_\\envs\\R\\Lib\\R\\library\\glue\\libs\\x64\\glue.dll: Permission denied\"Warning message:\n",
      "\"restored 'glue'\""
     ]
    },
    {
     "name": "stdout",
     "output_type": "stream",
     "text": [
      "package 'jsonlite' successfully unpacked and MD5 sums checked\n"
     ]
    },
    {
     "name": "stderr",
     "output_type": "stream",
     "text": [
      "Warning message:\n",
      "\"cannot remove prior installation of package 'jsonlite'\"Warning message in file.copy(savedcopy, lib, recursive = TRUE):\n",
      "\"problem copying C:\\Users\\User\\anaconda3_\\envs\\R\\Lib\\R\\library\\00LOCK\\jsonlite\\libs\\x64\\jsonlite.dll to C:\\Users\\User\\anaconda3_\\envs\\R\\Lib\\R\\library\\jsonlite\\libs\\x64\\jsonlite.dll: Permission denied\"Warning message:\n",
      "\"restored 'jsonlite'\""
     ]
    },
    {
     "name": "stdout",
     "output_type": "stream",
     "text": [
      "package 'tidyverse' successfully unpacked and MD5 sums checked\n",
      "\n",
      "The downloaded binary packages are in\n",
      "\tC:\\Users\\User\\AppData\\Local\\Temp\\RtmpWUNWLu\\downloaded_packages\n"
     ]
    },
    {
     "name": "stderr",
     "output_type": "stream",
     "text": [
      "installing the source packages 'broom', 'googledrive', 'googlesheets4'\n",
      "\n",
      "Warning message in install.packages(\"tidyverse\"):\n",
      "\"installation of package 'broom' had non-zero exit status\"Warning message in install.packages(\"tidyverse\"):\n",
      "\"installation of package 'googledrive' had non-zero exit status\"Warning message in install.packages(\"tidyverse\"):\n",
      "\"installation of package 'googlesheets4' had non-zero exit status\"Warning message:\n",
      "\"package 'tidyverse' was built under R version 3.6.3\""
     ]
    },
    {
     "ename": "ERROR",
     "evalue": "Error: package or namespace load failed for 'tidyverse' in loadNamespace(j <- i[[1L]], c(lib.loc, .libPaths()), versionCheck = vI[[j]]):\n namespace 'broom' 0.5.2 is being loaded, but >= 0.7.6 is required\n",
     "output_type": "error",
     "traceback": [
      "Error: package or namespace load failed for 'tidyverse' in loadNamespace(j <- i[[1L]], c(lib.loc, .libPaths()), versionCheck = vI[[j]]):\n namespace 'broom' 0.5.2 is being loaded, but >= 0.7.6 is required\nTraceback:\n",
      "1. library(tidyverse)",
      "2. tryCatch({\n .     attr(package, \"LibPath\") <- which.lib.loc\n .     ns <- loadNamespace(package, lib.loc)\n .     env <- attachNamespace(ns, pos = pos, deps, exclude, include.only)\n . }, error = function(e) {\n .     P <- if (!is.null(cc <- conditionCall(e))) \n .         paste(\" in\", deparse(cc)[1L])\n .     else \"\"\n .     msg <- gettextf(\"package or namespace load failed for %s%s:\\n %s\", \n .         sQuote(package), P, conditionMessage(e))\n .     if (logical.return) \n .         message(paste(\"Error:\", msg), domain = NA)\n .     else stop(msg, call. = FALSE, domain = NA)\n . })",
      "3. tryCatchList(expr, classes, parentenv, handlers)",
      "4. tryCatchOne(expr, names, parentenv, handlers[[1L]])",
      "5. value[[3L]](cond)",
      "6. stop(msg, call. = FALSE, domain = NA)"
     ]
    }
   ],
   "source": [
    "#Install and import required libraries\n",
    "install.packages(\"scales\")\n",
    "library(scales)\n",
    "\n",
    "install.packages(\"Hmisc\")\n",
    "library(Hmisc)\n",
    "\n",
    "install.packages(\"Metrics\")\n",
    "library(Metrics)\n",
    "\n",
    "install.packages(\"tidyverse\")\n",
    "library(tidyverse)"
   ]
  },
  {
   "cell_type": "code",
   "execution_count": 4,
   "id": "7ee44889",
   "metadata": {},
   "outputs": [
    {
     "data": {
      "text/plain": [
       "       id                         date           price            bedrooms     \n",
       " Min.   :1.000e+06   20140623T000000:  142   Min.   :  75000   Min.   : 0.000  \n",
       " 1st Qu.:2.123e+09   20140625T000000:  131   1st Qu.: 321962   1st Qu.: 3.000  \n",
       " Median :3.905e+09   20140626T000000:  131   Median : 450000   Median : 3.000  \n",
       " Mean   :4.580e+09   20140708T000000:  127   Mean   : 540111   Mean   : 3.371  \n",
       " 3rd Qu.:7.309e+09   20150427T000000:  126   3rd Qu.: 645000   3rd Qu.: 4.000  \n",
       " Max.   :9.900e+09   20150325T000000:  123   Max.   :7700000   Max.   :33.000  \n",
       "                     (Other)        :20836   NA's   :10                        \n",
       "   bathrooms      sqft_living       sqft_lot           floors      waterfront \n",
       " Min.   :0.000   Min.   :  290   Min.   :    520   Min.   :1.000   0  :21448  \n",
       " 1st Qu.:1.750   1st Qu.: 1426   1st Qu.:   5040   1st Qu.:1.000   1  :  158  \n",
       " Median :2.250   Median : 1910   Median :   7620   Median :1.500   NO :    5  \n",
       " Mean   :2.115   Mean   : 2080   Mean   :  15106   Mean   :1.494   YES:    5  \n",
       " 3rd Qu.:2.500   3rd Qu.: 2550   3rd Qu.:  10687   3rd Qu.:2.000              \n",
       " Max.   :8.000   Max.   :13540   Max.   :1651359   Max.   :3.500              \n",
       "                                                                              \n",
       "      view          condition         grade          sqft_above  \n",
       " Min.   :0.0000   Min.   :1.000   Min.   : 1.000   Min.   : 290  \n",
       " 1st Qu.:0.0000   1st Qu.:3.000   1st Qu.: 7.000   1st Qu.:1190  \n",
       " Median :0.0000   Median :3.000   Median : 7.000   Median :1560  \n",
       " Mean   :0.2343   Mean   :3.409   Mean   : 7.657   Mean   :1788  \n",
       " 3rd Qu.:0.0000   3rd Qu.:4.000   3rd Qu.: 8.000   3rd Qu.:2210  \n",
       " Max.   :4.0000   Max.   :5.000   Max.   :13.000   Max.   :9410  \n",
       "                                                                 \n",
       " sqft_basement       yr_built     yr_renovated        zipcode     \n",
       " Min.   :   0.0   Min.   :1900   Min.   :   0.00   Min.   :98001  \n",
       " 1st Qu.:   0.0   1st Qu.:1951   1st Qu.:   0.00   1st Qu.:98033  \n",
       " Median :   0.0   Median :1975   Median :   0.00   Median :98065  \n",
       " Mean   : 291.5   Mean   :1971   Mean   :  84.39   Mean   :98078  \n",
       " 3rd Qu.: 560.0   3rd Qu.:1997   3rd Qu.:   0.00   3rd Qu.:98118  \n",
       " Max.   :4820.0   Max.   :2015   Max.   :2015.00   Max.   :98199  \n",
       "                                                                  \n",
       "      lat             long        sqft_living15    sqft_lot15    \n",
       " Min.   :47.16   Min.   :-122.5   Min.   : 399   Min.   :   651  \n",
       " 1st Qu.:47.47   1st Qu.:-122.3   1st Qu.:1490   1st Qu.:  5100  \n",
       " Median :47.57   Median :-122.2   Median :1840   Median :  7620  \n",
       " Mean   :47.56   Mean   :-122.2   Mean   :1986   Mean   : 12768  \n",
       " 3rd Qu.:47.68   3rd Qu.:-122.1   3rd Qu.:2360   3rd Qu.: 10083  \n",
       " Max.   :47.78   Max.   :-121.3   Max.   :6210   Max.   :871200  \n",
       "                                                                 "
      ]
     },
     "metadata": {},
     "output_type": "display_data"
    }
   ],
   "source": [
    "#Phase 1 of EDA - Data Cleaning\n",
    "\n",
    "#Check 1 - Missing Values\n",
    "summary(og_data)"
   ]
  },
  {
   "cell_type": "code",
   "execution_count": 5,
   "id": "732a8c24",
   "metadata": {},
   "outputs": [
    {
     "data": {
      "text/html": [
       "10"
      ],
      "text/latex": [
       "10"
      ],
      "text/markdown": [
       "10"
      ],
      "text/plain": [
       "[1] 10"
      ]
     },
     "metadata": {},
     "output_type": "display_data"
    }
   ],
   "source": [
    "#Confirm that price is only variable with NAs\n",
    "missing_values_sum <- sum(is.na(og_data))\n",
    "missing_values_sum"
   ]
  },
  {
   "cell_type": "code",
   "execution_count": 6,
   "id": "43db960e",
   "metadata": {},
   "outputs": [
    {
     "data": {
      "text/html": [
       "'0.0463%'"
      ],
      "text/latex": [
       "'0.0463\\%'"
      ],
      "text/markdown": [
       "'0.0463%'"
      ],
      "text/plain": [
       "[1] \"0.0463%\""
      ]
     },
     "metadata": {},
     "output_type": "display_data"
    }
   ],
   "source": [
    "#Print percentage of missing values in price column\n",
    "price_missing <- sum(is.na(og_data$price))\n",
    "number_rows <- nrow(og_data)\n",
    "percent_missing <- price_missing/number_rows\n",
    "percent(percent_missing, 0.0001)"
   ]
  },
  {
   "cell_type": "code",
   "execution_count": 7,
   "id": "406da50d",
   "metadata": {},
   "outputs": [
    {
     "data": {
      "text/plain": [
       "       id                         date           price            bedrooms     \n",
       " Min.   :1.000e+06   20140623T000000:  142   Min.   :  75000   Min.   : 0.000  \n",
       " 1st Qu.:2.123e+09   20140625T000000:  131   1st Qu.: 321962   1st Qu.: 3.000  \n",
       " Median :3.905e+09   20140626T000000:  131   Median : 450000   Median : 3.000  \n",
       " Mean   :4.581e+09   20140708T000000:  127   Mean   : 540111   Mean   : 3.371  \n",
       " 3rd Qu.:7.309e+09   20150427T000000:  126   3rd Qu.: 645000   3rd Qu.: 4.000  \n",
       " Max.   :9.900e+09   20150325T000000:  123   Max.   :7700000   Max.   :33.000  \n",
       "                     (Other)        :20826                                     \n",
       "   bathrooms      sqft_living       sqft_lot           floors      waterfront \n",
       " Min.   :0.000   Min.   :  290   Min.   :    520   Min.   :1.000   0  :21438  \n",
       " 1st Qu.:1.750   1st Qu.: 1420   1st Qu.:   5040   1st Qu.:1.000   1  :  158  \n",
       " Median :2.250   Median : 1910   Median :   7620   Median :1.500   NO :    5  \n",
       " Mean   :2.115   Mean   : 2080   Mean   :  15107   Mean   :1.494   YES:    5  \n",
       " 3rd Qu.:2.500   3rd Qu.: 2550   3rd Qu.:  10686   3rd Qu.:2.000              \n",
       " Max.   :8.000   Max.   :13540   Max.   :1651359   Max.   :3.500              \n",
       "                                                                              \n",
       "      view          condition         grade          sqft_above  \n",
       " Min.   :0.0000   Min.   :1.000   Min.   : 1.000   Min.   : 290  \n",
       " 1st Qu.:0.0000   1st Qu.:3.000   1st Qu.: 7.000   1st Qu.:1190  \n",
       " Median :0.0000   Median :3.000   Median : 7.000   Median :1560  \n",
       " Mean   :0.2344   Mean   :3.409   Mean   : 7.657   Mean   :1788  \n",
       " 3rd Qu.:0.0000   3rd Qu.:4.000   3rd Qu.: 8.000   3rd Qu.:2210  \n",
       " Max.   :4.0000   Max.   :5.000   Max.   :13.000   Max.   :9410  \n",
       "                                                                 \n",
       " sqft_basement       yr_built     yr_renovated        zipcode     \n",
       " Min.   :   0.0   Min.   :1900   Min.   :   0.00   Min.   :98001  \n",
       " 1st Qu.:   0.0   1st Qu.:1951   1st Qu.:   0.00   1st Qu.:98033  \n",
       " Median :   0.0   Median :1975   Median :   0.00   Median :98065  \n",
       " Mean   : 291.5   Mean   :1971   Mean   :  84.43   Mean   :98078  \n",
       " 3rd Qu.: 560.0   3rd Qu.:1997   3rd Qu.:   0.00   3rd Qu.:98118  \n",
       " Max.   :4820.0   Max.   :2015   Max.   :2015.00   Max.   :98199  \n",
       "                                                                  \n",
       "      lat             long        sqft_living15    sqft_lot15    \n",
       " Min.   :47.16   Min.   :-122.5   Min.   : 399   Min.   :   651  \n",
       " 1st Qu.:47.47   1st Qu.:-122.3   1st Qu.:1490   1st Qu.:  5100  \n",
       " Median :47.57   Median :-122.2   Median :1840   Median :  7620  \n",
       " Mean   :47.56   Mean   :-122.2   Mean   :1986   Mean   : 12768  \n",
       " 3rd Qu.:47.68   3rd Qu.:-122.1   3rd Qu.:2360   3rd Qu.: 10080  \n",
       " Max.   :47.78   Max.   :-121.3   Max.   :6210   Max.   :871200  \n",
       "                                                                 "
      ]
     },
     "metadata": {},
     "output_type": "display_data"
    }
   ],
   "source": [
    "#Create df_temp without missing values\n",
    "df_temp <- na.omit(og_data)\n",
    "summary(df_temp)"
   ]
  },
  {
   "cell_type": "code",
   "execution_count": 8,
   "id": "af7aeb34",
   "metadata": {},
   "outputs": [
    {
     "data": {
      "text/html": [
       "<table>\n",
       "<thead><tr><th></th><th scope=col>id</th><th scope=col>date</th><th scope=col>price</th><th scope=col>bedrooms</th><th scope=col>bathrooms</th><th scope=col>sqft_living</th><th scope=col>sqft_lot</th><th scope=col>floors</th><th scope=col>waterfront</th><th scope=col>view</th><th scope=col>...</th><th scope=col>grade</th><th scope=col>sqft_above</th><th scope=col>sqft_basement</th><th scope=col>yr_built</th><th scope=col>yr_renovated</th><th scope=col>zipcode</th><th scope=col>lat</th><th scope=col>long</th><th scope=col>sqft_living15</th><th scope=col>sqft_lot15</th></tr></thead>\n",
       "<tbody>\n",
       "\t<tr><th scope=row>20</th><td>  16000397     </td><td>20141205T000000</td><td>189000         </td><td>2              </td><td>1.00           </td><td>1200           </td><td>9850           </td><td>1              </td><td>0              </td><td>0              </td><td>...            </td><td>7              </td><td>1200           </td><td>  0            </td><td>1921           </td><td>0              </td><td>98002          </td><td>47.3089        </td><td>-122.210       </td><td>1060           </td><td>5095           </td></tr>\n",
       "\t<tr><th scope=row>309</th><td>7280300196     </td><td>20150403T000000</td><td>550000         </td><td>4              </td><td>2.75           </td><td>1800           </td><td>7750           </td><td>1              </td><td>0              </td><td>0              </td><td>...            </td><td>8              </td><td>1400           </td><td>400            </td><td>1965           </td><td>0              </td><td>98177          </td><td>47.7776        </td><td>-122.384       </td><td>1800           </td><td>8275           </td></tr>\n",
       "\t<tr><th scope=row>432</th><td>3754700160     </td><td>20140506T000000</td><td>397000         </td><td>4              </td><td>2.00           </td><td>1440           </td><td>7680           </td><td>1              </td><td>0              </td><td>0              </td><td>...            </td><td>7              </td><td>1200           </td><td>240            </td><td>1971           </td><td>0              </td><td>98034          </td><td>47.7245        </td><td>-122.200       </td><td>1460           </td><td>9660           </td></tr>\n",
       "</tbody>\n",
       "</table>\n"
      ],
      "text/latex": [
       "\\begin{tabular}{r|lllllllllllllllllllll}\n",
       "  & id & date & price & bedrooms & bathrooms & sqft\\_living & sqft\\_lot & floors & waterfront & view & ... & grade & sqft\\_above & sqft\\_basement & yr\\_built & yr\\_renovated & zipcode & lat & long & sqft\\_living15 & sqft\\_lot15\\\\\n",
       "\\hline\n",
       "\t20 &   16000397      & 20141205T000000 & 189000          & 2               & 1.00            & 1200            & 9850            & 1               & 0               & 0               & ...             & 7               & 1200            &   0             & 1921            & 0               & 98002           & 47.3089         & -122.210        & 1060            & 5095           \\\\\n",
       "\t309 & 7280300196      & 20150403T000000 & 550000          & 4               & 2.75            & 1800            & 7750            & 1               & 0               & 0               & ...             & 8               & 1400            & 400             & 1965            & 0               & 98177           & 47.7776         & -122.384        & 1800            & 8275           \\\\\n",
       "\t432 & 3754700160      & 20140506T000000 & 397000          & 4               & 2.00            & 1440            & 7680            & 1               & 0               & 0               & ...             & 7               & 1200            & 240             & 1971            & 0               & 98034           & 47.7245         & -122.200        & 1460            & 9660           \\\\\n",
       "\\end{tabular}\n"
      ],
      "text/markdown": [
       "\n",
       "| <!--/--> | id | date | price | bedrooms | bathrooms | sqft_living | sqft_lot | floors | waterfront | view | ... | grade | sqft_above | sqft_basement | yr_built | yr_renovated | zipcode | lat | long | sqft_living15 | sqft_lot15 |\n",
       "|---|---|---|---|---|---|---|---|---|---|---|---|---|---|---|---|---|---|---|---|---|---|\n",
       "| 20 |   16000397      | 20141205T000000 | 189000          | 2               | 1.00            | 1200            | 9850            | 1               | 0               | 0               | ...             | 7               | 1200            |   0             | 1921            | 0               | 98002           | 47.3089         | -122.210        | 1060            | 5095            |\n",
       "| 309 | 7280300196      | 20150403T000000 | 550000          | 4               | 2.75            | 1800            | 7750            | 1               | 0               | 0               | ...             | 8               | 1400            | 400             | 1965            | 0               | 98177           | 47.7776         | -122.384        | 1800            | 8275            |\n",
       "| 432 | 3754700160      | 20140506T000000 | 397000          | 4               | 2.00            | 1440            | 7680            | 1               | 0               | 0               | ...             | 7               | 1200            | 240             | 1971            | 0               | 98034           | 47.7245         | -122.200        | 1460            | 9660            |\n",
       "\n"
      ],
      "text/plain": [
       "    id         date            price  bedrooms bathrooms sqft_living sqft_lot\n",
       "20    16000397 20141205T000000 189000 2        1.00      1200        9850    \n",
       "309 7280300196 20150403T000000 550000 4        2.75      1800        7750    \n",
       "432 3754700160 20140506T000000 397000 4        2.00      1440        7680    \n",
       "    floors waterfront view ... grade sqft_above sqft_basement yr_built\n",
       "20  1      0          0    ... 7     1200         0           1921    \n",
       "309 1      0          0    ... 8     1400       400           1965    \n",
       "432 1      0          0    ... 7     1200       240           1971    \n",
       "    yr_renovated zipcode lat     long     sqft_living15 sqft_lot15\n",
       "20  0            98002   47.3089 -122.210 1060          5095      \n",
       "309 0            98177   47.7776 -122.384 1800          8275      \n",
       "432 0            98034   47.7245 -122.200 1460          9660      "
      ]
     },
     "metadata": {},
     "output_type": "display_data"
    }
   ],
   "source": [
    "#Check 2 - Duplicate Rows\n",
    "\n",
    "#Examine dataframe for duplicate rows\n",
    "df_temp[duplicated(df_temp), ]"
   ]
  },
  {
   "cell_type": "code",
   "execution_count": 9,
   "id": "569aa0b7",
   "metadata": {},
   "outputs": [
    {
     "data": {
      "text/html": [
       "<table>\n",
       "<thead><tr><th scope=col>id</th><th scope=col>date</th><th scope=col>price</th><th scope=col>bedrooms</th><th scope=col>bathrooms</th><th scope=col>sqft_living</th><th scope=col>sqft_lot</th><th scope=col>floors</th><th scope=col>waterfront</th><th scope=col>view</th><th scope=col>...</th><th scope=col>grade</th><th scope=col>sqft_above</th><th scope=col>sqft_basement</th><th scope=col>yr_built</th><th scope=col>yr_renovated</th><th scope=col>zipcode</th><th scope=col>lat</th><th scope=col>long</th><th scope=col>sqft_living15</th><th scope=col>sqft_lot15</th></tr></thead>\n",
       "<tbody>\n",
       "\t<tr><td>7129300520     </td><td>20141013T000000</td><td> 221900        </td><td>3              </td><td>1.00           </td><td>1180           </td><td>  5650         </td><td>1              </td><td>0              </td><td>0              </td><td>...            </td><td> 7             </td><td>1180           </td><td>   0           </td><td>1955           </td><td>   0           </td><td>98178          </td><td>47.5112        </td><td>-122.257       </td><td>1340           </td><td>  5650         </td></tr>\n",
       "\t<tr><td>6414100192     </td><td>20141209T000000</td><td> 538000        </td><td>3              </td><td>2.25           </td><td>2570           </td><td>  7242         </td><td>2              </td><td>0              </td><td>0              </td><td>...            </td><td> 7             </td><td>2170           </td><td> 400           </td><td>1951           </td><td>1991           </td><td>98125          </td><td>47.7210        </td><td>-122.319       </td><td>1690           </td><td>  7639         </td></tr>\n",
       "\t<tr><td>5631500400     </td><td>20150225T000000</td><td> 180000        </td><td>2              </td><td>1.00           </td><td> 770           </td><td> 10000         </td><td>1              </td><td>0              </td><td>0              </td><td>...            </td><td> 6             </td><td> 770           </td><td>   0           </td><td>1933           </td><td>   0           </td><td>98028          </td><td>47.7379        </td><td>-122.233       </td><td>2720           </td><td>  8062         </td></tr>\n",
       "\t<tr><td>2487200875     </td><td>20141209T000000</td><td> 604000        </td><td>4              </td><td>3.00           </td><td>1960           </td><td>  5000         </td><td>1              </td><td>0              </td><td>0              </td><td>...            </td><td> 7             </td><td>1050           </td><td> 910           </td><td>1965           </td><td>   0           </td><td>98136          </td><td>47.5208        </td><td>-122.393       </td><td>1360           </td><td>  5000         </td></tr>\n",
       "\t<tr><td>1954400510     </td><td>20150218T000000</td><td> 510000        </td><td>3              </td><td>2.00           </td><td>1680           </td><td>  8080         </td><td>1              </td><td>0              </td><td>0              </td><td>...            </td><td> 8             </td><td>1680           </td><td>   0           </td><td>1987           </td><td>   0           </td><td>98074          </td><td>47.6168        </td><td>-122.045       </td><td>1800           </td><td>  7503         </td></tr>\n",
       "\t<tr><td>7237550310     </td><td>20140512T000000</td><td>1225000        </td><td>4              </td><td>4.50           </td><td>5420           </td><td>101930         </td><td>1              </td><td>0              </td><td>0              </td><td>...            </td><td>11             </td><td>3890           </td><td>1530           </td><td>2001           </td><td>   0           </td><td>98053          </td><td>47.6561        </td><td>-122.005       </td><td>4760           </td><td>101930         </td></tr>\n",
       "</tbody>\n",
       "</table>\n"
      ],
      "text/latex": [
       "\\begin{tabular}{r|lllllllllllllllllllll}\n",
       " id & date & price & bedrooms & bathrooms & sqft\\_living & sqft\\_lot & floors & waterfront & view & ... & grade & sqft\\_above & sqft\\_basement & yr\\_built & yr\\_renovated & zipcode & lat & long & sqft\\_living15 & sqft\\_lot15\\\\\n",
       "\\hline\n",
       "\t 7129300520      & 20141013T000000 &  221900         & 3               & 1.00            & 1180            &   5650          & 1               & 0               & 0               & ...             &  7              & 1180            &    0            & 1955            &    0            & 98178           & 47.5112         & -122.257        & 1340            &   5650         \\\\\n",
       "\t 6414100192      & 20141209T000000 &  538000         & 3               & 2.25            & 2570            &   7242          & 2               & 0               & 0               & ...             &  7              & 2170            &  400            & 1951            & 1991            & 98125           & 47.7210         & -122.319        & 1690            &   7639         \\\\\n",
       "\t 5631500400      & 20150225T000000 &  180000         & 2               & 1.00            &  770            &  10000          & 1               & 0               & 0               & ...             &  6              &  770            &    0            & 1933            &    0            & 98028           & 47.7379         & -122.233        & 2720            &   8062         \\\\\n",
       "\t 2487200875      & 20141209T000000 &  604000         & 4               & 3.00            & 1960            &   5000          & 1               & 0               & 0               & ...             &  7              & 1050            &  910            & 1965            &    0            & 98136           & 47.5208         & -122.393        & 1360            &   5000         \\\\\n",
       "\t 1954400510      & 20150218T000000 &  510000         & 3               & 2.00            & 1680            &   8080          & 1               & 0               & 0               & ...             &  8              & 1680            &    0            & 1987            &    0            & 98074           & 47.6168         & -122.045        & 1800            &   7503         \\\\\n",
       "\t 7237550310      & 20140512T000000 & 1225000         & 4               & 4.50            & 5420            & 101930          & 1               & 0               & 0               & ...             & 11              & 3890            & 1530            & 2001            &    0            & 98053           & 47.6561         & -122.005        & 4760            & 101930         \\\\\n",
       "\\end{tabular}\n"
      ],
      "text/markdown": [
       "\n",
       "| id | date | price | bedrooms | bathrooms | sqft_living | sqft_lot | floors | waterfront | view | ... | grade | sqft_above | sqft_basement | yr_built | yr_renovated | zipcode | lat | long | sqft_living15 | sqft_lot15 |\n",
       "|---|---|---|---|---|---|---|---|---|---|---|---|---|---|---|---|---|---|---|---|---|\n",
       "| 7129300520      | 20141013T000000 |  221900         | 3               | 1.00            | 1180            |   5650          | 1               | 0               | 0               | ...             |  7              | 1180            |    0            | 1955            |    0            | 98178           | 47.5112         | -122.257        | 1340            |   5650          |\n",
       "| 6414100192      | 20141209T000000 |  538000         | 3               | 2.25            | 2570            |   7242          | 2               | 0               | 0               | ...             |  7              | 2170            |  400            | 1951            | 1991            | 98125           | 47.7210         | -122.319        | 1690            |   7639          |\n",
       "| 5631500400      | 20150225T000000 |  180000         | 2               | 1.00            |  770            |  10000          | 1               | 0               | 0               | ...             |  6              |  770            |    0            | 1933            |    0            | 98028           | 47.7379         | -122.233        | 2720            |   8062          |\n",
       "| 2487200875      | 20141209T000000 |  604000         | 4               | 3.00            | 1960            |   5000          | 1               | 0               | 0               | ...             |  7              | 1050            |  910            | 1965            |    0            | 98136           | 47.5208         | -122.393        | 1360            |   5000          |\n",
       "| 1954400510      | 20150218T000000 |  510000         | 3               | 2.00            | 1680            |   8080          | 1               | 0               | 0               | ...             |  8              | 1680            |    0            | 1987            |    0            | 98074           | 47.6168         | -122.045        | 1800            |   7503          |\n",
       "| 7237550310      | 20140512T000000 | 1225000         | 4               | 4.50            | 5420            | 101930          | 1               | 0               | 0               | ...             | 11              | 3890            | 1530            | 2001            |    0            | 98053           | 47.6561         | -122.005        | 4760            | 101930          |\n",
       "\n"
      ],
      "text/plain": [
       "  id         date            price   bedrooms bathrooms sqft_living sqft_lot\n",
       "1 7129300520 20141013T000000  221900 3        1.00      1180          5650  \n",
       "2 6414100192 20141209T000000  538000 3        2.25      2570          7242  \n",
       "3 5631500400 20150225T000000  180000 2        1.00       770         10000  \n",
       "4 2487200875 20141209T000000  604000 4        3.00      1960          5000  \n",
       "5 1954400510 20150218T000000  510000 3        2.00      1680          8080  \n",
       "6 7237550310 20140512T000000 1225000 4        4.50      5420        101930  \n",
       "  floors waterfront view ... grade sqft_above sqft_basement yr_built\n",
       "1 1      0          0    ...  7    1180          0          1955    \n",
       "2 2      0          0    ...  7    2170        400          1951    \n",
       "3 1      0          0    ...  6     770          0          1933    \n",
       "4 1      0          0    ...  7    1050        910          1965    \n",
       "5 1      0          0    ...  8    1680          0          1987    \n",
       "6 1      0          0    ... 11    3890       1530          2001    \n",
       "  yr_renovated zipcode lat     long     sqft_living15 sqft_lot15\n",
       "1    0         98178   47.5112 -122.257 1340            5650    \n",
       "2 1991         98125   47.7210 -122.319 1690            7639    \n",
       "3    0         98028   47.7379 -122.233 2720            8062    \n",
       "4    0         98136   47.5208 -122.393 1360            5000    \n",
       "5    0         98074   47.6168 -122.045 1800            7503    \n",
       "6    0         98053   47.6561 -122.005 4760          101930    "
      ]
     },
     "metadata": {},
     "output_type": "display_data"
    }
   ],
   "source": [
    "#Create new df without duplicate rows\n",
    "df_temp2 <- df_temp[!duplicated(df_temp), ]\n",
    "head(df_temp2)"
   ]
  },
  {
   "cell_type": "code",
   "execution_count": 10,
   "id": "b6bfcc2b",
   "metadata": {},
   "outputs": [
    {
     "data": {
      "text/html": [
       "<table>\n",
       "<thead><tr><th></th><th scope=col>id</th><th scope=col>date</th><th scope=col>price</th><th scope=col>bedrooms</th><th scope=col>bathrooms</th><th scope=col>sqft_living</th><th scope=col>sqft_lot</th><th scope=col>floors</th><th scope=col>waterfront</th><th scope=col>view</th><th scope=col>...</th><th scope=col>grade</th><th scope=col>sqft_above</th><th scope=col>sqft_basement</th><th scope=col>yr_built</th><th scope=col>yr_renovated</th><th scope=col>zipcode</th><th scope=col>lat</th><th scope=col>long</th><th scope=col>sqft_living15</th><th scope=col>sqft_lot15</th></tr></thead>\n",
       "<tbody>\n",
       "\t<tr><th scope=row>19</th><td>  16000397     </td><td>20141205T000000</td><td>189000         </td><td>2              </td><td>1.00           </td><td>1200           </td><td>9850           </td><td>1              </td><td>0              </td><td>0              </td><td>...            </td><td>7              </td><td>1200           </td><td>  0            </td><td>1921           </td><td>0              </td><td>98002          </td><td>47.3089        </td><td>-122.210       </td><td>1060           </td><td>5095           </td></tr>\n",
       "\t<tr><th scope=row>308</th><td>7280300196     </td><td>20150403T000000</td><td>550000         </td><td>4              </td><td>2.75           </td><td>1800           </td><td>7750           </td><td>1              </td><td>0              </td><td>0              </td><td>...            </td><td>8              </td><td>1400           </td><td>400            </td><td>1965           </td><td>0              </td><td>98177          </td><td>47.7776        </td><td>-122.384       </td><td>1800           </td><td>8275           </td></tr>\n",
       "\t<tr><th scope=row>431</th><td>3754700160     </td><td>20140506T000000</td><td>397000         </td><td>4              </td><td>2.00           </td><td>1440           </td><td>7680           </td><td>1              </td><td>0              </td><td>0              </td><td>...            </td><td>7              </td><td>1200           </td><td>240            </td><td>1971           </td><td>0              </td><td>98034          </td><td>47.7245        </td><td>-122.200       </td><td>1460           </td><td>9660           </td></tr>\n",
       "</tbody>\n",
       "</table>\n"
      ],
      "text/latex": [
       "\\begin{tabular}{r|lllllllllllllllllllll}\n",
       "  & id & date & price & bedrooms & bathrooms & sqft\\_living & sqft\\_lot & floors & waterfront & view & ... & grade & sqft\\_above & sqft\\_basement & yr\\_built & yr\\_renovated & zipcode & lat & long & sqft\\_living15 & sqft\\_lot15\\\\\n",
       "\\hline\n",
       "\t19 &   16000397      & 20141205T000000 & 189000          & 2               & 1.00            & 1200            & 9850            & 1               & 0               & 0               & ...             & 7               & 1200            &   0             & 1921            & 0               & 98002           & 47.3089         & -122.210        & 1060            & 5095           \\\\\n",
       "\t308 & 7280300196      & 20150403T000000 & 550000          & 4               & 2.75            & 1800            & 7750            & 1               & 0               & 0               & ...             & 8               & 1400            & 400             & 1965            & 0               & 98177           & 47.7776         & -122.384        & 1800            & 8275           \\\\\n",
       "\t431 & 3754700160      & 20140506T000000 & 397000          & 4               & 2.00            & 1440            & 7680            & 1               & 0               & 0               & ...             & 7               & 1200            & 240             & 1971            & 0               & 98034           & 47.7245         & -122.200        & 1460            & 9660           \\\\\n",
       "\\end{tabular}\n"
      ],
      "text/markdown": [
       "\n",
       "| <!--/--> | id | date | price | bedrooms | bathrooms | sqft_living | sqft_lot | floors | waterfront | view | ... | grade | sqft_above | sqft_basement | yr_built | yr_renovated | zipcode | lat | long | sqft_living15 | sqft_lot15 |\n",
       "|---|---|---|---|---|---|---|---|---|---|---|---|---|---|---|---|---|---|---|---|---|---|\n",
       "| 19 |   16000397      | 20141205T000000 | 189000          | 2               | 1.00            | 1200            | 9850            | 1               | 0               | 0               | ...             | 7               | 1200            |   0             | 1921            | 0               | 98002           | 47.3089         | -122.210        | 1060            | 5095            |\n",
       "| 308 | 7280300196      | 20150403T000000 | 550000          | 4               | 2.75            | 1800            | 7750            | 1               | 0               | 0               | ...             | 8               | 1400            | 400             | 1965            | 0               | 98177           | 47.7776         | -122.384        | 1800            | 8275            |\n",
       "| 431 | 3754700160      | 20140506T000000 | 397000          | 4               | 2.00            | 1440            | 7680            | 1               | 0               | 0               | ...             | 7               | 1200            | 240             | 1971            | 0               | 98034           | 47.7245         | -122.200        | 1460            | 9660            |\n",
       "\n"
      ],
      "text/plain": [
       "    id         date            price  bedrooms bathrooms sqft_living sqft_lot\n",
       "19    16000397 20141205T000000 189000 2        1.00      1200        9850    \n",
       "308 7280300196 20150403T000000 550000 4        2.75      1800        7750    \n",
       "431 3754700160 20140506T000000 397000 4        2.00      1440        7680    \n",
       "    floors waterfront view ... grade sqft_above sqft_basement yr_built\n",
       "19  1      0          0    ... 7     1200         0           1921    \n",
       "308 1      0          0    ... 8     1400       400           1965    \n",
       "431 1      0          0    ... 7     1200       240           1971    \n",
       "    yr_renovated zipcode lat     long     sqft_living15 sqft_lot15\n",
       "19  0            98002   47.3089 -122.210 1060          5095      \n",
       "308 0            98177   47.7776 -122.384 1800          8275      \n",
       "431 0            98034   47.7245 -122.200 1460          9660      "
      ]
     },
     "metadata": {},
     "output_type": "display_data"
    }
   ],
   "source": [
    "#Check that original rows still in df_temp2\n",
    "df_temp2[df_temp2$id==16000397|df_temp2$id==7280300196|df_temp2$id==3754700160, ]"
   ]
  },
  {
   "cell_type": "code",
   "execution_count": 11,
   "id": "5b1048eb",
   "metadata": {},
   "outputs": [
    {
     "data": {
      "text/plain": [
       "       id                         date           price            bedrooms     \n",
       " Min.   :1.000e+06   20140623T000000:  142   Min.   :  75000   Min.   : 0.000  \n",
       " 1st Qu.:2.123e+09   20140625T000000:  131   1st Qu.: 321975   1st Qu.: 3.000  \n",
       " Median :3.905e+09   20140626T000000:  131   Median : 450000   Median : 3.000  \n",
       " Mean   :4.581e+09   20140708T000000:  127   Mean   : 540134   Mean   : 3.371  \n",
       " 3rd Qu.:7.309e+09   20150427T000000:  126   3rd Qu.: 645000   3rd Qu.: 4.000  \n",
       " Max.   :9.900e+09   20150325T000000:  123   Max.   :7700000   Max.   :33.000  \n",
       "                     (Other)        :20823                                     \n",
       "   bathrooms      sqft_living       sqft_lot           floors      waterfront \n",
       " Min.   :0.000   Min.   :  290   Min.   :    520   Min.   :1.000   0  :21435  \n",
       " 1st Qu.:1.750   1st Qu.: 1421   1st Qu.:   5040   1st Qu.:1.000   1  :  158  \n",
       " Median :2.250   Median : 1910   Median :   7618   Median :1.500   NO :    5  \n",
       " Mean   :2.115   Mean   : 2080   Mean   :  15108   Mean   :1.494   YES:    5  \n",
       " 3rd Qu.:2.500   3rd Qu.: 2550   3rd Qu.:  10688   3rd Qu.:2.000              \n",
       " Max.   :8.000   Max.   :13540   Max.   :1651359   Max.   :3.500              \n",
       "                                                                              \n",
       "      view          condition         grade          sqft_above  \n",
       " Min.   :0.0000   Min.   :1.000   Min.   : 1.000   Min.   : 290  \n",
       " 1st Qu.:0.0000   1st Qu.:3.000   1st Qu.: 7.000   1st Qu.:1190  \n",
       " Median :0.0000   Median :3.000   Median : 7.000   Median :1560  \n",
       " Mean   :0.2344   Mean   :3.409   Mean   : 7.657   Mean   :1788  \n",
       " 3rd Qu.:0.0000   3rd Qu.:4.000   3rd Qu.: 8.000   3rd Qu.:2210  \n",
       " Max.   :4.0000   Max.   :5.000   Max.   :13.000   Max.   :9410  \n",
       "                                                                 \n",
       " sqft_basement       yr_built     yr_renovated        zipcode     \n",
       " Min.   :   0.0   Min.   :1900   Min.   :   0.00   Min.   :98001  \n",
       " 1st Qu.:   0.0   1st Qu.:1951   1st Qu.:   0.00   1st Qu.:98033  \n",
       " Median :   0.0   Median :1975   Median :   0.00   Median :98065  \n",
       " Mean   : 291.5   Mean   :1971   Mean   :  84.44   Mean   :98078  \n",
       " 3rd Qu.: 560.0   3rd Qu.:1997   3rd Qu.:   0.00   3rd Qu.:98118  \n",
       " Max.   :4820.0   Max.   :2015   Max.   :2015.00   Max.   :98199  \n",
       "                                                                  \n",
       "      lat             long        sqft_living15    sqft_lot15    \n",
       " Min.   :47.16   Min.   :-122.5   Min.   : 399   Min.   :   651  \n",
       " 1st Qu.:47.47   1st Qu.:-122.3   1st Qu.:1490   1st Qu.:  5100  \n",
       " Median :47.57   Median :-122.2   Median :1840   Median :  7620  \n",
       " Mean   :47.56   Mean   :-122.2   Mean   :1987   Mean   : 12769  \n",
       " 3rd Qu.:47.68   3rd Qu.:-122.1   3rd Qu.:2360   3rd Qu.: 10082  \n",
       " Max.   :47.78   Max.   :-121.3   Max.   :6210   Max.   :871200  \n",
       "                                                                 "
      ]
     },
     "metadata": {},
     "output_type": "display_data"
    }
   ],
   "source": [
    "#Check 3 - Inconsistently Labeled Qualitative Variables\n",
    "\n",
    "#Option 1 - Use Summary Funtion to spot potential inconsistencies\n",
    "summary(df_temp2)"
   ]
  },
  {
   "cell_type": "code",
   "execution_count": 12,
   "id": "b3482fea",
   "metadata": {},
   "outputs": [
    {
     "data": {
      "text/html": [
       "<table>\n",
       "<thead><tr><th></th><th scope=col>waterfront</th></tr></thead>\n",
       "<tbody>\n",
       "\t<tr><th scope=row>1</th><td>0  </td></tr>\n",
       "\t<tr><th scope=row>10</th><td>NO </td></tr>\n",
       "\t<tr><th scope=row>51</th><td>1  </td></tr>\n",
       "\t<tr><th scope=row>266</th><td>YES</td></tr>\n",
       "</tbody>\n",
       "</table>\n"
      ],
      "text/latex": [
       "\\begin{tabular}{r|l}\n",
       "  & waterfront\\\\\n",
       "\\hline\n",
       "\t1 & 0  \\\\\n",
       "\t10 & NO \\\\\n",
       "\t51 & 1  \\\\\n",
       "\t266 & YES\\\\\n",
       "\\end{tabular}\n"
      ],
      "text/markdown": [
       "\n",
       "| <!--/--> | waterfront |\n",
       "|---|---|\n",
       "| 1 | 0   |\n",
       "| 10 | NO  |\n",
       "| 51 | 1   |\n",
       "| 266 | YES |\n",
       "\n"
      ],
      "text/plain": [
       "    waterfront\n",
       "1   0         \n",
       "10  NO        \n",
       "51  1         \n",
       "266 YES       "
      ]
     },
     "metadata": {},
     "output_type": "display_data"
    }
   ],
   "source": [
    "#Option 2 - Use unique function to examine unique values of waterfront\n",
    "unique(df_temp2[\"waterfront\"])"
   ]
  },
  {
   "cell_type": "code",
   "execution_count": 13,
   "id": "de412015",
   "metadata": {},
   "outputs": [
    {
     "data": {
      "text/plain": [
       "       id                         date           price            bedrooms     \n",
       " Min.   :1.000e+06   20140623T000000:  142   Min.   :  75000   Min.   : 0.000  \n",
       " 1st Qu.:2.123e+09   20140625T000000:  131   1st Qu.: 321975   1st Qu.: 3.000  \n",
       " Median :3.905e+09   20140626T000000:  131   Median : 450000   Median : 3.000  \n",
       " Mean   :4.581e+09   20140708T000000:  127   Mean   : 540134   Mean   : 3.371  \n",
       " 3rd Qu.:7.309e+09   20150427T000000:  126   3rd Qu.: 645000   3rd Qu.: 4.000  \n",
       " Max.   :9.900e+09   20150325T000000:  123   Max.   :7700000   Max.   :33.000  \n",
       "                     (Other)        :20823                                     \n",
       "   bathrooms      sqft_living       sqft_lot           floors      waterfront \n",
       " Min.   :0.000   Min.   :  290   Min.   :    520   Min.   :1.000   0  :21440  \n",
       " 1st Qu.:1.750   1st Qu.: 1421   1st Qu.:   5040   1st Qu.:1.000   1  :  163  \n",
       " Median :2.250   Median : 1910   Median :   7618   Median :1.500   NO :    0  \n",
       " Mean   :2.115   Mean   : 2080   Mean   :  15108   Mean   :1.494   YES:    0  \n",
       " 3rd Qu.:2.500   3rd Qu.: 2550   3rd Qu.:  10688   3rd Qu.:2.000              \n",
       " Max.   :8.000   Max.   :13540   Max.   :1651359   Max.   :3.500              \n",
       "                                                                              \n",
       "      view          condition         grade          sqft_above  \n",
       " Min.   :0.0000   Min.   :1.000   Min.   : 1.000   Min.   : 290  \n",
       " 1st Qu.:0.0000   1st Qu.:3.000   1st Qu.: 7.000   1st Qu.:1190  \n",
       " Median :0.0000   Median :3.000   Median : 7.000   Median :1560  \n",
       " Mean   :0.2344   Mean   :3.409   Mean   : 7.657   Mean   :1788  \n",
       " 3rd Qu.:0.0000   3rd Qu.:4.000   3rd Qu.: 8.000   3rd Qu.:2210  \n",
       " Max.   :4.0000   Max.   :5.000   Max.   :13.000   Max.   :9410  \n",
       "                                                                 \n",
       " sqft_basement       yr_built     yr_renovated        zipcode     \n",
       " Min.   :   0.0   Min.   :1900   Min.   :   0.00   Min.   :98001  \n",
       " 1st Qu.:   0.0   1st Qu.:1951   1st Qu.:   0.00   1st Qu.:98033  \n",
       " Median :   0.0   Median :1975   Median :   0.00   Median :98065  \n",
       " Mean   : 291.5   Mean   :1971   Mean   :  84.44   Mean   :98078  \n",
       " 3rd Qu.: 560.0   3rd Qu.:1997   3rd Qu.:   0.00   3rd Qu.:98118  \n",
       " Max.   :4820.0   Max.   :2015   Max.   :2015.00   Max.   :98199  \n",
       "                                                                  \n",
       "      lat             long        sqft_living15    sqft_lot15    \n",
       " Min.   :47.16   Min.   :-122.5   Min.   : 399   Min.   :   651  \n",
       " 1st Qu.:47.47   1st Qu.:-122.3   1st Qu.:1490   1st Qu.:  5100  \n",
       " Median :47.57   Median :-122.2   Median :1840   Median :  7620  \n",
       " Mean   :47.56   Mean   :-122.2   Mean   :1987   Mean   : 12769  \n",
       " 3rd Qu.:47.68   3rd Qu.:-122.1   3rd Qu.:2360   3rd Qu.: 10082  \n",
       " Max.   :47.78   Max.   :-121.3   Max.   :6210   Max.   :871200  \n",
       "                                                                 "
      ]
     },
     "metadata": {},
     "output_type": "display_data"
    }
   ],
   "source": [
    "#Correct inconsistencies in waterfront column\n",
    "\n",
    "#Replace YES's with 1s\n",
    "df_temp2$waterfront[df_temp2$waterfront==\"YES\"] <- 1\n",
    "\n",
    "#Replace NO's with 0s\n",
    "df_temp2$waterfront[df_temp2$waterfront==\"NO\"] <- 0\n",
    "\n",
    "#Confirm that replacements occurred correctly\n",
    "summary(df_temp2)"
   ]
  },
  {
   "cell_type": "code",
   "execution_count": 14,
   "id": "9a6e3ab9",
   "metadata": {},
   "outputs": [
    {
     "data": {
      "text/html": [
       "<ol class=list-inline>\n",
       "\t<li>'id'</li>\n",
       "\t<li>'date'</li>\n",
       "\t<li>'price'</li>\n",
       "\t<li>'bedrooms'</li>\n",
       "\t<li>'bathrooms'</li>\n",
       "\t<li>'sqft_living'</li>\n",
       "\t<li>'sqft_lot'</li>\n",
       "\t<li>'floors'</li>\n",
       "\t<li>'waterfront'</li>\n",
       "\t<li>'view'</li>\n",
       "\t<li>'condition'</li>\n",
       "\t<li>'grade'</li>\n",
       "\t<li>'sqft_above'</li>\n",
       "\t<li>'sqft_basement'</li>\n",
       "\t<li>'yr_built'</li>\n",
       "\t<li>'yr_renovated'</li>\n",
       "\t<li>'zipcode'</li>\n",
       "\t<li>'lat'</li>\n",
       "\t<li>'long'</li>\n",
       "\t<li>'sqft_living15'</li>\n",
       "\t<li>'sqft_lot15'</li>\n",
       "</ol>\n"
      ],
      "text/latex": [
       "\\begin{enumerate*}\n",
       "\\item 'id'\n",
       "\\item 'date'\n",
       "\\item 'price'\n",
       "\\item 'bedrooms'\n",
       "\\item 'bathrooms'\n",
       "\\item 'sqft\\_living'\n",
       "\\item 'sqft\\_lot'\n",
       "\\item 'floors'\n",
       "\\item 'waterfront'\n",
       "\\item 'view'\n",
       "\\item 'condition'\n",
       "\\item 'grade'\n",
       "\\item 'sqft\\_above'\n",
       "\\item 'sqft\\_basement'\n",
       "\\item 'yr\\_built'\n",
       "\\item 'yr\\_renovated'\n",
       "\\item 'zipcode'\n",
       "\\item 'lat'\n",
       "\\item 'long'\n",
       "\\item 'sqft\\_living15'\n",
       "\\item 'sqft\\_lot15'\n",
       "\\end{enumerate*}\n"
      ],
      "text/markdown": [
       "1. 'id'\n",
       "2. 'date'\n",
       "3. 'price'\n",
       "4. 'bedrooms'\n",
       "5. 'bathrooms'\n",
       "6. 'sqft_living'\n",
       "7. 'sqft_lot'\n",
       "8. 'floors'\n",
       "9. 'waterfront'\n",
       "10. 'view'\n",
       "11. 'condition'\n",
       "12. 'grade'\n",
       "13. 'sqft_above'\n",
       "14. 'sqft_basement'\n",
       "15. 'yr_built'\n",
       "16. 'yr_renovated'\n",
       "17. 'zipcode'\n",
       "18. 'lat'\n",
       "19. 'long'\n",
       "20. 'sqft_living15'\n",
       "21. 'sqft_lot15'\n",
       "\n",
       "\n"
      ],
      "text/plain": [
       " [1] \"id\"            \"date\"          \"price\"         \"bedrooms\"     \n",
       " [5] \"bathrooms\"     \"sqft_living\"   \"sqft_lot\"      \"floors\"       \n",
       " [9] \"waterfront\"    \"view\"          \"condition\"     \"grade\"        \n",
       "[13] \"sqft_above\"    \"sqft_basement\" \"yr_built\"      \"yr_renovated\" \n",
       "[17] \"zipcode\"       \"lat\"           \"long\"          \"sqft_living15\"\n",
       "[21] \"sqft_lot15\"   "
      ]
     },
     "metadata": {},
     "output_type": "display_data"
    }
   ],
   "source": [
    "#Phase 2 - Data Manipulation\n",
    "colnames(df_temp2)"
   ]
  },
  {
   "cell_type": "code",
   "execution_count": 15,
   "id": "6d9ee7c6",
   "metadata": {},
   "outputs": [
    {
     "data": {
      "text/html": [
       "<table>\n",
       "<thead><tr><th scope=col>id</th><th scope=col>date</th><th scope=col>price</th><th scope=col>bedrooms</th><th scope=col>bathrooms</th><th scope=col>sqft_living</th><th scope=col>sqft_lot</th><th scope=col>floors</th><th scope=col>waterfront</th><th scope=col>view</th><th scope=col>...</th><th scope=col>yr_renovated</th><th scope=col>zipcode</th><th scope=col>lat</th><th scope=col>long</th><th scope=col>sqft_living15</th><th scope=col>sqft_lot15</th><th scope=col>year</th><th scope=col>month</th><th scope=col>day</th><th scope=col>full_date</th></tr></thead>\n",
       "<tbody>\n",
       "\t<tr><td>7129300520     </td><td>20141013T000000</td><td> 221900        </td><td>3              </td><td>1.00           </td><td>1180           </td><td>  5650         </td><td>1              </td><td>0              </td><td>0              </td><td>...            </td><td>   0           </td><td>98178          </td><td>47.5112        </td><td>-122.257       </td><td>1340           </td><td>  5650         </td><td>2014           </td><td>10             </td><td>13             </td><td>2014-10-13     </td></tr>\n",
       "\t<tr><td>6414100192     </td><td>20141209T000000</td><td> 538000        </td><td>3              </td><td>2.25           </td><td>2570           </td><td>  7242         </td><td>2              </td><td>0              </td><td>0              </td><td>...            </td><td>1991           </td><td>98125          </td><td>47.7210        </td><td>-122.319       </td><td>1690           </td><td>  7639         </td><td>2014           </td><td>12             </td><td>09             </td><td>2014-12-09     </td></tr>\n",
       "\t<tr><td>5631500400     </td><td>20150225T000000</td><td> 180000        </td><td>2              </td><td>1.00           </td><td> 770           </td><td> 10000         </td><td>1              </td><td>0              </td><td>0              </td><td>...            </td><td>   0           </td><td>98028          </td><td>47.7379        </td><td>-122.233       </td><td>2720           </td><td>  8062         </td><td>2015           </td><td>02             </td><td>25             </td><td>2015-02-25     </td></tr>\n",
       "\t<tr><td>2487200875     </td><td>20141209T000000</td><td> 604000        </td><td>4              </td><td>3.00           </td><td>1960           </td><td>  5000         </td><td>1              </td><td>0              </td><td>0              </td><td>...            </td><td>   0           </td><td>98136          </td><td>47.5208        </td><td>-122.393       </td><td>1360           </td><td>  5000         </td><td>2014           </td><td>12             </td><td>09             </td><td>2014-12-09     </td></tr>\n",
       "\t<tr><td>1954400510     </td><td>20150218T000000</td><td> 510000        </td><td>3              </td><td>2.00           </td><td>1680           </td><td>  8080         </td><td>1              </td><td>0              </td><td>0              </td><td>...            </td><td>   0           </td><td>98074          </td><td>47.6168        </td><td>-122.045       </td><td>1800           </td><td>  7503         </td><td>2015           </td><td>02             </td><td>18             </td><td>2015-02-18     </td></tr>\n",
       "\t<tr><td>7237550310     </td><td>20140512T000000</td><td>1225000        </td><td>4              </td><td>4.50           </td><td>5420           </td><td>101930         </td><td>1              </td><td>0              </td><td>0              </td><td>...            </td><td>   0           </td><td>98053          </td><td>47.6561        </td><td>-122.005       </td><td>4760           </td><td>101930         </td><td>2014           </td><td>05             </td><td>12             </td><td>2014-05-12     </td></tr>\n",
       "</tbody>\n",
       "</table>\n"
      ],
      "text/latex": [
       "\\begin{tabular}{r|lllllllllllllllllllllllll}\n",
       " id & date & price & bedrooms & bathrooms & sqft\\_living & sqft\\_lot & floors & waterfront & view & ... & yr\\_renovated & zipcode & lat & long & sqft\\_living15 & sqft\\_lot15 & year & month & day & full\\_date\\\\\n",
       "\\hline\n",
       "\t 7129300520      & 20141013T000000 &  221900         & 3               & 1.00            & 1180            &   5650          & 1               & 0               & 0               & ...             &    0            & 98178           & 47.5112         & -122.257        & 1340            &   5650          & 2014            & 10              & 13              & 2014-10-13     \\\\\n",
       "\t 6414100192      & 20141209T000000 &  538000         & 3               & 2.25            & 2570            &   7242          & 2               & 0               & 0               & ...             & 1991            & 98125           & 47.7210         & -122.319        & 1690            &   7639          & 2014            & 12              & 09              & 2014-12-09     \\\\\n",
       "\t 5631500400      & 20150225T000000 &  180000         & 2               & 1.00            &  770            &  10000          & 1               & 0               & 0               & ...             &    0            & 98028           & 47.7379         & -122.233        & 2720            &   8062          & 2015            & 02              & 25              & 2015-02-25     \\\\\n",
       "\t 2487200875      & 20141209T000000 &  604000         & 4               & 3.00            & 1960            &   5000          & 1               & 0               & 0               & ...             &    0            & 98136           & 47.5208         & -122.393        & 1360            &   5000          & 2014            & 12              & 09              & 2014-12-09     \\\\\n",
       "\t 1954400510      & 20150218T000000 &  510000         & 3               & 2.00            & 1680            &   8080          & 1               & 0               & 0               & ...             &    0            & 98074           & 47.6168         & -122.045        & 1800            &   7503          & 2015            & 02              & 18              & 2015-02-18     \\\\\n",
       "\t 7237550310      & 20140512T000000 & 1225000         & 4               & 4.50            & 5420            & 101930          & 1               & 0               & 0               & ...             &    0            & 98053           & 47.6561         & -122.005        & 4760            & 101930          & 2014            & 05              & 12              & 2014-05-12     \\\\\n",
       "\\end{tabular}\n"
      ],
      "text/markdown": [
       "\n",
       "| id | date | price | bedrooms | bathrooms | sqft_living | sqft_lot | floors | waterfront | view | ... | yr_renovated | zipcode | lat | long | sqft_living15 | sqft_lot15 | year | month | day | full_date |\n",
       "|---|---|---|---|---|---|---|---|---|---|---|---|---|---|---|---|---|---|---|---|---|\n",
       "| 7129300520      | 20141013T000000 |  221900         | 3               | 1.00            | 1180            |   5650          | 1               | 0               | 0               | ...             |    0            | 98178           | 47.5112         | -122.257        | 1340            |   5650          | 2014            | 10              | 13              | 2014-10-13      |\n",
       "| 6414100192      | 20141209T000000 |  538000         | 3               | 2.25            | 2570            |   7242          | 2               | 0               | 0               | ...             | 1991            | 98125           | 47.7210         | -122.319        | 1690            |   7639          | 2014            | 12              | 09              | 2014-12-09      |\n",
       "| 5631500400      | 20150225T000000 |  180000         | 2               | 1.00            |  770            |  10000          | 1               | 0               | 0               | ...             |    0            | 98028           | 47.7379         | -122.233        | 2720            |   8062          | 2015            | 02              | 25              | 2015-02-25      |\n",
       "| 2487200875      | 20141209T000000 |  604000         | 4               | 3.00            | 1960            |   5000          | 1               | 0               | 0               | ...             |    0            | 98136           | 47.5208         | -122.393        | 1360            |   5000          | 2014            | 12              | 09              | 2014-12-09      |\n",
       "| 1954400510      | 20150218T000000 |  510000         | 3               | 2.00            | 1680            |   8080          | 1               | 0               | 0               | ...             |    0            | 98074           | 47.6168         | -122.045        | 1800            |   7503          | 2015            | 02              | 18              | 2015-02-18      |\n",
       "| 7237550310      | 20140512T000000 | 1225000         | 4               | 4.50            | 5420            | 101930          | 1               | 0               | 0               | ...             |    0            | 98053           | 47.6561         | -122.005        | 4760            | 101930          | 2014            | 05              | 12              | 2014-05-12      |\n",
       "\n"
      ],
      "text/plain": [
       "  id         date            price   bedrooms bathrooms sqft_living sqft_lot\n",
       "1 7129300520 20141013T000000  221900 3        1.00      1180          5650  \n",
       "2 6414100192 20141209T000000  538000 3        2.25      2570          7242  \n",
       "3 5631500400 20150225T000000  180000 2        1.00       770         10000  \n",
       "4 2487200875 20141209T000000  604000 4        3.00      1960          5000  \n",
       "5 1954400510 20150218T000000  510000 3        2.00      1680          8080  \n",
       "6 7237550310 20140512T000000 1225000 4        4.50      5420        101930  \n",
       "  floors waterfront view ... yr_renovated zipcode lat     long    \n",
       "1 1      0          0    ...    0         98178   47.5112 -122.257\n",
       "2 2      0          0    ... 1991         98125   47.7210 -122.319\n",
       "3 1      0          0    ...    0         98028   47.7379 -122.233\n",
       "4 1      0          0    ...    0         98136   47.5208 -122.393\n",
       "5 1      0          0    ...    0         98074   47.6168 -122.045\n",
       "6 1      0          0    ...    0         98053   47.6561 -122.005\n",
       "  sqft_living15 sqft_lot15 year month day full_date \n",
       "1 1340            5650     2014 10    13  2014-10-13\n",
       "2 1690            7639     2014 12    09  2014-12-09\n",
       "3 2720            8062     2015 02    25  2015-02-25\n",
       "4 1360            5000     2014 12    09  2014-12-09\n",
       "5 1800            7503     2015 02    18  2015-02-18\n",
       "6 4760          101930     2014 05    12  2014-05-12"
      ]
     },
     "metadata": {},
     "output_type": "display_data"
    }
   ],
   "source": [
    "#Create a year column using substr function\n",
    "df_temp2$year <- substr(df_temp2$date, 1, 4)\n",
    "\n",
    "#Create a month column using substr function\n",
    "df_temp2$month <- substr(df_temp2$date, 5, 6)\n",
    "\n",
    "#Create a day column using substr function\n",
    "df_temp2$day <- substr(df_temp2$date, 7, 8)\n",
    "\n",
    "#Create a full date column (YYYY-MM-DD) using paste0\n",
    "df_temp2$full_date <- paste0(df_temp2$year, \"-\", df_temp2$month, \"-\", df_temp2$day)\n",
    "\n",
    "#Preview df_temp2\n",
    "head(df_temp2)"
   ]
  },
  {
   "cell_type": "code",
   "execution_count": 16,
   "id": "6b47518f",
   "metadata": {},
   "outputs": [
    {
     "data": {
      "text/html": [
       "<table>\n",
       "<thead><tr><th scope=col>id</th><th scope=col>year</th><th scope=col>month</th><th scope=col>day</th><th scope=col>full_date</th><th scope=col>price</th><th scope=col>bedrooms</th><th scope=col>bathrooms</th><th scope=col>sqft_living</th><th scope=col>sqft_lot</th><th scope=col>...</th><th scope=col>grade</th><th scope=col>sqft_above</th><th scope=col>sqft_basement</th><th scope=col>yr_built</th><th scope=col>yr_renovated</th><th scope=col>zipcode</th><th scope=col>lat</th><th scope=col>long</th><th scope=col>sqft_living15</th><th scope=col>sqft_lot15</th></tr></thead>\n",
       "<tbody>\n",
       "\t<tr><td>7129300520</td><td>2014      </td><td>10        </td><td>13        </td><td>2014-10-13</td><td> 221900   </td><td>3         </td><td>1.00      </td><td>1180      </td><td>  5650    </td><td>...       </td><td> 7        </td><td>1180      </td><td>   0      </td><td>1955      </td><td>   0      </td><td>98178     </td><td>47.5112   </td><td>-122.257  </td><td>1340      </td><td>  5650    </td></tr>\n",
       "\t<tr><td>6414100192</td><td>2014      </td><td>12        </td><td>09        </td><td>2014-12-09</td><td> 538000   </td><td>3         </td><td>2.25      </td><td>2570      </td><td>  7242    </td><td>...       </td><td> 7        </td><td>2170      </td><td> 400      </td><td>1951      </td><td>1991      </td><td>98125     </td><td>47.7210   </td><td>-122.319  </td><td>1690      </td><td>  7639    </td></tr>\n",
       "\t<tr><td>5631500400</td><td>2015      </td><td>02        </td><td>25        </td><td>2015-02-25</td><td> 180000   </td><td>2         </td><td>1.00      </td><td> 770      </td><td> 10000    </td><td>...       </td><td> 6        </td><td> 770      </td><td>   0      </td><td>1933      </td><td>   0      </td><td>98028     </td><td>47.7379   </td><td>-122.233  </td><td>2720      </td><td>  8062    </td></tr>\n",
       "\t<tr><td>2487200875</td><td>2014      </td><td>12        </td><td>09        </td><td>2014-12-09</td><td> 604000   </td><td>4         </td><td>3.00      </td><td>1960      </td><td>  5000    </td><td>...       </td><td> 7        </td><td>1050      </td><td> 910      </td><td>1965      </td><td>   0      </td><td>98136     </td><td>47.5208   </td><td>-122.393  </td><td>1360      </td><td>  5000    </td></tr>\n",
       "\t<tr><td>1954400510</td><td>2015      </td><td>02        </td><td>18        </td><td>2015-02-18</td><td> 510000   </td><td>3         </td><td>2.00      </td><td>1680      </td><td>  8080    </td><td>...       </td><td> 8        </td><td>1680      </td><td>   0      </td><td>1987      </td><td>   0      </td><td>98074     </td><td>47.6168   </td><td>-122.045  </td><td>1800      </td><td>  7503    </td></tr>\n",
       "\t<tr><td>7237550310</td><td>2014      </td><td>05        </td><td>12        </td><td>2014-05-12</td><td>1225000   </td><td>4         </td><td>4.50      </td><td>5420      </td><td>101930    </td><td>...       </td><td>11        </td><td>3890      </td><td>1530      </td><td>2001      </td><td>   0      </td><td>98053     </td><td>47.6561   </td><td>-122.005  </td><td>4760      </td><td>101930    </td></tr>\n",
       "</tbody>\n",
       "</table>\n"
      ],
      "text/latex": [
       "\\begin{tabular}{r|llllllllllllllllllllllll}\n",
       " id & year & month & day & full\\_date & price & bedrooms & bathrooms & sqft\\_living & sqft\\_lot & ... & grade & sqft\\_above & sqft\\_basement & yr\\_built & yr\\_renovated & zipcode & lat & long & sqft\\_living15 & sqft\\_lot15\\\\\n",
       "\\hline\n",
       "\t 7129300520 & 2014       & 10         & 13         & 2014-10-13 &  221900    & 3          & 1.00       & 1180       &   5650     & ...        &  7         & 1180       &    0       & 1955       &    0       & 98178      & 47.5112    & -122.257   & 1340       &   5650    \\\\\n",
       "\t 6414100192 & 2014       & 12         & 09         & 2014-12-09 &  538000    & 3          & 2.25       & 2570       &   7242     & ...        &  7         & 2170       &  400       & 1951       & 1991       & 98125      & 47.7210    & -122.319   & 1690       &   7639    \\\\\n",
       "\t 5631500400 & 2015       & 02         & 25         & 2015-02-25 &  180000    & 2          & 1.00       &  770       &  10000     & ...        &  6         &  770       &    0       & 1933       &    0       & 98028      & 47.7379    & -122.233   & 2720       &   8062    \\\\\n",
       "\t 2487200875 & 2014       & 12         & 09         & 2014-12-09 &  604000    & 4          & 3.00       & 1960       &   5000     & ...        &  7         & 1050       &  910       & 1965       &    0       & 98136      & 47.5208    & -122.393   & 1360       &   5000    \\\\\n",
       "\t 1954400510 & 2015       & 02         & 18         & 2015-02-18 &  510000    & 3          & 2.00       & 1680       &   8080     & ...        &  8         & 1680       &    0       & 1987       &    0       & 98074      & 47.6168    & -122.045   & 1800       &   7503    \\\\\n",
       "\t 7237550310 & 2014       & 05         & 12         & 2014-05-12 & 1225000    & 4          & 4.50       & 5420       & 101930     & ...        & 11         & 3890       & 1530       & 2001       &    0       & 98053      & 47.6561    & -122.005   & 4760       & 101930    \\\\\n",
       "\\end{tabular}\n"
      ],
      "text/markdown": [
       "\n",
       "| id | year | month | day | full_date | price | bedrooms | bathrooms | sqft_living | sqft_lot | ... | grade | sqft_above | sqft_basement | yr_built | yr_renovated | zipcode | lat | long | sqft_living15 | sqft_lot15 |\n",
       "|---|---|---|---|---|---|---|---|---|---|---|---|---|---|---|---|---|---|---|---|---|\n",
       "| 7129300520 | 2014       | 10         | 13         | 2014-10-13 |  221900    | 3          | 1.00       | 1180       |   5650     | ...        |  7         | 1180       |    0       | 1955       |    0       | 98178      | 47.5112    | -122.257   | 1340       |   5650     |\n",
       "| 6414100192 | 2014       | 12         | 09         | 2014-12-09 |  538000    | 3          | 2.25       | 2570       |   7242     | ...        |  7         | 2170       |  400       | 1951       | 1991       | 98125      | 47.7210    | -122.319   | 1690       |   7639     |\n",
       "| 5631500400 | 2015       | 02         | 25         | 2015-02-25 |  180000    | 2          | 1.00       |  770       |  10000     | ...        |  6         |  770       |    0       | 1933       |    0       | 98028      | 47.7379    | -122.233   | 2720       |   8062     |\n",
       "| 2487200875 | 2014       | 12         | 09         | 2014-12-09 |  604000    | 4          | 3.00       | 1960       |   5000     | ...        |  7         | 1050       |  910       | 1965       |    0       | 98136      | 47.5208    | -122.393   | 1360       |   5000     |\n",
       "| 1954400510 | 2015       | 02         | 18         | 2015-02-18 |  510000    | 3          | 2.00       | 1680       |   8080     | ...        |  8         | 1680       |    0       | 1987       |    0       | 98074      | 47.6168    | -122.045   | 1800       |   7503     |\n",
       "| 7237550310 | 2014       | 05         | 12         | 2014-05-12 | 1225000    | 4          | 4.50       | 5420       | 101930     | ...        | 11         | 3890       | 1530       | 2001       |    0       | 98053      | 47.6561    | -122.005   | 4760       | 101930     |\n",
       "\n"
      ],
      "text/plain": [
       "  id         year month day full_date  price   bedrooms bathrooms sqft_living\n",
       "1 7129300520 2014 10    13  2014-10-13  221900 3        1.00      1180       \n",
       "2 6414100192 2014 12    09  2014-12-09  538000 3        2.25      2570       \n",
       "3 5631500400 2015 02    25  2015-02-25  180000 2        1.00       770       \n",
       "4 2487200875 2014 12    09  2014-12-09  604000 4        3.00      1960       \n",
       "5 1954400510 2015 02    18  2015-02-18  510000 3        2.00      1680       \n",
       "6 7237550310 2014 05    12  2014-05-12 1225000 4        4.50      5420       \n",
       "  sqft_lot ... grade sqft_above sqft_basement yr_built yr_renovated zipcode\n",
       "1   5650   ...  7    1180          0          1955        0         98178  \n",
       "2   7242   ...  7    2170        400          1951     1991         98125  \n",
       "3  10000   ...  6     770          0          1933        0         98028  \n",
       "4   5000   ...  7    1050        910          1965        0         98136  \n",
       "5   8080   ...  8    1680          0          1987        0         98074  \n",
       "6 101930   ... 11    3890       1530          2001        0         98053  \n",
       "  lat     long     sqft_living15 sqft_lot15\n",
       "1 47.5112 -122.257 1340            5650    \n",
       "2 47.7210 -122.319 1690            7639    \n",
       "3 47.7379 -122.233 2720            8062    \n",
       "4 47.5208 -122.393 1360            5000    \n",
       "5 47.6168 -122.045 1800            7503    \n",
       "6 47.6561 -122.005 4760          101930    "
      ]
     },
     "metadata": {},
     "output_type": "display_data"
    }
   ],
   "source": [
    "#Reorder df cols and drop original date variable\n",
    "final_df <- df_temp2[ , c(1, 22, 23, 24, 25, 3:21)]\n",
    "head(final_df)"
   ]
  },
  {
   "cell_type": "code",
   "execution_count": 17,
   "id": "78732b81",
   "metadata": {},
   "outputs": [
    {
     "data": {
      "image/png": "[encoded data removed]",
      "text/plain": [
       "Plot with title \"Histogram of House Prices in King County\""
      ]
     },
     "metadata": {},
     "output_type": "display_data"
    }
   ],
   "source": [
    "#Phase 3 - Analysis\n",
    "\n",
    "#Histogram of price\n",
    "hist(final_df$price, main=\"Histogram of House Prices in King County\", xlab=\"House Price\", col=\"skyblue3\", freq=TRUE)"
   ]
  },
  {
   "cell_type": "code",
   "execution_count": 18,
   "id": "14ae8f34",
   "metadata": {},
   "outputs": [
    {
     "data": {
      "image/png": "[encoded data removed]",
      "text/plain": [
       "Plot with title \"Boxplot of King County House Prices\""
      ]
     },
     "metadata": {},
     "output_type": "display_data"
    }
   ],
   "source": [
    "#Create boxplot to study outliers in greater detail\n",
    "boxplot(final_df$price, main=\"Boxplot of King County House Prices\", col=\"darkgreen\")"
   ]
  },
  {
   "cell_type": "code",
   "execution_count": 19,
   "id": "07c5be98",
   "metadata": {},
   "outputs": [
    {
     "name": "stdout",
     "output_type": "stream",
     "text": [
      "[1] \"The upper whisker max is 1129537.5\"\n",
      "[1] \"The lower whisker min is -162562.5\"\n"
     ]
    },
    {
     "data": {
      "text/plain": [
       "   Min. 1st Qu.  Median    Mean 3rd Qu.    Max. \n",
       "  75000  321975  450000  540134  645000 7700000 "
      ]
     },
     "metadata": {},
     "output_type": "display_data"
    }
   ],
   "source": [
    "#Upper whisker max = third quartile + 1.5*IQR. IQR = Q3 - Q1\n",
    "#Lower whisker min = first quartile - 1.5*IQR\n",
    "\n",
    "#Create variables for upper whisker max and lower whisker min\n",
    "upper_whisker_max <- 645000 + 1.5*(645000-321975)\n",
    "lower_whisker_min <- 321975 - 1.5*(645000-321975)\n",
    "\n",
    "#Print upper whisker max, lower whisker min\n",
    "print(paste(\"The upper whisker max is\", upper_whisker_max))\n",
    "print(paste(\"The lower whisker min is\", lower_whisker_min))\n",
    "\n",
    "summary(final_df$price)"
   ]
  },
  {
   "cell_type": "code",
   "execution_count": 20,
   "id": "90e2fa47",
   "metadata": {},
   "outputs": [
    {
     "data": {
      "text/html": [
       "1146"
      ],
      "text/latex": [
       "1146"
      ],
      "text/markdown": [
       "1146"
      ],
      "text/plain": [
       "[1] 1146"
      ]
     },
     "metadata": {},
     "output_type": "display_data"
    }
   ],
   "source": [
    "#Study how many observations lie above upper whisker\n",
    "outliers_df <- final_df[final_df$price>upper_whisker_max, ]\n",
    "length(outliers_df$price)"
   ]
  },
  {
   "cell_type": "code",
   "execution_count": 21,
   "id": "ad83ea2e",
   "metadata": {},
   "outputs": [
    {
     "data": {
      "image/png": "[encoded data removed]",
      "text/plain": [
       "Plot with title \"House Prices - Outliers Removed\""
      ]
     },
     "metadata": {},
     "output_type": "display_data"
    }
   ],
   "source": [
    "#Create new df call df_no_outliers\n",
    "df_no_outliers <- final_df[final_df$price <= upper_whisker_max, ]\n",
    "\n",
    "#Revisiting the boxplot... what does it look like after outlier reomval?\n",
    "boxplot(df_no_outliers$price, main=\"House Prices - Outliers Removed\", col=\"orchid2\")"
   ]
  },
  {
   "cell_type": "code",
   "execution_count": 22,
   "id": "9ad58167",
   "metadata": {},
   "outputs": [
    {
     "data": {
      "text/html": [
       "<table>\n",
       "<thead><tr><th></th><th scope=col>id</th><th scope=col>year</th><th scope=col>month</th><th scope=col>day</th><th scope=col>full_date</th><th scope=col>price</th><th scope=col>bedrooms</th><th scope=col>bathrooms</th><th scope=col>sqft_living</th><th scope=col>sqft_lot</th><th scope=col>...</th><th scope=col>sqft_above</th><th scope=col>sqft_basement</th><th scope=col>yr_built</th><th scope=col>yr_renovated</th><th scope=col>zipcode</th><th scope=col>lat</th><th scope=col>long</th><th scope=col>sqft_living15</th><th scope=col>sqft_lot15</th><th scope=col>month_year</th></tr></thead>\n",
       "<tbody>\n",
       "\t<tr><th scope=row>1</th><td>7129300520</td><td>2014      </td><td>10        </td><td>13        </td><td>2014-10-13</td><td>221900    </td><td>3         </td><td>1.00      </td><td>1180      </td><td> 5650     </td><td>...       </td><td>1180      </td><td>  0       </td><td>1955      </td><td>   0      </td><td>98178     </td><td>47.5112   </td><td>-122.257  </td><td>1340      </td><td>5650      </td><td>10-2014   </td></tr>\n",
       "\t<tr><th scope=row>2</th><td>6414100192</td><td>2014      </td><td>12        </td><td>09        </td><td>2014-12-09</td><td>538000    </td><td>3         </td><td>2.25      </td><td>2570      </td><td> 7242     </td><td>...       </td><td>2170      </td><td>400       </td><td>1951      </td><td>1991      </td><td>98125     </td><td>47.7210   </td><td>-122.319  </td><td>1690      </td><td>7639      </td><td>12-2014   </td></tr>\n",
       "\t<tr><th scope=row>3</th><td>5631500400</td><td>2015      </td><td>02        </td><td>25        </td><td>2015-02-25</td><td>180000    </td><td>2         </td><td>1.00      </td><td> 770      </td><td>10000     </td><td>...       </td><td> 770      </td><td>  0       </td><td>1933      </td><td>   0      </td><td>98028     </td><td>47.7379   </td><td>-122.233  </td><td>2720      </td><td>8062      </td><td>02-2015   </td></tr>\n",
       "\t<tr><th scope=row>4</th><td>2487200875</td><td>2014      </td><td>12        </td><td>09        </td><td>2014-12-09</td><td>604000    </td><td>4         </td><td>3.00      </td><td>1960      </td><td> 5000     </td><td>...       </td><td>1050      </td><td>910       </td><td>1965      </td><td>   0      </td><td>98136     </td><td>47.5208   </td><td>-122.393  </td><td>1360      </td><td>5000      </td><td>12-2014   </td></tr>\n",
       "\t<tr><th scope=row>5</th><td>1954400510</td><td>2015      </td><td>02        </td><td>18        </td><td>2015-02-18</td><td>510000    </td><td>3         </td><td>2.00      </td><td>1680      </td><td> 8080     </td><td>...       </td><td>1680      </td><td>  0       </td><td>1987      </td><td>   0      </td><td>98074     </td><td>47.6168   </td><td>-122.045  </td><td>1800      </td><td>7503      </td><td>02-2015   </td></tr>\n",
       "\t<tr><th scope=row>7</th><td>1321400060</td><td>2014      </td><td>06        </td><td>27        </td><td>2014-06-27</td><td>257500    </td><td>3         </td><td>2.25      </td><td>1715      </td><td> 6819     </td><td>...       </td><td>1715      </td><td>  0       </td><td>1995      </td><td>   0      </td><td>98003     </td><td>47.3097   </td><td>-122.327  </td><td>2238      </td><td>6819      </td><td>06-2014   </td></tr>\n",
       "</tbody>\n",
       "</table>\n"
      ],
      "text/latex": [
       "\\begin{tabular}{r|lllllllllllllllllllllllll}\n",
       "  & id & year & month & day & full\\_date & price & bedrooms & bathrooms & sqft\\_living & sqft\\_lot & ... & sqft\\_above & sqft\\_basement & yr\\_built & yr\\_renovated & zipcode & lat & long & sqft\\_living15 & sqft\\_lot15 & month\\_year\\\\\n",
       "\\hline\n",
       "\t1 & 7129300520 & 2014       & 10         & 13         & 2014-10-13 & 221900     & 3          & 1.00       & 1180       &  5650      & ...        & 1180       &   0        & 1955       &    0       & 98178      & 47.5112    & -122.257   & 1340       & 5650       & 10-2014   \\\\\n",
       "\t2 & 6414100192 & 2014       & 12         & 09         & 2014-12-09 & 538000     & 3          & 2.25       & 2570       &  7242      & ...        & 2170       & 400        & 1951       & 1991       & 98125      & 47.7210    & -122.319   & 1690       & 7639       & 12-2014   \\\\\n",
       "\t3 & 5631500400 & 2015       & 02         & 25         & 2015-02-25 & 180000     & 2          & 1.00       &  770       & 10000      & ...        &  770       &   0        & 1933       &    0       & 98028      & 47.7379    & -122.233   & 2720       & 8062       & 02-2015   \\\\\n",
       "\t4 & 2487200875 & 2014       & 12         & 09         & 2014-12-09 & 604000     & 4          & 3.00       & 1960       &  5000      & ...        & 1050       & 910        & 1965       &    0       & 98136      & 47.5208    & -122.393   & 1360       & 5000       & 12-2014   \\\\\n",
       "\t5 & 1954400510 & 2015       & 02         & 18         & 2015-02-18 & 510000     & 3          & 2.00       & 1680       &  8080      & ...        & 1680       &   0        & 1987       &    0       & 98074      & 47.6168    & -122.045   & 1800       & 7503       & 02-2015   \\\\\n",
       "\t7 & 1321400060 & 2014       & 06         & 27         & 2014-06-27 & 257500     & 3          & 2.25       & 1715       &  6819      & ...        & 1715       &   0        & 1995       &    0       & 98003      & 47.3097    & -122.327   & 2238       & 6819       & 06-2014   \\\\\n",
       "\\end{tabular}\n"
      ],
      "text/markdown": [
       "\n",
       "| <!--/--> | id | year | month | day | full_date | price | bedrooms | bathrooms | sqft_living | sqft_lot | ... | sqft_above | sqft_basement | yr_built | yr_renovated | zipcode | lat | long | sqft_living15 | sqft_lot15 | month_year |\n",
       "|---|---|---|---|---|---|---|---|---|---|---|---|---|---|---|---|---|---|---|---|---|---|\n",
       "| 1 | 7129300520 | 2014       | 10         | 13         | 2014-10-13 | 221900     | 3          | 1.00       | 1180       |  5650      | ...        | 1180       |   0        | 1955       |    0       | 98178      | 47.5112    | -122.257   | 1340       | 5650       | 10-2014    |\n",
       "| 2 | 6414100192 | 2014       | 12         | 09         | 2014-12-09 | 538000     | 3          | 2.25       | 2570       |  7242      | ...        | 2170       | 400        | 1951       | 1991       | 98125      | 47.7210    | -122.319   | 1690       | 7639       | 12-2014    |\n",
       "| 3 | 5631500400 | 2015       | 02         | 25         | 2015-02-25 | 180000     | 2          | 1.00       |  770       | 10000      | ...        |  770       |   0        | 1933       |    0       | 98028      | 47.7379    | -122.233   | 2720       | 8062       | 02-2015    |\n",
       "| 4 | 2487200875 | 2014       | 12         | 09         | 2014-12-09 | 604000     | 4          | 3.00       | 1960       |  5000      | ...        | 1050       | 910        | 1965       |    0       | 98136      | 47.5208    | -122.393   | 1360       | 5000       | 12-2014    |\n",
       "| 5 | 1954400510 | 2015       | 02         | 18         | 2015-02-18 | 510000     | 3          | 2.00       | 1680       |  8080      | ...        | 1680       |   0        | 1987       |    0       | 98074      | 47.6168    | -122.045   | 1800       | 7503       | 02-2015    |\n",
       "| 7 | 1321400060 | 2014       | 06         | 27         | 2014-06-27 | 257500     | 3          | 2.25       | 1715       |  6819      | ...        | 1715       |   0        | 1995       |    0       | 98003      | 47.3097    | -122.327   | 2238       | 6819       | 06-2014    |\n",
       "\n"
      ],
      "text/plain": [
       "  id         year month day full_date  price  bedrooms bathrooms sqft_living\n",
       "1 7129300520 2014 10    13  2014-10-13 221900 3        1.00      1180       \n",
       "2 6414100192 2014 12    09  2014-12-09 538000 3        2.25      2570       \n",
       "3 5631500400 2015 02    25  2015-02-25 180000 2        1.00       770       \n",
       "4 2487200875 2014 12    09  2014-12-09 604000 4        3.00      1960       \n",
       "5 1954400510 2015 02    18  2015-02-18 510000 3        2.00      1680       \n",
       "7 1321400060 2014 06    27  2014-06-27 257500 3        2.25      1715       \n",
       "  sqft_lot ... sqft_above sqft_basement yr_built yr_renovated zipcode lat    \n",
       "1  5650    ... 1180         0           1955        0         98178   47.5112\n",
       "2  7242    ... 2170       400           1951     1991         98125   47.7210\n",
       "3 10000    ...  770         0           1933        0         98028   47.7379\n",
       "4  5000    ... 1050       910           1965        0         98136   47.5208\n",
       "5  8080    ... 1680         0           1987        0         98074   47.6168\n",
       "7  6819    ... 1715         0           1995        0         98003   47.3097\n",
       "  long     sqft_living15 sqft_lot15 month_year\n",
       "1 -122.257 1340          5650       10-2014   \n",
       "2 -122.319 1690          7639       12-2014   \n",
       "3 -122.233 2720          8062       02-2015   \n",
       "4 -122.393 1360          5000       12-2014   \n",
       "5 -122.045 1800          7503       02-2015   \n",
       "7 -122.327 2238          6819       06-2014   "
      ]
     },
     "metadata": {},
     "output_type": "display_data"
    }
   ],
   "source": [
    "#Create new variable month_year to study house prices by month\n",
    "df_no_outliers$month_year <- paste0(df_no_outliers$month, \"-\", df_no_outliers$year)\n",
    "head(df_no_outliers)"
   ]
  },
  {
   "cell_type": "code",
   "execution_count": 23,
   "id": "0e7d6273",
   "metadata": {},
   "outputs": [
    {
     "data": {
      "text/html": [
       "<table>\n",
       "<thead><tr><th scope=col>Group.1</th><th scope=col>x</th></tr></thead>\n",
       "<tbody>\n",
       "\t<tr><td>01-2015 </td><td>458312.8</td></tr>\n",
       "\t<tr><td>02-2015 </td><td>455860.0</td></tr>\n",
       "\t<tr><td>03-2015 </td><td>479895.0</td></tr>\n",
       "\t<tr><td>04-2015 </td><td>496736.7</td></tr>\n",
       "\t<tr><td>05-2014 </td><td>482737.7</td></tr>\n",
       "\t<tr><td>05-2015 </td><td>477567.5</td></tr>\n",
       "\t<tr><td>06-2014 </td><td>490758.8</td></tr>\n",
       "\t<tr><td>07-2014 </td><td>483486.7</td></tr>\n",
       "\t<tr><td>08-2014 </td><td>476488.4</td></tr>\n",
       "\t<tr><td>09-2014 </td><td>473516.0</td></tr>\n",
       "\t<tr><td>10-2014 </td><td>471662.8</td></tr>\n",
       "\t<tr><td>11-2014 </td><td>462481.3</td></tr>\n",
       "\t<tr><td>12-2014 </td><td>462681.4</td></tr>\n",
       "</tbody>\n",
       "</table>\n"
      ],
      "text/latex": [
       "\\begin{tabular}{r|ll}\n",
       " Group.1 & x\\\\\n",
       "\\hline\n",
       "\t 01-2015  & 458312.8\\\\\n",
       "\t 02-2015  & 455860.0\\\\\n",
       "\t 03-2015  & 479895.0\\\\\n",
       "\t 04-2015  & 496736.7\\\\\n",
       "\t 05-2014  & 482737.7\\\\\n",
       "\t 05-2015  & 477567.5\\\\\n",
       "\t 06-2014  & 490758.8\\\\\n",
       "\t 07-2014  & 483486.7\\\\\n",
       "\t 08-2014  & 476488.4\\\\\n",
       "\t 09-2014  & 473516.0\\\\\n",
       "\t 10-2014  & 471662.8\\\\\n",
       "\t 11-2014  & 462481.3\\\\\n",
       "\t 12-2014  & 462681.4\\\\\n",
       "\\end{tabular}\n"
      ],
      "text/markdown": [
       "\n",
       "| Group.1 | x |\n",
       "|---|---|\n",
       "| 01-2015  | 458312.8 |\n",
       "| 02-2015  | 455860.0 |\n",
       "| 03-2015  | 479895.0 |\n",
       "| 04-2015  | 496736.7 |\n",
       "| 05-2014  | 482737.7 |\n",
       "| 05-2015  | 477567.5 |\n",
       "| 06-2014  | 490758.8 |\n",
       "| 07-2014  | 483486.7 |\n",
       "| 08-2014  | 476488.4 |\n",
       "| 09-2014  | 473516.0 |\n",
       "| 10-2014  | 471662.8 |\n",
       "| 11-2014  | 462481.3 |\n",
       "| 12-2014  | 462681.4 |\n",
       "\n"
      ],
      "text/plain": [
       "   Group.1 x       \n",
       "1  01-2015 458312.8\n",
       "2  02-2015 455860.0\n",
       "3  03-2015 479895.0\n",
       "4  04-2015 496736.7\n",
       "5  05-2014 482737.7\n",
       "6  05-2015 477567.5\n",
       "7  06-2014 490758.8\n",
       "8  07-2014 483486.7\n",
       "9  08-2014 476488.4\n",
       "10 09-2014 473516.0\n",
       "11 10-2014 471662.8\n",
       "12 11-2014 462481.3\n",
       "13 12-2014 462681.4"
      ]
     },
     "metadata": {},
     "output_type": "display_data"
    }
   ],
   "source": [
    "#Group all houses sold in same month/year together and calculate average price by month-year combo\n",
    "avg_price_by_month <- aggregate(df_no_outliers$price, list(df_no_outliers$month_year), FUN=mean)\n",
    "avg_price_by_month"
   ]
  },
  {
   "cell_type": "code",
   "execution_count": 24,
   "id": "6b8ce180",
   "metadata": {},
   "outputs": [
    {
     "data": {
      "text/html": [
       "<table>\n",
       "<thead><tr><th scope=col>Month_Year</th><th scope=col>Avg_House_Price</th></tr></thead>\n",
       "<tbody>\n",
       "\t<tr><td>01-2015 </td><td>458312.8</td></tr>\n",
       "\t<tr><td>02-2015 </td><td>455860.0</td></tr>\n",
       "\t<tr><td>03-2015 </td><td>479895.0</td></tr>\n",
       "\t<tr><td>04-2015 </td><td>496736.7</td></tr>\n",
       "\t<tr><td>05-2014 </td><td>482737.7</td></tr>\n",
       "\t<tr><td>05-2015 </td><td>477567.5</td></tr>\n",
       "\t<tr><td>06-2014 </td><td>490758.8</td></tr>\n",
       "\t<tr><td>07-2014 </td><td>483486.7</td></tr>\n",
       "\t<tr><td>08-2014 </td><td>476488.4</td></tr>\n",
       "\t<tr><td>09-2014 </td><td>473516.0</td></tr>\n",
       "\t<tr><td>10-2014 </td><td>471662.8</td></tr>\n",
       "\t<tr><td>11-2014 </td><td>462481.3</td></tr>\n",
       "\t<tr><td>12-2014 </td><td>462681.4</td></tr>\n",
       "</tbody>\n",
       "</table>\n"
      ],
      "text/latex": [
       "\\begin{tabular}{r|ll}\n",
       " Month\\_Year & Avg\\_House\\_Price\\\\\n",
       "\\hline\n",
       "\t 01-2015  & 458312.8\\\\\n",
       "\t 02-2015  & 455860.0\\\\\n",
       "\t 03-2015  & 479895.0\\\\\n",
       "\t 04-2015  & 496736.7\\\\\n",
       "\t 05-2014  & 482737.7\\\\\n",
       "\t 05-2015  & 477567.5\\\\\n",
       "\t 06-2014  & 490758.8\\\\\n",
       "\t 07-2014  & 483486.7\\\\\n",
       "\t 08-2014  & 476488.4\\\\\n",
       "\t 09-2014  & 473516.0\\\\\n",
       "\t 10-2014  & 471662.8\\\\\n",
       "\t 11-2014  & 462481.3\\\\\n",
       "\t 12-2014  & 462681.4\\\\\n",
       "\\end{tabular}\n"
      ],
      "text/markdown": [
       "\n",
       "| Month_Year | Avg_House_Price |\n",
       "|---|---|\n",
       "| 01-2015  | 458312.8 |\n",
       "| 02-2015  | 455860.0 |\n",
       "| 03-2015  | 479895.0 |\n",
       "| 04-2015  | 496736.7 |\n",
       "| 05-2014  | 482737.7 |\n",
       "| 05-2015  | 477567.5 |\n",
       "| 06-2014  | 490758.8 |\n",
       "| 07-2014  | 483486.7 |\n",
       "| 08-2014  | 476488.4 |\n",
       "| 09-2014  | 473516.0 |\n",
       "| 10-2014  | 471662.8 |\n",
       "| 11-2014  | 462481.3 |\n",
       "| 12-2014  | 462681.4 |\n",
       "\n"
      ],
      "text/plain": [
       "   Month_Year Avg_House_Price\n",
       "1  01-2015    458312.8       \n",
       "2  02-2015    455860.0       \n",
       "3  03-2015    479895.0       \n",
       "4  04-2015    496736.7       \n",
       "5  05-2014    482737.7       \n",
       "6  05-2015    477567.5       \n",
       "7  06-2014    490758.8       \n",
       "8  07-2014    483486.7       \n",
       "9  08-2014    476488.4       \n",
       "10 09-2014    473516.0       \n",
       "11 10-2014    471662.8       \n",
       "12 11-2014    462481.3       \n",
       "13 12-2014    462681.4       "
      ]
     },
     "metadata": {},
     "output_type": "display_data"
    }
   ],
   "source": [
    "#Rename columns\n",
    "colnames(avg_price_by_month) <- c(\"Month_Year\", \"Avg_House_Price\")\n",
    "avg_price_by_month"
   ]
  },
  {
   "cell_type": "code",
   "execution_count": 25,
   "id": "a1ad7896",
   "metadata": {},
   "outputs": [
    {
     "data": {
      "text/html": [
       "<table>\n",
       "<thead><tr><th scope=col>Month_Year</th><th scope=col>Avg_House_Price</th></tr></thead>\n",
       "<tbody>\n",
       "\t<tr><td>08-2014 </td><td>476488.4</td></tr>\n",
       "\t<tr><td>09-2014 </td><td>473516.0</td></tr>\n",
       "\t<tr><td>10-2014 </td><td>471662.8</td></tr>\n",
       "\t<tr><td>11-2014 </td><td>462481.3</td></tr>\n",
       "\t<tr><td>01-2015 </td><td>458312.8</td></tr>\n",
       "\t<tr><td>12-2014 </td><td>462681.4</td></tr>\n",
       "\t<tr><td>02-2015 </td><td>455860.0</td></tr>\n",
       "\t<tr><td>03-2015 </td><td>479895.0</td></tr>\n",
       "\t<tr><td>04-2015 </td><td>496736.7</td></tr>\n",
       "\t<tr><td>05-2014 </td><td>482737.7</td></tr>\n",
       "\t<tr><td>05-2015 </td><td>477567.5</td></tr>\n",
       "\t<tr><td>06-2014 </td><td>490758.8</td></tr>\n",
       "\t<tr><td>07-2014 </td><td>483486.7</td></tr>\n",
       "</tbody>\n",
       "</table>\n"
      ],
      "text/latex": [
       "\\begin{tabular}{r|ll}\n",
       " Month\\_Year & Avg\\_House\\_Price\\\\\n",
       "\\hline\n",
       "\t 08-2014  & 476488.4\\\\\n",
       "\t 09-2014  & 473516.0\\\\\n",
       "\t 10-2014  & 471662.8\\\\\n",
       "\t 11-2014  & 462481.3\\\\\n",
       "\t 01-2015  & 458312.8\\\\\n",
       "\t 12-2014  & 462681.4\\\\\n",
       "\t 02-2015  & 455860.0\\\\\n",
       "\t 03-2015  & 479895.0\\\\\n",
       "\t 04-2015  & 496736.7\\\\\n",
       "\t 05-2014  & 482737.7\\\\\n",
       "\t 05-2015  & 477567.5\\\\\n",
       "\t 06-2014  & 490758.8\\\\\n",
       "\t 07-2014  & 483486.7\\\\\n",
       "\\end{tabular}\n"
      ],
      "text/markdown": [
       "\n",
       "| Month_Year | Avg_House_Price |\n",
       "|---|---|\n",
       "| 08-2014  | 476488.4 |\n",
       "| 09-2014  | 473516.0 |\n",
       "| 10-2014  | 471662.8 |\n",
       "| 11-2014  | 462481.3 |\n",
       "| 01-2015  | 458312.8 |\n",
       "| 12-2014  | 462681.4 |\n",
       "| 02-2015  | 455860.0 |\n",
       "| 03-2015  | 479895.0 |\n",
       "| 04-2015  | 496736.7 |\n",
       "| 05-2014  | 482737.7 |\n",
       "| 05-2015  | 477567.5 |\n",
       "| 06-2014  | 490758.8 |\n",
       "| 07-2014  | 483486.7 |\n",
       "\n"
      ],
      "text/plain": [
       "   Month_Year Avg_House_Price\n",
       "1  08-2014    476488.4       \n",
       "2  09-2014    473516.0       \n",
       "3  10-2014    471662.8       \n",
       "4  11-2014    462481.3       \n",
       "5  01-2015    458312.8       \n",
       "6  12-2014    462681.4       \n",
       "7  02-2015    455860.0       \n",
       "8  03-2015    479895.0       \n",
       "9  04-2015    496736.7       \n",
       "10 05-2014    482737.7       \n",
       "11 05-2015    477567.5       \n",
       "12 06-2014    490758.8       \n",
       "13 07-2014    483486.7       "
      ]
     },
     "metadata": {},
     "output_type": "display_data"
    }
   ],
   "source": [
    "#Reorder rows to correspond to chronological order (row 1=earliest period)\n",
    "avg_price_by_month_final <- avg_price_by_month[c(9:12, 1, 13, 2:3, 4:8), ]\n",
    "row.names(avg_price_by_month_final) <- NULL\n",
    "avg_price_by_month_final"
   ]
  },
  {
   "cell_type": "code",
   "execution_count": 26,
   "id": "10180f20",
   "metadata": {},
   "outputs": [
    {
     "data": {
      "image/png": "[encoded data removed]",
      "text/plain": [
       "Plot with title \"Avg House Price in King County - 2014-15\""
      ]
     },
     "metadata": {},
     "output_type": "display_data"
    }
   ],
   "source": [
    "#Create line chart to show average house price over tim\n",
    "plot(avg_price_by_month_final$Avg_House_Price, type=\"o\", ylim=c(400000, 500000), col=\"darkblue\",\n",
    "    ylab=\"Avg House Price\", main=\"Avg House Price in King County - 2014-15\")"
   ]
  },
  {
   "cell_type": "code",
   "execution_count": 27,
   "id": "866f5ab0",
   "metadata": {},
   "outputs": [
    {
     "data": {
      "text/html": [
       "12421.3770910599"
      ],
      "text/latex": [
       "12421.3770910599"
      ],
      "text/markdown": [
       "12421.3770910599"
      ],
      "text/plain": [
       "[1] 12421.38"
      ]
     },
     "metadata": {},
     "output_type": "display_data"
    }
   ],
   "source": [
    "#Put a number on the amount of \"spread\" in the monthly sales price data\n",
    "sd(avg_price_by_month_final$Avg_House_Price)"
   ]
  },
  {
   "cell_type": "code",
   "execution_count": 28,
   "id": "701f1a17",
   "metadata": {},
   "outputs": [
    {
     "data": {
      "text/html": [
       "<ol class=list-inline>\n",
       "\t<li>'id'</li>\n",
       "\t<li>'year'</li>\n",
       "\t<li>'month'</li>\n",
       "\t<li>'day'</li>\n",
       "\t<li>'full_date'</li>\n",
       "\t<li>'price'</li>\n",
       "\t<li>'bedrooms'</li>\n",
       "\t<li>'bathrooms'</li>\n",
       "\t<li>'sqft_living'</li>\n",
       "\t<li>'sqft_lot'</li>\n",
       "\t<li>'floors'</li>\n",
       "\t<li>'waterfront'</li>\n",
       "\t<li>'view'</li>\n",
       "\t<li>'condition'</li>\n",
       "\t<li>'grade'</li>\n",
       "\t<li>'sqft_above'</li>\n",
       "\t<li>'sqft_basement'</li>\n",
       "\t<li>'yr_built'</li>\n",
       "\t<li>'yr_renovated'</li>\n",
       "\t<li>'zipcode'</li>\n",
       "\t<li>'lat'</li>\n",
       "\t<li>'long'</li>\n",
       "\t<li>'sqft_living15'</li>\n",
       "\t<li>'sqft_lot15'</li>\n",
       "\t<li>'month_year'</li>\n",
       "</ol>\n"
      ],
      "text/latex": [
       "\\begin{enumerate*}\n",
       "\\item 'id'\n",
       "\\item 'year'\n",
       "\\item 'month'\n",
       "\\item 'day'\n",
       "\\item 'full\\_date'\n",
       "\\item 'price'\n",
       "\\item 'bedrooms'\n",
       "\\item 'bathrooms'\n",
       "\\item 'sqft\\_living'\n",
       "\\item 'sqft\\_lot'\n",
       "\\item 'floors'\n",
       "\\item 'waterfront'\n",
       "\\item 'view'\n",
       "\\item 'condition'\n",
       "\\item 'grade'\n",
       "\\item 'sqft\\_above'\n",
       "\\item 'sqft\\_basement'\n",
       "\\item 'yr\\_built'\n",
       "\\item 'yr\\_renovated'\n",
       "\\item 'zipcode'\n",
       "\\item 'lat'\n",
       "\\item 'long'\n",
       "\\item 'sqft\\_living15'\n",
       "\\item 'sqft\\_lot15'\n",
       "\\item 'month\\_year'\n",
       "\\end{enumerate*}\n"
      ],
      "text/markdown": [
       "1. 'id'\n",
       "2. 'year'\n",
       "3. 'month'\n",
       "4. 'day'\n",
       "5. 'full_date'\n",
       "6. 'price'\n",
       "7. 'bedrooms'\n",
       "8. 'bathrooms'\n",
       "9. 'sqft_living'\n",
       "10. 'sqft_lot'\n",
       "11. 'floors'\n",
       "12. 'waterfront'\n",
       "13. 'view'\n",
       "14. 'condition'\n",
       "15. 'grade'\n",
       "16. 'sqft_above'\n",
       "17. 'sqft_basement'\n",
       "18. 'yr_built'\n",
       "19. 'yr_renovated'\n",
       "20. 'zipcode'\n",
       "21. 'lat'\n",
       "22. 'long'\n",
       "23. 'sqft_living15'\n",
       "24. 'sqft_lot15'\n",
       "25. 'month_year'\n",
       "\n",
       "\n"
      ],
      "text/plain": [
       " [1] \"id\"            \"year\"          \"month\"         \"day\"          \n",
       " [5] \"full_date\"     \"price\"         \"bedrooms\"      \"bathrooms\"    \n",
       " [9] \"sqft_living\"   \"sqft_lot\"      \"floors\"        \"waterfront\"   \n",
       "[13] \"view\"          \"condition\"     \"grade\"         \"sqft_above\"   \n",
       "[17] \"sqft_basement\" \"yr_built\"      \"yr_renovated\"  \"zipcode\"      \n",
       "[21] \"lat\"           \"long\"          \"sqft_living15\" \"sqft_lot15\"   \n",
       "[25] \"month_year\"   "
      ]
     },
     "metadata": {},
     "output_type": "display_data"
    }
   ],
   "source": [
    "#Print column names and review for potential predictors\n",
    "colnames(df_no_outliers)"
   ]
  },
  {
   "cell_type": "code",
   "execution_count": 29,
   "id": "b4c81019",
   "metadata": {},
   "outputs": [
    {
     "data": {
      "image/png": "[encoded data removed]",
      "text/plain": [
       "Plot with title \"Scatterplot of Price vs. Lot Sqft\""
      ]
     },
     "metadata": {},
     "output_type": "display_data"
    }
   ],
   "source": [
    "#Use plot function to create plot of price vs. sqft_lot\n",
    "plot(df_no_outliers$sqft_lot, df_no_outliers$price, main=\"Scatterplot of Price vs. Lot Sqft\",\n",
    "    xlab=\"Lot Square Footage\", ylab=\"House Price\", col=\"skyblue3\", pch=19)\n",
    "abline(lm(df_no_outliers$price~df_no_outliers$sqft_lot), col=\"red\")"
   ]
  },
  {
   "cell_type": "code",
   "execution_count": 30,
   "id": "40bcb8b6",
   "metadata": {},
   "outputs": [
    {
     "data": {
      "text/html": [
       "0.0939488828907646"
      ],
      "text/latex": [
       "0.0939488828907646"
      ],
      "text/markdown": [
       "0.0939488828907646"
      ],
      "text/plain": [
       "[1] 0.09394888"
      ]
     },
     "metadata": {},
     "output_type": "display_data"
    }
   ],
   "source": [
    "#Calculate correlation coefficient between lot_sqft and price\n",
    "cor(df_no_outliers$price, df_no_outliers$sqft_lot)"
   ]
  },
  {
   "cell_type": "code",
   "execution_count": 31,
   "id": "2a8cdcd9",
   "metadata": {},
   "outputs": [
    {
     "data": {
      "text/html": [
       "<table>\n",
       "<thead><tr><th></th><th scope=col>price</th><th scope=col>bedrooms</th><th scope=col>bathrooms</th><th scope=col>floors</th><th scope=col>sqft_above</th><th scope=col>sqft_basement</th><th scope=col>sqft_living15</th><th scope=col>sqft_lot15</th><th scope=col>sqft_living</th><th scope=col>sqft_lot</th></tr></thead>\n",
       "<tbody>\n",
       "\t<tr><th scope=row>1</th><td>221900</td><td>3     </td><td>1.00  </td><td>1     </td><td>1180  </td><td>  0   </td><td>1340  </td><td>5650  </td><td>1180  </td><td> 5650 </td></tr>\n",
       "\t<tr><th scope=row>2</th><td>538000</td><td>3     </td><td>2.25  </td><td>2     </td><td>2170  </td><td>400   </td><td>1690  </td><td>7639  </td><td>2570  </td><td> 7242 </td></tr>\n",
       "\t<tr><th scope=row>3</th><td>180000</td><td>2     </td><td>1.00  </td><td>1     </td><td> 770  </td><td>  0   </td><td>2720  </td><td>8062  </td><td> 770  </td><td>10000 </td></tr>\n",
       "\t<tr><th scope=row>4</th><td>604000</td><td>4     </td><td>3.00  </td><td>1     </td><td>1050  </td><td>910   </td><td>1360  </td><td>5000  </td><td>1960  </td><td> 5000 </td></tr>\n",
       "\t<tr><th scope=row>5</th><td>510000</td><td>3     </td><td>2.00  </td><td>1     </td><td>1680  </td><td>  0   </td><td>1800  </td><td>7503  </td><td>1680  </td><td> 8080 </td></tr>\n",
       "\t<tr><th scope=row>7</th><td>257500</td><td>3     </td><td>2.25  </td><td>2     </td><td>1715  </td><td>  0   </td><td>2238  </td><td>6819  </td><td>1715  </td><td> 6819 </td></tr>\n",
       "</tbody>\n",
       "</table>\n"
      ],
      "text/latex": [
       "\\begin{tabular}{r|llllllllll}\n",
       "  & price & bedrooms & bathrooms & floors & sqft\\_above & sqft\\_basement & sqft\\_living15 & sqft\\_lot15 & sqft\\_living & sqft\\_lot\\\\\n",
       "\\hline\n",
       "\t1 & 221900 & 3      & 1.00   & 1      & 1180   &   0    & 1340   & 5650   & 1180   &  5650 \\\\\n",
       "\t2 & 538000 & 3      & 2.25   & 2      & 2170   & 400    & 1690   & 7639   & 2570   &  7242 \\\\\n",
       "\t3 & 180000 & 2      & 1.00   & 1      &  770   &   0    & 2720   & 8062   &  770   & 10000 \\\\\n",
       "\t4 & 604000 & 4      & 3.00   & 1      & 1050   & 910    & 1360   & 5000   & 1960   &  5000 \\\\\n",
       "\t5 & 510000 & 3      & 2.00   & 1      & 1680   &   0    & 1800   & 7503   & 1680   &  8080 \\\\\n",
       "\t7 & 257500 & 3      & 2.25   & 2      & 1715   &   0    & 2238   & 6819   & 1715   &  6819 \\\\\n",
       "\\end{tabular}\n"
      ],
      "text/markdown": [
       "\n",
       "| <!--/--> | price | bedrooms | bathrooms | floors | sqft_above | sqft_basement | sqft_living15 | sqft_lot15 | sqft_living | sqft_lot |\n",
       "|---|---|---|---|---|---|---|---|---|---|---|\n",
       "| 1 | 221900 | 3      | 1.00   | 1      | 1180   |   0    | 1340   | 5650   | 1180   |  5650  |\n",
       "| 2 | 538000 | 3      | 2.25   | 2      | 2170   | 400    | 1690   | 7639   | 2570   |  7242  |\n",
       "| 3 | 180000 | 2      | 1.00   | 1      |  770   |   0    | 2720   | 8062   |  770   | 10000  |\n",
       "| 4 | 604000 | 4      | 3.00   | 1      | 1050   | 910    | 1360   | 5000   | 1960   |  5000  |\n",
       "| 5 | 510000 | 3      | 2.00   | 1      | 1680   |   0    | 1800   | 7503   | 1680   |  8080  |\n",
       "| 7 | 257500 | 3      | 2.25   | 2      | 1715   |   0    | 2238   | 6819   | 1715   |  6819  |\n",
       "\n"
      ],
      "text/plain": [
       "  price  bedrooms bathrooms floors sqft_above sqft_basement sqft_living15\n",
       "1 221900 3        1.00      1      1180         0           1340         \n",
       "2 538000 3        2.25      2      2170       400           1690         \n",
       "3 180000 2        1.00      1       770         0           2720         \n",
       "4 604000 4        3.00      1      1050       910           1360         \n",
       "5 510000 3        2.00      1      1680         0           1800         \n",
       "7 257500 3        2.25      2      1715         0           2238         \n",
       "  sqft_lot15 sqft_living sqft_lot\n",
       "1 5650       1180         5650   \n",
       "2 7639       2570         7242   \n",
       "3 8062        770        10000   \n",
       "4 5000       1960         5000   \n",
       "5 7503       1680         8080   \n",
       "7 6819       1715         6819   "
      ]
     },
     "metadata": {},
     "output_type": "display_data"
    }
   ],
   "source": [
    "#Create data frame for orrelation matrix\n",
    "df_cor_matrix <- df_no_outliers[ , c(\"price\", \"bedrooms\", \"bathrooms\", \"floors\", \"sqft_above\", \"sqft_basement\",\n",
    "                                    \"sqft_living15\", \"sqft_lot15\", \"sqft_living\", \"sqft_lot\")]\n",
    "head(df_cor_matrix)"
   ]
  },
  {
   "cell_type": "code",
   "execution_count": 32,
   "id": "0904c6ac",
   "metadata": {},
   "outputs": [
    {
     "data": {
      "text/plain": [
       "              price bedrooms bathrooms floors sqft_above sqft_basement\n",
       "price          1.00     0.30      0.46   0.27       0.53          0.24\n",
       "bedrooms       0.30     1.00      0.49   0.15       0.46          0.28\n",
       "bathrooms      0.46     0.49      1.00   0.50       0.64          0.22\n",
       "floors         0.27     0.15      0.50   1.00       0.53         -0.29\n",
       "sqft_above     0.53     0.46      0.64   0.53       1.00         -0.16\n",
       "sqft_basement  0.24     0.28      0.22  -0.29      -0.16          1.00\n",
       "sqft_living15  0.56     0.37      0.53   0.27       0.72          0.12\n",
       "sqft_lot15     0.08     0.02      0.06  -0.02       0.18          0.01\n",
       "sqft_living    0.62     0.58      0.72   0.34       0.85          0.38\n",
       "sqft_lot       0.09     0.02      0.06  -0.02       0.16          0.01\n",
       "              sqft_living15 sqft_lot15 sqft_living sqft_lot\n",
       "price                  0.56       0.08        0.62     0.09\n",
       "bedrooms               0.37       0.02        0.58     0.02\n",
       "bathrooms              0.53       0.06        0.72     0.06\n",
       "floors                 0.27      -0.02        0.34    -0.02\n",
       "sqft_above             0.72       0.18        0.85     0.16\n",
       "sqft_basement          0.12       0.01        0.38     0.01\n",
       "sqft_living15          1.00       0.18        0.74     0.14\n",
       "sqft_lot15             0.18       1.00        0.17     0.71\n",
       "sqft_living            0.74       0.17        1.00     0.16\n",
       "sqft_lot               0.14       0.71        0.16     1.00\n",
       "\n",
       "n= 20457 \n",
       "\n",
       "\n",
       "P\n",
       "              price  bedrooms bathrooms floors sqft_above sqft_basement\n",
       "price                0.0000   0.0000    0.0000 0.0000     0.0000       \n",
       "bedrooms      0.0000          0.0000    0.0000 0.0000     0.0000       \n",
       "bathrooms     0.0000 0.0000             0.0000 0.0000     0.0000       \n",
       "floors        0.0000 0.0000   0.0000           0.0000     0.0000       \n",
       "sqft_above    0.0000 0.0000   0.0000    0.0000            0.0000       \n",
       "sqft_basement 0.0000 0.0000   0.0000    0.0000 0.0000                  \n",
       "sqft_living15 0.0000 0.0000   0.0000    0.0000 0.0000     0.0000       \n",
       "sqft_lot15    0.0000 0.0031   0.0000    0.0018 0.0000     0.0384       \n",
       "sqft_living   0.0000 0.0000   0.0000    0.0000 0.0000     0.0000       \n",
       "sqft_lot      0.0000 0.0006   0.0000    0.0129 0.0000     0.0888       \n",
       "              sqft_living15 sqft_lot15 sqft_living sqft_lot\n",
       "price         0.0000        0.0000     0.0000      0.0000  \n",
       "bedrooms      0.0000        0.0031     0.0000      0.0006  \n",
       "bathrooms     0.0000        0.0000     0.0000      0.0000  \n",
       "floors        0.0000        0.0018     0.0000      0.0129  \n",
       "sqft_above    0.0000        0.0000     0.0000      0.0000  \n",
       "sqft_basement 0.0000        0.0384     0.0000      0.0888  \n",
       "sqft_living15               0.0000     0.0000      0.0000  \n",
       "sqft_lot15    0.0000                   0.0000      0.0000  \n",
       "sqft_living   0.0000        0.0000                 0.0000  \n",
       "sqft_lot      0.0000        0.0000     0.0000              "
      ]
     },
     "metadata": {},
     "output_type": "display_data"
    }
   ],
   "source": [
    "#Create the correlation matrix\n",
    "cor_matrix <- rcorr(as.matrix(df_cor_matrix))\n",
    "cor_matrix"
   ]
  },
  {
   "cell_type": "code",
   "execution_count": 33,
   "id": "1780b7d1",
   "metadata": {},
   "outputs": [
    {
     "data": {
      "image/png": "[encoded data removed]",
      "text/plain": [
       "Plot with title \"Scatterplot of Price vs. Living Sqft\""
      ]
     },
     "metadata": {},
     "output_type": "display_data"
    }
   ],
   "source": [
    "#Create scatterplot of price vs. sqft_living\n",
    "plot(df_no_outliers$sqft_living, df_no_outliers$price, main=\"Scatterplot of Price vs. Living Sqft\",\n",
    "    xlab=\"Living Sfqt\", ylab=\"House Price\", col=\"midnightblue\", pch=19)\n",
    "abline(lm(df_no_outliers$price~df_no_outliers$sqft_living), col=\"red\")"
   ]
  },
  {
   "cell_type": "code",
   "execution_count": 56,
   "id": "9cf315ca",
   "metadata": {},
   "outputs": [
    {
     "data": {
      "image/png": "[encoded data removed]",
      "text/plain": [
       "plot without title"
      ]
     },
     "metadata": {},
     "output_type": "display_data"
    }
   ],
   "source": [
    "#Create scatterplot matrix to study multiple scatterplots simultaneously\n",
    "plot(df_cor_matrix, pch=19, cex=1.5, col=\"palegreen\")"
   ]
  },
  {
   "cell_type": "code",
   "execution_count": 34,
   "id": "8b625a47",
   "metadata": {},
   "outputs": [
    {
     "data": {
      "text/html": [
       "<table>\n",
       "<thead><tr><th scope=col>Group.1</th><th scope=col>x</th></tr></thead>\n",
       "<tbody>\n",
       "\t<tr><td>1       </td><td>294239.7</td></tr>\n",
       "\t<tr><td>2       </td><td>309049.3</td></tr>\n",
       "\t<tr><td>3       </td><td>479300.4</td></tr>\n",
       "\t<tr><td>4       </td><td>465895.5</td></tr>\n",
       "\t<tr><td>5       </td><td>517683.0</td></tr>\n",
       "</tbody>\n",
       "</table>\n"
      ],
      "text/latex": [
       "\\begin{tabular}{r|ll}\n",
       " Group.1 & x\\\\\n",
       "\\hline\n",
       "\t 1        & 294239.7\\\\\n",
       "\t 2        & 309049.3\\\\\n",
       "\t 3        & 479300.4\\\\\n",
       "\t 4        & 465895.5\\\\\n",
       "\t 5        & 517683.0\\\\\n",
       "\\end{tabular}\n"
      ],
      "text/markdown": [
       "\n",
       "| Group.1 | x |\n",
       "|---|---|\n",
       "| 1        | 294239.7 |\n",
       "| 2        | 309049.3 |\n",
       "| 3        | 479300.4 |\n",
       "| 4        | 465895.5 |\n",
       "| 5        | 517683.0 |\n",
       "\n"
      ],
      "text/plain": [
       "  Group.1 x       \n",
       "1 1       294239.7\n",
       "2 2       309049.3\n",
       "3 3       479300.4\n",
       "4 4       465895.5\n",
       "5 5       517683.0"
      ]
     },
     "metadata": {},
     "output_type": "display_data"
    }
   ],
   "source": [
    "#Study other quantitative variables (e.g. condition, grade, etc.) using barplots\n",
    "\n",
    "#Condition and price\n",
    "avg_price_by_condition <- aggregate(df_no_outliers$price, list(df_no_outliers$condition), mean)\n",
    "avg_price_by_condition"
   ]
  },
  {
   "cell_type": "code",
   "execution_count": 35,
   "id": "f2d128c6",
   "metadata": {},
   "outputs": [
    {
     "data": {
      "image/png": "[encoded data removed]",
      "text/plain": [
       "Plot with title \"Avg House Price By Condition\""
      ]
     },
     "metadata": {},
     "output_type": "display_data"
    }
   ],
   "source": [
    "#Rename columns and construct bar chart\n",
    "colnames(avg_price_by_condition) <- c(\"Condition\", \"Avg_House_Price\")\n",
    "barplot(avg_price_by_condition$Avg_House_Price, names.arg=avg_price_by_condition$Condition,\n",
    "       main=\"Avg House Price By Condition\", xlab=\"Condition\", ylab=\"Avg House Price\", col=\"magenta\")"
   ]
  },
  {
   "cell_type": "code",
   "execution_count": 36,
   "id": "668e05b3",
   "metadata": {},
   "outputs": [
    {
     "data": {
      "text/html": [
       "<table>\n",
       "<thead><tr><th scope=col>Group.1</th><th scope=col>x</th></tr></thead>\n",
       "<tbody>\n",
       "\t<tr><td> 1      </td><td>142000.0</td></tr>\n",
       "\t<tr><td> 3      </td><td>205666.7</td></tr>\n",
       "\t<tr><td> 4      </td><td>214381.0</td></tr>\n",
       "\t<tr><td> 5      </td><td>248524.0</td></tr>\n",
       "\t<tr><td> 6      </td><td>301478.8</td></tr>\n",
       "\t<tr><td> 7      </td><td>401264.3</td></tr>\n",
       "\t<tr><td> 8      </td><td>525684.4</td></tr>\n",
       "\t<tr><td> 9      </td><td>688025.0</td></tr>\n",
       "\t<tr><td>10      </td><td>808406.0</td></tr>\n",
       "\t<tr><td>11      </td><td>932929.4</td></tr>\n",
       "\t<tr><td>12      </td><td>975600.0</td></tr>\n",
       "</tbody>\n",
       "</table>\n"
      ],
      "text/latex": [
       "\\begin{tabular}{r|ll}\n",
       " Group.1 & x\\\\\n",
       "\\hline\n",
       "\t  1       & 142000.0\\\\\n",
       "\t  3       & 205666.7\\\\\n",
       "\t  4       & 214381.0\\\\\n",
       "\t  5       & 248524.0\\\\\n",
       "\t  6       & 301478.8\\\\\n",
       "\t  7       & 401264.3\\\\\n",
       "\t  8       & 525684.4\\\\\n",
       "\t  9       & 688025.0\\\\\n",
       "\t 10       & 808406.0\\\\\n",
       "\t 11       & 932929.4\\\\\n",
       "\t 12       & 975600.0\\\\\n",
       "\\end{tabular}\n"
      ],
      "text/markdown": [
       "\n",
       "| Group.1 | x |\n",
       "|---|---|\n",
       "|  1       | 142000.0 |\n",
       "|  3       | 205666.7 |\n",
       "|  4       | 214381.0 |\n",
       "|  5       | 248524.0 |\n",
       "|  6       | 301478.8 |\n",
       "|  7       | 401264.3 |\n",
       "|  8       | 525684.4 |\n",
       "|  9       | 688025.0 |\n",
       "| 10       | 808406.0 |\n",
       "| 11       | 932929.4 |\n",
       "| 12       | 975600.0 |\n",
       "\n"
      ],
      "text/plain": [
       "   Group.1 x       \n",
       "1   1      142000.0\n",
       "2   3      205666.7\n",
       "3   4      214381.0\n",
       "4   5      248524.0\n",
       "5   6      301478.8\n",
       "6   7      401264.3\n",
       "7   8      525684.4\n",
       "8   9      688025.0\n",
       "9  10      808406.0\n",
       "10 11      932929.4\n",
       "11 12      975600.0"
      ]
     },
     "metadata": {},
     "output_type": "display_data"
    }
   ],
   "source": [
    "#Grade and price\n",
    "avg_price_by_grade <- aggregate(df_no_outliers$price, list(df_no_outliers$grade), mean)\n",
    "avg_price_by_grade"
   ]
  },
  {
   "cell_type": "code",
   "execution_count": 37,
   "id": "4930c729",
   "metadata": {},
   "outputs": [
    {
     "data": {
      "image/png": "[encoded data removed]",
      "text/plain": [
       "Plot with title \"Avg House Price By Grade\""
      ]
     },
     "metadata": {},
     "output_type": "display_data"
    }
   ],
   "source": [
    "#Rename columns and construct bar chart\n",
    "colnames(avg_price_by_grade) <- c(\"Grade\", \"Avg_House_Price\")\n",
    "barplot(avg_price_by_grade$Avg_House_Price, names.arg=avg_price_by_grade$Grade,\n",
    "       main=\"Avg House Price By Grade\", xlab=\"Grade\", ylab=\"Avg House Price\", col=\"darkseagreen2\")"
   ]
  },
  {
   "cell_type": "code",
   "execution_count": 38,
   "id": "d2961234",
   "metadata": {},
   "outputs": [
    {
     "data": {
      "text/html": [
       "<table>\n",
       "<thead><tr><th scope=col>Group.1</th><th scope=col>x</th></tr></thead>\n",
       "<tbody>\n",
       "\t<tr><td>0       </td><td>462638.8</td></tr>\n",
       "\t<tr><td>1       </td><td>628981.7</td></tr>\n",
       "\t<tr><td>2       </td><td>626836.3</td></tr>\n",
       "\t<tr><td>3       </td><td>661488.8</td></tr>\n",
       "\t<tr><td>4       </td><td>770910.7</td></tr>\n",
       "</tbody>\n",
       "</table>\n"
      ],
      "text/latex": [
       "\\begin{tabular}{r|ll}\n",
       " Group.1 & x\\\\\n",
       "\\hline\n",
       "\t 0        & 462638.8\\\\\n",
       "\t 1        & 628981.7\\\\\n",
       "\t 2        & 626836.3\\\\\n",
       "\t 3        & 661488.8\\\\\n",
       "\t 4        & 770910.7\\\\\n",
       "\\end{tabular}\n"
      ],
      "text/markdown": [
       "\n",
       "| Group.1 | x |\n",
       "|---|---|\n",
       "| 0        | 462638.8 |\n",
       "| 1        | 628981.7 |\n",
       "| 2        | 626836.3 |\n",
       "| 3        | 661488.8 |\n",
       "| 4        | 770910.7 |\n",
       "\n"
      ],
      "text/plain": [
       "  Group.1 x       \n",
       "1 0       462638.8\n",
       "2 1       628981.7\n",
       "3 2       626836.3\n",
       "4 3       661488.8\n",
       "5 4       770910.7"
      ]
     },
     "metadata": {},
     "output_type": "display_data"
    }
   ],
   "source": [
    "#Grade and price\n",
    "avg_price_by_view <- aggregate(df_no_outliers$price, list(df_no_outliers$view), mean)\n",
    "avg_price_by_view"
   ]
  },
  {
   "cell_type": "code",
   "execution_count": 39,
   "id": "7f86e8a2",
   "metadata": {},
   "outputs": [
    {
     "data": {
      "image/png": "[encoded data removed]",
      "text/plain": [
       "Plot with title \"Avg House Price By View\""
      ]
     },
     "metadata": {},
     "output_type": "display_data"
    }
   ],
   "source": [
    "#Rename columns and construct bar chart\n",
    "colnames(avg_price_by_view) <- c(\"View\", \"Avg_House_Price\")\n",
    "barplot(avg_price_by_view$Avg_House_Price, names.arg=avg_price_by_view$View,\n",
    "       main=\"Avg House Price By View\", xlab=\"View\", ylab=\"Avg House Price\", col=\"cyan4\")"
   ]
  },
  {
   "cell_type": "code",
   "execution_count": 40,
   "id": "9fcece92",
   "metadata": {},
   "outputs": [
    {
     "data": {
      "text/html": [
       "<table>\n",
       "<thead><tr><th scope=col>Group.1</th><th scope=col>x</th></tr></thead>\n",
       "<tbody>\n",
       "\t<tr><td>0       </td><td>476415.5</td></tr>\n",
       "\t<tr><td>1       </td><td>673056.4</td></tr>\n",
       "</tbody>\n",
       "</table>\n"
      ],
      "text/latex": [
       "\\begin{tabular}{r|ll}\n",
       " Group.1 & x\\\\\n",
       "\\hline\n",
       "\t 0        & 476415.5\\\\\n",
       "\t 1        & 673056.4\\\\\n",
       "\\end{tabular}\n"
      ],
      "text/markdown": [
       "\n",
       "| Group.1 | x |\n",
       "|---|---|\n",
       "| 0        | 476415.5 |\n",
       "| 1        | 673056.4 |\n",
       "\n"
      ],
      "text/plain": [
       "  Group.1 x       \n",
       "1 0       476415.5\n",
       "2 1       673056.4"
      ]
     },
     "metadata": {},
     "output_type": "display_data"
    }
   ],
   "source": [
    "#Waterfront and price\n",
    "avg_price_by_waterfront <- aggregate(df_no_outliers$price, list(df_no_outliers$waterfront), mean)\n",
    "avg_price_by_waterfront"
   ]
  },
  {
   "cell_type": "code",
   "execution_count": 41,
   "id": "39a27f13",
   "metadata": {},
   "outputs": [
    {
     "data": {
      "image/png": "[encoded data removed]",
      "text/plain": [
       "Plot with title \"Avg House Price By Waterfront\""
      ]
     },
     "metadata": {},
     "output_type": "display_data"
    }
   ],
   "source": [
    "#Rename columns and construct bar chart\n",
    "colnames(avg_price_by_waterfront) <- c(\"Waterfront\", \"Avg_House_Price\")\n",
    "barplot(avg_price_by_waterfront$Avg_House_Price, names.arg=avg_price_by_waterfront$Waterfront,\n",
    "       main=\"Avg House Price By Waterfront\", xlab=\"Waterfront (Y/N)\", ylab=\"Avg House Price\", col=\"steelblue4\")"
   ]
  },
  {
   "cell_type": "code",
   "execution_count": 42,
   "id": "e0f90b84",
   "metadata": {},
   "outputs": [
    {
     "data": {
      "text/html": [
       "<table>\n",
       "<thead><tr><th scope=col>Group.1</th><th scope=col>x</th></tr></thead>\n",
       "<tbody>\n",
       "\t<tr><td>0    </td><td>20396</td></tr>\n",
       "\t<tr><td>1    </td><td>   61</td></tr>\n",
       "</tbody>\n",
       "</table>\n"
      ],
      "text/latex": [
       "\\begin{tabular}{r|ll}\n",
       " Group.1 & x\\\\\n",
       "\\hline\n",
       "\t 0     & 20396\\\\\n",
       "\t 1     &    61\\\\\n",
       "\\end{tabular}\n"
      ],
      "text/markdown": [
       "\n",
       "| Group.1 | x |\n",
       "|---|---|\n",
       "| 0     | 20396 |\n",
       "| 1     |    61 |\n",
       "\n"
      ],
      "text/plain": [
       "  Group.1 x    \n",
       "1 0       20396\n",
       "2 1          61"
      ]
     },
     "metadata": {},
     "output_type": "display_data"
    }
   ],
   "source": [
    "#Examine counts for homes with and without waterfront\n",
    "count_by_water <- aggregate(df_no_outliers$price, list(df_no_outliers$waterfront), length)\n",
    "count_by_water"
   ]
  },
  {
   "cell_type": "code",
   "execution_count": 43,
   "id": "e7ff1913",
   "metadata": {},
   "outputs": [
    {
     "data": {
      "text/html": [
       "<table>\n",
       "<thead><tr><th></th><th scope=col>sqft_basement</th><th scope=col>basement_y_n</th></tr></thead>\n",
       "<tbody>\n",
       "\t<tr><th scope=row>1</th><td>  0        </td><td>No Basement</td></tr>\n",
       "\t<tr><th scope=row>2</th><td>400        </td><td>Basement   </td></tr>\n",
       "\t<tr><th scope=row>3</th><td>  0        </td><td>No Basement</td></tr>\n",
       "\t<tr><th scope=row>4</th><td>910        </td><td>Basement   </td></tr>\n",
       "\t<tr><th scope=row>5</th><td>  0        </td><td>No Basement</td></tr>\n",
       "\t<tr><th scope=row>7</th><td>  0        </td><td>No Basement</td></tr>\n",
       "</tbody>\n",
       "</table>\n"
      ],
      "text/latex": [
       "\\begin{tabular}{r|ll}\n",
       "  & sqft\\_basement & basement\\_y\\_n\\\\\n",
       "\\hline\n",
       "\t1 &   0         & No Basement\\\\\n",
       "\t2 & 400         & Basement   \\\\\n",
       "\t3 &   0         & No Basement\\\\\n",
       "\t4 & 910         & Basement   \\\\\n",
       "\t5 &   0         & No Basement\\\\\n",
       "\t7 &   0         & No Basement\\\\\n",
       "\\end{tabular}\n"
      ],
      "text/markdown": [
       "\n",
       "| <!--/--> | sqft_basement | basement_y_n |\n",
       "|---|---|---|\n",
       "| 1 |   0         | No Basement |\n",
       "| 2 | 400         | Basement    |\n",
       "| 3 |   0         | No Basement |\n",
       "| 4 | 910         | Basement    |\n",
       "| 5 |   0         | No Basement |\n",
       "| 7 |   0         | No Basement |\n",
       "\n"
      ],
      "text/plain": [
       "  sqft_basement basement_y_n\n",
       "1   0           No Basement \n",
       "2 400           Basement    \n",
       "3   0           No Basement \n",
       "4 910           Basement    \n",
       "5   0           No Basement \n",
       "7   0           No Basement "
      ]
     },
     "metadata": {},
     "output_type": "display_data"
    }
   ],
   "source": [
    "#Circle Back to Data Manipulation for basement vs. no basement\n",
    "df_no_outliers$basement_y_n <- ifelse(df_no_outliers$sqft_basement==0, \"No Basement\", \"Basement\")\n",
    "head(df_no_outliers[, c(\"sqft_basement\", \"basement_y_n\")])"
   ]
  },
  {
   "cell_type": "code",
   "execution_count": 44,
   "id": "d7a53d81",
   "metadata": {},
   "outputs": [
    {
     "data": {
      "image/png": "[encoded data removed]",
      "text/plain": [
       "Plot with title \"Avg House Price by Basement\""
      ]
     },
     "metadata": {},
     "output_type": "display_data"
    }
   ],
   "source": [
    "#See how basement impacts price using bar chart\n",
    "avg_price_by_bsmnt <- aggregate(df_no_outliers$price, list(df_no_outliers$basement_y_n), mean)\n",
    "colnames(avg_price_by_bsmnt) <- c(\"Basement_Y_N\", \"Avg_House_Price\")\n",
    "barplot(avg_price_by_bsmnt$Avg_House_Price, names.arg=avg_price_by_bsmnt$Basement_Y_N,\n",
    "       main=\"Avg House Price by Basement\", xlab=\"Basement Status\", ylab=\"Avg House Price\", col=\"dodgerblue\")"
   ]
  },
  {
   "cell_type": "code",
   "execution_count": 45,
   "id": "0b562bbd",
   "metadata": {},
   "outputs": [
    {
     "data": {
      "text/html": [
       "70645.5488237136"
      ],
      "text/latex": [
       "70645.5488237136"
      ],
      "text/markdown": [
       "70645.5488237136"
      ],
      "text/plain": [
       "[1] 70645.55"
      ]
     },
     "metadata": {},
     "output_type": "display_data"
    }
   ],
   "source": [
    "#Avg price difference for homes with and without basements\n",
    "price_diff <- avg_price_by_bsmnt[1, 2] - avg_price_by_bsmnt[2, 2]\n",
    "price_diff"
   ]
  },
  {
   "cell_type": "code",
   "execution_count": 46,
   "id": "1d0362b6",
   "metadata": {},
   "outputs": [
    {
     "data": {
      "text/html": [
       "16366"
      ],
      "text/latex": [
       "16366"
      ],
      "text/markdown": [
       "16366"
      ],
      "text/plain": [
       "[1] 16366"
      ]
     },
     "metadata": {},
     "output_type": "display_data"
    }
   ],
   "source": [
    "#Phase 4 - Modeling Phase\n",
    "\n",
    "#Split data into training, test set\n",
    "set.seed(0)\n",
    "\n",
    "#Set sample size\n",
    "sample_size=round(nrow(df_no_outliers)*0.8)\n",
    "index <- sample(seq_len(nrow(df_no_outliers)), size=sample_size)\n",
    "\n",
    "#Split data\n",
    "train <- df_no_outliers[index, ]\n",
    "test <- df_no_outliers[-index, ]\n",
    "\n",
    "#Final check: compute length of training set\n",
    "length(train$price)"
   ]
  },
  {
   "cell_type": "code",
   "execution_count": 47,
   "id": "6dd0a97d",
   "metadata": {},
   "outputs": [
    {
     "data": {
      "text/plain": [
       "\n",
       "Call:\n",
       "lm(formula = price ~ sqft_living, data = train)\n",
       "\n",
       "Residuals:\n",
       "    Min      1Q  Median      3Q     Max \n",
       "-599079 -125517  -13657  104238  691662 \n",
       "\n",
       "Coefficients:\n",
       "             Estimate Std. Error t value Pr(>|t|)    \n",
       "(Intercept) 1.473e+05  3.490e+03    42.2   <2e-16 ***\n",
       "sqft_living 1.674e+02  1.646e+00   101.7   <2e-16 ***\n",
       "---\n",
       "Signif. codes:  0 '***' 0.001 '**' 0.01 '*' 0.05 '.' 0.1 ' ' 1\n",
       "\n",
       "Residual standard error: 163200 on 16364 degrees of freedom\n",
       "Multiple R-squared:  0.3871,\tAdjusted R-squared:  0.387 \n",
       "F-statistic: 1.033e+04 on 1 and 16364 DF,  p-value: < 2.2e-16\n"
      ]
     },
     "metadata": {},
     "output_type": "display_data"
    }
   ],
   "source": [
    "#Build model using just the training set\n",
    "train_model <- lm(price~sqft_living, data=train)\n",
    "summary(train_model)"
   ]
  },
  {
   "cell_type": "code",
   "execution_count": 48,
   "id": "9141762e",
   "metadata": {},
   "outputs": [],
   "source": [
    "#Interpretation: Predicted House Price = 1.473e+05 + 1.674e+02*sqft_living"
   ]
  },
  {
   "cell_type": "code",
   "execution_count": 49,
   "id": "6c4e8f16",
   "metadata": {},
   "outputs": [
    {
     "data": {
      "text/html": [
       "4091"
      ],
      "text/latex": [
       "4091"
      ],
      "text/markdown": [
       "4091"
      ],
      "text/plain": [
       "[1] 4091"
      ]
     },
     "metadata": {},
     "output_type": "display_data"
    }
   ],
   "source": [
    "#Make predictions using train_model\n",
    "predictions <- predict(train_model, data.frame(sqft_living=test[, 9]))\n",
    "length(predictions)"
   ]
  },
  {
   "cell_type": "code",
   "execution_count": 50,
   "id": "0696f5aa",
   "metadata": {},
   "outputs": [
    {
     "data": {
      "text/html": [
       "<table>\n",
       "<thead><tr><th scope=col>Actual_House_Price</th><th scope=col>Predicted_House_Price</th><th scope=col>residual</th></tr></thead>\n",
       "<tbody>\n",
       "\t<tr><td>510000    </td><td>428420.3  </td><td>  81579.72</td></tr>\n",
       "\t<tr><td>662500    </td><td>743047.6  </td><td> -80547.63</td></tr>\n",
       "\t<tr><td>310000    </td><td>386581.5  </td><td> -76581.54</td></tr>\n",
       "\t<tr><td>189000    </td><td>348089.9  </td><td>-159089.89</td></tr>\n",
       "\t<tr><td>329000    </td><td>557283.6  </td><td>-228283.61</td></tr>\n",
       "\t<tr><td>438000    </td><td>401643.5  </td><td>  36356.52</td></tr>\n",
       "</tbody>\n",
       "</table>\n"
      ],
      "text/latex": [
       "\\begin{tabular}{r|lll}\n",
       " Actual\\_House\\_Price & Predicted\\_House\\_Price & residual\\\\\n",
       "\\hline\n",
       "\t 510000     & 428420.3   &   81579.72\\\\\n",
       "\t 662500     & 743047.6   &  -80547.63\\\\\n",
       "\t 310000     & 386581.5   &  -76581.54\\\\\n",
       "\t 189000     & 348089.9   & -159089.89\\\\\n",
       "\t 329000     & 557283.6   & -228283.61\\\\\n",
       "\t 438000     & 401643.5   &   36356.52\\\\\n",
       "\\end{tabular}\n"
      ],
      "text/markdown": [
       "\n",
       "| Actual_House_Price | Predicted_House_Price | residual |\n",
       "|---|---|---|\n",
       "| 510000     | 428420.3   |   81579.72 |\n",
       "| 662500     | 743047.6   |  -80547.63 |\n",
       "| 310000     | 386581.5   |  -76581.54 |\n",
       "| 189000     | 348089.9   | -159089.89 |\n",
       "| 329000     | 557283.6   | -228283.61 |\n",
       "| 438000     | 401643.5   |   36356.52 |\n",
       "\n"
      ],
      "text/plain": [
       "  Actual_House_Price Predicted_House_Price residual  \n",
       "1 510000             428420.3                81579.72\n",
       "2 662500             743047.6               -80547.63\n",
       "3 310000             386581.5               -76581.54\n",
       "4 189000             348089.9              -159089.89\n",
       "5 329000             557283.6              -228283.61\n",
       "6 438000             401643.5                36356.52"
      ]
     },
     "metadata": {},
     "output_type": "display_data"
    }
   ],
   "source": [
    "#Create a df with the predictions and the actual values\n",
    "preds_vs_actual <- data.frame(test$price, predictions)\n",
    "colnames(preds_vs_actual) <- c(\"Actual_House_Price\", \"Predicted_House_Price\")\n",
    "preds_vs_actual$residual <- preds_vs_actual$Actual_House_Price -  preds_vs_actual$Predicted_House_Price\n",
    "head(preds_vs_actual)"
   ]
  },
  {
   "cell_type": "code",
   "execution_count": 51,
   "id": "eda88b42",
   "metadata": {},
   "outputs": [
    {
     "name": "stdout",
     "output_type": "stream",
     "text": [
      "[1] \"The mean absolute error is: 131101.132356336\"\n",
      "[1] \"The mean squared error is: 26505505718.5023\"\n",
      "[1] \"The root mean squared error is: 162805.115762688\"\n"
     ]
    }
   ],
   "source": [
    "#Let's calculate our three model evaluation metrics\n",
    "print(paste(\"The mean absolute error is:\", mae(test$price, predictions)))\n",
    "print(paste(\"The mean squared error is:\", mse(test$price, predictions)))\n",
    "print(paste(\"The root mean squared error is:\", rmse(test$price, predictions)))"
   ]
  },
  {
   "cell_type": "code",
   "execution_count": 52,
   "id": "a618d7c4",
   "metadata": {},
   "outputs": [
    {
     "data": {
      "text/plain": [
       "\n",
       "Call:\n",
       "lm(formula = price ~ sqft_above, data = train)\n",
       "\n",
       "Residuals:\n",
       "    Min      1Q  Median      3Q     Max \n",
       "-453026 -139385  -20167  109144  717625 \n",
       "\n",
       "Coefficients:\n",
       "             Estimate Std. Error t value Pr(>|t|)    \n",
       "(Intercept) 2.183e+05  3.528e+03   61.87   <2e-16 ***\n",
       "sqft_above  1.519e+02  1.903e+00   79.85   <2e-16 ***\n",
       "---\n",
       "Signif. codes:  0 '***' 0.001 '**' 0.01 '*' 0.05 '.' 0.1 ' ' 1\n",
       "\n",
       "Residual standard error: 176800 on 16364 degrees of freedom\n",
       "Multiple R-squared:  0.2804,\tAdjusted R-squared:  0.2803 \n",
       "F-statistic:  6376 on 1 and 16364 DF,  p-value: < 2.2e-16\n"
      ]
     },
     "metadata": {},
     "output_type": "display_data"
    }
   ],
   "source": [
    "#Build model using just the training set\n",
    "train_model2 <- lm(price~sqft_above, data=train)\n",
    "summary(train_model2)"
   ]
  },
  {
   "cell_type": "code",
   "execution_count": 53,
   "id": "6d8c8afc",
   "metadata": {},
   "outputs": [
    {
     "data": {
      "text/html": [
       "4091"
      ],
      "text/latex": [
       "4091"
      ],
      "text/markdown": [
       "4091"
      ],
      "text/plain": [
       "[1] 4091"
      ]
     },
     "metadata": {},
     "output_type": "display_data"
    }
   ],
   "source": [
    "#Make predictions using train_model\n",
    "predictions2 <- predict(train_model2, data.frame(sqft_above=test[, 16])) #sqft_above is the 16th column in train\n",
    "length(predictions2)"
   ]
  },
  {
   "cell_type": "code",
   "execution_count": 54,
   "id": "98dfed23",
   "metadata": {},
   "outputs": [
    {
     "name": "stdout",
     "output_type": "stream",
     "text": [
      "[1] \"The mean absolute error is: 141439.998410534\"\n",
      "[1] \"The mean squared error is: 30974988685.7322\"\n",
      "[1] \"The root mean squared error is: 175997.126924652\"\n"
     ]
    }
   ],
   "source": [
    "#Let's calculate our three model evaluation metrics\n",
    "print(paste(\"The mean absolute error is:\", mae(test$price, predictions2)))\n",
    "print(paste(\"The mean squared error is:\", mse(test$price, predictions2)))\n",
    "print(paste(\"The root mean squared error is:\", rmse(test$price, predictions2)))"
   ]
  }
 ],
 "metadata": {
  "kernelspec": {
   "display_name": "R",
   "language": "R",
   "name": "ir"
  },
  "language_info": {
   "codemirror_mode": "r",
   "file_extension": ".r",
   "mimetype": "text/x-r-source",
   "name": "R",
   "pygments_lexer": "r",
   "version": "3.6.1"
  }
 },
 "nbformat": 4,
 "nbformat_minor": 5
}
