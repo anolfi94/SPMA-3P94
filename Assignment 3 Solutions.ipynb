{
 "cells": [
  {
   "cell_type": "code",
   "execution_count": 103,
   "id": "28652989",
   "metadata": {},
   "outputs": [
    {
     "data": {
      "text/html": [
       "<table>\n",
       "<thead><tr><th scope=col>Player</th><th scope=col>Age</th><th scope=col>Tm</th><th scope=col>Pos</th><th scope=col>GP</th><th scope=col>G</th><th scope=col>A</th><th scope=col>PTS</th><th scope=col>Plus_Minus</th><th scope=col>PIM</th><th scope=col>...</th><th scope=col>SH_A</th><th scope=col>S</th><th scope=col>S.</th><th scope=col>TOI</th><th scope=col>ATOI</th><th scope=col>BLK</th><th scope=col>HIT</th><th scope=col>FOW</th><th scope=col>FOL</th><th scope=col>FO.</th></tr></thead>\n",
       "<tbody>\n",
       "\t<tr><td>Vitaly Abramov\\abramvi01 </td><td>22                        </td><td>OTT                       </td><td>RW                        </td><td> 2                        </td><td>0                         </td><td>0                         </td><td> 0                        </td><td> 0                        </td><td>0                         </td><td>...                       </td><td>0                         </td><td> 0                        </td><td> NA                       </td><td> 19                       </td><td> 9.43                     </td><td> 0                        </td><td> 0                        </td><td>  0                       </td><td>  0                       </td><td>  NA                      </td></tr>\n",
       "\t<tr><td>Noel Acciari\\acciano01   </td><td>29                        </td><td>FLA                       </td><td>C                         </td><td>41                        </td><td>4                         </td><td>7                         </td><td>11                        </td><td> 0                        </td><td>9                         </td><td>...                       </td><td>1                         </td><td>68                        </td><td>5.9                       </td><td>631                       </td><td>15.24                     </td><td>63                        </td><td>91                        </td><td>272                       </td><td>247                       </td><td>52.4                      </td></tr>\n",
       "\t<tr><td>Calen Addison\\addisca01  </td><td>20                        </td><td>MIN                       </td><td>D                         </td><td> 3                        </td><td>0                         </td><td>0                         </td><td> 0                        </td><td> 0                        </td><td>0                         </td><td>...                       </td><td>0                         </td><td> 4                        </td><td>0.0                       </td><td> 56                       </td><td>18.31                     </td><td> 1                        </td><td> 2                        </td><td>  0                       </td><td>  0                       </td><td>  NA                      </td></tr>\n",
       "\t<tr><td>Kenny Agostino\\agostke01 </td><td>28                        </td><td>TOR                       </td><td>LW                        </td><td> 1                        </td><td>0                         </td><td>0                         </td><td> 0                        </td><td> 0                        </td><td>0                         </td><td>...                       </td><td>0                         </td><td> 0                        </td><td> NA                       </td><td>  4                       </td><td> 4.08                     </td><td> 0                        </td><td> 0                        </td><td>  0                       </td><td>  0                       </td><td>  NA                      </td></tr>\n",
       "\t<tr><td>Andrew Agozzino\\agozzan01</td><td>30                        </td><td>ANA                       </td><td>LW                        </td><td> 3                        </td><td>0                         </td><td>1                         </td><td> 1                        </td><td> 0                        </td><td>0                         </td><td>...                       </td><td>0                         </td><td> 3                        </td><td>0.0                       </td><td> 37                       </td><td>12.11                     </td><td> 7                        </td><td> 6                        </td><td> 16                       </td><td> 16                       </td><td>50.0                      </td></tr>\n",
       "\t<tr><td>Jack Ahcan\\ahcanja01     </td><td>23                        </td><td>BOS                       </td><td>D                         </td><td> 3                        </td><td>0                         </td><td>0                         </td><td> 0                        </td><td>-3                        </td><td>0                         </td><td>...                       </td><td>0                         </td><td> 5                        </td><td>0.0                       </td><td> 62                       </td><td>20.38                     </td><td> 5                        </td><td> 2                        </td><td>  0                       </td><td>  0                       </td><td>  NA                      </td></tr>\n",
       "</tbody>\n",
       "</table>\n"
      ],
      "text/latex": [
       "\\begin{tabular}{r|lllllllllllllllllllllllllll}\n",
       " Player & Age & Tm & Pos & GP & G & A & PTS & Plus\\_Minus & PIM & ... & SH\\_A & S & S. & TOI & ATOI & BLK & HIT & FOW & FOL & FO.\\\\\n",
       "\\hline\n",
       "\t Vitaly Abramov\\textbackslash{}abramvi01  & 22                                        & OTT                                       & RW                                        &  2                                        & 0                                         & 0                                         &  0                                        &  0                                        & 0                                         & ...                                       & 0                                         &  0                                        &  NA                                       &  19                                       &  9.43                                     &  0                                        &  0                                        &   0                                       &   0                                       &   NA                                     \\\\\n",
       "\t Noel Acciari\\textbackslash{}acciano01    & 29                                        & FLA                                       & C                                         & 41                                        & 4                                         & 7                                         & 11                                        &  0                                        & 9                                         & ...                                       & 1                                         & 68                                        & 5.9                                       & 631                                       & 15.24                                     & 63                                        & 91                                        & 272                                       & 247                                       & 52.4                                     \\\\\n",
       "\t Calen Addison\\textbackslash{}addisca01   & 20                                        & MIN                                       & D                                         &  3                                        & 0                                         & 0                                         &  0                                        &  0                                        & 0                                         & ...                                       & 0                                         &  4                                        & 0.0                                       &  56                                       & 18.31                                     &  1                                        &  2                                        &   0                                       &   0                                       &   NA                                     \\\\\n",
       "\t Kenny Agostino\\textbackslash{}agostke01  & 28                                        & TOR                                       & LW                                        &  1                                        & 0                                         & 0                                         &  0                                        &  0                                        & 0                                         & ...                                       & 0                                         &  0                                        &  NA                                       &   4                                       &  4.08                                     &  0                                        &  0                                        &   0                                       &   0                                       &   NA                                     \\\\\n",
       "\t Andrew Agozzino\\textbackslash{}agozzan01 & 30                                        & ANA                                       & LW                                        &  3                                        & 0                                         & 1                                         &  1                                        &  0                                        & 0                                         & ...                                       & 0                                         &  3                                        & 0.0                                       &  37                                       & 12.11                                     &  7                                        &  6                                        &  16                                       &  16                                       & 50.0                                     \\\\\n",
       "\t Jack Ahcan\\textbackslash{}ahcanja01      & 23                                        & BOS                                       & D                                         &  3                                        & 0                                         & 0                                         &  0                                        & -3                                        & 0                                         & ...                                       & 0                                         &  5                                        & 0.0                                       &  62                                       & 20.38                                     &  5                                        &  2                                        &   0                                       &   0                                       &   NA                                     \\\\\n",
       "\\end{tabular}\n"
      ],
      "text/markdown": [
       "\n",
       "| Player | Age | Tm | Pos | GP | G | A | PTS | Plus_Minus | PIM | ... | SH_A | S | S. | TOI | ATOI | BLK | HIT | FOW | FOL | FO. |\n",
       "|---|---|---|---|---|---|---|---|---|---|---|---|---|---|---|---|---|---|---|---|---|\n",
       "| Vitaly Abramov\\abramvi01  | 22                         | OTT                        | RW                         |  2                         | 0                          | 0                          |  0                         |  0                         | 0                          | ...                        | 0                          |  0                         |  NA                        |  19                        |  9.43                      |  0                         |  0                         |   0                        |   0                        |   NA                       |\n",
       "| Noel Acciari\\acciano01    | 29                         | FLA                        | C                          | 41                         | 4                          | 7                          | 11                         |  0                         | 9                          | ...                        | 1                          | 68                         | 5.9                        | 631                        | 15.24                      | 63                         | 91                         | 272                        | 247                        | 52.4                       |\n",
       "| Calen Addison\\addisca01   | 20                         | MIN                        | D                          |  3                         | 0                          | 0                          |  0                         |  0                         | 0                          | ...                        | 0                          |  4                         | 0.0                        |  56                        | 18.31                      |  1                         |  2                         |   0                        |   0                        |   NA                       |\n",
       "| Kenny Agostino\\agostke01  | 28                         | TOR                        | LW                         |  1                         | 0                          | 0                          |  0                         |  0                         | 0                          | ...                        | 0                          |  0                         |  NA                        |   4                        |  4.08                      |  0                         |  0                         |   0                        |   0                        |   NA                       |\n",
       "| Andrew Agozzino\\agozzan01 | 30                         | ANA                        | LW                         |  3                         | 0                          | 1                          |  1                         |  0                         | 0                          | ...                        | 0                          |  3                         | 0.0                        |  37                        | 12.11                      |  7                         |  6                         |  16                        |  16                        | 50.0                       |\n",
       "| Jack Ahcan\\ahcanja01      | 23                         | BOS                        | D                          |  3                         | 0                          | 0                          |  0                         | -3                         | 0                          | ...                        | 0                          |  5                         | 0.0                        |  62                        | 20.38                      |  5                         |  2                         |   0                        |   0                        |   NA                       |\n",
       "\n"
      ],
      "text/plain": [
       "  Player                     Age Tm  Pos GP G A PTS Plus_Minus PIM ... SH_A S \n",
       "1 Vitaly Abramov\\\\abramvi01  22  OTT RW   2 0 0  0   0         0   ... 0     0\n",
       "2 Noel Acciari\\\\acciano01    29  FLA C   41 4 7 11   0         9   ... 1    68\n",
       "3 Calen Addison\\\\addisca01   20  MIN D    3 0 0  0   0         0   ... 0     4\n",
       "4 Kenny Agostino\\\\agostke01  28  TOR LW   1 0 0  0   0         0   ... 0     0\n",
       "5 Andrew Agozzino\\\\agozzan01 30  ANA LW   3 0 1  1   0         0   ... 0     3\n",
       "6 Jack Ahcan\\\\ahcanja01      23  BOS D    3 0 0  0  -3         0   ... 0     5\n",
       "  S.  TOI ATOI  BLK HIT FOW FOL FO. \n",
       "1  NA  19  9.43  0   0    0   0   NA\n",
       "2 5.9 631 15.24 63  91  272 247 52.4\n",
       "3 0.0  56 18.31  1   2    0   0   NA\n",
       "4  NA   4  4.08  0   0    0   0   NA\n",
       "5 0.0  37 12.11  7   6   16  16 50.0\n",
       "6 0.0  62 20.38  5   2    0   0   NA"
      ]
     },
     "metadata": {},
     "output_type": "display_data"
    }
   ],
   "source": [
    "#Import data and Metrics library\n",
    "library(Metrics)\n",
    "data <- read.csv(\"Assignment 3 Data - Format Fixes.csv\")\n",
    "head(data)"
   ]
  },
  {
   "cell_type": "code",
   "execution_count": 11,
   "id": "97858236",
   "metadata": {},
   "outputs": [
    {
     "data": {
      "image/png": "[encoded data removed]",
      "text/plain": [
       "Plot with title \"Scatterplot of Shots vs. Goals\""
      ]
     },
     "metadata": {},
     "output_type": "display_data"
    }
   ],
   "source": [
    "#Question 1 - Scatterplot of Shots and Goals w/ line of best fit\n",
    "plot(data$S, data$G, col=\"skyblue3\", pch=19, main=\"Scatterplot of Shots vs. Goals\")\n",
    "abline(lm(G~S, data=data))"
   ]
  },
  {
   "cell_type": "code",
   "execution_count": 12,
   "id": "03639378",
   "metadata": {},
   "outputs": [
    {
     "data": {
      "text/html": [
       "0.840571215895721"
      ],
      "text/latex": [
       "0.840571215895721"
      ],
      "text/markdown": [
       "0.840571215895721"
      ],
      "text/plain": [
       "[1] 0.8405712"
      ]
     },
     "metadata": {},
     "output_type": "display_data"
    }
   ],
   "source": [
    "#Question 1 - Correlation Coef\n",
    "cor(data$S, data$G)"
   ]
  },
  {
   "cell_type": "code",
   "execution_count": 13,
   "id": "62bdad2d",
   "metadata": {},
   "outputs": [
    {
     "data": {
      "text/html": [
       "<table>\n",
       "<thead><tr><th></th><th scope=col>GP</th><th scope=col>G</th><th scope=col>A</th><th scope=col>Plus_Minus</th><th scope=col>S</th><th scope=col>TOI</th></tr></thead>\n",
       "<tbody>\n",
       "\t<tr><th scope=row>GP</th><td>1.00000000</td><td>0.6390421 </td><td>0.7041412 </td><td>0.07438656</td><td>0.8318223 </td><td>0.9369698 </td></tr>\n",
       "\t<tr><th scope=row>G</th><td>0.63904210</td><td>1.0000000 </td><td>0.7413281 </td><td>0.21343833</td><td>0.8405712 </td><td>0.6271062 </td></tr>\n",
       "\t<tr><th scope=row>A</th><td>0.70414122</td><td>0.7413281 </td><td>1.0000000 </td><td>0.28344258</td><td>0.8415927 </td><td>0.7878359 </td></tr>\n",
       "\t<tr><th scope=row>Plus_Minus</th><td>0.07438656</td><td>0.2134383 </td><td>0.2834426 </td><td>1.00000000</td><td>0.1524369 </td><td>0.1257391 </td></tr>\n",
       "\t<tr><th scope=row>S</th><td>0.83182235</td><td>0.8405712 </td><td>0.8415927 </td><td>0.15243689</td><td>1.0000000 </td><td>0.8646437 </td></tr>\n",
       "\t<tr><th scope=row>TOI</th><td>0.93696985</td><td>0.6271062 </td><td>0.7878359 </td><td>0.12573914</td><td>0.8646437 </td><td>1.0000000 </td></tr>\n",
       "</tbody>\n",
       "</table>\n"
      ],
      "text/latex": [
       "\\begin{tabular}{r|llllll}\n",
       "  & GP & G & A & Plus\\_Minus & S & TOI\\\\\n",
       "\\hline\n",
       "\tGP & 1.00000000 & 0.6390421  & 0.7041412  & 0.07438656 & 0.8318223  & 0.9369698 \\\\\n",
       "\tG & 0.63904210 & 1.0000000  & 0.7413281  & 0.21343833 & 0.8405712  & 0.6271062 \\\\\n",
       "\tA & 0.70414122 & 0.7413281  & 1.0000000  & 0.28344258 & 0.8415927  & 0.7878359 \\\\\n",
       "\tPlus\\_Minus & 0.07438656 & 0.2134383  & 0.2834426  & 1.00000000 & 0.1524369  & 0.1257391 \\\\\n",
       "\tS & 0.83182235 & 0.8405712  & 0.8415927  & 0.15243689 & 1.0000000  & 0.8646437 \\\\\n",
       "\tTOI & 0.93696985 & 0.6271062  & 0.7878359  & 0.12573914 & 0.8646437  & 1.0000000 \\\\\n",
       "\\end{tabular}\n"
      ],
      "text/markdown": [
       "\n",
       "| <!--/--> | GP | G | A | Plus_Minus | S | TOI |\n",
       "|---|---|---|---|---|---|---|\n",
       "| GP | 1.00000000 | 0.6390421  | 0.7041412  | 0.07438656 | 0.8318223  | 0.9369698  |\n",
       "| G | 0.63904210 | 1.0000000  | 0.7413281  | 0.21343833 | 0.8405712  | 0.6271062  |\n",
       "| A | 0.70414122 | 0.7413281  | 1.0000000  | 0.28344258 | 0.8415927  | 0.7878359  |\n",
       "| Plus_Minus | 0.07438656 | 0.2134383  | 0.2834426  | 1.00000000 | 0.1524369  | 0.1257391  |\n",
       "| S | 0.83182235 | 0.8405712  | 0.8415927  | 0.15243689 | 1.0000000  | 0.8646437  |\n",
       "| TOI | 0.93696985 | 0.6271062  | 0.7878359  | 0.12573914 | 0.8646437  | 1.0000000  |\n",
       "\n"
      ],
      "text/plain": [
       "           GP         G         A         Plus_Minus S         TOI      \n",
       "GP         1.00000000 0.6390421 0.7041412 0.07438656 0.8318223 0.9369698\n",
       "G          0.63904210 1.0000000 0.7413281 0.21343833 0.8405712 0.6271062\n",
       "A          0.70414122 0.7413281 1.0000000 0.28344258 0.8415927 0.7878359\n",
       "Plus_Minus 0.07438656 0.2134383 0.2834426 1.00000000 0.1524369 0.1257391\n",
       "S          0.83182235 0.8405712 0.8415927 0.15243689 1.0000000 0.8646437\n",
       "TOI        0.93696985 0.6271062 0.7878359 0.12573914 0.8646437 1.0000000"
      ]
     },
     "metadata": {},
     "output_type": "display_data"
    }
   ],
   "source": [
    "#Question 2 - Correlation Matrix\n",
    "#Correlation Matrix\n",
    "new_df <- data[, c(\"GP\", \"G\", \"A\", \"Plus_Minus\", \"S\", \"TOI\")]\n",
    "cor(new_df)"
   ]
  },
  {
   "cell_type": "code",
   "execution_count": null,
   "id": "d4ca4449",
   "metadata": {},
   "outputs": [],
   "source": [
    "#Question 2 - Written Response\n",
    "\n",
    "#Here, I am looking for students to say that Shots would be the best variable for a simple linear regression because it is\n",
    "#most correlation with goals"
   ]
  },
  {
   "cell_type": "code",
   "execution_count": 14,
   "id": "d2df6f55",
   "metadata": {},
   "outputs": [],
   "source": [
    "#Train/test split step (not for marks)\n",
    "\n",
    "#Set seed\n",
    "set.seed(0)\n",
    "\n",
    "#Set sample size for training set (80% of data)\n",
    "sample_size=round(nrow(data)*0.8)\n",
    "index <- sample(seq_len(nrow(data)), size=sample_size)\n",
    "\n",
    "#Split data by index\n",
    "train <- data[index, ]\n",
    "test <- data[-index, ]"
   ]
  },
  {
   "cell_type": "code",
   "execution_count": 15,
   "id": "d670d032",
   "metadata": {},
   "outputs": [
    {
     "data": {
      "text/plain": [
       "\n",
       "Call:\n",
       "lm(formula = G ~ S, data = train)\n",
       "\n",
       "Residuals:\n",
       "     Min       1Q   Median       3Q      Max \n",
       "-10.3098  -1.8847   0.3437   1.2758  16.4812 \n",
       "\n",
       "Coefficients:\n",
       "             Estimate Std. Error t value Pr(>|t|)    \n",
       "(Intercept) -1.126786   0.183334  -6.146 1.24e-09 ***\n",
       "S            0.115521   0.002621  44.068  < 2e-16 ***\n",
       "---\n",
       "Signif. codes:  0 '***' 0.001 '**' 0.01 '*' 0.05 '.' 0.1 ' ' 1\n",
       "\n",
       "Residual standard error: 3.409 on 822 degrees of freedom\n",
       "Multiple R-squared:  0.7026,\tAdjusted R-squared:  0.7022 \n",
       "F-statistic:  1942 on 1 and 822 DF,  p-value: < 2.2e-16\n"
      ]
     },
     "metadata": {},
     "output_type": "display_data"
    }
   ],
   "source": [
    "#Question 4 - Shots Model\n",
    "model_1 <- lm(G~S, data=train)\n",
    "summary(model_1)"
   ]
  },
  {
   "cell_type": "code",
   "execution_count": 30,
   "id": "98c8ff48",
   "metadata": {},
   "outputs": [
    {
     "data": {
      "text/html": [
       "<dl class=dl-horizontal>\n",
       "\t<dt>1</dt>\n",
       "\t\t<dd>-1.12678614576431</dd>\n",
       "\t<dt>2</dt>\n",
       "\t\t<dd>4.88028733260086</dd>\n",
       "\t<dt>3</dt>\n",
       "\t\t<dd>1.06810608671527</dd>\n",
       "\t<dt>4</dt>\n",
       "\t\t<dd>6.03549377074801</dd>\n",
       "\t<dt>5</dt>\n",
       "\t\t<dd>17.1254755769606</dd>\n",
       "\t<dt>6</dt>\n",
       "\t\t<dd>7.76830342796873</dd>\n",
       "</dl>\n"
      ],
      "text/latex": [
       "\\begin{description*}\n",
       "\\item[1] -1.12678614576431\n",
       "\\item[2] 4.88028733260086\n",
       "\\item[3] 1.06810608671527\n",
       "\\item[4] 6.03549377074801\n",
       "\\item[5] 17.1254755769606\n",
       "\\item[6] 7.76830342796873\n",
       "\\end{description*}\n"
      ],
      "text/markdown": [
       "1\n",
       ":   -1.126786145764312\n",
       ":   4.880287332600863\n",
       ":   1.068106086715274\n",
       ":   6.035493770748015\n",
       ":   17.12547557696066\n",
       ":   7.76830342796873\n",
       "\n"
      ],
      "text/plain": [
       "        1         2         3         4         5         6 \n",
       "-1.126786  4.880287  1.068106  6.035494 17.125476  7.768303 "
      ]
     },
     "metadata": {},
     "output_type": "display_data"
    }
   ],
   "source": [
    "#Question 4B\n",
    "#Make predictions using predict function\n",
    "preds_1 <- predict(model_1, data.frame(S=test[ , \"S\"]))\n",
    "head(preds_1)"
   ]
  },
  {
   "cell_type": "code",
   "execution_count": 27,
   "id": "93ea7368",
   "metadata": {},
   "outputs": [
    {
     "data": {
      "text/html": [
       "2.22558636394783"
      ],
      "text/latex": [
       "2.22558636394783"
      ],
      "text/markdown": [
       "2.22558636394783"
      ],
      "text/plain": [
       "[1] 2.225586"
      ]
     },
     "metadata": {},
     "output_type": "display_data"
    },
    {
     "data": {
      "text/html": [
       "10.1377072731931"
      ],
      "text/latex": [
       "10.1377072731931"
      ],
      "text/markdown": [
       "10.1377072731931"
      ],
      "text/plain": [
       "[1] 10.13771"
      ]
     },
     "metadata": {},
     "output_type": "display_data"
    },
    {
     "data": {
      "text/html": [
       "3.18397664457407"
      ],
      "text/latex": [
       "3.18397664457407"
      ],
      "text/markdown": [
       "3.18397664457407"
      ],
      "text/plain": [
       "[1] 3.183977"
      ]
     },
     "metadata": {},
     "output_type": "display_data"
    }
   ],
   "source": [
    "#Question 4B\n",
    "#Calculate mae, mse, and rmse\n",
    "mae(test$G, preds_1)\n",
    "mse(test$G, preds_1)\n",
    "rmse(test$G, preds_1)"
   ]
  },
  {
   "cell_type": "code",
   "execution_count": 28,
   "id": "d1fab8f5",
   "metadata": {},
   "outputs": [
    {
     "data": {
      "text/plain": [
       "\n",
       "Call:\n",
       "lm(formula = G ~ S + GP, data = train)\n",
       "\n",
       "Residuals:\n",
       "    Min      1Q  Median      3Q     Max \n",
       "-10.819  -1.437  -0.052   1.393  13.830 \n",
       "\n",
       "Coefficients:\n",
       "             Estimate Std. Error t value Pr(>|t|)    \n",
       "(Intercept) -0.062787   0.225069  -0.279     0.78    \n",
       "S            0.144792   0.004582  31.602  < 2e-16 ***\n",
       "GP          -0.080965   0.010559  -7.668 4.93e-14 ***\n",
       "---\n",
       "Signif. codes:  0 '***' 0.001 '**' 0.01 '*' 0.05 '.' 0.1 ' ' 1\n",
       "\n",
       "Residual standard error: 3.295 on 821 degrees of freedom\n",
       "Multiple R-squared:  0.7225,\tAdjusted R-squared:  0.7218 \n",
       "F-statistic:  1069 on 2 and 821 DF,  p-value: < 2.2e-16\n"
      ]
     },
     "metadata": {},
     "output_type": "display_data"
    }
   ],
   "source": [
    "#Question 5 - Shots and GP Model\n",
    "model_2 <- lm(G~S+GP, data=train)\n",
    "summary(model_2)"
   ]
  },
  {
   "cell_type": "code",
   "execution_count": 31,
   "id": "1b0347f6",
   "metadata": {},
   "outputs": [
    {
     "data": {
      "text/html": [
       "<dl class=dl-horizontal>\n",
       "\t<dt>1</dt>\n",
       "\t\t<dd>-0.143752018102566</dd>\n",
       "\t<dt>2</dt>\n",
       "\t\t<dd>3.0942635666853</dd>\n",
       "\t<dt>3</dt>\n",
       "\t\t<dd>1.14991801818921</dd>\n",
       "\t<dt>4</dt>\n",
       "\t\t<dd>4.70411434873079</dd>\n",
       "\t<dt>5</dt>\n",
       "\t\t<dd>18.2802837999182</dd>\n",
       "\t<dt>6</dt>\n",
       "\t\t<dd>6.71406335446081</dd>\n",
       "</dl>\n"
      ],
      "text/latex": [
       "\\begin{description*}\n",
       "\\item[1] -0.143752018102566\n",
       "\\item[2] 3.0942635666853\n",
       "\\item[3] 1.14991801818921\n",
       "\\item[4] 4.70411434873079\n",
       "\\item[5] 18.2802837999182\n",
       "\\item[6] 6.71406335446081\n",
       "\\end{description*}\n"
      ],
      "text/markdown": [
       "1\n",
       ":   -0.1437520181025662\n",
       ":   3.09426356668533\n",
       ":   1.149918018189214\n",
       ":   4.704114348730795\n",
       ":   18.28028379991826\n",
       ":   6.71406335446081\n",
       "\n"
      ],
      "text/plain": [
       "        1         2         3         4         5         6 \n",
       "-0.143752  3.094264  1.149918  4.704114 18.280284  6.714063 "
      ]
     },
     "metadata": {},
     "output_type": "display_data"
    }
   ],
   "source": [
    "#Question 5 - Shots and GP Model\n",
    "#Make predictions using predict function\n",
    "preds_2 <- predict(model_2, data.frame(S=test[ , \"S\"], GP=test[, \"GP\"]))\n",
    "head(preds_2)"
   ]
  },
  {
   "cell_type": "code",
   "execution_count": 32,
   "id": "dadaba2d",
   "metadata": {},
   "outputs": [
    {
     "data": {
      "text/html": [
       "2.23531657571126"
      ],
      "text/latex": [
       "2.23531657571126"
      ],
      "text/markdown": [
       "2.23531657571126"
      ],
      "text/plain": [
       "[1] 2.235317"
      ]
     },
     "metadata": {},
     "output_type": "display_data"
    },
    {
     "data": {
      "text/html": [
       "11.2010107303238"
      ],
      "text/latex": [
       "11.2010107303238"
      ],
      "text/markdown": [
       "11.2010107303238"
      ],
      "text/plain": [
       "[1] 11.20101"
      ]
     },
     "metadata": {},
     "output_type": "display_data"
    },
    {
     "data": {
      "text/html": [
       "3.34679110945451"
      ],
      "text/latex": [
       "3.34679110945451"
      ],
      "text/markdown": [
       "3.34679110945451"
      ],
      "text/plain": [
       "[1] 3.346791"
      ]
     },
     "metadata": {},
     "output_type": "display_data"
    }
   ],
   "source": [
    "#Question 5 - Shots and GP Model\n",
    "#Calculate mae, mse, and rmse\n",
    "mae(test$G, preds_2)\n",
    "mse(test$G, preds_2)\n",
    "rmse(test$G, preds_2)"
   ]
  },
  {
   "cell_type": "code",
   "execution_count": 34,
   "id": "2da185f7",
   "metadata": {},
   "outputs": [
    {
     "data": {
      "text/plain": [
       "\n",
       "Call:\n",
       "lm(formula = G ~ S + TOI, data = train)\n",
       "\n",
       "Residuals:\n",
       "    Min      1Q  Median      3Q     Max \n",
       "-12.597  -1.470  -0.061   1.230  13.719 \n",
       "\n",
       "Coefficients:\n",
       "              Estimate Std. Error t value Pr(>|t|)    \n",
       "(Intercept) -0.0724004  0.1854700   -0.39    0.696    \n",
       "S            0.1688043  0.0047297   35.69   <2e-16 ***\n",
       "TOI         -0.0073138  0.0005605  -13.05   <2e-16 ***\n",
       "---\n",
       "Signif. codes:  0 '***' 0.001 '**' 0.01 '*' 0.05 '.' 0.1 ' ' 1\n",
       "\n",
       "Residual standard error: 3.104 on 821 degrees of freedom\n",
       "Multiple R-squared:  0.7537,\tAdjusted R-squared:  0.7531 \n",
       "F-statistic:  1256 on 2 and 821 DF,  p-value: < 2.2e-16\n"
      ]
     },
     "metadata": {},
     "output_type": "display_data"
    }
   ],
   "source": [
    "#Question 5 - Shots and TOI Model\n",
    "model_3 <- lm(G~S+TOI, data=train)\n",
    "summary(model_3)"
   ]
  },
  {
   "cell_type": "code",
   "execution_count": 35,
   "id": "43a1faad",
   "metadata": {},
   "outputs": [
    {
     "data": {
      "text/html": [
       "<dl class=dl-horizontal>\n",
       "\t<dt>1</dt>\n",
       "\t\t<dd>-0.101655758803555</dd>\n",
       "\t<dt>2</dt>\n",
       "\t\t<dd>0.338389394218497</dd>\n",
       "\t<dt>3</dt>\n",
       "\t\t<dd>2.02317706295856</dd>\n",
       "\t<dt>4</dt>\n",
       "\t\t<dd>5.24452122064847</dd>\n",
       "\t<dt>5</dt>\n",
       "\t\t<dd>18.8460037971372</dd>\n",
       "\t<dt>6</dt>\n",
       "\t\t<dd>6.01394995495013</dd>\n",
       "</dl>\n"
      ],
      "text/latex": [
       "\\begin{description*}\n",
       "\\item[1] -0.101655758803555\n",
       "\\item[2] 0.338389394218497\n",
       "\\item[3] 2.02317706295856\n",
       "\\item[4] 5.24452122064847\n",
       "\\item[5] 18.8460037971372\n",
       "\\item[6] 6.01394995495013\n",
       "\\end{description*}\n"
      ],
      "text/markdown": [
       "1\n",
       ":   -0.1016557588035552\n",
       ":   0.3383893942184973\n",
       ":   2.023177062958564\n",
       ":   5.244521220648475\n",
       ":   18.84600379713726\n",
       ":   6.01394995495013\n",
       "\n"
      ],
      "text/plain": [
       "         1          2          3          4          5          6 \n",
       "-0.1016558  0.3383894  2.0231771  5.2445212 18.8460038  6.0139500 "
      ]
     },
     "metadata": {},
     "output_type": "display_data"
    }
   ],
   "source": [
    "#Question 5 - Shots and TOI Model\n",
    "#Make predictions using predict function\n",
    "preds_3 <- predict(model_3, data.frame(S=test[ , \"S\"], TOI=test[, \"TOI\"]))\n",
    "head(preds_3)"
   ]
  },
  {
   "cell_type": "code",
   "execution_count": 36,
   "id": "bc3adc9c",
   "metadata": {},
   "outputs": [
    {
     "data": {
      "text/html": [
       "2.13984523247891"
      ],
      "text/latex": [
       "2.13984523247891"
      ],
      "text/markdown": [
       "2.13984523247891"
      ],
      "text/plain": [
       "[1] 2.139845"
      ]
     },
     "metadata": {},
     "output_type": "display_data"
    },
    {
     "data": {
      "text/html": [
       "10.6879957779063"
      ],
      "text/latex": [
       "10.6879957779063"
      ],
      "text/markdown": [
       "10.6879957779063"
      ],
      "text/plain": [
       "[1] 10.688"
      ]
     },
     "metadata": {},
     "output_type": "display_data"
    },
    {
     "data": {
      "text/html": [
       "3.2692500329443"
      ],
      "text/latex": [
       "3.2692500329443"
      ],
      "text/markdown": [
       "3.2692500329443"
      ],
      "text/plain": [
       "[1] 3.26925"
      ]
     },
     "metadata": {},
     "output_type": "display_data"
    }
   ],
   "source": [
    "#Question 5 - Shots and TOI Model\n",
    "#Calculate mae, mse, and rmse\n",
    "mae(test$G, preds_3)\n",
    "mse(test$G, preds_3)\n",
    "rmse(test$G, preds_3)"
   ]
  },
  {
   "cell_type": "code",
   "execution_count": 38,
   "id": "fb1c92d0",
   "metadata": {},
   "outputs": [],
   "source": [
    "#Question 5 - Shots and is_defence Model\n",
    "\n",
    "#Create new variable called is_d in both training and test set\n",
    "train$is_defence <- ifelse(train$Pos==\"D\", 1, 0)\n",
    "test$is_defence <- ifelse(test$Pos==\"D\", 1, 0)"
   ]
  },
  {
   "cell_type": "code",
   "execution_count": 39,
   "id": "7f70497f",
   "metadata": {},
   "outputs": [
    {
     "data": {
      "text/plain": [
       "\n",
       "Call:\n",
       "lm(formula = G ~ S + is_defence, data = train)\n",
       "\n",
       "Residuals:\n",
       "   Min     1Q Median     3Q    Max \n",
       "-8.054 -1.738 -0.358  1.957 16.132 \n",
       "\n",
       "Coefficients:\n",
       "             Estimate Std. Error t value Pr(>|t|)    \n",
       "(Intercept)  0.324892   0.189235   1.717   0.0864 .  \n",
       "S            0.110556   0.002348  47.088   <2e-16 ***\n",
       "is_defence  -3.327284   0.222042 -14.985   <2e-16 ***\n",
       "---\n",
       "Signif. codes:  0 '***' 0.001 '**' 0.01 '*' 0.05 '.' 0.1 ' ' 1\n",
       "\n",
       "Residual standard error: 3.023 on 821 degrees of freedom\n",
       "Multiple R-squared:  0.7665,\tAdjusted R-squared:  0.7659 \n",
       "F-statistic:  1347 on 2 and 821 DF,  p-value: < 2.2e-16\n"
      ]
     },
     "metadata": {},
     "output_type": "display_data"
    }
   ],
   "source": [
    "model_4 <- lm(G~S+is_defence, data=train)\n",
    "summary(model_4)"
   ]
  },
  {
   "cell_type": "code",
   "execution_count": 40,
   "id": "991860f2",
   "metadata": {},
   "outputs": [
    {
     "data": {
      "text/html": [
       "<dl class=dl-horizontal>\n",
       "\t<dt>1</dt>\n",
       "\t\t<dd>0.324891889841873</dd>\n",
       "\t<dt>2</dt>\n",
       "\t\t<dd>2.74650980191682</dd>\n",
       "\t<dt>3</dt>\n",
       "\t\t<dd>2.42545229650266</dd>\n",
       "\t<dt>4</dt>\n",
       "\t\t<dd>7.17935216420864</dd>\n",
       "\t<dt>5</dt>\n",
       "\t\t<dd>17.7927100083894</dd>\n",
       "\t<dt>6</dt>\n",
       "\t\t<dd>8.83768932736189</dd>\n",
       "</dl>\n"
      ],
      "text/latex": [
       "\\begin{description*}\n",
       "\\item[1] 0.324891889841873\n",
       "\\item[2] 2.74650980191682\n",
       "\\item[3] 2.42545229650266\n",
       "\\item[4] 7.17935216420864\n",
       "\\item[5] 17.7927100083894\n",
       "\\item[6] 8.83768932736189\n",
       "\\end{description*}\n"
      ],
      "text/markdown": [
       "1\n",
       ":   0.3248918898418732\n",
       ":   2.746509801916823\n",
       ":   2.425452296502664\n",
       ":   7.179352164208645\n",
       ":   17.79271000838946\n",
       ":   8.83768932736189\n",
       "\n"
      ],
      "text/plain": [
       "         1          2          3          4          5          6 \n",
       " 0.3248919  2.7465098  2.4254523  7.1793522 17.7927100  8.8376893 "
      ]
     },
     "metadata": {},
     "output_type": "display_data"
    }
   ],
   "source": [
    "#Question 5 - Shots and is_defence Model\n",
    "#Make predictions using predict function\n",
    "preds_4 <- predict(model_4, data.frame(S=test[ , \"S\"], is_defence=test[, \"is_defence\"]))\n",
    "head(preds_4)"
   ]
  },
  {
   "cell_type": "code",
   "execution_count": 41,
   "id": "351b187a",
   "metadata": {},
   "outputs": [
    {
     "data": {
      "text/html": [
       "2.0465541990586"
      ],
      "text/latex": [
       "2.0465541990586"
      ],
      "text/markdown": [
       "2.0465541990586"
      ],
      "text/plain": [
       "[1] 2.046554"
      ]
     },
     "metadata": {},
     "output_type": "display_data"
    },
    {
     "data": {
      "text/html": [
       "7.4943044953084"
      ],
      "text/latex": [
       "7.4943044953084"
      ],
      "text/markdown": [
       "7.4943044953084"
      ],
      "text/plain": [
       "[1] 7.494304"
      ]
     },
     "metadata": {},
     "output_type": "display_data"
    },
    {
     "data": {
      "text/html": [
       "2.73757273790276"
      ],
      "text/latex": [
       "2.73757273790276"
      ],
      "text/markdown": [
       "2.73757273790276"
      ],
      "text/plain": [
       "[1] 2.737573"
      ]
     },
     "metadata": {},
     "output_type": "display_data"
    }
   ],
   "source": [
    "#Question 5 - Shots and is_defence Model\n",
    "#Calculate mae, mse, and rmse\n",
    "mae(test$G, preds_4)\n",
    "mse(test$G, preds_4)\n",
    "rmse(test$G, preds_4)"
   ]
  },
  {
   "cell_type": "code",
   "execution_count": 42,
   "id": "f25e852e",
   "metadata": {},
   "outputs": [],
   "source": [
    "#Question 6\n",
    "\n",
    "#See solutions document for summary of R2, MAE, MSE, and RMSE"
   ]
  },
  {
   "cell_type": "code",
   "execution_count": 43,
   "id": "40e287bb",
   "metadata": {},
   "outputs": [],
   "source": [
    "#Question 7 - Theory\n",
    "\n",
    "#A) Students should see that all model metrics for the \"Shots + Is_Defence\" model are best. It has the highest R2 and lowest\n",
    "#MAE, MSE, and RMSE, so it's the best model.\n",
    "\n",
    "#B) The regression equation for this model is: G = 0.324892 + 0.110556*S -3.327284*is_defence. The interpretation is as follows:\n",
    "\n",
    "# For every 1 unit increase in shots, players are expected to score approximately 0.11 more goals, all else being equal\n",
    "# On average, defencemen are expected to score approximately 3.3 goal less than forwards, holding shots constant\n",
    "\n",
    "# Similar interpretations will be accepted for other models, though students will not get full marks because they chose the\n",
    "# wrong model"
   ]
  },
  {
   "cell_type": "code",
   "execution_count": 75,
   "id": "70153eb8",
   "metadata": {},
   "outputs": [
    {
     "data": {
      "text/html": [
       "<strong>$coefficients</strong> = <table>\n",
       "<thead><tr><th></th><th scope=col>Estimate</th><th scope=col>Std. Error</th><th scope=col>t value</th><th scope=col>Pr(&gt;|t|)</th></tr></thead>\n",
       "<tbody>\n",
       "\t<tr><th scope=row>(Intercept)</th><td>-1.1267861   </td><td>0.183333684  </td><td>-6.146094    </td><td> 1.237187e-09</td></tr>\n",
       "\t<tr><th scope=row>S</th><td> 0.1155206   </td><td>0.002621434  </td><td>44.067726    </td><td>1.156840e-218</td></tr>\n",
       "</tbody>\n",
       "</table>\n"
      ],
      "text/latex": [
       "\\textbf{\\$coefficients} = \\begin{tabular}{r|llll}\n",
       "  & Estimate & Std. Error & t value & Pr(>\\textbar{}t\\textbar{})\\\\\n",
       "\\hline\n",
       "\t(Intercept) & -1.1267861    & 0.183333684   & -6.146094     &  1.237187e-09\\\\\n",
       "\tS &  0.1155206    & 0.002621434   & 44.067726     & 1.156840e-218\\\\\n",
       "\\end{tabular}\n"
      ],
      "text/markdown": [
       "**$coefficients** = \n",
       "| <!--/--> | Estimate | Std. Error | t value | Pr(>|t|) |\n",
       "|---|---|---|---|---|\n",
       "| (Intercept) | -1.1267861    | 0.183333684   | -6.146094     |  1.237187e-09 |\n",
       "| S |  0.1155206    | 0.002621434   | 44.067726     | 1.156840e-218 |\n",
       "\n"
      ],
      "text/plain": [
       "$coefficients\n",
       "              Estimate  Std. Error   t value      Pr(>|t|)\n",
       "(Intercept) -1.1267861 0.183333684 -6.146094  1.237187e-09\n",
       "S            0.1155206 0.002621434 44.067726 1.156840e-218\n"
      ]
     },
     "metadata": {},
     "output_type": "display_data"
    }
   ],
   "source": [
    "#Question 7 - 95% Confidence Intervals for Coefficient Estimates\n",
    "\n",
    "#Model 1 Coefficients\n",
    "coef_1 <- summary(model_1)[4]\n",
    "coef_1"
   ]
  },
  {
   "cell_type": "code",
   "execution_count": 85,
   "id": "6878c45c",
   "metadata": {},
   "outputs": [
    {
     "name": "stdout",
     "output_type": "stream",
     "text": [
      "[1] \"-1.48612012064 -0.76745207936\"\n"
     ]
    }
   ],
   "source": [
    "#Intercept\n",
    "lb_int_1 <- -1.1267861 - 1.96*0.183333684\n",
    "ub_int_1 <- -1.1267861 + 1.96*0.183333684\n",
    "print(paste(lb_int_1, ub_int_1))"
   ]
  },
  {
   "cell_type": "code",
   "execution_count": 87,
   "id": "b7f1a8a0",
   "metadata": {},
   "outputs": [
    {
     "name": "stdout",
     "output_type": "stream",
     "text": [
      "[1] \"0.11038258936 0.12065861064\"\n"
     ]
    }
   ],
   "source": [
    "#Shots\n",
    "lb_shots_1 <- 0.1155206 - 1.96*0.002621434\n",
    "ub_shots_1 <- 0.1155206 + 1.96*0.002621434\n",
    "print(paste(lb_shots_1, ub_shots_1))"
   ]
  },
  {
   "cell_type": "code",
   "execution_count": 88,
   "id": "325a8c4a",
   "metadata": {},
   "outputs": [
    {
     "data": {
      "text/html": [
       "<strong>$coefficients</strong> = <table>\n",
       "<thead><tr><th></th><th scope=col>Estimate</th><th scope=col>Std. Error</th><th scope=col>t value</th><th scope=col>Pr(&gt;|t|)</th></tr></thead>\n",
       "<tbody>\n",
       "\t<tr><th scope=row>(Intercept)</th><td>-0.06278658  </td><td>0.225068638  </td><td>-0.2789664   </td><td> 7.803409e-01</td></tr>\n",
       "\t<tr><th scope=row>S</th><td> 0.14479199  </td><td>0.004581672  </td><td>31.6024328   </td><td>4.798292e-144</td></tr>\n",
       "\t<tr><th scope=row>GP</th><td>-0.08096543  </td><td>0.010558585  </td><td>-7.6682085   </td><td> 4.931948e-14</td></tr>\n",
       "</tbody>\n",
       "</table>\n"
      ],
      "text/latex": [
       "\\textbf{\\$coefficients} = \\begin{tabular}{r|llll}\n",
       "  & Estimate & Std. Error & t value & Pr(>\\textbar{}t\\textbar{})\\\\\n",
       "\\hline\n",
       "\t(Intercept) & -0.06278658   & 0.225068638   & -0.2789664    &  7.803409e-01\\\\\n",
       "\tS &  0.14479199   & 0.004581672   & 31.6024328    & 4.798292e-144\\\\\n",
       "\tGP & -0.08096543   & 0.010558585   & -7.6682085    &  4.931948e-14\\\\\n",
       "\\end{tabular}\n"
      ],
      "text/markdown": [
       "**$coefficients** = \n",
       "| <!--/--> | Estimate | Std. Error | t value | Pr(>|t|) |\n",
       "|---|---|---|---|---|\n",
       "| (Intercept) | -0.06278658   | 0.225068638   | -0.2789664    |  7.803409e-01 |\n",
       "| S |  0.14479199   | 0.004581672   | 31.6024328    | 4.798292e-144 |\n",
       "| GP | -0.08096543   | 0.010558585   | -7.6682085    |  4.931948e-14 |\n",
       "\n"
      ],
      "text/plain": [
       "$coefficients\n",
       "               Estimate  Std. Error    t value      Pr(>|t|)\n",
       "(Intercept) -0.06278658 0.225068638 -0.2789664  7.803409e-01\n",
       "S            0.14479199 0.004581672 31.6024328 4.798292e-144\n",
       "GP          -0.08096543 0.010558585 -7.6682085  4.931948e-14\n"
      ]
     },
     "metadata": {},
     "output_type": "display_data"
    }
   ],
   "source": [
    "#Model 2 Coefficients\n",
    "coef_2 <- summary(model_2)[4]\n",
    "coef_2"
   ]
  },
  {
   "cell_type": "code",
   "execution_count": 89,
   "id": "79cbf5e0",
   "metadata": {},
   "outputs": [
    {
     "name": "stdout",
     "output_type": "stream",
     "text": [
      "[1] \"-0.50392111048 0.37834795048\"\n"
     ]
    }
   ],
   "source": [
    "#Intercept\n",
    "lb_int_2 <- -0.06278658 - 1.96*0.225068638\n",
    "ub_int_2 <- -0.06278658 + 1.96*0.225068638\n",
    "print(paste(lb_int_2, ub_int_2))"
   ]
  },
  {
   "cell_type": "code",
   "execution_count": 90,
   "id": "bfa68ddb",
   "metadata": {},
   "outputs": [
    {
     "name": "stdout",
     "output_type": "stream",
     "text": [
      "[1] \"0.13581191288 0.15377206712\"\n"
     ]
    }
   ],
   "source": [
    "#Shots\n",
    "lb_shots_2 <- 0.14479199 - 1.96*0.004581672\n",
    "ub_shots_2 <- 0.14479199 + 1.96*0.004581672\n",
    "print(paste(lb_shots_2, ub_shots_2))"
   ]
  },
  {
   "cell_type": "code",
   "execution_count": 91,
   "id": "c59b1ed9",
   "metadata": {},
   "outputs": [
    {
     "name": "stdout",
     "output_type": "stream",
     "text": [
      "[1] \"-0.1016602566 -0.0602706034\"\n"
     ]
    }
   ],
   "source": [
    "#Games Played\n",
    "lb_gp_2 <- -0.08096543 - 1.96*0.010558585\n",
    "ub_gp_2 <- -0.08096543 + 1.96*0.010558585\n",
    "print(paste(lb_gp_2, ub_gp_2))"
   ]
  },
  {
   "cell_type": "code",
   "execution_count": 92,
   "id": "e3fa94ee",
   "metadata": {},
   "outputs": [
    {
     "data": {
      "text/html": [
       "<strong>$coefficients</strong> = <table>\n",
       "<thead><tr><th></th><th scope=col>Estimate</th><th scope=col>Std. Error</th><th scope=col>t value</th><th scope=col>Pr(&gt;|t|)</th></tr></thead>\n",
       "<tbody>\n",
       "\t<tr><th scope=row>(Intercept)</th><td>-0.072400403 </td><td>0.1854699782 </td><td> -0.3903618  </td><td> 6.963703e-01</td></tr>\n",
       "\t<tr><th scope=row>S</th><td> 0.168804263 </td><td>0.0047296856 </td><td> 35.6903772  </td><td>3.638334e-169</td></tr>\n",
       "\t<tr><th scope=row>TOI</th><td>-0.007313839 </td><td>0.0005604548 </td><td>-13.0498276  </td><td> 1.662092e-35</td></tr>\n",
       "</tbody>\n",
       "</table>\n"
      ],
      "text/latex": [
       "\\textbf{\\$coefficients} = \\begin{tabular}{r|llll}\n",
       "  & Estimate & Std. Error & t value & Pr(>\\textbar{}t\\textbar{})\\\\\n",
       "\\hline\n",
       "\t(Intercept) & -0.072400403  & 0.1854699782  &  -0.3903618   &  6.963703e-01\\\\\n",
       "\tS &  0.168804263  & 0.0047296856  &  35.6903772   & 3.638334e-169\\\\\n",
       "\tTOI & -0.007313839  & 0.0005604548  & -13.0498276   &  1.662092e-35\\\\\n",
       "\\end{tabular}\n"
      ],
      "text/markdown": [
       "**$coefficients** = \n",
       "| <!--/--> | Estimate | Std. Error | t value | Pr(>|t|) |\n",
       "|---|---|---|---|---|\n",
       "| (Intercept) | -0.072400403  | 0.1854699782  |  -0.3903618   |  6.963703e-01 |\n",
       "| S |  0.168804263  | 0.0047296856  |  35.6903772   | 3.638334e-169 |\n",
       "| TOI | -0.007313839  | 0.0005604548  | -13.0498276   |  1.662092e-35 |\n",
       "\n"
      ],
      "text/plain": [
       "$coefficients\n",
       "                Estimate   Std. Error     t value      Pr(>|t|)\n",
       "(Intercept) -0.072400403 0.1854699782  -0.3903618  6.963703e-01\n",
       "S            0.168804263 0.0047296856  35.6903772 3.638334e-169\n",
       "TOI         -0.007313839 0.0005604548 -13.0498276  1.662092e-35\n"
      ]
     },
     "metadata": {},
     "output_type": "display_data"
    }
   ],
   "source": [
    "#Model 3 Coefficients\n",
    "coef_3 <- summary(model_3)[4]\n",
    "coef_3"
   ]
  },
  {
   "cell_type": "code",
   "execution_count": 93,
   "id": "74bbbcd2",
   "metadata": {},
   "outputs": [
    {
     "name": "stdout",
     "output_type": "stream",
     "text": [
      "[1] \"-0.435921560272 0.291120754272\"\n"
     ]
    }
   ],
   "source": [
    "#Intercept\n",
    "lb_int_3 <- -0.072400403 - 1.96*0.1854699782\n",
    "ub_int_3 <- -0.072400403 + 1.96*0.1854699782\n",
    "print(paste(lb_int_3, ub_int_3))"
   ]
  },
  {
   "cell_type": "code",
   "execution_count": 94,
   "id": "4d1981b9",
   "metadata": {},
   "outputs": [
    {
     "name": "stdout",
     "output_type": "stream",
     "text": [
      "[1] \"0.159534079224 0.178074446776\"\n"
     ]
    }
   ],
   "source": [
    "#Shots\n",
    "lb_shots_3 <- 0.168804263 - 1.96*0.0047296856\n",
    "ub_shots_3 <- 0.168804263 + 1.96*0.0047296856\n",
    "print(paste(lb_shots_3, ub_shots_3))"
   ]
  },
  {
   "cell_type": "code",
   "execution_count": 95,
   "id": "27538153",
   "metadata": {},
   "outputs": [
    {
     "name": "stdout",
     "output_type": "stream",
     "text": [
      "[1] \"-0.008412330408 -0.006215347592\"\n"
     ]
    }
   ],
   "source": [
    "#TOI\n",
    "lb_toi_3 <- -0.007313839 - 1.96*0.0005604548\n",
    "ub_toi_3 <- -0.007313839 + 1.96*0.0005604548\n",
    "print(paste(lb_toi_3, ub_toi_3))"
   ]
  },
  {
   "cell_type": "code",
   "execution_count": 97,
   "id": "c67c7f7d",
   "metadata": {},
   "outputs": [
    {
     "data": {
      "text/html": [
       "<strong>$coefficients</strong> = <table>\n",
       "<thead><tr><th></th><th scope=col>Estimate</th><th scope=col>Std. Error</th><th scope=col>t value</th><th scope=col>Pr(&gt;|t|)</th></tr></thead>\n",
       "<tbody>\n",
       "\t<tr><th scope=row>(Intercept)</th><td> 0.3248919   </td><td>0.189234606  </td><td>  1.716874   </td><td> 8.637944e-02</td></tr>\n",
       "\t<tr><th scope=row>S</th><td> 0.1105558   </td><td>0.002347852  </td><td> 47.088074   </td><td>1.704543e-235</td></tr>\n",
       "\t<tr><th scope=row>is_defence</th><td>-3.3272843   </td><td>0.222041777  </td><td>-14.984947   </td><td> 4.718460e-45</td></tr>\n",
       "</tbody>\n",
       "</table>\n"
      ],
      "text/latex": [
       "\\textbf{\\$coefficients} = \\begin{tabular}{r|llll}\n",
       "  & Estimate & Std. Error & t value & Pr(>\\textbar{}t\\textbar{})\\\\\n",
       "\\hline\n",
       "\t(Intercept) &  0.3248919    & 0.189234606   &   1.716874    &  8.637944e-02\\\\\n",
       "\tS &  0.1105558    & 0.002347852   &  47.088074    & 1.704543e-235\\\\\n",
       "\tis\\_defence & -3.3272843    & 0.222041777   & -14.984947    &  4.718460e-45\\\\\n",
       "\\end{tabular}\n"
      ],
      "text/markdown": [
       "**$coefficients** = \n",
       "| <!--/--> | Estimate | Std. Error | t value | Pr(>|t|) |\n",
       "|---|---|---|---|---|\n",
       "| (Intercept) |  0.3248919    | 0.189234606   |   1.716874    |  8.637944e-02 |\n",
       "| S |  0.1105558    | 0.002347852   |  47.088074    | 1.704543e-235 |\n",
       "| is_defence | -3.3272843    | 0.222041777   | -14.984947    |  4.718460e-45 |\n",
       "\n"
      ],
      "text/plain": [
       "$coefficients\n",
       "              Estimate  Std. Error    t value      Pr(>|t|)\n",
       "(Intercept)  0.3248919 0.189234606   1.716874  8.637944e-02\n",
       "S            0.1105558 0.002347852  47.088074 1.704543e-235\n",
       "is_defence  -3.3272843 0.222041777 -14.984947  4.718460e-45\n"
      ]
     },
     "metadata": {},
     "output_type": "display_data"
    }
   ],
   "source": [
    "#Model 4 Coefficients\n",
    "coef_4 <- summary(model_4)[4]\n",
    "coef_4"
   ]
  },
  {
   "cell_type": "code",
   "execution_count": 98,
   "id": "c04bae14",
   "metadata": {},
   "outputs": [
    {
     "name": "stdout",
     "output_type": "stream",
     "text": [
      "[1] \"-0.04600792776 0.69579172776\"\n"
     ]
    }
   ],
   "source": [
    "#Intercept\n",
    "lb_int_4 <- 0.3248919 - 1.96*0.189234606\n",
    "ub_int_4 <- 0.3248919 + 1.96*0.189234606\n",
    "print(paste(lb_int_4, ub_int_4))"
   ]
  },
  {
   "cell_type": "code",
   "execution_count": 99,
   "id": "79e64e46",
   "metadata": {},
   "outputs": [
    {
     "name": "stdout",
     "output_type": "stream",
     "text": [
      "[1] \"0.10595401008 0.11515758992\"\n"
     ]
    }
   ],
   "source": [
    "#Shots\n",
    "lb_shots_4 <- 0.1105558 - 1.96*0.002347852\n",
    "ub_shots_4 <- 0.1105558 + 1.96*0.002347852\n",
    "print(paste(lb_shots_4, ub_shots_4))"
   ]
  },
  {
   "cell_type": "code",
   "execution_count": 100,
   "id": "e6e26804",
   "metadata": {},
   "outputs": [
    {
     "name": "stdout",
     "output_type": "stream",
     "text": [
      "[1] \"-3.76248618292 -2.89208241708\"\n"
     ]
    }
   ],
   "source": [
    "#Is_Defence\n",
    "lb_def_4 <- -3.3272843 - 1.96*0.222041777\n",
    "ub_def_4 <- -3.3272843 + 1.96*0.222041777\n",
    "print(paste(lb_def_4, ub_def_4))"
   ]
  },
  {
   "cell_type": "code",
   "execution_count": 104,
   "id": "d3b31a4b",
   "metadata": {},
   "outputs": [
    {
     "data": {
      "text/html": [
       "<table>\n",
       "<thead><tr><th scope=col>Player</th><th scope=col>Position</th><th scope=col>Actual_Goals</th><th scope=col>Predicted_Goals</th><th scope=col>Residual</th></tr></thead>\n",
       "<tbody>\n",
       "\t<tr><td>Kenny Agostino\\agostke01  </td><td>LW                         </td><td> 0                         </td><td> 0.3248919                 </td><td>-0.3248919                 </td></tr>\n",
       "\t<tr><td>Michael Anderson\\andermi02</td><td>D                          </td><td> 1                         </td><td> 2.7465098                 </td><td>-1.7465098                 </td></tr>\n",
       "\t<tr><td>Anthony Angello\\angelan01 </td><td>C                          </td><td> 2                         </td><td> 2.4254523                 </td><td>-0.4254523                 </td></tr>\n",
       "\t<tr><td>Josh Archibald\\archijo01  </td><td>RW                         </td><td> 7                         </td><td> 7.1793522                 </td><td>-0.1793522                 </td></tr>\n",
       "\t<tr><td>Cam Atkinson\\atkinca01    </td><td>RW                         </td><td>15                         </td><td>17.7927100                 </td><td>-2.7927100                 </td></tr>\n",
       "\t<tr><td>Josh Bailey\\bailejo01     </td><td>C                          </td><td> 8                         </td><td> 8.8376893                 </td><td>-0.8376893                 </td></tr>\n",
       "</tbody>\n",
       "</table>\n"
      ],
      "text/latex": [
       "\\begin{tabular}{r|lllll}\n",
       " Player & Position & Actual\\_Goals & Predicted\\_Goals & Residual\\\\\n",
       "\\hline\n",
       "\t Kenny Agostino\\textbackslash{}agostke01   & LW                                         &  0                                         &  0.3248919                                 & -0.3248919                                \\\\\n",
       "\t Michael Anderson\\textbackslash{}andermi02 & D                                          &  1                                         &  2.7465098                                 & -1.7465098                                \\\\\n",
       "\t Anthony Angello\\textbackslash{}angelan01  & C                                          &  2                                         &  2.4254523                                 & -0.4254523                                \\\\\n",
       "\t Josh Archibald\\textbackslash{}archijo01   & RW                                         &  7                                         &  7.1793522                                 & -0.1793522                                \\\\\n",
       "\t Cam Atkinson\\textbackslash{}atkinca01     & RW                                         & 15                                         & 17.7927100                                 & -2.7927100                                \\\\\n",
       "\t Josh Bailey\\textbackslash{}bailejo01      & C                                          &  8                                         &  8.8376893                                 & -0.8376893                                \\\\\n",
       "\\end{tabular}\n"
      ],
      "text/markdown": [
       "\n",
       "| Player | Position | Actual_Goals | Predicted_Goals | Residual |\n",
       "|---|---|---|---|---|\n",
       "| Kenny Agostino\\agostke01   | LW                          |  0                          |  0.3248919                  | -0.3248919                  |\n",
       "| Michael Anderson\\andermi02 | D                           |  1                          |  2.7465098                  | -1.7465098                  |\n",
       "| Anthony Angello\\angelan01  | C                           |  2                          |  2.4254523                  | -0.4254523                  |\n",
       "| Josh Archibald\\archijo01   | RW                          |  7                          |  7.1793522                  | -0.1793522                  |\n",
       "| Cam Atkinson\\atkinca01     | RW                          | 15                          | 17.7927100                  | -2.7927100                  |\n",
       "| Josh Bailey\\bailejo01      | C                           |  8                          |  8.8376893                  | -0.8376893                  |\n",
       "\n"
      ],
      "text/plain": [
       "  Player                      Position Actual_Goals Predicted_Goals Residual  \n",
       "1 Kenny Agostino\\\\agostke01   LW        0            0.3248919      -0.3248919\n",
       "2 Michael Anderson\\\\andermi02 D         1            2.7465098      -1.7465098\n",
       "3 Anthony Angello\\\\angelan01  C         2            2.4254523      -0.4254523\n",
       "4 Josh Archibald\\\\archijo01   RW        7            7.1793522      -0.1793522\n",
       "5 Cam Atkinson\\\\atkinca01     RW       15           17.7927100      -2.7927100\n",
       "6 Josh Bailey\\\\bailejo01      C         8            8.8376893      -0.8376893"
      ]
     },
     "metadata": {},
     "output_type": "display_data"
    }
   ],
   "source": [
    "#Question 8\n",
    "\n",
    "#Create df with actuals, predicted, residuals, and player. Might have to round...\n",
    "final_df <- data.frame(test$Player, test$Pos, test$G, preds_4)\n",
    "colnames(final_df) <- c(\"Player\", \"Position\", \"Actual_Goals\", \"Predicted_Goals\")\n",
    "final_df$Residual <- final_df$Actual_Goals - final_df$Predicted_Goals\n",
    "head(final_df)"
   ]
  },
  {
   "cell_type": "code",
   "execution_count": 105,
   "id": "dc99a752",
   "metadata": {},
   "outputs": [
    {
     "data": {
      "text/html": [
       "<table>\n",
       "<thead><tr><th></th><th scope=col>Player</th><th scope=col>Position</th><th scope=col>Actual_Goals</th><th scope=col>Predicted_Goals</th><th scope=col>Residual</th></tr></thead>\n",
       "<tbody>\n",
       "\t<tr><th scope=row>158</th><td>Ryan Pulock\\pulocry01    </td><td>D                         </td><td> 2                        </td><td>10.374861                 </td><td>-8.374861                 </td></tr>\n",
       "\t<tr><th scope=row>99</th><td>Nazem Kadri\\kadrina01    </td><td>C                         </td><td>11                        </td><td>19.119380                 </td><td>-8.119380                 </td></tr>\n",
       "\t<tr><th scope=row>106</th><td>Torey Krug\\krugto01      </td><td>D                         </td><td> 2                        </td><td> 9.269303                 </td><td>-7.269303                 </td></tr>\n",
       "\t<tr><th scope=row>83</th><td>Dougie Hamilton\\hamildo01</td><td>D                         </td><td>10                        </td><td>16.897654                 </td><td>-6.897654                 </td></tr>\n",
       "\t<tr><th scope=row>188</th><td>Shea Theodore\\theodsh01  </td><td>D                         </td><td> 8                        </td><td>14.797093                 </td><td>-6.797093                 </td></tr>\n",
       "\t<tr><th scope=row>129</th><td>Timo Meier\\meierti01     </td><td>RW                        </td><td>12                        </td><td>17.461043                 </td><td>-5.461043                 </td></tr>\n",
       "</tbody>\n",
       "</table>\n"
      ],
      "text/latex": [
       "\\begin{tabular}{r|lllll}\n",
       "  & Player & Position & Actual\\_Goals & Predicted\\_Goals & Residual\\\\\n",
       "\\hline\n",
       "\t158 & Ryan Pulock\\textbackslash{}pulocry01     & D                                         &  2                                        & 10.374861                                 & -8.374861                                \\\\\n",
       "\t99 & Nazem Kadri\\textbackslash{}kadrina01     & C                                         & 11                                        & 19.119380                                 & -8.119380                                \\\\\n",
       "\t106 & Torey Krug\\textbackslash{}krugto01       & D                                         &  2                                        &  9.269303                                 & -7.269303                                \\\\\n",
       "\t83 & Dougie Hamilton\\textbackslash{}hamildo01 & D                                         & 10                                        & 16.897654                                 & -6.897654                                \\\\\n",
       "\t188 & Shea Theodore\\textbackslash{}theodsh01   & D                                         &  8                                        & 14.797093                                 & -6.797093                                \\\\\n",
       "\t129 & Timo Meier\\textbackslash{}meierti01      & RW                                        & 12                                        & 17.461043                                 & -5.461043                                \\\\\n",
       "\\end{tabular}\n"
      ],
      "text/markdown": [
       "\n",
       "| <!--/--> | Player | Position | Actual_Goals | Predicted_Goals | Residual |\n",
       "|---|---|---|---|---|---|\n",
       "| 158 | Ryan Pulock\\pulocry01     | D                          |  2                         | 10.374861                  | -8.374861                  |\n",
       "| 99 | Nazem Kadri\\kadrina01     | C                          | 11                         | 19.119380                  | -8.119380                  |\n",
       "| 106 | Torey Krug\\krugto01       | D                          |  2                         |  9.269303                  | -7.269303                  |\n",
       "| 83 | Dougie Hamilton\\hamildo01 | D                          | 10                         | 16.897654                  | -6.897654                  |\n",
       "| 188 | Shea Theodore\\theodsh01   | D                          |  8                         | 14.797093                  | -6.797093                  |\n",
       "| 129 | Timo Meier\\meierti01      | RW                         | 12                         | 17.461043                  | -5.461043                  |\n",
       "\n"
      ],
      "text/plain": [
       "    Player                     Position Actual_Goals Predicted_Goals Residual \n",
       "158 Ryan Pulock\\\\pulocry01     D         2           10.374861       -8.374861\n",
       "99  Nazem Kadri\\\\kadrina01     C        11           19.119380       -8.119380\n",
       "106 Torey Krug\\\\krugto01       D         2            9.269303       -7.269303\n",
       "83  Dougie Hamilton\\\\hamildo01 D        10           16.897654       -6.897654\n",
       "188 Shea Theodore\\\\theodsh01   D         8           14.797093       -6.797093\n",
       "129 Timo Meier\\\\meierti01      RW       12           17.461043       -5.461043"
      ]
     },
     "metadata": {},
     "output_type": "display_data"
    }
   ],
   "source": [
    "#Identify player with largest negative residual to determine \"undervalued talent\".\n",
    "sorted <- final_df[order(final_df$Residual), ]\n",
    "head(sorted)"
   ]
  },
  {
   "cell_type": "code",
   "execution_count": null,
   "id": "ea7bff38",
   "metadata": {},
   "outputs": [],
   "source": [
    "#Nazem Kadri is most undervalued forward"
   ]
  }
 ],
 "metadata": {
  "kernelspec": {
   "display_name": "R",
   "language": "R",
   "name": "ir"
  },
  "language_info": {
   "codemirror_mode": "r",
   "file_extension": ".r",
   "mimetype": "text/x-r-source",
   "name": "R",
   "pygments_lexer": "r",
   "version": "3.6.1"
  }
 },
 "nbformat": 4,
 "nbformat_minor": 5
}
