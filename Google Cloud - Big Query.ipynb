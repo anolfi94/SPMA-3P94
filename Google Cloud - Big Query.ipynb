{
 "cells": [
  {
   "cell_type": "code",
   "execution_count": 1,
   "id": "1311cd6d-c60c-410f-a9af-344bc5b73838",
   "metadata": {},
   "outputs": [
    {
     "name": "stderr",
     "output_type": "stream",
     "text": [
      "\n",
      "Attaching package: ‘dplyr’\n",
      "\n",
      "\n",
      "The following objects are masked from ‘package:stats’:\n",
      "\n",
      "    filter, lag\n",
      "\n",
      "\n",
      "The following objects are masked from ‘package:base’:\n",
      "\n",
      "    intersect, setdiff, setequal, union\n",
      "\n",
      "\n"
     ]
    }
   ],
   "source": [
    "#Import libraries\n",
    "library(DBI)\n",
    "library(dplyr)\n",
    "library(bigrquery)"
   ]
  },
  {
   "cell_type": "code",
   "execution_count": 2,
   "id": "6784edb1-6a85-4285-9aa7-8f4bc75c7b35",
   "metadata": {},
   "outputs": [],
   "source": [
    "#Create a connection to the baseball database (which is a big query database)\n",
    "con <- dbConnect(bigrquery::bigquery(), \n",
    "                 project=\"bigquery-public-data\",\n",
    "                 dataset=\"baseball\",\n",
    "                 billing=\"the-racer-332418\")"
   ]
  },
  {
   "cell_type": "code",
   "execution_count": 3,
   "id": "1f49b844-240a-4544-b424-bb66798224e3",
   "metadata": {},
   "outputs": [
    {
     "data": {
      "text/html": [
       "<style>\n",
       ".list-inline {list-style: none; margin:0; padding: 0}\n",
       ".list-inline>li {display: inline-block}\n",
       ".list-inline>li:not(:last-child)::after {content: \"\\00b7\"; padding: 0 .5ex}\n",
       "</style>\n",
       "<ol class=list-inline><li>'games_post_wide'</li><li>'games_wide'</li><li>'schedules'</li></ol>\n"
      ],
      "text/latex": [
       "\\begin{enumerate*}\n",
       "\\item 'games\\_post\\_wide'\n",
       "\\item 'games\\_wide'\n",
       "\\item 'schedules'\n",
       "\\end{enumerate*}\n"
      ],
      "text/markdown": [
       "1. 'games_post_wide'\n",
       "2. 'games_wide'\n",
       "3. 'schedules'\n",
       "\n",
       "\n"
      ],
      "text/plain": [
       "[1] \"games_post_wide\" \"games_wide\"      \"schedules\"      "
      ]
     },
     "metadata": {},
     "output_type": "display_data"
    }
   ],
   "source": [
    "#Test connection: print all table names in Baseball database\n",
    "dbListTables(con)"
   ]
  },
  {
   "cell_type": "code",
   "execution_count": 6,
   "id": "914e3a47-e4d1-45e4-b19c-7c0deeebfe18",
   "metadata": {},
   "outputs": [
    {
     "data": {
      "text/html": [
       "81"
      ],
      "text/latex": [
       "81"
      ],
      "text/markdown": [
       "81"
      ],
      "text/plain": [
       "[1] 81"
      ]
     },
     "metadata": {},
     "output_type": "display_data"
    }
   ],
   "source": [
    "#Practice queries\n",
    "blue_jays_home <- dbGetQuery(con, \"SELECT homeTeamName, awayTeamName FROM schedules WHERE homeTeamName='Blue Jays'\")\n",
    "nrow(blue_jays_home)"
   ]
  },
  {
   "cell_type": "code",
   "execution_count": 7,
   "id": "1e819f01-0aec-4902-acbb-c0b3d6d8f949",
   "metadata": {},
   "outputs": [
    {
     "data": {
      "text/html": [
       "<table class=\"dataframe\">\n",
       "<caption>A tibble: 6 × 15</caption>\n",
       "<thead>\n",
       "\t<tr><th scope=col>table_catalog</th><th scope=col>table_schema</th><th scope=col>table_name</th><th scope=col>column_name</th><th scope=col>ordinal_position</th><th scope=col>is_nullable</th><th scope=col>data_type</th><th scope=col>is_generated</th><th scope=col>generation_expression</th><th scope=col>is_stored</th><th scope=col>is_hidden</th><th scope=col>is_updatable</th><th scope=col>is_system_defined</th><th scope=col>is_partitioning_column</th><th scope=col>clustering_ordinal_position</th></tr>\n",
       "\t<tr><th scope=col>&lt;chr&gt;</th><th scope=col>&lt;chr&gt;</th><th scope=col>&lt;chr&gt;</th><th scope=col>&lt;chr&gt;</th><th scope=col>&lt;int&gt;</th><th scope=col>&lt;chr&gt;</th><th scope=col>&lt;chr&gt;</th><th scope=col>&lt;chr&gt;</th><th scope=col>&lt;chr&gt;</th><th scope=col>&lt;chr&gt;</th><th scope=col>&lt;chr&gt;</th><th scope=col>&lt;chr&gt;</th><th scope=col>&lt;chr&gt;</th><th scope=col>&lt;chr&gt;</th><th scope=col>&lt;int&gt;</th></tr>\n",
       "</thead>\n",
       "<tbody>\n",
       "\t<tr><td>bigquery-public-data</td><td>baseball</td><td>games_wide</td><td>gameId    </td><td>1</td><td>YES</td><td>STRING   </td><td>NEVER</td><td>NA</td><td>NA</td><td>NO</td><td>NA</td><td>NO</td><td>NO</td><td>NA</td></tr>\n",
       "\t<tr><td>bigquery-public-data</td><td>baseball</td><td>games_wide</td><td>seasonId  </td><td>2</td><td>YES</td><td>STRING   </td><td>NEVER</td><td>NA</td><td>NA</td><td>NO</td><td>NA</td><td>NO</td><td>NO</td><td>NA</td></tr>\n",
       "\t<tr><td>bigquery-public-data</td><td>baseball</td><td>games_wide</td><td>seasonType</td><td>3</td><td>YES</td><td>STRING   </td><td>NEVER</td><td>NA</td><td>NA</td><td>NO</td><td>NA</td><td>NO</td><td>NO</td><td>NA</td></tr>\n",
       "\t<tr><td>bigquery-public-data</td><td>baseball</td><td>games_wide</td><td>year      </td><td>4</td><td>YES</td><td>INT64    </td><td>NEVER</td><td>NA</td><td>NA</td><td>NO</td><td>NA</td><td>NO</td><td>NO</td><td>NA</td></tr>\n",
       "\t<tr><td>bigquery-public-data</td><td>baseball</td><td>games_wide</td><td>startTime </td><td>5</td><td>YES</td><td>TIMESTAMP</td><td>NEVER</td><td>NA</td><td>NA</td><td>NO</td><td>NA</td><td>NO</td><td>NO</td><td>NA</td></tr>\n",
       "\t<tr><td>bigquery-public-data</td><td>baseball</td><td>games_wide</td><td>gameStatus</td><td>6</td><td>YES</td><td>STRING   </td><td>NEVER</td><td>NA</td><td>NA</td><td>NO</td><td>NA</td><td>NO</td><td>NO</td><td>NA</td></tr>\n",
       "</tbody>\n",
       "</table>\n"
      ],
      "text/latex": [
       "A tibble: 6 × 15\n",
       "\\begin{tabular}{lllllllllllllll}\n",
       " table\\_catalog & table\\_schema & table\\_name & column\\_name & ordinal\\_position & is\\_nullable & data\\_type & is\\_generated & generation\\_expression & is\\_stored & is\\_hidden & is\\_updatable & is\\_system\\_defined & is\\_partitioning\\_column & clustering\\_ordinal\\_position\\\\\n",
       " <chr> & <chr> & <chr> & <chr> & <int> & <chr> & <chr> & <chr> & <chr> & <chr> & <chr> & <chr> & <chr> & <chr> & <int>\\\\\n",
       "\\hline\n",
       "\t bigquery-public-data & baseball & games\\_wide & gameId     & 1 & YES & STRING    & NEVER & NA & NA & NO & NA & NO & NO & NA\\\\\n",
       "\t bigquery-public-data & baseball & games\\_wide & seasonId   & 2 & YES & STRING    & NEVER & NA & NA & NO & NA & NO & NO & NA\\\\\n",
       "\t bigquery-public-data & baseball & games\\_wide & seasonType & 3 & YES & STRING    & NEVER & NA & NA & NO & NA & NO & NO & NA\\\\\n",
       "\t bigquery-public-data & baseball & games\\_wide & year       & 4 & YES & INT64     & NEVER & NA & NA & NO & NA & NO & NO & NA\\\\\n",
       "\t bigquery-public-data & baseball & games\\_wide & startTime  & 5 & YES & TIMESTAMP & NEVER & NA & NA & NO & NA & NO & NO & NA\\\\\n",
       "\t bigquery-public-data & baseball & games\\_wide & gameStatus & 6 & YES & STRING    & NEVER & NA & NA & NO & NA & NO & NO & NA\\\\\n",
       "\\end{tabular}\n"
      ],
      "text/markdown": [
       "\n",
       "A tibble: 6 × 15\n",
       "\n",
       "| table_catalog &lt;chr&gt; | table_schema &lt;chr&gt; | table_name &lt;chr&gt; | column_name &lt;chr&gt; | ordinal_position &lt;int&gt; | is_nullable &lt;chr&gt; | data_type &lt;chr&gt; | is_generated &lt;chr&gt; | generation_expression &lt;chr&gt; | is_stored &lt;chr&gt; | is_hidden &lt;chr&gt; | is_updatable &lt;chr&gt; | is_system_defined &lt;chr&gt; | is_partitioning_column &lt;chr&gt; | clustering_ordinal_position &lt;int&gt; |\n",
       "|---|---|---|---|---|---|---|---|---|---|---|---|---|---|---|\n",
       "| bigquery-public-data | baseball | games_wide | gameId     | 1 | YES | STRING    | NEVER | NA | NA | NO | NA | NO | NO | NA |\n",
       "| bigquery-public-data | baseball | games_wide | seasonId   | 2 | YES | STRING    | NEVER | NA | NA | NO | NA | NO | NO | NA |\n",
       "| bigquery-public-data | baseball | games_wide | seasonType | 3 | YES | STRING    | NEVER | NA | NA | NO | NA | NO | NO | NA |\n",
       "| bigquery-public-data | baseball | games_wide | year       | 4 | YES | INT64     | NEVER | NA | NA | NO | NA | NO | NO | NA |\n",
       "| bigquery-public-data | baseball | games_wide | startTime  | 5 | YES | TIMESTAMP | NEVER | NA | NA | NO | NA | NO | NO | NA |\n",
       "| bigquery-public-data | baseball | games_wide | gameStatus | 6 | YES | STRING    | NEVER | NA | NA | NO | NA | NO | NO | NA |\n",
       "\n"
      ],
      "text/plain": [
       "  table_catalog        table_schema table_name column_name ordinal_position\n",
       "1 bigquery-public-data baseball     games_wide gameId      1               \n",
       "2 bigquery-public-data baseball     games_wide seasonId    2               \n",
       "3 bigquery-public-data baseball     games_wide seasonType  3               \n",
       "4 bigquery-public-data baseball     games_wide year        4               \n",
       "5 bigquery-public-data baseball     games_wide startTime   5               \n",
       "6 bigquery-public-data baseball     games_wide gameStatus  6               \n",
       "  is_nullable data_type is_generated generation_expression is_stored is_hidden\n",
       "1 YES         STRING    NEVER        NA                    NA        NO       \n",
       "2 YES         STRING    NEVER        NA                    NA        NO       \n",
       "3 YES         STRING    NEVER        NA                    NA        NO       \n",
       "4 YES         INT64     NEVER        NA                    NA        NO       \n",
       "5 YES         TIMESTAMP NEVER        NA                    NA        NO       \n",
       "6 YES         STRING    NEVER        NA                    NA        NO       \n",
       "  is_updatable is_system_defined is_partitioning_column\n",
       "1 NA           NO                NO                    \n",
       "2 NA           NO                NO                    \n",
       "3 NA           NO                NO                    \n",
       "4 NA           NO                NO                    \n",
       "5 NA           NO                NO                    \n",
       "6 NA           NO                NO                    \n",
       "  clustering_ordinal_position\n",
       "1 NA                         \n",
       "2 NA                         \n",
       "3 NA                         \n",
       "4 NA                         \n",
       "5 NA                         \n",
       "6 NA                         "
      ]
     },
     "metadata": {},
     "output_type": "display_data"
    }
   ],
   "source": [
    "#Examine table, column names\n",
    "df_info <- dbGetQuery(con, \"SELECT * FROM INFORMATION_SCHEMA.COLUMNS\")\n",
    "head(df_info)"
   ]
  },
  {
   "cell_type": "code",
   "execution_count": 8,
   "id": "482725e9-6d46-4b43-ad32-4bd72a195956",
   "metadata": {},
   "outputs": [
    {
     "data": {
      "text/html": [
       "<table class=\"dataframe\">\n",
       "<caption>A tibble: 6 × 15</caption>\n",
       "<thead>\n",
       "\t<tr><th scope=col>table_catalog</th><th scope=col>table_schema</th><th scope=col>table_name</th><th scope=col>column_name</th><th scope=col>ordinal_position</th><th scope=col>is_nullable</th><th scope=col>data_type</th><th scope=col>is_generated</th><th scope=col>generation_expression</th><th scope=col>is_stored</th><th scope=col>is_hidden</th><th scope=col>is_updatable</th><th scope=col>is_system_defined</th><th scope=col>is_partitioning_column</th><th scope=col>clustering_ordinal_position</th></tr>\n",
       "\t<tr><th scope=col>&lt;chr&gt;</th><th scope=col>&lt;chr&gt;</th><th scope=col>&lt;chr&gt;</th><th scope=col>&lt;chr&gt;</th><th scope=col>&lt;int&gt;</th><th scope=col>&lt;chr&gt;</th><th scope=col>&lt;chr&gt;</th><th scope=col>&lt;chr&gt;</th><th scope=col>&lt;chr&gt;</th><th scope=col>&lt;chr&gt;</th><th scope=col>&lt;chr&gt;</th><th scope=col>&lt;chr&gt;</th><th scope=col>&lt;chr&gt;</th><th scope=col>&lt;chr&gt;</th><th scope=col>&lt;int&gt;</th></tr>\n",
       "</thead>\n",
       "<tbody>\n",
       "\t<tr><td>bigquery-public-data</td><td>baseball</td><td>schedules</td><td>gameId    </td><td>1</td><td>YES</td><td>STRING</td><td>NEVER</td><td>NA</td><td>NA</td><td>NO</td><td>NA</td><td>NO</td><td>NO</td><td>NA</td></tr>\n",
       "\t<tr><td>bigquery-public-data</td><td>baseball</td><td>schedules</td><td>gameNumber</td><td>2</td><td>YES</td><td>INT64 </td><td>NEVER</td><td>NA</td><td>NA</td><td>NO</td><td>NA</td><td>NO</td><td>NO</td><td>NA</td></tr>\n",
       "\t<tr><td>bigquery-public-data</td><td>baseball</td><td>schedules</td><td>seasonId  </td><td>3</td><td>YES</td><td>STRING</td><td>NEVER</td><td>NA</td><td>NA</td><td>NO</td><td>NA</td><td>NO</td><td>NO</td><td>NA</td></tr>\n",
       "\t<tr><td>bigquery-public-data</td><td>baseball</td><td>schedules</td><td>year      </td><td>4</td><td>YES</td><td>INT64 </td><td>NEVER</td><td>NA</td><td>NA</td><td>NO</td><td>NA</td><td>NO</td><td>NO</td><td>NA</td></tr>\n",
       "\t<tr><td>bigquery-public-data</td><td>baseball</td><td>schedules</td><td>type      </td><td>5</td><td>YES</td><td>STRING</td><td>NEVER</td><td>NA</td><td>NA</td><td>NO</td><td>NA</td><td>NO</td><td>NO</td><td>NA</td></tr>\n",
       "\t<tr><td>bigquery-public-data</td><td>baseball</td><td>schedules</td><td>dayNight  </td><td>6</td><td>YES</td><td>STRING</td><td>NEVER</td><td>NA</td><td>NA</td><td>NO</td><td>NA</td><td>NO</td><td>NO</td><td>NA</td></tr>\n",
       "</tbody>\n",
       "</table>\n"
      ],
      "text/latex": [
       "A tibble: 6 × 15\n",
       "\\begin{tabular}{lllllllllllllll}\n",
       " table\\_catalog & table\\_schema & table\\_name & column\\_name & ordinal\\_position & is\\_nullable & data\\_type & is\\_generated & generation\\_expression & is\\_stored & is\\_hidden & is\\_updatable & is\\_system\\_defined & is\\_partitioning\\_column & clustering\\_ordinal\\_position\\\\\n",
       " <chr> & <chr> & <chr> & <chr> & <int> & <chr> & <chr> & <chr> & <chr> & <chr> & <chr> & <chr> & <chr> & <chr> & <int>\\\\\n",
       "\\hline\n",
       "\t bigquery-public-data & baseball & schedules & gameId     & 1 & YES & STRING & NEVER & NA & NA & NO & NA & NO & NO & NA\\\\\n",
       "\t bigquery-public-data & baseball & schedules & gameNumber & 2 & YES & INT64  & NEVER & NA & NA & NO & NA & NO & NO & NA\\\\\n",
       "\t bigquery-public-data & baseball & schedules & seasonId   & 3 & YES & STRING & NEVER & NA & NA & NO & NA & NO & NO & NA\\\\\n",
       "\t bigquery-public-data & baseball & schedules & year       & 4 & YES & INT64  & NEVER & NA & NA & NO & NA & NO & NO & NA\\\\\n",
       "\t bigquery-public-data & baseball & schedules & type       & 5 & YES & STRING & NEVER & NA & NA & NO & NA & NO & NO & NA\\\\\n",
       "\t bigquery-public-data & baseball & schedules & dayNight   & 6 & YES & STRING & NEVER & NA & NA & NO & NA & NO & NO & NA\\\\\n",
       "\\end{tabular}\n"
      ],
      "text/markdown": [
       "\n",
       "A tibble: 6 × 15\n",
       "\n",
       "| table_catalog &lt;chr&gt; | table_schema &lt;chr&gt; | table_name &lt;chr&gt; | column_name &lt;chr&gt; | ordinal_position &lt;int&gt; | is_nullable &lt;chr&gt; | data_type &lt;chr&gt; | is_generated &lt;chr&gt; | generation_expression &lt;chr&gt; | is_stored &lt;chr&gt; | is_hidden &lt;chr&gt; | is_updatable &lt;chr&gt; | is_system_defined &lt;chr&gt; | is_partitioning_column &lt;chr&gt; | clustering_ordinal_position &lt;int&gt; |\n",
       "|---|---|---|---|---|---|---|---|---|---|---|---|---|---|---|\n",
       "| bigquery-public-data | baseball | schedules | gameId     | 1 | YES | STRING | NEVER | NA | NA | NO | NA | NO | NO | NA |\n",
       "| bigquery-public-data | baseball | schedules | gameNumber | 2 | YES | INT64  | NEVER | NA | NA | NO | NA | NO | NO | NA |\n",
       "| bigquery-public-data | baseball | schedules | seasonId   | 3 | YES | STRING | NEVER | NA | NA | NO | NA | NO | NO | NA |\n",
       "| bigquery-public-data | baseball | schedules | year       | 4 | YES | INT64  | NEVER | NA | NA | NO | NA | NO | NO | NA |\n",
       "| bigquery-public-data | baseball | schedules | type       | 5 | YES | STRING | NEVER | NA | NA | NO | NA | NO | NO | NA |\n",
       "| bigquery-public-data | baseball | schedules | dayNight   | 6 | YES | STRING | NEVER | NA | NA | NO | NA | NO | NO | NA |\n",
       "\n"
      ],
      "text/plain": [
       "  table_catalog        table_schema table_name column_name ordinal_position\n",
       "1 bigquery-public-data baseball     schedules  gameId      1               \n",
       "2 bigquery-public-data baseball     schedules  gameNumber  2               \n",
       "3 bigquery-public-data baseball     schedules  seasonId    3               \n",
       "4 bigquery-public-data baseball     schedules  year        4               \n",
       "5 bigquery-public-data baseball     schedules  type        5               \n",
       "6 bigquery-public-data baseball     schedules  dayNight    6               \n",
       "  is_nullable data_type is_generated generation_expression is_stored is_hidden\n",
       "1 YES         STRING    NEVER        NA                    NA        NO       \n",
       "2 YES         INT64     NEVER        NA                    NA        NO       \n",
       "3 YES         STRING    NEVER        NA                    NA        NO       \n",
       "4 YES         INT64     NEVER        NA                    NA        NO       \n",
       "5 YES         STRING    NEVER        NA                    NA        NO       \n",
       "6 YES         STRING    NEVER        NA                    NA        NO       \n",
       "  is_updatable is_system_defined is_partitioning_column\n",
       "1 NA           NO                NO                    \n",
       "2 NA           NO                NO                    \n",
       "3 NA           NO                NO                    \n",
       "4 NA           NO                NO                    \n",
       "5 NA           NO                NO                    \n",
       "6 NA           NO                NO                    \n",
       "  clustering_ordinal_position\n",
       "1 NA                         \n",
       "2 NA                         \n",
       "3 NA                         \n",
       "4 NA                         \n",
       "5 NA                         \n",
       "6 NA                         "
      ]
     },
     "metadata": {},
     "output_type": "display_data"
    }
   ],
   "source": [
    "#Examine schedules table more closely\n",
    "df_schedules <- df_info[df_info$table_name==\"schedules\", ]\n",
    "head(df_schedules)"
   ]
  },
  {
   "cell_type": "code",
   "execution_count": 9,
   "id": "f0927b33-68dd-41a4-8362-82dd317de4be",
   "metadata": {},
   "outputs": [
    {
     "data": {
      "text/html": [
       "<style>\n",
       ".list-inline {list-style: none; margin:0; padding: 0}\n",
       ".list-inline>li {display: inline-block}\n",
       ".list-inline>li:not(:last-child)::after {content: \"\\00b7\"; padding: 0 .5ex}\n",
       "</style>\n",
       "<ol class=list-inline><li>'gameId'</li><li>'gameNumber'</li><li>'seasonId'</li><li>'year'</li><li>'type'</li><li>'dayNight'</li><li>'duration'</li><li>'duration_minutes'</li><li>'homeTeamId'</li><li>'homeTeamName'</li><li>'awayTeamId'</li><li>'awayTeamName'</li><li>'startTime'</li><li>'attendance'</li><li>'status'</li><li>'created'</li></ol>\n"
      ],
      "text/latex": [
       "\\begin{enumerate*}\n",
       "\\item 'gameId'\n",
       "\\item 'gameNumber'\n",
       "\\item 'seasonId'\n",
       "\\item 'year'\n",
       "\\item 'type'\n",
       "\\item 'dayNight'\n",
       "\\item 'duration'\n",
       "\\item 'duration\\_minutes'\n",
       "\\item 'homeTeamId'\n",
       "\\item 'homeTeamName'\n",
       "\\item 'awayTeamId'\n",
       "\\item 'awayTeamName'\n",
       "\\item 'startTime'\n",
       "\\item 'attendance'\n",
       "\\item 'status'\n",
       "\\item 'created'\n",
       "\\end{enumerate*}\n"
      ],
      "text/markdown": [
       "1. 'gameId'\n",
       "2. 'gameNumber'\n",
       "3. 'seasonId'\n",
       "4. 'year'\n",
       "5. 'type'\n",
       "6. 'dayNight'\n",
       "7. 'duration'\n",
       "8. 'duration_minutes'\n",
       "9. 'homeTeamId'\n",
       "10. 'homeTeamName'\n",
       "11. 'awayTeamId'\n",
       "12. 'awayTeamName'\n",
       "13. 'startTime'\n",
       "14. 'attendance'\n",
       "15. 'status'\n",
       "16. 'created'\n",
       "\n",
       "\n"
      ],
      "text/plain": [
       " [1] \"gameId\"           \"gameNumber\"       \"seasonId\"         \"year\"            \n",
       " [5] \"type\"             \"dayNight\"         \"duration\"         \"duration_minutes\"\n",
       " [9] \"homeTeamId\"       \"homeTeamName\"     \"awayTeamId\"       \"awayTeamName\"    \n",
       "[13] \"startTime\"        \"attendance\"       \"status\"           \"created\"         "
      ]
     },
     "metadata": {},
     "output_type": "display_data"
    }
   ],
   "source": [
    "#Print unique column names from df_schedules\n",
    "unique(df_schedules$column_name)"
   ]
  }
 ],
 "metadata": {
  "environment": {
   "kernel": "ir",
   "name": "r-cpu.4-1.m84",
   "type": "gcloud",
   "uri": "gcr.io/deeplearning-platform-release/r-cpu.4-1:m84"
  },
  "kernelspec": {
   "display_name": "R",
   "language": "R",
   "name": "ir"
  },
  "language_info": {
   "codemirror_mode": "r",
   "file_extension": ".r",
   "mimetype": "text/x-r-source",
   "name": "R",
   "pygments_lexer": "r",
   "version": "4.1.2"
  }
 },
 "nbformat": 4,
 "nbformat_minor": 5
}
